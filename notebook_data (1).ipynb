{
  "cells": [
    {
      "cell_type": "markdown",
      "metadata": {
        "id": "x1FXuv8nx4w_"
      },
      "source": [
        "# Prédiction des taux directeurs à l'aide des discours de la FED"
      ]
    },
    {
      "cell_type": "markdown",
      "metadata": {
        "id": "ZqXSK2lPx4xD"
      },
      "source": [
        "## I - EDA"
      ]
    },
    {
      "cell_type": "markdown",
      "metadata": {
        "id": "deocaajkx4xF"
      },
      "source": [
        "### 1 - Librairies"
      ]
    },
    {
      "cell_type": "code",
      "execution_count": 1,
      "metadata": {
        "colab": {
          "base_uri": "https://localhost:8080/"
        },
        "id": "cWs1-ARDx4xL",
        "outputId": "8c98dafd-124e-4066-b16d-34a4eb19b04f"
      },
      "outputs": [
        {
          "name": "stdout",
          "output_type": "stream",
          "text": [
            "Requirement already satisfied: gensim==4.3.0 in /usr/local/lib/python3.11/dist-packages (4.3.0)\n",
            "Requirement already satisfied: scipy==1.9.3 in /usr/local/lib/python3.11/dist-packages (1.9.3)\n",
            "Requirement already satisfied: numpy>=1.18.5 in /usr/local/lib/python3.11/dist-packages (from gensim==4.3.0) (1.25.2)\n",
            "Requirement already satisfied: smart-open>=1.8.1 in /usr/local/lib/python3.11/dist-packages (from gensim==4.3.0) (7.1.0)\n",
            "Requirement already satisfied: FuzzyTM>=0.4.0 in /usr/local/lib/python3.11/dist-packages (from gensim==4.3.0) (2.0.9)\n",
            "Requirement already satisfied: pandas in /usr/local/lib/python3.11/dist-packages (from FuzzyTM>=0.4.0->gensim==4.3.0) (2.2.2)\n",
            "Requirement already satisfied: pyfume in /usr/local/lib/python3.11/dist-packages (from FuzzyTM>=0.4.0->gensim==4.3.0) (0.3.1)\n",
            "Requirement already satisfied: wrapt in /usr/local/lib/python3.11/dist-packages (from smart-open>=1.8.1->gensim==4.3.0) (1.17.2)\n",
            "Requirement already satisfied: python-dateutil>=2.8.2 in /usr/local/lib/python3.11/dist-packages (from pandas->FuzzyTM>=0.4.0->gensim==4.3.0) (2.8.2)\n",
            "Requirement already satisfied: pytz>=2020.1 in /usr/local/lib/python3.11/dist-packages (from pandas->FuzzyTM>=0.4.0->gensim==4.3.0) (2025.2)\n",
            "Requirement already satisfied: tzdata>=2022.7 in /usr/local/lib/python3.11/dist-packages (from pandas->FuzzyTM>=0.4.0->gensim==4.3.0) (2025.2)\n",
            "Requirement already satisfied: simpful in /usr/local/lib/python3.11/dist-packages (from pyfume->FuzzyTM>=0.4.0->gensim==4.3.0) (2.12.0)\n",
            "Requirement already satisfied: fst-pso in /usr/local/lib/python3.11/dist-packages (from pyfume->FuzzyTM>=0.4.0->gensim==4.3.0) (1.8.1)\n",
            "Requirement already satisfied: typing-extensions in /usr/local/lib/python3.11/dist-packages (from pyfume->FuzzyTM>=0.4.0->gensim==4.3.0) (4.13.2)\n",
            "Requirement already satisfied: six>=1.5 in /usr/local/lib/python3.11/dist-packages (from python-dateutil>=2.8.2->pandas->FuzzyTM>=0.4.0->gensim==4.3.0) (1.17.0)\n",
            "Requirement already satisfied: miniful in /usr/local/lib/python3.11/dist-packages (from fst-pso->pyfume->FuzzyTM>=0.4.0->gensim==4.3.0) (0.0.6)\n"
          ]
        }
      ],
      "source": [
        "pip install gensim==4.3.0 scipy==1.9.3"
      ]
    },
    {
      "cell_type": "code",
      "execution_count": 2,
      "metadata": {
        "colab": {
          "base_uri": "https://localhost:8080/"
        },
        "id": "k-GsUKuex4xM",
        "outputId": "383838c0-93c4-4dab-a5db-f562385e6bf6"
      },
      "outputs": [
        {
          "name": "stdout",
          "output_type": "stream",
          "text": [
            "Requirement already satisfied: xgboost in /usr/local/lib/python3.11/dist-packages (2.1.4)\n",
            "Requirement already satisfied: numpy in /usr/local/lib/python3.11/dist-packages (from xgboost) (1.25.2)\n",
            "Requirement already satisfied: nvidia-nccl-cu12 in /usr/local/lib/python3.11/dist-packages (from xgboost) (2.21.5)\n",
            "Requirement already satisfied: scipy in /usr/local/lib/python3.11/dist-packages (from xgboost) (1.9.3)\n"
          ]
        }
      ],
      "source": [
        "pip install xgboost"
      ]
    },
    {
      "cell_type": "code",
      "execution_count": 3,
      "metadata": {
        "colab": {
          "base_uri": "https://localhost:8080/"
        },
        "id": "q7_iLj9Zx4xP",
        "outputId": "5258c712-2873-417d-a121-be70f4677e85"
      },
      "outputs": [
        {
          "name": "stdout",
          "output_type": "stream",
          "text": [
            "Collecting datasets\n",
            "  Downloading datasets-3.5.0-py3-none-any.whl.metadata (19 kB)\n",
            "Collecting evaluate\n",
            "  Downloading evaluate-0.4.3-py3-none-any.whl.metadata (9.2 kB)\n",
            "Requirement already satisfied: filelock in /usr/local/lib/python3.11/dist-packages (from datasets) (3.18.0)\n",
            "Requirement already satisfied: numpy>=1.17 in /usr/local/lib/python3.11/dist-packages (from datasets) (1.25.2)\n",
            "Requirement already satisfied: pyarrow>=15.0.0 in /usr/local/lib/python3.11/dist-packages (from datasets) (18.1.0)\n",
            "Collecting dill<0.3.9,>=0.3.0 (from datasets)\n",
            "  Downloading dill-0.3.8-py3-none-any.whl.metadata (10 kB)\n",
            "Requirement already satisfied: pandas in /usr/local/lib/python3.11/dist-packages (from datasets) (2.2.2)\n",
            "Requirement already satisfied: requests>=2.32.2 in /usr/local/lib/python3.11/dist-packages (from datasets) (2.32.3)\n",
            "Requirement already satisfied: tqdm>=4.66.3 in /usr/local/lib/python3.11/dist-packages (from datasets) (4.67.1)\n",
            "Collecting xxhash (from datasets)\n",
            "  Downloading xxhash-3.5.0-cp311-cp311-manylinux_2_17_x86_64.manylinux2014_x86_64.whl.metadata (12 kB)\n",
            "Collecting multiprocess<0.70.17 (from datasets)\n",
            "  Downloading multiprocess-0.70.16-py311-none-any.whl.metadata (7.2 kB)\n",
            "Collecting fsspec<=2024.12.0,>=2023.1.0 (from fsspec[http]<=2024.12.0,>=2023.1.0->datasets)\n",
            "  Downloading fsspec-2024.12.0-py3-none-any.whl.metadata (11 kB)\n",
            "Requirement already satisfied: aiohttp in /usr/local/lib/python3.11/dist-packages (from datasets) (3.11.15)\n",
            "Requirement already satisfied: huggingface-hub>=0.24.0 in /usr/local/lib/python3.11/dist-packages (from datasets) (0.30.2)\n",
            "Requirement already satisfied: packaging in /usr/local/lib/python3.11/dist-packages (from datasets) (24.2)\n",
            "Requirement already satisfied: pyyaml>=5.1 in /usr/local/lib/python3.11/dist-packages (from datasets) (6.0.2)\n",
            "Requirement already satisfied: aiohappyeyeballs>=2.3.0 in /usr/local/lib/python3.11/dist-packages (from aiohttp->datasets) (2.6.1)\n",
            "Requirement already satisfied: aiosignal>=1.1.2 in /usr/local/lib/python3.11/dist-packages (from aiohttp->datasets) (1.3.2)\n",
            "Requirement already satisfied: attrs>=17.3.0 in /usr/local/lib/python3.11/dist-packages (from aiohttp->datasets) (25.3.0)\n",
            "Requirement already satisfied: frozenlist>=1.1.1 in /usr/local/lib/python3.11/dist-packages (from aiohttp->datasets) (1.5.0)\n",
            "Requirement already satisfied: multidict<7.0,>=4.5 in /usr/local/lib/python3.11/dist-packages (from aiohttp->datasets) (6.4.3)\n",
            "Requirement already satisfied: propcache>=0.2.0 in /usr/local/lib/python3.11/dist-packages (from aiohttp->datasets) (0.3.1)\n",
            "Requirement already satisfied: yarl<2.0,>=1.17.0 in /usr/local/lib/python3.11/dist-packages (from aiohttp->datasets) (1.19.0)\n",
            "Requirement already satisfied: typing-extensions>=3.7.4.3 in /usr/local/lib/python3.11/dist-packages (from huggingface-hub>=0.24.0->datasets) (4.13.2)\n",
            "Requirement already satisfied: charset-normalizer<4,>=2 in /usr/local/lib/python3.11/dist-packages (from requests>=2.32.2->datasets) (3.4.1)\n",
            "Requirement already satisfied: idna<4,>=2.5 in /usr/local/lib/python3.11/dist-packages (from requests>=2.32.2->datasets) (3.10)\n",
            "Requirement already satisfied: urllib3<3,>=1.21.1 in /usr/local/lib/python3.11/dist-packages (from requests>=2.32.2->datasets) (2.3.0)\n",
            "Requirement already satisfied: certifi>=2017.4.17 in /usr/local/lib/python3.11/dist-packages (from requests>=2.32.2->datasets) (2025.1.31)\n",
            "Requirement already satisfied: python-dateutil>=2.8.2 in /usr/local/lib/python3.11/dist-packages (from pandas->datasets) (2.8.2)\n",
            "Requirement already satisfied: pytz>=2020.1 in /usr/local/lib/python3.11/dist-packages (from pandas->datasets) (2025.2)\n",
            "Requirement already satisfied: tzdata>=2022.7 in /usr/local/lib/python3.11/dist-packages (from pandas->datasets) (2025.2)\n",
            "Requirement already satisfied: six>=1.5 in /usr/local/lib/python3.11/dist-packages (from python-dateutil>=2.8.2->pandas->datasets) (1.17.0)\n",
            "Downloading datasets-3.5.0-py3-none-any.whl (491 kB)\n",
            "\u001b[2K   \u001b[90m━━━━━━━━━━━━━━━━━━━━━━━━━━━━━━━━━━━━━━━━\u001b[0m \u001b[32m491.2/491.2 kB\u001b[0m \u001b[31m27.3 MB/s\u001b[0m eta \u001b[36m0:00:00\u001b[0m\n",
            "\u001b[?25hDownloading evaluate-0.4.3-py3-none-any.whl (84 kB)\n",
            "\u001b[2K   \u001b[90m━━━━━━━━━━━━━━━━━━━━━━━━━━━━━━━━━━━━━━━━\u001b[0m \u001b[32m84.0/84.0 kB\u001b[0m \u001b[31m7.6 MB/s\u001b[0m eta \u001b[36m0:00:00\u001b[0m\n",
            "\u001b[?25hDownloading dill-0.3.8-py3-none-any.whl (116 kB)\n",
            "\u001b[2K   \u001b[90m━━━━━━━━━━━━━━━━━━━━━━━━━━━━━━━━━━━━━━━━\u001b[0m \u001b[32m116.3/116.3 kB\u001b[0m \u001b[31m8.0 MB/s\u001b[0m eta \u001b[36m0:00:00\u001b[0m\n",
            "\u001b[?25hDownloading fsspec-2024.12.0-py3-none-any.whl (183 kB)\n",
            "\u001b[2K   \u001b[90m━━━━━━━━━━━━━━━━━━━━━━━━━━━━━━━━━━━━━━━━\u001b[0m \u001b[32m183.9/183.9 kB\u001b[0m \u001b[31m13.4 MB/s\u001b[0m eta \u001b[36m0:00:00\u001b[0m\n",
            "\u001b[?25hDownloading multiprocess-0.70.16-py311-none-any.whl (143 kB)\n",
            "\u001b[2K   \u001b[90m━━━━━━━━━━━━━━━━━━━━━━━━━━━━━━━━━━━━━━━━\u001b[0m \u001b[32m143.5/143.5 kB\u001b[0m \u001b[31m8.4 MB/s\u001b[0m eta \u001b[36m0:00:00\u001b[0m\n",
            "\u001b[?25hDownloading xxhash-3.5.0-cp311-cp311-manylinux_2_17_x86_64.manylinux2014_x86_64.whl (194 kB)\n",
            "\u001b[2K   \u001b[90m━━━━━━━━━━━━━━━━━━━━━━━━━━━━━━━━━━━━━━━━\u001b[0m \u001b[32m194.8/194.8 kB\u001b[0m \u001b[31m12.7 MB/s\u001b[0m eta \u001b[36m0:00:00\u001b[0m\n",
            "\u001b[?25hInstalling collected packages: xxhash, fsspec, dill, multiprocess, datasets, evaluate\n",
            "  Attempting uninstall: fsspec\n",
            "    Found existing installation: fsspec 2025.3.2\n",
            "    Uninstalling fsspec-2025.3.2:\n",
            "      Successfully uninstalled fsspec-2025.3.2\n",
            "\u001b[31mERROR: pip's dependency resolver does not currently take into account all the packages that are installed. This behaviour is the source of the following dependency conflicts.\n",
            "torch 2.6.0+cu124 requires nvidia-cublas-cu12==12.4.5.8; platform_system == \"Linux\" and platform_machine == \"x86_64\", but you have nvidia-cublas-cu12 12.5.3.2 which is incompatible.\n",
            "torch 2.6.0+cu124 requires nvidia-cuda-cupti-cu12==12.4.127; platform_system == \"Linux\" and platform_machine == \"x86_64\", but you have nvidia-cuda-cupti-cu12 12.5.82 which is incompatible.\n",
            "torch 2.6.0+cu124 requires nvidia-cuda-nvrtc-cu12==12.4.127; platform_system == \"Linux\" and platform_machine == \"x86_64\", but you have nvidia-cuda-nvrtc-cu12 12.5.82 which is incompatible.\n",
            "torch 2.6.0+cu124 requires nvidia-cuda-runtime-cu12==12.4.127; platform_system == \"Linux\" and platform_machine == \"x86_64\", but you have nvidia-cuda-runtime-cu12 12.5.82 which is incompatible.\n",
            "torch 2.6.0+cu124 requires nvidia-cudnn-cu12==9.1.0.70; platform_system == \"Linux\" and platform_machine == \"x86_64\", but you have nvidia-cudnn-cu12 9.3.0.75 which is incompatible.\n",
            "torch 2.6.0+cu124 requires nvidia-cufft-cu12==11.2.1.3; platform_system == \"Linux\" and platform_machine == \"x86_64\", but you have nvidia-cufft-cu12 11.2.3.61 which is incompatible.\n",
            "torch 2.6.0+cu124 requires nvidia-curand-cu12==10.3.5.147; platform_system == \"Linux\" and platform_machine == \"x86_64\", but you have nvidia-curand-cu12 10.3.6.82 which is incompatible.\n",
            "torch 2.6.0+cu124 requires nvidia-cusolver-cu12==11.6.1.9; platform_system == \"Linux\" and platform_machine == \"x86_64\", but you have nvidia-cusolver-cu12 11.6.3.83 which is incompatible.\n",
            "torch 2.6.0+cu124 requires nvidia-cusparse-cu12==12.3.1.170; platform_system == \"Linux\" and platform_machine == \"x86_64\", but you have nvidia-cusparse-cu12 12.5.1.3 which is incompatible.\n",
            "torch 2.6.0+cu124 requires nvidia-nvjitlink-cu12==12.4.127; platform_system == \"Linux\" and platform_machine == \"x86_64\", but you have nvidia-nvjitlink-cu12 12.5.82 which is incompatible.\n",
            "gcsfs 2025.3.2 requires fsspec==2025.3.2, but you have fsspec 2024.12.0 which is incompatible.\u001b[0m\u001b[31m\n",
            "\u001b[0mSuccessfully installed datasets-3.5.0 dill-0.3.8 evaluate-0.4.3 fsspec-2024.12.0 multiprocess-0.70.16 xxhash-3.5.0\n"
          ]
        }
      ],
      "source": [
        "pip install datasets evaluate"
      ]
    },
    {
      "cell_type": "code",
      "execution_count": 4,
      "metadata": {
        "colab": {
          "base_uri": "https://localhost:8080/"
        },
        "id": "zmrlgEGQx4xQ",
        "outputId": "b4bd1b3c-f9eb-41a1-ed9e-f94003a61a56"
      },
      "outputs": [
        {
          "name": "stdout",
          "output_type": "stream",
          "text": [
            "Requirement already satisfied: transformers[torch] in /usr/local/lib/python3.11/dist-packages (4.51.3)\n",
            "Requirement already satisfied: filelock in /usr/local/lib/python3.11/dist-packages (from transformers[torch]) (3.18.0)\n",
            "Requirement already satisfied: huggingface-hub<1.0,>=0.30.0 in /usr/local/lib/python3.11/dist-packages (from transformers[torch]) (0.30.2)\n",
            "Requirement already satisfied: numpy>=1.17 in /usr/local/lib/python3.11/dist-packages (from transformers[torch]) (1.25.2)\n",
            "Requirement already satisfied: packaging>=20.0 in /usr/local/lib/python3.11/dist-packages (from transformers[torch]) (24.2)\n",
            "Requirement already satisfied: pyyaml>=5.1 in /usr/local/lib/python3.11/dist-packages (from transformers[torch]) (6.0.2)\n",
            "Requirement already satisfied: regex!=2019.12.17 in /usr/local/lib/python3.11/dist-packages (from transformers[torch]) (2024.11.6)\n",
            "Requirement already satisfied: requests in /usr/local/lib/python3.11/dist-packages (from transformers[torch]) (2.32.3)\n",
            "Requirement already satisfied: tokenizers<0.22,>=0.21 in /usr/local/lib/python3.11/dist-packages (from transformers[torch]) (0.21.1)\n",
            "Requirement already satisfied: safetensors>=0.4.3 in /usr/local/lib/python3.11/dist-packages (from transformers[torch]) (0.5.3)\n",
            "Requirement already satisfied: tqdm>=4.27 in /usr/local/lib/python3.11/dist-packages (from transformers[torch]) (4.67.1)\n",
            "Requirement already satisfied: torch>=2.0 in /usr/local/lib/python3.11/dist-packages (from transformers[torch]) (2.6.0+cu124)\n",
            "Requirement already satisfied: accelerate>=0.26.0 in /usr/local/lib/python3.11/dist-packages (from transformers[torch]) (1.5.2)\n",
            "Requirement already satisfied: psutil in /usr/local/lib/python3.11/dist-packages (from accelerate>=0.26.0->transformers[torch]) (5.9.5)\n",
            "Requirement already satisfied: fsspec>=2023.5.0 in /usr/local/lib/python3.11/dist-packages (from huggingface-hub<1.0,>=0.30.0->transformers[torch]) (2024.12.0)\n",
            "Requirement already satisfied: typing-extensions>=3.7.4.3 in /usr/local/lib/python3.11/dist-packages (from huggingface-hub<1.0,>=0.30.0->transformers[torch]) (4.13.2)\n",
            "Requirement already satisfied: networkx in /usr/local/lib/python3.11/dist-packages (from torch>=2.0->transformers[torch]) (3.4.2)\n",
            "Requirement already satisfied: jinja2 in /usr/local/lib/python3.11/dist-packages (from torch>=2.0->transformers[torch]) (3.1.6)\n",
            "Collecting nvidia-cuda-nvrtc-cu12==12.4.127 (from torch>=2.0->transformers[torch])\n",
            "  Downloading nvidia_cuda_nvrtc_cu12-12.4.127-py3-none-manylinux2014_x86_64.whl.metadata (1.5 kB)\n",
            "Collecting nvidia-cuda-runtime-cu12==12.4.127 (from torch>=2.0->transformers[torch])\n",
            "  Downloading nvidia_cuda_runtime_cu12-12.4.127-py3-none-manylinux2014_x86_64.whl.metadata (1.5 kB)\n",
            "Collecting nvidia-cuda-cupti-cu12==12.4.127 (from torch>=2.0->transformers[torch])\n",
            "  Downloading nvidia_cuda_cupti_cu12-12.4.127-py3-none-manylinux2014_x86_64.whl.metadata (1.6 kB)\n",
            "Collecting nvidia-cudnn-cu12==9.1.0.70 (from torch>=2.0->transformers[torch])\n",
            "  Downloading nvidia_cudnn_cu12-9.1.0.70-py3-none-manylinux2014_x86_64.whl.metadata (1.6 kB)\n",
            "Collecting nvidia-cublas-cu12==12.4.5.8 (from torch>=2.0->transformers[torch])\n",
            "  Downloading nvidia_cublas_cu12-12.4.5.8-py3-none-manylinux2014_x86_64.whl.metadata (1.5 kB)\n",
            "Collecting nvidia-cufft-cu12==11.2.1.3 (from torch>=2.0->transformers[torch])\n",
            "  Downloading nvidia_cufft_cu12-11.2.1.3-py3-none-manylinux2014_x86_64.whl.metadata (1.5 kB)\n",
            "Collecting nvidia-curand-cu12==10.3.5.147 (from torch>=2.0->transformers[torch])\n",
            "  Downloading nvidia_curand_cu12-10.3.5.147-py3-none-manylinux2014_x86_64.whl.metadata (1.5 kB)\n",
            "Collecting nvidia-cusolver-cu12==11.6.1.9 (from torch>=2.0->transformers[torch])\n",
            "  Downloading nvidia_cusolver_cu12-11.6.1.9-py3-none-manylinux2014_x86_64.whl.metadata (1.6 kB)\n",
            "Collecting nvidia-cusparse-cu12==12.3.1.170 (from torch>=2.0->transformers[torch])\n",
            "  Downloading nvidia_cusparse_cu12-12.3.1.170-py3-none-manylinux2014_x86_64.whl.metadata (1.6 kB)\n",
            "Requirement already satisfied: nvidia-cusparselt-cu12==0.6.2 in /usr/local/lib/python3.11/dist-packages (from torch>=2.0->transformers[torch]) (0.6.2)\n",
            "Requirement already satisfied: nvidia-nccl-cu12==2.21.5 in /usr/local/lib/python3.11/dist-packages (from torch>=2.0->transformers[torch]) (2.21.5)\n",
            "Requirement already satisfied: nvidia-nvtx-cu12==12.4.127 in /usr/local/lib/python3.11/dist-packages (from torch>=2.0->transformers[torch]) (12.4.127)\n",
            "Collecting nvidia-nvjitlink-cu12==12.4.127 (from torch>=2.0->transformers[torch])\n",
            "  Downloading nvidia_nvjitlink_cu12-12.4.127-py3-none-manylinux2014_x86_64.whl.metadata (1.5 kB)\n",
            "Requirement already satisfied: triton==3.2.0 in /usr/local/lib/python3.11/dist-packages (from torch>=2.0->transformers[torch]) (3.2.0)\n",
            "Requirement already satisfied: sympy==1.13.1 in /usr/local/lib/python3.11/dist-packages (from torch>=2.0->transformers[torch]) (1.13.1)\n",
            "Requirement already satisfied: mpmath<1.4,>=1.1.0 in /usr/local/lib/python3.11/dist-packages (from sympy==1.13.1->torch>=2.0->transformers[torch]) (1.3.0)\n",
            "Requirement already satisfied: charset-normalizer<4,>=2 in /usr/local/lib/python3.11/dist-packages (from requests->transformers[torch]) (3.4.1)\n",
            "Requirement already satisfied: idna<4,>=2.5 in /usr/local/lib/python3.11/dist-packages (from requests->transformers[torch]) (3.10)\n",
            "Requirement already satisfied: urllib3<3,>=1.21.1 in /usr/local/lib/python3.11/dist-packages (from requests->transformers[torch]) (2.3.0)\n",
            "Requirement already satisfied: certifi>=2017.4.17 in /usr/local/lib/python3.11/dist-packages (from requests->transformers[torch]) (2025.1.31)\n",
            "Requirement already satisfied: MarkupSafe>=2.0 in /usr/local/lib/python3.11/dist-packages (from jinja2->torch>=2.0->transformers[torch]) (3.0.2)\n",
            "Downloading nvidia_cublas_cu12-12.4.5.8-py3-none-manylinux2014_x86_64.whl (363.4 MB)\n",
            "\u001b[2K   \u001b[90m━━━━━━━━━━━━━━━━━━━━━━━━━━━━━━━━━━━━━━━━\u001b[0m \u001b[32m363.4/363.4 MB\u001b[0m \u001b[31m4.9 MB/s\u001b[0m eta \u001b[36m0:00:00\u001b[0m\n",
            "\u001b[?25hDownloading nvidia_cuda_cupti_cu12-12.4.127-py3-none-manylinux2014_x86_64.whl (13.8 MB)\n",
            "\u001b[2K   \u001b[90m━━━━━━━━━━━━━━━━━━━━━━━━━━━━━━━━━━━━━━━━\u001b[0m \u001b[32m13.8/13.8 MB\u001b[0m \u001b[31m34.0 MB/s\u001b[0m eta \u001b[36m0:00:00\u001b[0m\n",
            "\u001b[?25hDownloading nvidia_cuda_nvrtc_cu12-12.4.127-py3-none-manylinux2014_x86_64.whl (24.6 MB)\n",
            "\u001b[2K   \u001b[90m━━━━━━━━━━━━━━━━━━━━━━━━━━━━━━━━━━━━━━━━\u001b[0m \u001b[32m24.6/24.6 MB\u001b[0m \u001b[31m30.6 MB/s\u001b[0m eta \u001b[36m0:00:00\u001b[0m\n",
            "\u001b[?25hDownloading nvidia_cuda_runtime_cu12-12.4.127-py3-none-manylinux2014_x86_64.whl (883 kB)\n",
            "\u001b[2K   \u001b[90m━━━━━━━━━━━━━━━━━━━━━━━━━━━━━━━━━━━━━━━━\u001b[0m \u001b[32m883.7/883.7 kB\u001b[0m \u001b[31m35.1 MB/s\u001b[0m eta \u001b[36m0:00:00\u001b[0m\n",
            "\u001b[?25hDownloading nvidia_cudnn_cu12-9.1.0.70-py3-none-manylinux2014_x86_64.whl (664.8 MB)\n",
            "\u001b[2K   \u001b[90m━━━━━━━━━━━━━━━━━━━━━━━━━━━━━━━━━━━━━━━━\u001b[0m \u001b[32m664.8/664.8 MB\u001b[0m \u001b[31m2.0 MB/s\u001b[0m eta \u001b[36m0:00:00\u001b[0m\n",
            "\u001b[?25hDownloading nvidia_cufft_cu12-11.2.1.3-py3-none-manylinux2014_x86_64.whl (211.5 MB)\n",
            "\u001b[2K   \u001b[90m━━━━━━━━━━━━━━━━━━━━━━━━━━━━━━━━━━━━━━━━\u001b[0m \u001b[32m211.5/211.5 MB\u001b[0m \u001b[31m6.6 MB/s\u001b[0m eta \u001b[36m0:00:00\u001b[0m\n",
            "\u001b[?25hDownloading nvidia_curand_cu12-10.3.5.147-py3-none-manylinux2014_x86_64.whl (56.3 MB)\n",
            "\u001b[2K   \u001b[90m━━━━━━━━━━━━━━━━━━━━━━━━━━━━━━━━━━━━━━━━\u001b[0m \u001b[32m56.3/56.3 MB\u001b[0m \u001b[31m20.8 MB/s\u001b[0m eta \u001b[36m0:00:00\u001b[0m\n",
            "\u001b[?25hDownloading nvidia_cusolver_cu12-11.6.1.9-py3-none-manylinux2014_x86_64.whl (127.9 MB)\n",
            "\u001b[2K   \u001b[90m━━━━━━━━━━━━━━━━━━━━━━━━━━━━━━━━━━━━━━━━\u001b[0m \u001b[32m127.9/127.9 MB\u001b[0m \u001b[31m7.5 MB/s\u001b[0m eta \u001b[36m0:00:00\u001b[0m\n",
            "\u001b[?25hDownloading nvidia_cusparse_cu12-12.3.1.170-py3-none-manylinux2014_x86_64.whl (207.5 MB)\n",
            "\u001b[2K   \u001b[90m━━━━━━━━━━━━━━━━━━━━━━━━━━━━━━━━━━━━━━━━\u001b[0m \u001b[32m207.5/207.5 MB\u001b[0m \u001b[31m5.6 MB/s\u001b[0m eta \u001b[36m0:00:00\u001b[0m\n",
            "\u001b[?25hDownloading nvidia_nvjitlink_cu12-12.4.127-py3-none-manylinux2014_x86_64.whl (21.1 MB)\n",
            "\u001b[2K   \u001b[90m━━━━━━━━━━━━━━━━━━━━━━━━━━━━━━━━━━━━━━━━\u001b[0m \u001b[32m21.1/21.1 MB\u001b[0m \u001b[31m42.8 MB/s\u001b[0m eta \u001b[36m0:00:00\u001b[0m\n",
            "\u001b[?25hInstalling collected packages: nvidia-nvjitlink-cu12, nvidia-curand-cu12, nvidia-cufft-cu12, nvidia-cuda-runtime-cu12, nvidia-cuda-nvrtc-cu12, nvidia-cuda-cupti-cu12, nvidia-cublas-cu12, nvidia-cusparse-cu12, nvidia-cudnn-cu12, nvidia-cusolver-cu12\n",
            "  Attempting uninstall: nvidia-nvjitlink-cu12\n",
            "    Found existing installation: nvidia-nvjitlink-cu12 12.5.82\n",
            "    Uninstalling nvidia-nvjitlink-cu12-12.5.82:\n",
            "      Successfully uninstalled nvidia-nvjitlink-cu12-12.5.82\n",
            "  Attempting uninstall: nvidia-curand-cu12\n",
            "    Found existing installation: nvidia-curand-cu12 10.3.6.82\n",
            "    Uninstalling nvidia-curand-cu12-10.3.6.82:\n",
            "      Successfully uninstalled nvidia-curand-cu12-10.3.6.82\n",
            "  Attempting uninstall: nvidia-cufft-cu12\n",
            "    Found existing installation: nvidia-cufft-cu12 11.2.3.61\n",
            "    Uninstalling nvidia-cufft-cu12-11.2.3.61:\n",
            "      Successfully uninstalled nvidia-cufft-cu12-11.2.3.61\n",
            "  Attempting uninstall: nvidia-cuda-runtime-cu12\n",
            "    Found existing installation: nvidia-cuda-runtime-cu12 12.5.82\n",
            "    Uninstalling nvidia-cuda-runtime-cu12-12.5.82:\n",
            "      Successfully uninstalled nvidia-cuda-runtime-cu12-12.5.82\n",
            "  Attempting uninstall: nvidia-cuda-nvrtc-cu12\n",
            "    Found existing installation: nvidia-cuda-nvrtc-cu12 12.5.82\n",
            "    Uninstalling nvidia-cuda-nvrtc-cu12-12.5.82:\n",
            "      Successfully uninstalled nvidia-cuda-nvrtc-cu12-12.5.82\n",
            "  Attempting uninstall: nvidia-cuda-cupti-cu12\n",
            "    Found existing installation: nvidia-cuda-cupti-cu12 12.5.82\n",
            "    Uninstalling nvidia-cuda-cupti-cu12-12.5.82:\n",
            "      Successfully uninstalled nvidia-cuda-cupti-cu12-12.5.82\n",
            "  Attempting uninstall: nvidia-cublas-cu12\n",
            "    Found existing installation: nvidia-cublas-cu12 12.5.3.2\n",
            "    Uninstalling nvidia-cublas-cu12-12.5.3.2:\n",
            "      Successfully uninstalled nvidia-cublas-cu12-12.5.3.2\n",
            "  Attempting uninstall: nvidia-cusparse-cu12\n",
            "    Found existing installation: nvidia-cusparse-cu12 12.5.1.3\n",
            "    Uninstalling nvidia-cusparse-cu12-12.5.1.3:\n",
            "      Successfully uninstalled nvidia-cusparse-cu12-12.5.1.3\n",
            "  Attempting uninstall: nvidia-cudnn-cu12\n",
            "    Found existing installation: nvidia-cudnn-cu12 9.3.0.75\n",
            "    Uninstalling nvidia-cudnn-cu12-9.3.0.75:\n",
            "      Successfully uninstalled nvidia-cudnn-cu12-9.3.0.75\n",
            "  Attempting uninstall: nvidia-cusolver-cu12\n",
            "    Found existing installation: nvidia-cusolver-cu12 11.6.3.83\n",
            "    Uninstalling nvidia-cusolver-cu12-11.6.3.83:\n",
            "      Successfully uninstalled nvidia-cusolver-cu12-11.6.3.83\n",
            "Successfully installed nvidia-cublas-cu12-12.4.5.8 nvidia-cuda-cupti-cu12-12.4.127 nvidia-cuda-nvrtc-cu12-12.4.127 nvidia-cuda-runtime-cu12-12.4.127 nvidia-cudnn-cu12-9.1.0.70 nvidia-cufft-cu12-11.2.1.3 nvidia-curand-cu12-10.3.5.147 nvidia-cusolver-cu12-11.6.1.9 nvidia-cusparse-cu12-12.3.1.170 nvidia-nvjitlink-cu12-12.4.127\n"
          ]
        }
      ],
      "source": [
        "pip install transformers[torch]"
      ]
    },
    {
      "cell_type": "code",
      "execution_count": null,
      "metadata": {
        "colab": {
          "base_uri": "https://localhost:8080/"
        },
        "id": "HJpneAUYx4xR",
        "outputId": "0ff2315f-34ab-4b20-852d-0767e8a4e58e"
      },
      "outputs": [
        {
          "name": "stdout",
          "output_type": "stream",
          "text": [
            "Requirement already satisfied: datasets in /usr/local/lib/python3.11/dist-packages (3.5.0)\n",
            "Collecting optuna\n",
            "  Downloading optuna-4.3.0-py3-none-any.whl.metadata (17 kB)\n",
            "Collecting ray[tune]\n",
            "  Downloading ray-2.44.1-cp311-cp311-manylinux2014_x86_64.whl.metadata (19 kB)\n",
            "Requirement already satisfied: filelock in /usr/local/lib/python3.11/dist-packages (from datasets) (3.18.0)\n",
            "Requirement already satisfied: numpy>=1.17 in /usr/local/lib/python3.11/dist-packages (from datasets) (1.25.2)\n",
            "Requirement already satisfied: pyarrow>=15.0.0 in /usr/local/lib/python3.11/dist-packages (from datasets) (18.1.0)\n",
            "Requirement already satisfied: dill<0.3.9,>=0.3.0 in /usr/local/lib/python3.11/dist-packages (from datasets) (0.3.8)\n",
            "Requirement already satisfied: pandas in /usr/local/lib/python3.11/dist-packages (from datasets) (2.2.2)\n",
            "Requirement already satisfied: requests>=2.32.2 in /usr/local/lib/python3.11/dist-packages (from datasets) (2.32.3)\n",
            "Requirement already satisfied: tqdm>=4.66.3 in /usr/local/lib/python3.11/dist-packages (from datasets) (4.67.1)\n",
            "Requirement already satisfied: xxhash in /usr/local/lib/python3.11/dist-packages (from datasets) (3.5.0)\n",
            "Requirement already satisfied: multiprocess<0.70.17 in /usr/local/lib/python3.11/dist-packages (from datasets) (0.70.16)\n",
            "Requirement already satisfied: fsspec<=2024.12.0,>=2023.1.0 in /usr/local/lib/python3.11/dist-packages (from fsspec[http]<=2024.12.0,>=2023.1.0->datasets) (2024.12.0)\n",
            "Requirement already satisfied: aiohttp in /usr/local/lib/python3.11/dist-packages (from datasets) (3.11.15)\n",
            "Requirement already satisfied: huggingface-hub>=0.24.0 in /usr/local/lib/python3.11/dist-packages (from datasets) (0.30.2)\n",
            "Requirement already satisfied: packaging in /usr/local/lib/python3.11/dist-packages (from datasets) (24.2)\n",
            "Requirement already satisfied: pyyaml>=5.1 in /usr/local/lib/python3.11/dist-packages (from datasets) (6.0.2)\n",
            "Collecting alembic>=1.5.0 (from optuna)\n",
            "  Downloading alembic-1.15.2-py3-none-any.whl.metadata (7.3 kB)\n",
            "Collecting colorlog (from optuna)\n",
            "  Downloading colorlog-6.9.0-py3-none-any.whl.metadata (10 kB)\n",
            "Requirement already satisfied: sqlalchemy>=1.4.2 in /usr/local/lib/python3.11/dist-packages (from optuna) (2.0.40)\n",
            "Requirement already satisfied: click>=7.0 in /usr/local/lib/python3.11/dist-packages (from ray[tune]) (8.1.8)\n",
            "Requirement already satisfied: jsonschema in /usr/local/lib/python3.11/dist-packages (from ray[tune]) (4.23.0)\n",
            "Requirement already satisfied: msgpack<2.0.0,>=1.0.0 in /usr/local/lib/python3.11/dist-packages (from ray[tune]) (1.1.0)\n",
            "Requirement already satisfied: protobuf!=3.19.5,>=3.15.3 in /usr/local/lib/python3.11/dist-packages (from ray[tune]) (5.29.4)\n",
            "Requirement already satisfied: aiosignal in /usr/local/lib/python3.11/dist-packages (from ray[tune]) (1.3.2)\n",
            "Requirement already satisfied: frozenlist in /usr/local/lib/python3.11/dist-packages (from ray[tune]) (1.5.0)\n",
            "Collecting tensorboardX>=1.9 (from ray[tune])\n",
            "  Downloading tensorboardX-2.6.2.2-py2.py3-none-any.whl.metadata (5.8 kB)\n",
            "Requirement already satisfied: Mako in /usr/lib/python3/dist-packages (from alembic>=1.5.0->optuna) (1.1.3)\n",
            "Requirement already satisfied: typing-extensions>=4.12 in /usr/local/lib/python3.11/dist-packages (from alembic>=1.5.0->optuna) (4.13.2)\n",
            "Requirement already satisfied: aiohappyeyeballs>=2.3.0 in /usr/local/lib/python3.11/dist-packages (from aiohttp->datasets) (2.6.1)\n",
            "Requirement already satisfied: attrs>=17.3.0 in /usr/local/lib/python3.11/dist-packages (from aiohttp->datasets) (25.3.0)\n",
            "Requirement already satisfied: multidict<7.0,>=4.5 in /usr/local/lib/python3.11/dist-packages (from aiohttp->datasets) (6.4.3)\n",
            "Requirement already satisfied: propcache>=0.2.0 in /usr/local/lib/python3.11/dist-packages (from aiohttp->datasets) (0.3.1)\n",
            "Requirement already satisfied: yarl<2.0,>=1.17.0 in /usr/local/lib/python3.11/dist-packages (from aiohttp->datasets) (1.19.0)\n",
            "Requirement already satisfied: charset-normalizer<4,>=2 in /usr/local/lib/python3.11/dist-packages (from requests>=2.32.2->datasets) (3.4.1)\n",
            "Requirement already satisfied: idna<4,>=2.5 in /usr/local/lib/python3.11/dist-packages (from requests>=2.32.2->datasets) (3.10)\n",
            "Requirement already satisfied: urllib3<3,>=1.21.1 in /usr/local/lib/python3.11/dist-packages (from requests>=2.32.2->datasets) (2.3.0)\n",
            "Requirement already satisfied: certifi>=2017.4.17 in /usr/local/lib/python3.11/dist-packages (from requests>=2.32.2->datasets) (2025.1.31)\n",
            "Requirement already satisfied: greenlet>=1 in /usr/local/lib/python3.11/dist-packages (from sqlalchemy>=1.4.2->optuna) (3.2.0)\n",
            "Requirement already satisfied: jsonschema-specifications>=2023.03.6 in /usr/local/lib/python3.11/dist-packages (from jsonschema->ray[tune]) (2024.10.1)\n",
            "Requirement already satisfied: referencing>=0.28.4 in /usr/local/lib/python3.11/dist-packages (from jsonschema->ray[tune]) (0.36.2)\n",
            "Requirement already satisfied: rpds-py>=0.7.1 in /usr/local/lib/python3.11/dist-packages (from jsonschema->ray[tune]) (0.24.0)\n",
            "Requirement already satisfied: python-dateutil>=2.8.2 in /usr/local/lib/python3.11/dist-packages (from pandas->datasets) (2.8.2)\n",
            "Requirement already satisfied: pytz>=2020.1 in /usr/local/lib/python3.11/dist-packages (from pandas->datasets) (2025.2)\n",
            "Requirement already satisfied: tzdata>=2022.7 in /usr/local/lib/python3.11/dist-packages (from pandas->datasets) (2025.2)\n",
            "Requirement already satisfied: six>=1.5 in /usr/local/lib/python3.11/dist-packages (from python-dateutil>=2.8.2->pandas->datasets) (1.17.0)\n",
            "Downloading optuna-4.3.0-py3-none-any.whl (386 kB)\n",
            "\u001b[2K   \u001b[90m━━━━━━━━━━━━━━━━━━━━━━━━━━━━━━━━━━━━━━━━\u001b[0m \u001b[32m386.6/386.6 kB\u001b[0m \u001b[31m23.5 MB/s\u001b[0m eta \u001b[36m0:00:00\u001b[0m\n",
            "\u001b[?25hDownloading alembic-1.15.2-py3-none-any.whl (231 kB)\n",
            "\u001b[2K   \u001b[90m━━━━━━━━━━━━━━━━━━━━━━━━━━━━━━━━━━━━━━━━\u001b[0m \u001b[32m231.9/231.9 kB\u001b[0m \u001b[31m19.5 MB/s\u001b[0m eta \u001b[36m0:00:00\u001b[0m\n",
            "\u001b[?25hDownloading tensorboardX-2.6.2.2-py2.py3-none-any.whl (101 kB)\n",
            "\u001b[2K   \u001b[90m━━━━━━━━━━━━━━━━━━━━━━━━━━━━━━━━━━━━━━━━\u001b[0m \u001b[32m101.7/101.7 kB\u001b[0m \u001b[31m8.8 MB/s\u001b[0m eta \u001b[36m0:00:00\u001b[0m\n",
            "\u001b[?25hDownloading colorlog-6.9.0-py3-none-any.whl (11 kB)\n",
            "Downloading ray-2.44.1-cp311-cp311-manylinux2014_x86_64.whl (68.1 MB)\n",
            "\u001b[2K   \u001b[90m━━━━━━━━━━━━━━━━━━━━━━━━━━━━━━━━━━━━━━━━\u001b[0m \u001b[32m68.1/68.1 MB\u001b[0m \u001b[31m11.7 MB/s\u001b[0m eta \u001b[36m0:00:00\u001b[0m\n",
            "\u001b[?25hInstalling collected packages: tensorboardX, colorlog, alembic, optuna, ray\n",
            "Successfully installed alembic-1.15.2 colorlog-6.9.0 optuna-4.3.0 ray-2.44.1 tensorboardX-2.6.2.2\n"
          ]
        }
      ],
      "source": [
        "pip install datasets optuna \"ray[tune]\" evaluate"
      ]
    },
    {
      "cell_type": "code",
      "execution_count": null,
      "metadata": {
        "id": "4FwezzrPx4xT"
      },
      "outputs": [
        {
          "name": "stderr",
          "output_type": "stream",
          "text": [
            "c:\\Users\\Lia\\OneDrive - Université Paris 1 Panthéon-Sorbonne\\Bureau\\MASTER 2\\S2\\NLP\\.venv\\Lib\\site-packages\\tqdm\\auto.py:21: TqdmWarning: IProgress not found. Please update jupyter and ipywidgets. See https://ipywidgets.readthedocs.io/en/stable/user_install.html\n",
            "  from .autonotebook import tqdm as notebook_tqdm\n",
            "2025-04-24 18:40:05,571\tINFO util.py:154 -- Missing packages: ['ipywidgets']. Run `pip install -U ipywidgets`, then restart the notebook server for rich notebook output.\n",
            "2025-04-24 18:40:06,082\tINFO util.py:154 -- Missing packages: ['ipywidgets']. Run `pip install -U ipywidgets`, then restart the notebook server for rich notebook output.\n"
          ]
        }
      ],
      "source": [
        "#from google.colab import drive\n",
        "import os\n",
        "\n",
        "import pandas as pd\n",
        "import numpy as np\n",
        "import matplotlib.pyplot as plt\n",
        "import matplotlib.dates as mdates\n",
        "\n",
        "#Zoom EDA\n",
        "import nltk\n",
        "from nltk.corpus import stopwords\n",
        "from collections import Counter\n",
        "import re\n",
        "\n",
        "#Nettoyage\n",
        "from nltk.tokenize import word_tokenize\n",
        "from nltk.stem import WordNetLemmatizer\n",
        "\n",
        "#Modélisation basée sur représentation vectorielle TF-IDF\n",
        "from sklearn.feature_extraction.text import CountVectorizer\n",
        "from sklearn.feature_extraction.text import TfidfVectorizer\n",
        "from sklearn.model_selection import train_test_split\n",
        "from sklearn.preprocessing import LabelEncoder\n",
        "from sklearn.model_selection import GridSearchCV, StratifiedKFold\n",
        "from sklearn.metrics import balanced_accuracy_score,precision_recall_fscore_support\n",
        "\n",
        "##Modèle TF-IDF + MNB\n",
        "from sklearn.naive_bayes import MultinomialNB\n",
        "\n",
        "##Modèle LR\n",
        "from sklearn.pipeline import make_pipeline\n",
        "from sklearn.linear_model import LogisticRegression\n",
        "\n",
        "##Modèle SVM\n",
        "from sklearn.svm import SVC\n",
        "\n",
        "#Modélisation basée sur embeddings Word2Vec\n",
        "import gensim.downloader as api\n",
        "from xgboost import XGBClassifier\n",
        "\n",
        "#Modèles neuronaux\n",
        "\n",
        "##FinBERT\n",
        "from transformers import AutoTokenizer, AutoModelForSequenceClassification, TrainingArguments, Trainer\n",
        "import torch\n",
        "from datasets import Dataset\n",
        "import evaluate\n",
        "from transformers import EarlyStoppingCallback\n",
        "from ray import tune"
      ]
    },
    {
      "cell_type": "markdown",
      "metadata": {
        "id": "rvIAGkmHx4xW"
      },
      "source": [
        "### 2 - Data importation"
      ]
    },
    {
      "cell_type": "code",
      "execution_count": null,
      "metadata": {
        "colab": {
          "base_uri": "https://localhost:8080/"
        },
        "id": "J-ww9KqR1PIM",
        "outputId": "02060b6d-c5c2-4cc7-ab39-888092a14609"
      },
      "outputs": [
        {
          "name": "stdout",
          "output_type": "stream",
          "text": [
            "Mounted at /content/drive\n"
          ]
        }
      ],
      "source": [
        "\"\"\"from google.colab import drive\n",
        "drive.mount('/content/drive')\"\"\""
      ]
    },
    {
      "cell_type": "markdown",
      "metadata": {
        "id": "LqESrEOCx4xa"
      },
      "source": [
        "#### Charger les données en local"
      ]
    },
    {
      "cell_type": "code",
      "execution_count": null,
      "metadata": {
        "id": "1WvdZtJcx4xa"
      },
      "outputs": [],
      "source": [
        "path_96_20 = r\"DATA\\fed_speeches_1996_2020.csv\"\n",
        "df = pd.read_csv(path_96_20)"
      ]
    },
    {
      "cell_type": "code",
      "execution_count": null,
      "metadata": {
        "id": "5QL5V-hIx4xa"
      },
      "outputs": [],
      "source": [
        "path_rates = r'DATA\\fed_speeches_1996_2024.csv'\n",
        "df_rates = pd.read_csv(path_rates)"
      ]
    },
    {
      "cell_type": "markdown",
      "metadata": {
        "id": "YyXFlGxHyKAX"
      },
      "source": [
        "#### Charger les données depuis drive"
      ]
    },
    {
      "cell_type": "code",
      "execution_count": null,
      "metadata": {
        "id": "9Qpqm--hyMuA"
      },
      "outputs": [],
      "source": [
        "\"\"\"path_96_20 = r\"/content/drive/MyDrive/NLP/DATA/fed_speeches_1996_2024.csv\"\n",
        "df = pd.read_csv(path_96_20)\"\"\""
      ]
    },
    {
      "cell_type": "code",
      "execution_count": null,
      "metadata": {
        "id": "5A6aY39IyPXm"
      },
      "outputs": [],
      "source": [
        "\"\"\"path_rates = r'/content/drive/MyDrive/NLP/DATA/FEDFUNDS.csv'\n",
        "df_rates = pd.read_csv(path_rates)\"\"\""
      ]
    },
    {
      "cell_type": "markdown",
      "metadata": {
        "id": "M08ht0ajx4xb"
      },
      "source": [
        "### 3 - Statistiques globales"
      ]
    },
    {
      "cell_type": "code",
      "execution_count": null,
      "metadata": {
        "id": "uGb_VgtEx4xb",
        "outputId": "05001252-8df6-47c2-da4a-585e7179a6f7"
      },
      "outputs": [
        {
          "name": "stdout",
          "output_type": "stream",
          "text": [
            "<class 'pandas.core.frame.DataFrame'>\n",
            "RangeIndex: 1823 entries, 0 to 1822\n",
            "Data columns (total 4 columns):\n",
            " #   Column   Non-Null Count  Dtype \n",
            "---  ------   --------------  ----- \n",
            " 0   date     1821 non-null   object\n",
            " 1   title    1822 non-null   object\n",
            " 2   speaker  1820 non-null   object\n",
            " 3   text     1823 non-null   object\n",
            "dtypes: object(4)\n",
            "memory usage: 57.1+ KB\n",
            "None\n",
            "date       1508\n",
            "title      1562\n",
            "speaker      43\n",
            "text       1815\n",
            "dtype: int64\n"
          ]
        }
      ],
      "source": [
        "print(df.info())\n",
        "print(df.nunique())"
      ]
    },
    {
      "cell_type": "code",
      "execution_count": null,
      "metadata": {
        "id": "WSYh1D0dx4xb",
        "outputId": "51c64a99-4fa0-464b-9003-371c637ba2de"
      },
      "outputs": [
        {
          "name": "stdout",
          "output_type": "stream",
          "text": [
            "<class 'pandas.core.frame.DataFrame'>\n",
            "RangeIndex: 362 entries, 0 to 361\n",
            "Data columns (total 2 columns):\n",
            " #   Column            Non-Null Count  Dtype  \n",
            "---  ------            --------------  -----  \n",
            " 0   observation_date  362 non-null    object \n",
            " 1   FEDFUNDS          362 non-null    float64\n",
            "dtypes: float64(1), object(1)\n",
            "memory usage: 5.8+ KB\n",
            "None\n"
          ]
        }
      ],
      "source": [
        "print(df_rates.info())"
      ]
    },
    {
      "cell_type": "markdown",
      "metadata": {
        "id": "FNdbmXrgx4xc"
      },
      "source": [
        "### 4 - Data transformation"
      ]
    },
    {
      "cell_type": "markdown",
      "metadata": {
        "id": "D7sU7RUox4xc"
      },
      "source": [
        "#### Format dates"
      ]
    },
    {
      "cell_type": "code",
      "execution_count": 4,
      "metadata": {
        "id": "gtcoB6H4x4xc"
      },
      "outputs": [],
      "source": [
        "def preprocess_dates(df, df_rates):\n",
        "\n",
        "    df = df.dropna(subset=[\"date\"]).copy()\n",
        "    df[\"date\"] = pd.to_datetime(df[\"date\"], errors='coerce')\n",
        "    df[\"date_cible\"] = df[\"date\"] + pd.offsets.MonthBegin(1)\n",
        "    df = df.rename(columns={\"date\": \"date_speech\"})\n",
        "    df_rates[\"observation_date\"] = pd.to_datetime(df_rates[\"observation_date\"])\n",
        "\n",
        "    return df, df_rates"
      ]
    },
    {
      "cell_type": "code",
      "execution_count": null,
      "metadata": {
        "id": "TwnCb1w_x4xc"
      },
      "outputs": [],
      "source": [
        "df, df_rates= preprocess_dates(df, df_rates)"
      ]
    },
    {
      "cell_type": "code",
      "execution_count": null,
      "metadata": {
        "colab": {
          "base_uri": "https://localhost:8080/",
          "height": 112
        },
        "id": "hR1Xh4fHx4xd",
        "outputId": "c092e1ba-596f-4f0b-cb02-cf5999c505f5"
      },
      "outputs": [
        {
          "data": {
            "application/vnd.google.colaboratory.intrinsic+json": {
              "summary": "{\n  \"name\": \"df\",\n  \"rows\": 1821,\n  \"fields\": [\n    {\n      \"column\": \"date_speech\",\n      \"properties\": {\n        \"dtype\": \"date\",\n        \"min\": \"1996-06-13 00:00:00\",\n        \"max\": \"2024-12-03 00:00:00\",\n        \"num_unique_values\": 1508,\n        \"samples\": [\n          \"2006-10-17 00:00:00\",\n          \"2018-10-25 00:00:00\",\n          \"2003-11-14 00:00:00\"\n        ],\n        \"semantic_type\": \"\",\n        \"description\": \"\"\n      }\n    },\n    {\n      \"column\": \"title\",\n      \"properties\": {\n        \"dtype\": \"string\",\n        \"num_unique_values\": 1561,\n        \"samples\": [\n          \"Moving Toward Better Balance and Implications for Monetary Policy\",\n          \"Small Businesses and the Recovery\",\n          \"Overcoming challenges and seizing opportunities in Indian Country\"\n        ],\n        \"semantic_type\": \"\",\n        \"description\": \"\"\n      }\n    },\n    {\n      \"column\": \"speaker\",\n      \"properties\": {\n        \"dtype\": \"category\",\n        \"num_unique_values\": 43,\n        \"samples\": [\n          \"Vice Chair Lael Brainard\",\n          \"Chair Janet L. Yellen\",\n          \"Vice Chairman Stanley Fischer\"\n        ],\n        \"semantic_type\": \"\",\n        \"description\": \"\"\n      }\n    },\n    {\n      \"column\": \"text\",\n      \"properties\": {\n        \"dtype\": \"string\",\n        \"num_unique_values\": 1813,\n        \"samples\": [\n          \"         I am pleased to speak at this conference on new building blocks for jobs and economic growth. The conference organizers have gathered an outstanding group of participants and have set an ambitious agenda. The topics you will address today and tomorrow, bearing on innovation and intangible capital, are central to understanding how we can best promote robust economic growth in the long run.              I won't have to spend much time convincing this audience of the importance of long-run economic growth. The Nobel Prize-winning economist Robert E. Lucas, Jr., wrote that once one starts thinking about long-run growth and economic development, \\\"it is hard to think about anything else.\\\"1  Although I don't think I would go quite that far, it is certainly true that relatively small differences in rates of economic growth, maintained over a sustained period, can have enormous implications for material living standards. A growth rate of output per person of 2-1/2 percent per year doubles average living standards in 28 years--about one generation--whereas output per person growing at what seems a modestly slower rate of 1-1/2 percent a year leads to a doubling in average living standards in about 47 years--roughly two generations. Compound interest is powerful! Of course, factors other than aggregate economic growth contribute to changes in living standards for different segments of the population, including shifts in relative wages and in rates of labor market participation. Nonetheless, if output per person increases more rapidly, the prospects for greater and more broad-based prosperity are significantly enhanced.              Over long spans of time, economic growth and the associated improvements in living standards reflect a number of determinants, including increases in workers' skills, rates of saving and capital accumulation, and institutional factors ranging from the flexibility of markets to the quality of the legal and regulatory frameworks. However, innovation and technological change are undoubtedly central to the growth process; over the past 200 years or so, innovation, technical advances, and investment in capital goods embodying new technologies have transformed economies around the world. In recent decades, as this audience well knows, advances in semiconductor technology have radically changed many aspects of our lives, from communication to health care. Technological developments further in the past, such as electrification or the internal combustion engine, were equally revolutionary, if not more so. In addition, recent research has highlighted the important role played by intangible capital, such as the knowledge embodied in the workforce, business plans and practices, and brand names. This research suggests that technological progress and the accumulation of intangible capital have together accounted for well over half of the increase in output per hour in the United States during the past several decades.2           Innovation has not only led to new products and more-efficient production methods, but it has also induced dramatic changes in how businesses are organized and managed, highlighting the connections between new ideas and methods and the organizational structure needed to implement them. For example, in the 19th century, the development of the railroad and telegraph, along with a host of other technologies, were associated with the rise of large businesses with national reach. And, as transportation and communication technologies developed further in the 20th century, multinational corporations became more feasible and prevalent.              Economic policy affects innovation and long-run economic growth in many ways. A stable macroeconomic environment; sound public finances; and well-functioning financial, labor, and product markets all support innovation, entrepreneurship, and growth, as do effective tax, trade, and regulatory policies. Policies directed at objectives such as the protection of intellectual property rights and the promotion of research and development, or R&D, promote innovation and technological change more directly.              In the remainder of my remarks, I will focus on one important component of innovation policy--namely, government support for R&D. As I have already suggested, the effective commercial application of new ideas involves much more than just pure research. Many other factors are relevant, including the extent of market competition, the intellectual property regime, and the availability of financing for innovative enterprises. That said, the tendency of the market to supply too little of certain types of R&D provides a rationale for government intervention; and no matter how good the policy environment, ultimately, big new ideas are often rooted in well-executed R&D.       The Rationale for a Government Role in Research and Development        Governments in many countries directly support scientific and technical research, for example, through grant-providing agencies (like the National Science Foundation in the United States) or through tax incentives (like the R&D tax credit). In addition, the governments of the United States and many other countries run their own research facilities, including facilities focused on nonmilitary applications such as health. The primary economic rationale for a government role in R&D is that, absent such intervention, the private market would not adequately supply certain types of research.3 The argument, which applies particularly strongly to basic or fundamental research, is that the full economic value of a scientific advance is unlikely to accrue to its discoverer, especially if the new knowledge can be replicated or disseminated at low cost. For example, James Watson and Francis Crick received a minute fraction of the economic benefits that have flowed from their discovery of the structure of DNA. If many people are able to exploit, or otherwise benefit from, research done by others, then the total or social return to research may be higher on average than the private return to those who bear the costs and risks of innovation. As a result, market forces will lead to underinvestment in R&D from society's perspective, providing a rationale for government intervention.              One possible policy response to the market underprovision problem would be to substantially strengthen the intellectual property rights regime, for example, by granting the developers of new ideas strong and long-lasting claims to the economic benefits of their discoveries--perhaps by extending and expanding patent rights. This approach has significant drawbacks of its own, however, in that strict limitations on the free use of new ideas would inhibit both further research and the development of valuable commercial applications. Thus, although patent protections and similar rules remain an important part of innovation policy, governments have also turned to direct support of R&D activities.              Of course, the rationale for government support of R&D would be weakened if governments had consistently performed poorly in this sphere. Certainly, there have been disappointments; for example, the surge in federal investment in energy technology research in the 1970s, a response to the energy crisis of that decade, achieved less than its initiators hoped. In the United States, however, we have seen many examples--in some cases extending back to the late 19th and early 20th centuries--of federal research initiatives and government support enabling the emergence of new technologies in areas that include agriculture, chemicals, health care, and information technology. A case that has been particularly well documented and closely studied is the development of hybrid seed corn in the United States during the first half of the 20th century.4  Two other examples of innovations that received critical federal support are gene splicing--federal R&D underwrote the techniques that opened up the field of genetic engineering--and the lithium-ion battery, which was developed by federally sponsored materials research in the 1980s.  And recent research on the government's so-called war on cancer, initiated by President Nixon in 1971, finds that the effort has produced a very high social rate of return, notwithstanding its failure to achieve its original, ambitious goal of eradicating the disease.5           What about the present? Is government support of R&D today at the \\\"right\\\" level? This question is not easily answered; it involves not only difficult technical assessments, but also a number of value judgments about public priorities. As background, however, a consideration of recent trends in expenditures on R&D in the United States and the rest of the world should be instructive. In the United States, total R&D spending (both public and private) has been relatively stable over the past three decades, at roughly 2-1/2 percent of gross domestic product (GDP).6  However, this apparent stability masks some important underlying trends. First, since the 1970s, R&D spending by the federal government has trended down as a share of GDP, while the share of R&D done by the private sector has correspondingly increased.7  Second, the share of R&D spending targeted to basic research, as opposed to more applied R&D activities, has also been declining.8  These two trends--the declines in the share of basic research and in the federal share of R&D spending--are related, as government R&D spending tends to be more heavily weighted toward basic research and science. The declining emphasis on basic research is somewhat concerning because fundamental research is ultimately the source of most innovation, albeit often with long lags. Indeed, some economists have argued that, because of the potentially high social return to basic research, expanded government support for R&D could, over time, significantly boost economic growth.9 That said, in a time of fiscal stringency, the Congress and the Administration will clearly need to carefully weigh competing priorities in their budgetary decisions.              Another argument sometimes made for expanding government support for R&D is the need to keep pace with technological advances in other countries. R&D has become increasingly international, thanks to improved communication and dissemination of research results, the spread of scientific and engineering talent around the world, and the transfer of technologies through trade, foreign direct investment, and the activities of multinational corporations. To be sure, R&D spending remains concentrated in the most-developed countries, with the United States still the leader in overall R&D spending.10 However, in recent years, spending on R&D has increased sharply in some emerging market economies, most notably in China and India. In particular, spending for R&D by China has increased rapidly in absolute terms, although recent estimates still show its R&D spending to be smaller relative to GDP than in the United States.11  Reflecting the increased research activity in emerging market economies, the share of world R&D expenditures by member nations of the Organisation for Economic Co-Operation and Development, which mostly comprises advanced economies, has fallen relative to non-member nations, which tend to be less developed. A similar trend is evident, by the way, with respect to science and engineering workforces.12           How should policymakers think about the increasing globalization of R&D spending? On the one hand, the diffusion of scientific and technological research throughout the world potentially benefits everyone by increasing the pace of innovation globally. For example, the development of the polio vaccine in the United States in the 1950s provided enormous benefits to people globally, not just Americans. Moreover, in a globalized economy, product and process innovations in one country can lead to employment opportunities and improved goods and services around the world.              On the other hand, in some circumstances, the location of R&D activity can matter. For example, technological prowess may help a country reap the financial and employment benefits of leadership in a strategic industry. A cutting-edge scientific or technological center can create a variety of spillovers that promote innovation, quality, skills acquisition, and productivity in industries located nearby; such spillovers are the reason that high-tech firms often locate in clusters or near leading universities.13  To the extent that countries gain from leadership in technologically vibrant industries or from local spillovers arising from inventive activity, the case for government support of R&D within a given country is stronger.14    How Should Governments Provide Support for Research and Development?        The economic arguments for government support of innovation generally imply that governments should focus particularly on fostering basic, or foundational, research. The most applied and commercially relevant research is likely to be done in any case by the private sector, as private firms have strong incentives to determine what the market demands and to meet those needs.15           If the government decides to foster R&D, what policy instruments should it use? A number of potential tools exist, including direct funding of government research facilities, grants to university or private-sector researchers, contracts for specific projects, and tax incentives. Moreover, within each of these categories, many choices must be made about how to structure specific programs. Unfortunately, economists know less about how best to channel public support for research and development than we would like; it is good news, therefore, that considerable new work is being done on this topic, including recent initiatives on science policy by the National Science Foundation.16           Certainly, the characteristics of the research to be supported are important for the choice of the policy tool. Direct government support or conduct of the research may make the most sense if the project is highly focused and large-scale, possibly involving the need for coordination of the work of many researchers and subject to relatively tight time frames. Examples of large-scale, government-funded research include the space program and the construction and operation of \\\"atom-smashing\\\" facilities for experiments in high-energy physics. Outside of such cases, which often are linked to national defense, a more decentralized model that relies on the ideas and initiative of individual researchers or small research groups may be most effective. Grants to, or contracts with, researchers are the typical vehicle for such an approach.              Of course, the success of decentralized models for government support depends on the quality of execution. Some critics believe that funding agencies have been too cautious, focusing on a limited number of low-risk projects and targeting funding to more-established scientists at the expense of researchers who are less established or less conventional in their approaches. Supporting multiple approaches to a given problem at the same time increases the chance of finding a solution; it also increases opportunities for cooperation or constructive competition.17  The challenge to policymakers is to encourage experimentation and a greater diversity of approaches while simultaneously ensuring that an effective peer-review process is in place to guide funding toward high-quality science.18           However it is channeled, government support for innovation and R&D will be more effective if it is thought of as a long-run investment. Gestation lags from basic research to commercial application to the ultimate economic benefits can be very long. The Internet revolution of the 1990s was based on scientific investments made in the 1970s and 1980s. And today's widespread commercialization of biotechnology was based, in part, on key research findings developed in the 1950s. Thus, governments that choose to provide support for R&D are likely to get better results if that support is stable, avoiding a pattern of feast or famine.19           Government support for R&D presumes sufficient national capacity to engage in effective research at the desired scale. That capacity, in turn, depends importantly on the supply of qualified scientists, engineers, and other technical workers. Although the system of higher education in the United States remains among the finest in the world, numerous concerns have been raised about this country's ability to ensure adequate supplies of highly skilled workers. For example, some observers have suggested that bottlenecks in the system limit the number of students receiving undergraduate degrees in science and engineering: Surveys of student intentions in the United States consistently show that the number of students who seek to major in science and engineering exceeds the number accommodated by a wide margin, and waitlists to enroll in technical courses have trended up relative to those in other fields, as has the time required to graduate with a science and engineering degree.20  Moreover, although the relative wages of science and engineering graduates have increased significantly over the past few decades, the share of undergraduate degrees awarded in science and engineering has been roughly stable.21  At the same time, critics of K-12 education in the United States have long argued that not enough is being done to encourage and support student interest in science and mathematics. Taken together, these trends suggest that more could be done to increase the number of U.S. students entering scientific and engineering professions.              At least when viewed from the perspective of a single nation, immigration is another path for increasing the supply of highly skilled scientists and researchers. The technological leadership of the United States was and continues to be built in substantial part on the contributions of foreign-born scientists and engineers, both permanent immigrants and those staying in the country only for a time. And, contrary to the notion that highly trained and talented immigrants displace native-born workers in the labor market, scientists and other highly trained professionals who come to the United States tend to enhance the productivity and employment opportunities of those already here, reflecting gains from interaction and cooperation and from the development of critical masses of researchers in technical areas. More generally, technological progress and innovation around the world would be enhanced by lowering national barriers to international scientific cooperation and collaboration.       Conclusion        In the abstract, economists have identified some persuasive justifications for government policies to promote R&D activities, especially those related to basic research. In practice, we know less than we would like about which policies work best. A reasonable strategy for now may be to continue to use a mix of policies to support R&D while taking pains to encourage diverse and even competing approaches by the scientists and engineers receiving support.              We should also keep in mind that funding R&D activity is only part of what the government can do to foster innovation. As I noted, ensuring a sufficient supply of individuals with science and engineering skills is important for promoting innovation, and this need raises questions about education policy as well as immigration policy. Other key policy issues include the definition and enforcement of intellectual property rights and the setting of technical standards. Finally, as someone who spends a lot of time monitoring the economy, let me put in a plug for more work on finding better ways to measure innovation, R&D activity, and intangible capital. We will be more likely to promote innovative activity if we are able to measure it more effectively and document its role in economic growth.        References        Arrow, Kenneth J. (1962). \\\"The Economic Implications of Learning by Doing,\\\" Review of Economic Studies, vol. 29 (3), pp. 155-73.              Battelle and R&D Magazine (2010). \\\"2011 Global R&D Funding Forecast,\\\" R&D Magazine, December, www.battelle.org/aboutus/rd/2011.pdf.              Corrado, Carol, Charles Hulten, and Daniel Sichel (2009). \\\"Intangible Capital and U.S. Economic Growth,\\\"  The Review of Income and Wealth, vol. 55 (September), pp.661-85.              Corrado, Carol, and Charles R. Hulten (2010). \\\"How Do You Measure a 'Technological Revolution'?\\\"  American Economic Review, vol. 100 (May), pp. 99-104.              David, Paul A., Bronwyn H. Hall, and Andrew A. Toole (2000). \\\"Is Public R&D a Complement or Substitute for Private R&D? A Review of the Econometric Evidence,\\\"  Research Policy, vol. 29 (4-5), pp. 497-529.              Freeman, Richard, and John Van Reenen (2009). \\\"What if Congress Doubled R&D Spending on the Physical Sciences?\\\" Innovation Policy and the Economy, vol. 9, pp.1-38.              Greenstein, Shane (2007). \\\"Economic Experiments and Neutrality in Internet Access,\\\" Innovation Policy and the Economy, vol. 8, pp. 59-109.              Griliches, Zvi (1958). \\\"Research Cost and Social Returns: Hybrid Corn and Related Innovations,\\\"  Journal of Political Economy, vol. 66 (5), pp. 419-31.              Griliches, Zvi (1992). \\\"The Search for R&D Spillovers,\\\"  Scandinavian Journal of Economics, vol. 94, supplement, pp. 29-47.              Hall, Bronwyn H., Jacques Mairesse, and Pierre Mohnen (2009). \\\"Measuring the Returns to R&D,\\\"  National Bureau of Economic Research Working Paper 15622. Cambridge, Mass.: NBER.              Hall, Bronwyn, and John Van Reenen (2001). \\\"How Effective are Fiscal Incentives for R&D? A Review of the Evidence,\\\"  Research Policy, vol. 29 (4-5), pp. 449-69.              Huang, Kenneth G., and Fiona E. Murray (2010). \\\"Entrepreneurial Experiments in Science Policy: Analyzing the Human Genome Project,\\\"  Research Policy, vol.39(5), pp. 567-82.              Jaffe, Adam B. (1989). \\\"Real Effects of Academic Research,\\\"  American Economic Review, vol. 79 (5), pp. 957-70.              Jones, Charles I., and John C. Williams (1998). \\\"Measuring the Social Return to R&D,\\\"  Quarterly Journal of Economics, vol. 113 (4), pp. 1119-35.              Lakdawalla, Darius, Eric Sun, Anupam Jena, Carolina Reyes, Dana Golman, and Tomas Philipson (2010). \\\"An Economic Evaluation of the War on Cancer,\\\"  Journal of Health Economics, vol. 29(3), pp. 333-46.              Lane, Julia (2009). \\\"Assessing the Impact of Science Funding,\\\" Science, vol. 324 (June), pp. 1273-75.              Lucas, Jr., Robert E. (1988). \\\"On the Mechanics of Economic Development,\\\"  Journal of Monetary Economics, vol. 22 (1), pp. 3-42.              National Science Board (2010). \\\"Science and Engineering Indicators: 2010.\\\" Arlington, Va.: National Science Foundation.              National Science Foundation (2010). \\\"National Patterns of R&D Resources: 2008.\\\" Arlington, Va.: NSF.              Nelson, R. R. (1959). \\\"The Simple Economics of Basic Scientific Research,\\\"  Journal of Political Economy, vol. 67 (3), pp. 297-306.              Nelson, R. R. (1961). \\\"Uncertainty, Learning, and the Economics of Parallel Research and Development Efforts,\\\" Review of Economics and Statistics, vol. 43, pp.351\\u00e2\\u0080\\u009164.              Noll, Roger G. (2003). \\\"Federal R&D in the Antiterrorist Era,\\\" Innovation Policy and the Economy, vol. (3), pp. 61-89.              Organisation for Economic Co-operation and Development (2010). \\\"Main Science and Technology Indicators,\\\" OECD Science, Technology, and R&D Statistics (database), http://dx.doi.org/10.1787/data-00182-en\\u00ad\\u00ad.              Romer, Paul M. (2000). \\\"Should the Government Subsidize Supply or Demand in the Market for Scientists and Engineers?\\\" Innovation Policy and the Economy, vol. 1, pp. 221-52.        1. Lucas (1988), p. 5. Return to text   2. See Corrado, Hulten, and Sichel (2009) and Corrado and Hulten (2010). Return to text   3. For an early version of this argument see Arrow (1962). Return to text   4. See Griliches (1958). Return to text   5. See Lakdawalla et al. (2010). Return to text   6. In 2010, total U.S. R&D spending as a share of GDP was estimated to be 2.8 percent (Battelle and R&D Magazine, 2010).  For earlier data, see National Science Foundation (2010), table 13. Return to text   7. The federal share of total U.S. R&D spending was 26 percent in 2008, while the private-sector share was 67 percent. The remaining funding comes from universities and colleges, private foundations, and other nonprofits. Three decades prior, the federal and private-sector shares were 50 percent and 46 percent respectively. See table 5 in National Science Foundation (2010). Return to text   8. See tables 6 through 8 in National Science Foundation (2010). Return to text   9. For example, see Jones and Williams (1998).  Griliches (1992) reports estimates of the average social return that cluster in the range of 20 to 60 percent a year.  See also Hall, Mairesse, and Mohnen (2009).  The estimates in the literature are typically for average social returns; the return to an additional dollar of R&D spending, which is the relevant variable for determining whether further spending is warranted, may be lower than the average return. Return to text   10. Among Organisation for Economic Co-operation and Development (OECD) nations, the United States is estimated to have spent the most on R&D in 2010, followed by Japan, Germany, South Korea, France, and the United Kingdom (Battelle and R&D Magazine, 2010).  As a percentage of GDP, Israel ranked first among OECD nations in R&D spending, followed by Finland, Sweden, Japan, and South Korea (OECD, 2010). Return to text   11. China's gross R&D expenditures are estimated to have increased more than five-fold between 1997 and 2007 and, by 2010, are estimated to have been roughly on par with expenditures in Japan, the world's second-largest spender on R&D, although they were still about one-third the expenditures in the United States.  See National Science Foundation (2010) and Battelle and R&D Magazine (2010). Return to text   12. See OECD (2010). Return to text   13. See Jaffe (1989). Return to text   14. Another argument for fostering domestic innovation is that it may have national security implications. Return to text   15. For example, see David, Hall, and Toole (2000) and Hall and van Reenen (2001). Return to text   16. See Lane (2009). Return to text   17. For early work in this area, see Nelson (1959, 1961). Return to text   18. See Greenstein (2007), Huang and Murray (2010), and Freeman and van Reenen (2009). Return to text   19. See Freeman and van Reenen (2009). Return to text   20. For a discussion of why these bottlenecks persist, see Romer (2000) and Noll (2003). Return to text   21. See National Science Board (2010), tables 2-6 and 2-12. Return to text  \",\n          \"         Thank you. I don't want to delay what I expect to be a lively discussion, so my opening remarks will be brief. I'll summarize the considerable progress since 2008 to make the global financial system more resilient, and then offer my views on what more should be done.       A Brief Retrospective on Financial Regulatory Progress        It's useful to divide the regulatory reform work of the past few years into three categories: strengthening the basic bank regulatory framework, reducing the threat to financial stability posed by systemically important financial institutions (SIFIs), and strengthening core financial markets and infrastructure.       Bank Regulatory Basics The financial crisis revealed that banking firms around the world did not have enough high-quality capital to absorb losses during periods of severe stress. The Basel III reforms promulgated in 2010 by the Basel Committee on Banking Supervision will increase the amount of regulatory capital required to be held by global banking firms and improve the loss-absorbing quality of that capital. U.S. banking agencies issued proposals last summer to implement BaselIII's capital reforms, have reviewed comments, and are preparing the final regulation.              We also were reminded during the crisis that a banking firm--particularly one with significant amounts of short-term wholesale funding--can become illiquid before it becomes insolvent, as creditors run in the face of uncertainty about the firm's viability. The Basel Committee generated two liquidity standards to mitigate these risks: a Liquidity Coverage Ratio with a 30-day time horizon and a Net Stable Funding Ratio (NSFR) with a one-year time horizon. The U.S. banking agencies expect to issue a proposal to implement the Liquidity Coverage Ratio later this year, and we are working with the Basel Committee now to review the structure and parameters of the NSFR.       Special Measures for SIFIs The financial crisis also made clear that international bank rules should focus more on the potential threat to financial stability posed by SIFIs. In this arena, the efforts of the Federal Reserve and the global regulatory community have focused principally on (1) producing stronger regulations to reduce the probability of default of such firms to levels that are meaningfully below those for less systemically important financial firms, and (2) creating a resolution regime to reduce the losses to the broader financial system and economy upon the failure of a SIFI. The goal has been to compel SIFIs to internalize the costs their failure would impose on society and to offset any implicit subsidy that such firms may enjoy due to market perceptions that they are too-big-to-fail.              The effort to reduce the likelihood of SIFI failure has worked through several channels. The Basel Committee in 2011 agreed on a framework of graduated common equity risk-based capital surcharges for systemic firms, and we are working toward proposing rules to implement this surcharge framework in the United States. Consistent with the Dodd-Frank Wall Street Reform and Consumer Protection Act, the Federal Reserve proposed a broad set of enhanced prudential standards for large U.S. bank holding companies in December 2011. The Federal Reserve also now performs rigorous annual supervisory stress tests and capital plan reviews of the largest banking firms to ensure that these firms can continue to operate and lend through times of severe economic and financial stress.              In addition, in December the Federal Reserve proposed enhanced prudential standards for foreign banks under the Dodd-Frank Act. The proposal generally would require foreign banks with a large U.S. presence to organize their U.S. subsidiaries under a single intermediate holding company that would be subject to the same capital and liquidity requirements as U.S. bank holding companies. The proposal is designed to increase the resiliency and resolvability of the U.S. operations of foreign banks, help protect U.S. and global financial stability, and promote competitive equity for all large banking firms operating in the United States.              In addition to reducing the probability of SIFI failure, global regulators also have striven to reduce the potential damage to the financial system and the economy if a failure of a major financial firm were to occur. The Financial Stability Board (FSB) has proposed new standards for statutory resolution frameworks, firm-specific resolution planning, and cross-border cooperation. In the United States, Dodd-Frank created an OrderlyLiquidation Authority and required all large bank holding companies to develop resolution plans. Other countries that are home to large global banking firms are working along similar lines.       Strengthening Resilience of Financial Markets Reducing the likelihood of a severe financial crisis also requires strengthening the capacity of our financial markets and infrastructure to absorb shocks. Toward that end, U.S. and global regulators have worked to improve the transparency and stability of the over-the-counter derivatives markets and to strengthen the oversight of financial market utilities and other critical financial infrastructure. In particular, U.S. agencies are working together to address structural weaknesses in the triparty repo market and in money market mutual funds.       The Unfinished Business of Financial Regulatory Reform        Let me now look forward. Although we have made the financial system safer, important work remains in each of the three areas I have highlighted: the basic bank regulatory apparatus, addressing the problems posed by SIFIs, and limiting risks in shadow banking and financial markets. Let me outline what I consider the principal pieces of unfinished business in global financial regulatory reform.       Strengthening the Basic Bank Regulatory Framework First, we must actively support the continuing efforts of the Basel Committee to strengthen the foundations of global bank regulation. Key Basel Committee work in the years ahead will include finalizing the BaselIII leverage ratio and NSFR, completing the comprehensive review of trading book capital requirements, adopting a global large-exposure regime, and increasing the comparability of risk-based capital requirements across banks and across countries. I want to highlight the importance of the committee's work to explore ways to increase the standardization and comparability of the risk-based capital rules for global banks. The stability of the global financial system depends critically on the capital adequacy of global banks, the capital adequacy of global banks depends critically on the Basel III reforms, and much of the good progress in the BaselIII reforms rests on the integrity and strength of the risk weights.       Reducing the Probability of SIFI Failure As this brief history has highlighted, tougher prudential regulation and supervision have substantially reduced the probability of a SIFI failure. Ending too-big-to-fail will require steadfast implementation by global regulators over the next few years of the work already in train. Some have proposed ideas for more sweeping restructuring of the banking system to solve too-big-to-fail. These ideas include resurrection of Glass-Steagall-style separation of commercial banking from investment banking and imposition of bank size limits. I am not persuaded that such blunt approaches would be the most efficient ways to address the too-big-to-fail problem. But at the same time I'm not convinced that the existing SIFI regulatory work plan, which moves in the right direction, goes far enough. As my colleagues Governors Tarullo and Stein have noted in recent speeches, it may be appropriate to go beyond the capital surcharges put forward by the Basel Committee. As they suggest, fully offsetting any remaining too-big-to-fail subsidies and forcing full internalization of the social costs of a SIFI failure may require either a steeper capital surcharge curve or some other mechanism for requiring that additional capital be held by firms that potentially pose the greatest risks to financial stability.       Improving SIFI Resolvability There are at least three key obstacles that policymakers must overcome to maximize the prospects for an orderly resolution of a global financial firm. First, each major jurisdiction must adopt a statutory resolution regime for financial firms consistent with the FSB's Key Attributes.1 The United States has been a leader in this regard, and I hope that other countries that have not yet adopted a compliant resolution regime will do so promptly. Second, policymakers need to ensure that all SIFIs maintain a sufficient amount of total pre-failure and post-failure loss absorption capacity. In consultation with the Federal Deposit Insurance Corporation, the Federal Reserve is considering the merits of a regulatory requirement that the largest, most complex U.S. banking firms maintain a minimum amount of long-term unsecured debt outstanding. Such a requirement could enhance the prospects for an orderly SIFI resolution. Switzerland, the United Kingdom, and the European Union are moving forward on similar requirements, and it may be useful to work toward an international agreement on minimum total loss absorbency requirements for global SIFIs. Third, it is time for policymakers to find concrete and credible solutions to the thorny cross-border obstacles that impede the orderly resolution of a globally systemic financial firm.       Reducing Systemic Risk in the Shadow Banking System Important as banking reforms may be, it is worth recalling that the trigger for the acute phase of the financial crisis was the rapid unwinding of large amounts of short-term wholesale funding that had been made available to highly leveraged and/or maturity-transforming financial firms that were not subject to consolidated prudential supervision.              Many of the key problems related to shadow banking and their potential solutions are still being debated domestically and internationally. But I believe the path forward is reasonably clear. We need to increase the transparency of shadow banking markets so that authorities can monitor for signs of excessive leverage and unstable maturity transformation outside regulated banks. We also need to take further steps to reduce the risk of runs on money market mutual funds. In addition, we need to further ameliorate risks in the settlement process for triparty repo agreements, including through continued reductions in the amount of intraday credit provided by the clearing banks.              But even when we accomplish these reforms, more work will remain to reduce systemic risk in the short-term wholesale funding markets that shadow banking relies on. A major source of unaddressed risk emanates from the large volume of short-term securities financing transactions (SFTs)--repos, reverse repos, securities borrowing and lending transactions, and margin loans--engaged in by broker-dealers, money market funds, hedge funds, and other shadow banks. Regulatory reform mostly passed over these transactions, I suspect, because SFTs appear safe from a microprudential perspective. But SFTs, particularly large matched books of SFTs, create sizable macroprudential risks, including large negative externalities from dealer defaults and from asset fire sales. The existing bank and broker-dealer regulatory regimes have not been designed to materially mitigate these systemic risks. The global regulatory community should focus significant amounts of energy, now, to attack this problem. The perfect solution may not yet be clear but possible options are evident: raising bank and broker-dealer capital or liquidity requirements on SFTs, or imposing minimum margin requirements on some or all SFTs.              I'll stop there, and I look forward to the discussion.                        1. Financial Stability Board (2011), Key Attributes of Effective Resolution Regimes for Financial Institutions (PDF)  (Washington, D.C.: Financial Stability Board, October). Return to text                 \",\n          \"Thank you for this opportunity to address the members of the Colorado Forum, which has been an arena for thoughtful discussion and debate for more than 40 years. Today I would like to discuss a subject that I expect is of great interest to Coloradans and others: the outlook for the U.S. economy in 2021. I believe that the economy has gained momentum in the past several months and is well positioned to grow strongly in 2021. Nevertheless, we have further to go to recover from the economic damage inflicted by the COVID-19 pandemic, and risks remain.\\nAs we all know, starting in late February or March of last year, widespread economic and social lockdowns and other effects of the pandemic caused the swiftest and deepest contraction in employment and economic activity since the Great Depression. Money markets, the Treasury market, and other parts of the financial system seized up, and there were fears of another severe financial crisis. The Federal Reserve stepped in quickly to assist, reviving several lending facilities used in the previous crisis and creating several new facilities. We also cut short-term interest rates to near zero and began purchasing large quantities of Treasury and agency securities to help sustain the flow of credit to households and businesses. Congress and the Administration also worked together to provide effective and timely support. Calm was restored in financial markets, and employment and output began growing in May, but it was a very deep hole to fill. Since that time, progress in controlling the pandemic has been a dominant force driving the economic recovery. Rapid progress last summer gave way to slower economic growth over the turn of the year, as infection rates once again surged. But after a substantial pickup in vaccinations and steep declines in virus-related hospitalizations and deaths, the economic outlook has brightened. Job creation had stalled over the winter months but improved again starting in February. Over the past year, we've seen a return of nearly 14 million jobs.\\nAnother significant factor contributing to the recovery is the resilience of private-sector businesses. Our economic recovery has been more rapid and stronger than many forecasters expected, partly due to the ability of businesses to adapt to conditions that none of them had planned for, and few even imagined could be possible. Initially, government assistance was important, but millions of businesses were at risk of closure. Instead, many are open and growing today due to the resourcefulness and determination of entrepreneurs and workers and their ability to adjust business plans and operations to deal with the effects of social-distancing and operating restrictions. Of course, technology helped a great deal, but businesses were able to find many other ways to maintain operations and sustain their connections to customers. In writing the history of these eventful times, I hope that the efforts of these businesses and the strength of America's market-based economy get the considerable credit they deserve.\\nRecently, the incoming data indicate that economic activity is on an upswing, and the risks of more negative outcomes\\u00e2\\u0080\\u0094especially those from COVID-19\\u00e2\\u0080\\u0094appear to be easing. Vaccinations and the easing of operating and social-distancing restrictions are boosting consumer and business confidence, with the results clear to see in the data on spending. Retail sales surged nearly 10 percent in March and are actually above the trendline that was interrupted by the pandemic a year ago. One particularly encouraging signal in that report was a sharp expansion in spending on food services. I hope this is an indication that consumers are finally returning to in-person dining as spring arrives and local authorities allow restaurants to accommodate more diners. If so, and my fingers are crossed, it is a very good sign of further progress in one of the sectors hardest hit by the pandemic.\\nIn the job market, job gains rebounded to 916,000 in March. At our March meeting, my view was broadly in line with the median of projections of other members of the Federal Open Market Committee (FOMC), which anticipated the economy would grow between 5.8 percent and 6.6 percent in 2021. But the outlook has improved since then, and it now appears that real gross domestic product may increase close to or even above the higher end of that range. This annual increase would be the largest in 36 years.\\nLikewise, the FOMC median in March was for unemployment to fall to 4.5 percent at the end of 2021, and now it seems possible that it may fall even further. With the economy continuing to reopen, I expect the pace of job creation to remain unusually strong over the spring and summer. Over the past few months many schools have resumed some form of in-person learning, which should translate into a rebound in labor force participation as more parents overseeing virtual education and child care are able to increase hours or return to the workforce.\\nThe biggest risk to the outlook continues to be the course of the pandemic. I see good reasons to be optimistic. Vaccinations are proceeding at a rapid pace, and this progress is supporting decisions by state and local leaders to relax economic restrictions. Most importantly, deaths related to the virus have continued to fall steadily and are at roughly the rate as in early October of last year. I remain hopeful that progress in the economic recovery can stay ahead of new challenges that might emerge, like the spread of new virus variants. That would allow states and localities to continue easing economic and social distancing restrictions and encourage consumers and businesses to return to normal activities. I understand that in Colorado, for example, officials are considering lifting social-distancing restrictions on individuals and businesses. I would be interested to hear from this group about how businesses in Colorado have been faring and whether they have seen an improvement in demand as the pandemic conditions are easing.\\nWhile Iamoptimistic about the ongoing recovery, one lesson of the past year is the significant degree of uncertainty about the course of the virus and its effect on the economy. We experienced periods of considerable progress last year, but we saw some of that progress overtaken by waves of the infection late in the year. Likewise, economic growth rebounded much more quickly than many had expected, but then slowed late in 2020 before regaining speed following the availability of the vaccine. Even with recent encouraging reports on food services, activity in the travel, leisure, and hospitality sectors is still severely compromised, but is showing glimmers of activity. It may be some time before we know whether old habits will resume or new habits have developed that may define a post-pandemic new normal. As I noted in a recent speech, I am particularly concerned about the longer-term effect on small businesses, many of which have held on with government aid and loan forbearance programs that will soon expire.1It will be several months before we know the final count of permanent small business closures from 2020, but it could be more than we expect.\\nI will now turn to how the Federal Reserve is proceeding in light of the strong signals of momentum building in the economy. The economic recovery is not yet complete, and the uncertain course of the pandemic still presents risks in the near term, which is why my colleagues and I on the FOMC decided last week to maintain our highly accommodative stance of monetary policy. Despite the progress to date and the signs of acceleration in the recovery, employment is still considerably short of where it was when the pandemic disrupted the economy and it is well below where it should be, considering the pre-pandemic trend. In particular, our maximum employment mandate is intended as a broad and inclusive goal increasing employment and opportunity, but I remain concerned that employment gains for some minority groups have lagged behind those of others. While job creation has been and is expected to remain strong, the pace will eventually slow as the share of those who have been unemployed for the longer-term increases among those who are looking for work. We are making good progress toward our full employment goal, but we still have a long way to go, and risks remain.\\nThis brings me to the other side of our policy mandate. Over the next several months, I expect that headline inflation measures will move above our long-run target of 2 percent. A main reason I expect this outcome is simply the fact that the very low inflation readings during last spring's deep economic contraction will drop from the usual calculation of 12-month price changes. But in addition, the unusually rapid rebound in economic activity that we've seen, along with the pandemic-driven shift towards goods purchases, has led to supply-chain bottlenecks in a number of areas, which in turn have pushed up prices for many goods. One prominent example is with semiconductor producers and their need to dramatically alter the mix of production to meet demands of the high-tech and automotive industries. Although I expect these upward price pressures to ease after the temporary supply bottlenecks are resolved, the exact timing of that dynamic is uncertain. If the supply bottlenecks prove to be more long-lasting than currently expected, I will adjust my views on the inflation outlook accordingly. At this point, the risk that inflation remains persistently above our long-run target of 2 percent still appears small.\\nIn summary, let me say that I am encouraged by the recent pace of the economic recovery, and I remain optimistic that this strength will continue in the coming months. One reason for my optimism is that businesses have been effective in responding to the challenges posed by the pandemic and by economic restrictions implemented in efforts to contain it. We really can't know how the pandemic will proceed and how that will affect the U.S. economy, but I think we are currently on a good path, and our policy is in a good place. Thank you again for inviting me to speak to you today, and I would be happy to respond to your questions.\\n1. See Michelle W. Bowman (2021), \\\"The Economic Outlook and Prospects for Small Business,\\\" speech delivered at the Economic Club of Oklahoma, Oklahoma City, Oklahoma (via webcast), March 22.Return to text\"\n        ],\n        \"semantic_type\": \"\",\n        \"description\": \"\"\n      }\n    },\n    {\n      \"column\": \"date_cible\",\n      \"properties\": {\n        \"dtype\": \"date\",\n        \"min\": \"1996-07-01 00:00:00\",\n        \"max\": \"2025-01-01 00:00:00\",\n        \"num_unique_values\": 330,\n        \"samples\": [\n          \"1997-06-01 00:00:00\",\n          \"2010-10-01 00:00:00\",\n          \"2008-09-01 00:00:00\"\n        ],\n        \"semantic_type\": \"\",\n        \"description\": \"\"\n      }\n    }\n  ]\n}",
              "type": "dataframe",
              "variable_name": "df"
            },
            "text/html": [
              "\n",
              "  <div id=\"df-a5a2d51d-4229-4fa6-8624-2d98ea47550f\" class=\"colab-df-container\">\n",
              "    <div>\n",
              "<style scoped>\n",
              "    .dataframe tbody tr th:only-of-type {\n",
              "        vertical-align: middle;\n",
              "    }\n",
              "\n",
              "    .dataframe tbody tr th {\n",
              "        vertical-align: top;\n",
              "    }\n",
              "\n",
              "    .dataframe thead th {\n",
              "        text-align: right;\n",
              "    }\n",
              "</style>\n",
              "<table border=\"1\" class=\"dataframe\">\n",
              "  <thead>\n",
              "    <tr style=\"text-align: right;\">\n",
              "      <th></th>\n",
              "      <th>date_speech</th>\n",
              "      <th>title</th>\n",
              "      <th>speaker</th>\n",
              "      <th>text</th>\n",
              "      <th>date_cible</th>\n",
              "    </tr>\n",
              "  </thead>\n",
              "  <tbody>\n",
              "    <tr>\n",
              "      <th>0</th>\n",
              "      <td>1996-06-13</td>\n",
              "      <td>Bank supervision in a world economy</td>\n",
              "      <td>Chairman Alan Greenspan</td>\n",
              "      <td>Remarks by Chairman Alan Greenspan Bank superv...</td>\n",
              "      <td>1996-07-01</td>\n",
              "    </tr>\n",
              "    <tr>\n",
              "      <th>1</th>\n",
              "      <td>1996-06-18</td>\n",
              "      <td>Developments in electronic money and banking</td>\n",
              "      <td>Governor Edward W. Kelley, Jr.</td>\n",
              "      <td>Remarks by Governor Edward W. Kelley, Jr. Deve...</td>\n",
              "      <td>1996-07-01</td>\n",
              "    </tr>\n",
              "  </tbody>\n",
              "</table>\n",
              "</div>\n",
              "    <div class=\"colab-df-buttons\">\n",
              "\n",
              "  <div class=\"colab-df-container\">\n",
              "    <button class=\"colab-df-convert\" onclick=\"convertToInteractive('df-a5a2d51d-4229-4fa6-8624-2d98ea47550f')\"\n",
              "            title=\"Convert this dataframe to an interactive table.\"\n",
              "            style=\"display:none;\">\n",
              "\n",
              "  <svg xmlns=\"http://www.w3.org/2000/svg\" height=\"24px\" viewBox=\"0 -960 960 960\">\n",
              "    <path d=\"M120-120v-720h720v720H120Zm60-500h600v-160H180v160Zm220 220h160v-160H400v160Zm0 220h160v-160H400v160ZM180-400h160v-160H180v160Zm440 0h160v-160H620v160ZM180-180h160v-160H180v160Zm440 0h160v-160H620v160Z\"/>\n",
              "  </svg>\n",
              "    </button>\n",
              "\n",
              "  <style>\n",
              "    .colab-df-container {\n",
              "      display:flex;\n",
              "      gap: 12px;\n",
              "    }\n",
              "\n",
              "    .colab-df-convert {\n",
              "      background-color: #E8F0FE;\n",
              "      border: none;\n",
              "      border-radius: 50%;\n",
              "      cursor: pointer;\n",
              "      display: none;\n",
              "      fill: #1967D2;\n",
              "      height: 32px;\n",
              "      padding: 0 0 0 0;\n",
              "      width: 32px;\n",
              "    }\n",
              "\n",
              "    .colab-df-convert:hover {\n",
              "      background-color: #E2EBFA;\n",
              "      box-shadow: 0px 1px 2px rgba(60, 64, 67, 0.3), 0px 1px 3px 1px rgba(60, 64, 67, 0.15);\n",
              "      fill: #174EA6;\n",
              "    }\n",
              "\n",
              "    .colab-df-buttons div {\n",
              "      margin-bottom: 4px;\n",
              "    }\n",
              "\n",
              "    [theme=dark] .colab-df-convert {\n",
              "      background-color: #3B4455;\n",
              "      fill: #D2E3FC;\n",
              "    }\n",
              "\n",
              "    [theme=dark] .colab-df-convert:hover {\n",
              "      background-color: #434B5C;\n",
              "      box-shadow: 0px 1px 3px 1px rgba(0, 0, 0, 0.15);\n",
              "      filter: drop-shadow(0px 1px 2px rgba(0, 0, 0, 0.3));\n",
              "      fill: #FFFFFF;\n",
              "    }\n",
              "  </style>\n",
              "\n",
              "    <script>\n",
              "      const buttonEl =\n",
              "        document.querySelector('#df-a5a2d51d-4229-4fa6-8624-2d98ea47550f button.colab-df-convert');\n",
              "      buttonEl.style.display =\n",
              "        google.colab.kernel.accessAllowed ? 'block' : 'none';\n",
              "\n",
              "      async function convertToInteractive(key) {\n",
              "        const element = document.querySelector('#df-a5a2d51d-4229-4fa6-8624-2d98ea47550f');\n",
              "        const dataTable =\n",
              "          await google.colab.kernel.invokeFunction('convertToInteractive',\n",
              "                                                    [key], {});\n",
              "        if (!dataTable) return;\n",
              "\n",
              "        const docLinkHtml = 'Like what you see? Visit the ' +\n",
              "          '<a target=\"_blank\" href=https://colab.research.google.com/notebooks/data_table.ipynb>data table notebook</a>'\n",
              "          + ' to learn more about interactive tables.';\n",
              "        element.innerHTML = '';\n",
              "        dataTable['output_type'] = 'display_data';\n",
              "        await google.colab.output.renderOutput(dataTable, element);\n",
              "        const docLink = document.createElement('div');\n",
              "        docLink.innerHTML = docLinkHtml;\n",
              "        element.appendChild(docLink);\n",
              "      }\n",
              "    </script>\n",
              "  </div>\n",
              "\n",
              "\n",
              "<div id=\"df-e3463801-f2b3-4edb-b21e-1e3884ccdc74\">\n",
              "  <button class=\"colab-df-quickchart\" onclick=\"quickchart('df-e3463801-f2b3-4edb-b21e-1e3884ccdc74')\"\n",
              "            title=\"Suggest charts\"\n",
              "            style=\"display:none;\">\n",
              "\n",
              "<svg xmlns=\"http://www.w3.org/2000/svg\" height=\"24px\"viewBox=\"0 0 24 24\"\n",
              "     width=\"24px\">\n",
              "    <g>\n",
              "        <path d=\"M19 3H5c-1.1 0-2 .9-2 2v14c0 1.1.9 2 2 2h14c1.1 0 2-.9 2-2V5c0-1.1-.9-2-2-2zM9 17H7v-7h2v7zm4 0h-2V7h2v10zm4 0h-2v-4h2v4z\"/>\n",
              "    </g>\n",
              "</svg>\n",
              "  </button>\n",
              "\n",
              "<style>\n",
              "  .colab-df-quickchart {\n",
              "      --bg-color: #E8F0FE;\n",
              "      --fill-color: #1967D2;\n",
              "      --hover-bg-color: #E2EBFA;\n",
              "      --hover-fill-color: #174EA6;\n",
              "      --disabled-fill-color: #AAA;\n",
              "      --disabled-bg-color: #DDD;\n",
              "  }\n",
              "\n",
              "  [theme=dark] .colab-df-quickchart {\n",
              "      --bg-color: #3B4455;\n",
              "      --fill-color: #D2E3FC;\n",
              "      --hover-bg-color: #434B5C;\n",
              "      --hover-fill-color: #FFFFFF;\n",
              "      --disabled-bg-color: #3B4455;\n",
              "      --disabled-fill-color: #666;\n",
              "  }\n",
              "\n",
              "  .colab-df-quickchart {\n",
              "    background-color: var(--bg-color);\n",
              "    border: none;\n",
              "    border-radius: 50%;\n",
              "    cursor: pointer;\n",
              "    display: none;\n",
              "    fill: var(--fill-color);\n",
              "    height: 32px;\n",
              "    padding: 0;\n",
              "    width: 32px;\n",
              "  }\n",
              "\n",
              "  .colab-df-quickchart:hover {\n",
              "    background-color: var(--hover-bg-color);\n",
              "    box-shadow: 0 1px 2px rgba(60, 64, 67, 0.3), 0 1px 3px 1px rgba(60, 64, 67, 0.15);\n",
              "    fill: var(--button-hover-fill-color);\n",
              "  }\n",
              "\n",
              "  .colab-df-quickchart-complete:disabled,\n",
              "  .colab-df-quickchart-complete:disabled:hover {\n",
              "    background-color: var(--disabled-bg-color);\n",
              "    fill: var(--disabled-fill-color);\n",
              "    box-shadow: none;\n",
              "  }\n",
              "\n",
              "  .colab-df-spinner {\n",
              "    border: 2px solid var(--fill-color);\n",
              "    border-color: transparent;\n",
              "    border-bottom-color: var(--fill-color);\n",
              "    animation:\n",
              "      spin 1s steps(1) infinite;\n",
              "  }\n",
              "\n",
              "  @keyframes spin {\n",
              "    0% {\n",
              "      border-color: transparent;\n",
              "      border-bottom-color: var(--fill-color);\n",
              "      border-left-color: var(--fill-color);\n",
              "    }\n",
              "    20% {\n",
              "      border-color: transparent;\n",
              "      border-left-color: var(--fill-color);\n",
              "      border-top-color: var(--fill-color);\n",
              "    }\n",
              "    30% {\n",
              "      border-color: transparent;\n",
              "      border-left-color: var(--fill-color);\n",
              "      border-top-color: var(--fill-color);\n",
              "      border-right-color: var(--fill-color);\n",
              "    }\n",
              "    40% {\n",
              "      border-color: transparent;\n",
              "      border-right-color: var(--fill-color);\n",
              "      border-top-color: var(--fill-color);\n",
              "    }\n",
              "    60% {\n",
              "      border-color: transparent;\n",
              "      border-right-color: var(--fill-color);\n",
              "    }\n",
              "    80% {\n",
              "      border-color: transparent;\n",
              "      border-right-color: var(--fill-color);\n",
              "      border-bottom-color: var(--fill-color);\n",
              "    }\n",
              "    90% {\n",
              "      border-color: transparent;\n",
              "      border-bottom-color: var(--fill-color);\n",
              "    }\n",
              "  }\n",
              "</style>\n",
              "\n",
              "  <script>\n",
              "    async function quickchart(key) {\n",
              "      const quickchartButtonEl =\n",
              "        document.querySelector('#' + key + ' button');\n",
              "      quickchartButtonEl.disabled = true;  // To prevent multiple clicks.\n",
              "      quickchartButtonEl.classList.add('colab-df-spinner');\n",
              "      try {\n",
              "        const charts = await google.colab.kernel.invokeFunction(\n",
              "            'suggestCharts', [key], {});\n",
              "      } catch (error) {\n",
              "        console.error('Error during call to suggestCharts:', error);\n",
              "      }\n",
              "      quickchartButtonEl.classList.remove('colab-df-spinner');\n",
              "      quickchartButtonEl.classList.add('colab-df-quickchart-complete');\n",
              "    }\n",
              "    (() => {\n",
              "      let quickchartButtonEl =\n",
              "        document.querySelector('#df-e3463801-f2b3-4edb-b21e-1e3884ccdc74 button');\n",
              "      quickchartButtonEl.style.display =\n",
              "        google.colab.kernel.accessAllowed ? 'block' : 'none';\n",
              "    })();\n",
              "  </script>\n",
              "</div>\n",
              "\n",
              "    </div>\n",
              "  </div>\n"
            ],
            "text/plain": [
              "  date_speech                                         title  \\\n",
              "0  1996-06-13           Bank supervision in a world economy   \n",
              "1  1996-06-18  Developments in electronic money and banking   \n",
              "\n",
              "                          speaker  \\\n",
              "0         Chairman Alan Greenspan   \n",
              "1  Governor Edward W. Kelley, Jr.   \n",
              "\n",
              "                                                text date_cible  \n",
              "0  Remarks by Chairman Alan Greenspan Bank superv... 1996-07-01  \n",
              "1  Remarks by Governor Edward W. Kelley, Jr. Deve... 1996-07-01  "
            ]
          },
          "execution_count": 62,
          "metadata": {},
          "output_type": "execute_result"
        }
      ],
      "source": [
        "df.head(2)"
      ]
    },
    {
      "cell_type": "markdown",
      "metadata": {
        "id": "LY7zMC2ix4xd"
      },
      "source": [
        "#### Labélisation"
      ]
    },
    {
      "cell_type": "code",
      "execution_count": 6,
      "metadata": {
        "id": "hYnS2FSbx4xd"
      },
      "outputs": [],
      "source": [
        "def process_fedfunds(df_rates):\n",
        "\n",
        "    df_rates[\"Diff\"] = df_rates[\"FEDFUNDS\"].diff()\n",
        "    df_rates[\"FEDFUNDS_classes\"] = df_rates[\"Diff\"].apply(\n",
        "        lambda x: \"Augmentation\" if x > 0 else (\"Baisse\" if x < 0 else \"Stable\"))\n",
        "    df_rates = pd.get_dummies(df_rates, columns=[\"FEDFUNDS_classes\"], prefix=\"FEDFUNDS\")\n",
        "    fedfunds_cols = [col for col in df_rates.columns if col.startswith(\"FEDFUNDS_\")]\n",
        "    df_rates[fedfunds_cols] = df_rates[fedfunds_cols].astype(int)\n",
        "    df_rates = df_rates.dropna(subset=[\"Diff\"])\n",
        "    mean_diff = df_rates[\"Diff\"].mean()\n",
        "    print(f\"Moyenne des variations du taux directeur : {mean_diff:.4f}\")\n",
        "\n",
        "    return df_rates\n"
      ]
    },
    {
      "cell_type": "code",
      "execution_count": 7,
      "metadata": {
        "colab": {
          "base_uri": "https://localhost:8080/"
        },
        "id": "BWbBR13Gx4xd",
        "outputId": "1cd87d90-084d-4057-f4b8-e00b0462050d"
      },
      "outputs": [
        {
          "name": "stdout",
          "output_type": "stream",
          "text": [
            "Moyenne des variations du taux directeur : -0.0033\n"
          ]
        }
      ],
      "source": [
        "df_rates = process_fedfunds(df_rates)"
      ]
    },
    {
      "cell_type": "markdown",
      "metadata": {
        "id": "iFQhLRSpx4xi"
      },
      "source": [
        "**Visualisation de l'évolution des taux directeurs de la FED**"
      ]
    },
    {
      "cell_type": "code",
      "execution_count": 23,
      "metadata": {
        "id": "IW-Nk1FKx4xi",
        "outputId": "cff0c509-ecb0-405c-8e3f-4514d9464eac"
      },
      "outputs": [
        {
          "data": {
            "image/png": "[encoded data removed]",
            "text/plain": [
              "<Figure size 2200x800 with 1 Axes>"
            ]
          },
          "metadata": {},
          "output_type": "display_data"
        }
      ],
      "source": [
        "plt.figure(figsize=(22, 8))\n",
        "plt.plot(df_rates[\"observation_date\"], df_rates[\"Diff\"], marker=\"o\", linestyle=\"-\", color=\"b\", alpha=0.7)\n",
        "plt.axhline(0, color=\"red\", linestyle=\"dashed\", linewidth=1, label=\"Stabilité (0)\")\n",
        "\n",
        "plt.gca().xaxis.set_major_locator(mdates.YearLocator())\n",
        "plt.gca().xaxis.set_major_formatter(mdates.DateFormatter(\"%Y\"))\n",
        "\n",
        "plt.xlabel(\"Date\")\n",
        "plt.ylabel(\"Variation du taux directeur (FEDFUNDS_diff)\")\n",
        "plt.title(\"Évolution des variations du taux directeur de la FED\")\n",
        "plt.xticks(rotation=45)\n",
        "plt.legend()\n",
        "plt.grid(True)\n",
        "\n",
        "plt.show()\n"
      ]
    },
    {
      "cell_type": "markdown",
      "metadata": {
        "id": "pmBoTDOHx4xj"
      },
      "source": [
        "**Distribution des classes**"
      ]
    },
    {
      "cell_type": "code",
      "execution_count": null,
      "metadata": {
        "id": "d66oVHQRx4xj",
        "outputId": "b4be6c24-2e95-4f2f-a23b-07bf34de0da4"
      },
      "outputs": [
        {
          "data": {
            "image/png": "[encoded data removed]",
            "text/plain": [
              "<Figure size 800x500 with 1 Axes>"
            ]
          },
          "metadata": {},
          "output_type": "display_data"
        }
      ],
      "source": [
        "class_counts = df_rates[[\"FEDFUNDS_Augmentation\", \"FEDFUNDS_Baisse\", \"FEDFUNDS_Stable\"]].sum()\n",
        "\n",
        "plt.figure(figsize=(8, 5))\n",
        "class_counts.plot(kind=\"bar\", color=[\"green\", \"red\", \"blue\"])\n",
        "plt.xlabel(\"Classes\")\n",
        "plt.ylabel(\"Nombre d'occurrences\")\n",
        "plt.title(\"Distribution des classes FEDFUNDS\")\n",
        "plt.xticks(rotation=0)\n",
        "plt.grid(axis=\"y\", linestyle=\"--\", alpha=0.7)\n",
        "plt.show()"
      ]
    },
    {
      "cell_type": "markdown",
      "metadata": {
        "id": "0ugaMPvjx4xk"
      },
      "source": [
        "### 5 - Concaténation des dataframes"
      ]
    },
    {
      "cell_type": "code",
      "execution_count": 8,
      "metadata": {
        "id": "5h2p1Vw-x4xk"
      },
      "outputs": [],
      "source": [
        "df_merged= pd.merge(df, df_rates, left_on=\"date_cible\", right_on=\"observation_date\", how=\"inner\")\n",
        "df_merged.drop(columns=[\"observation_date\"], inplace=True)\n",
        "df= df_merged"
      ]
    },
    {
      "cell_type": "code",
      "execution_count": null,
      "metadata": {
        "colab": {
          "base_uri": "https://localhost:8080/"
        },
        "id": "c21Hq6Vpx4xl",
        "outputId": "a47cb472-22be-40a8-a192-ed2a3396c1c9"
      },
      "outputs": [
        {
          "data": {
            "text/plain": [
              "(1821, 10)"
            ]
          },
          "execution_count": 26,
          "metadata": {},
          "output_type": "execute_result"
        }
      ],
      "source": [
        "df.shape"
      ]
    },
    {
      "cell_type": "markdown",
      "metadata": {
        "id": "X3kLwAsbx4xm"
      },
      "source": [
        "### 6 - Zoom EDA"
      ]
    },
    {
      "cell_type": "markdown",
      "metadata": {
        "id": "Sd9JTU7lx4xm"
      },
      "source": [
        "#### Fréquence stopwords corpus complet"
      ]
    },
    {
      "cell_type": "code",
      "execution_count": 9,
      "metadata": {
        "id": "gSnFt3Nqx4xn"
      },
      "outputs": [
        {
          "name": "stderr",
          "output_type": "stream",
          "text": [
            "[nltk_data] Downloading package stopwords to\n",
            "[nltk_data]     C:\\Users\\Lia\\AppData\\Roaming\\nltk_data...\n",
            "[nltk_data]   Package stopwords is already up-to-date!\n"
          ]
        }
      ],
      "source": [
        "nltk.download('stopwords')\n",
        "stop_words = set(stopwords.words('english'))"
      ]
    },
    {
      "cell_type": "code",
      "execution_count": null,
      "metadata": {
        "id": "h8fb5QmFx4xn"
      },
      "outputs": [],
      "source": [
        "def get_most_frequent_words(texts, stop_words):\n",
        "    all_words = []\n",
        "    for text in texts:\n",
        "        words = re.findall(r'\\b\\w+\\b', str(text).lower())\n",
        "        filtered_words = [word for word in words if word not in stop_words]  # Supprime les stopwords\n",
        "        all_words.extend(filtered_words)\n",
        "\n",
        "    return Counter(all_words).most_common(20)  # Retourne les 20 mots les plus fréquents\n",
        "common_words= get_most_frequent_words(df[\"text\"], stop_words)"
      ]
    },
    {
      "cell_type": "code",
      "execution_count": 11,
      "metadata": {
        "id": "iGPF8U_zx4xo",
        "outputId": "ddadf197-16f0-4865-e9a4-edb905a0e36b"
      },
      "outputs": [
        {
          "data": {
            "image/png": "[encoded data removed]",
            "text/plain": [
              "<Figure size 1000x500 with 1 Axes>"
            ]
          },
          "metadata": {},
          "output_type": "display_data"
        }
      ],
      "source": [
        "words, counts = zip(*common_words)\n",
        "\n",
        "plt.figure(figsize=(10, 5))\n",
        "plt.bar(words, counts, color=\"purple\")\n",
        "plt.xlabel(\"Mots\")\n",
        "plt.ylabel(\"Fréquence\")\n",
        "plt.title(\"Mots les plus fréquents dans les discours de la FED\")\n",
        "plt.xticks(rotation=45)\n",
        "plt.show()"
      ]
    },
    {
      "cell_type": "markdown",
      "metadata": {
        "id": "qwx2FgNsx4xw"
      },
      "source": [
        "#### Fréquence stopwords par classe"
      ]
    },
    {
      "cell_type": "code",
      "execution_count": null,
      "metadata": {
        "id": "zyY7VUYnx4xw"
      },
      "outputs": [],
      "source": [
        "texts_augmentation= df[df[\"FEDFUNDS_Augmentation\"] == 1][\"text\"]\n",
        "texts_baisse= df[df[\"FEDFUNDS_Baisse\"] == 1][\"text\"]\n",
        "texts_stable= df[df[\"FEDFUNDS_Stable\"] == 1][\"text\"]\n",
        "\n",
        "def get_top_words(texts, stop_words, top_n=20):\n",
        "    all_words = []\n",
        "    for text in texts.dropna():\n",
        "        words = re.findall(r'\\b\\w+\\b', text.lower())\n",
        "        filtered_words = [word for word in words if word not in stop_words]\n",
        "        all_words.extend(filtered_words)\n",
        "\n",
        "    return Counter(all_words).most_common(top_n)\n",
        "\n",
        "top_words_augmentation = get_top_words(texts_augmentation, stop_words)\n",
        "top_words_baisse = get_top_words(texts_baisse, stop_words)\n",
        "top_words_stable = get_top_words(texts_stable, stop_words)"
      ]
    },
    {
      "cell_type": "code",
      "execution_count": null,
      "metadata": {
        "id": "9CdoHArfx4xx",
        "outputId": "d38e6be6-f20d-42f9-fe89-9a0071ba4070"
      },
      "outputs": [
        {
          "data": {
            "image/png": "[encoded data removed]",
            "text/plain": [
              "<Figure size 800x500 with 1 Axes>"
            ]
          },
          "metadata": {},
          "output_type": "display_data"
        },
        {
          "data": {
            "image/png": "[encoded data removed]",
            "text/plain": [
              "<Figure size 800x500 with 1 Axes>"
            ]
          },
          "metadata": {},
          "output_type": "display_data"
        },
        {
          "data": {
            "image/png": "[encoded data removed]",
            "text/plain": [
              "<Figure size 800x500 with 1 Axes>"
            ]
          },
          "metadata": {},
          "output_type": "display_data"
        }
      ],
      "source": [
        "def plot_top_words(top_words, title):\n",
        "    words, counts = zip(*top_words)\n",
        "\n",
        "    plt.figure(figsize=(8, 5))\n",
        "    plt.bar(words, counts, color=\"blue\")\n",
        "    plt.xlabel(\"Mots\")\n",
        "    plt.ylabel(\"Fréquence\")\n",
        "    plt.title(title)\n",
        "    plt.xticks(rotation=45)\n",
        "    plt.show()\n",
        "\n",
        "plot_top_words(top_words_augmentation, \"Mots les plus fréquents - FEDFUNDS Augmentation\")\n",
        "plot_top_words(top_words_baisse, \"Mots les plus fréquents - FEDFUNDS Baisse\")\n",
        "plot_top_words(top_words_stable, \"Mots les plus fréquents - FEDFUNDS Stable\")"
      ]
    },
    {
      "cell_type": "markdown",
      "metadata": {
        "id": "xAGXf1Nsx4xx"
      },
      "source": [
        "## II - Modélisation"
      ]
    },
    {
      "cell_type": "markdown",
      "metadata": {
        "id": "14npeVtvx4xx"
      },
      "source": [
        "### 1 - Etat de l'art"
      ]
    },
    {
      "cell_type": "markdown",
      "metadata": {
        "id": "28steB5Ox4xy"
      },
      "source": [
        "#### 1. Modèles basés sur des représentations vectorielles\n",
        "\n",
        "##### Naïve Bayes (NB) :\n",
        "Les modèles Naïve Bayes, comme le **Multinomial Naïve Bayes**, s’appuient sur la règle de Bayes et supposent l’indépendance conditionnelle des mots. Malgré cette hypothèse simplificatrice, ces modèles sont performants sur de petits corpus et avec des représentations telles que **Bag-of-Words (BoW)** ou **TF-IDF**.  \n",
        "\n",
        "- **Avantages** : rapide, robuste sur des données limitées  \n",
        "- **Limites** : forte dépendance à l’hypothèse d’indépendance des mots  \n",
        "\n",
        "##### Régression Logistique (LR)  \n",
        "Approche linéaire qui optimise une fonction logistique pour classifier les textes. Son efficacité dépend fortement de la qualité des représentations vectorielles utilisées (**TF-IDF, BoW**). Elle est souvent plus performante que Naïve Bayes lorsque les relations entre mots sont plus complexes.  \n",
        "\n",
        "- **Avantages** : interprétable, efficace sur des corpus de taille moyenne  \n",
        "- **Limites** : linéarité, sensible aux données bruitées  \n",
        "\n",
        "##### Support Vector Machines (SVM)\n",
        "Les SVM sont bien adaptés à la classification de texte en raison de leur capacité à maximiser la séparation entre les classes dans des espaces de grande dimension. Ils sont souvent utilisés avec **TF-IDF** pour une meilleure généralisation.  \n",
        "\n",
        "- **Avantages** : robuste aux données bruitées, efficace avec peu de données  \n",
        "- **Limites** : coûteux en calcul sur de très grands corpus\n",
        "\n",
        "Dans notre cas, nous avons décidé de réaliser un modèle TF-IDF + LR et TF-IDF + SVM. Pourquoi TF-IDF et pas BoW ?\n",
        "Le TF-IDF utilise BoW (transforme un texte en un vecteur de fréquences de mots) mais pondère les mots en fonction de leur importance dans le corpus.\n",
        "Mots rares et informatifs ont un poids plus élevé.\n",
        "\n",
        "\n",
        "#### 2️. Modèles basés sur des représentations avancées\n",
        "\n",
        "##### Word Embeddings (Word2Vec ou GloVe)\n",
        "Contrairement aux méthodes classiques, ces modèles apprennent des représentations continues des mots dans un espace vectoriel, capturant des relations sémantiques et syntaxiques.  \n",
        "\n",
        "- **Word2Vec** : basé sur des architectures **CBOW** et **Skip-gram**, il permet d’apprendre des représentations contextuelles.  \n",
        "- **GloVe** : utilise la co-occurrence globale des mots dans un corpus pour obtenir des vecteurs denses.  \n",
        "\n",
        "- **Avantages** : capture les relations sémantiques  \n",
        "- **Limites** : nécessite un grand corpus pour être efficace  \n",
        "\n",
        "\n",
        "#### 3️. Modèles neuronaux\n",
        "\n",
        "##### Réseaux de neurones récurrents (RNN, LSTM, GRU)\n",
        "Les **RNN** et leurs variantes comme **LSTM** et **GRU** sont capables de capturer des relations séquentielles et contextuelles dans les textes. Ils sont adaptés aux tâches de classification où l’ordre des mots est important.  \n",
        "\n",
        "- **Avantages** : capture les dépendances contextuelles  \n",
        "- **Limites** : entraînement lent, problème de gradient évanescent  \n",
        "\n",
        "##### Transformers (BERT, GPT)\n",
        "L’introduction des **Transformers** a révolutionné la classification de texte. Des modèles comme **BERT** utilisent des mécanismes d’attention pour comprendre le contexte global d’un texte. Fine-tunés sur des tâches spécifiques, ils surpassent les méthodes classiques en performance.  \n",
        "\n",
        "- **Avantages** : compréhension fine du contexte, meilleures performances  \n",
        "- **Limites** : coûteux en calcul, besoin de grands volumes de données  "
      ]
    },
    {
      "cell_type": "markdown",
      "metadata": {
        "id": "iYi5oHPqx4xy"
      },
      "source": [
        "### 2 - Nettoyage des données"
      ]
    },
    {
      "cell_type": "code",
      "execution_count": null,
      "metadata": {
        "colab": {
          "base_uri": "https://localhost:8080/"
        },
        "id": "gGbdOnYYx4xy",
        "outputId": "81d5ac0c-95a2-4acd-afb8-352af5469bba"
      },
      "outputs": [
        {
          "name": "stderr",
          "output_type": "stream",
          "text": [
            "[nltk_data] Downloading package punkt to /root/nltk_data...\n",
            "[nltk_data]   Unzipping tokenizers/punkt.zip.\n",
            "[nltk_data] Downloading package wordnet to /root/nltk_data...\n"
          ]
        }
      ],
      "source": [
        "nltk.download(\"punkt\")\n",
        "nltk.download(\"wordnet\")\n",
        "stop_words= set(stopwords.words(\"english\"))\n",
        "lemmatizer= WordNetLemmatizer()\n",
        "\n",
        "def clean_text(text):\n",
        "\n",
        "    text = text.lower()\n",
        "    text = re.sub(r\"[^a-z\\s]\", \"\", text)\n",
        "    tokens = word_tokenize(text)\n",
        "    tokens = [lemmatizer.lemmatize(word) for word in tokens if word not in stop_words]\n",
        "\n",
        "    return \" \".join(tokens)\n",
        "\n",
        "df[\"clean_text\"] = df[\"text\"].apply(clean_text)"
      ]
    },
    {
      "cell_type": "markdown",
      "metadata": {
        "id": "Ru3zEKGQx4xz"
      },
      "source": [
        "#### b) Vectorisation"
      ]
    },
    {
      "cell_type": "code",
      "execution_count": 13,
      "metadata": {
        "id": "eWTNJqUnx4xz"
      },
      "outputs": [],
      "source": [
        "def get_fedfunds_class(row):\n",
        "    if row[\"FEDFUNDS_Augmentation\"] == 1:\n",
        "        return \"Augmentation\"\n",
        "    elif row[\"FEDFUNDS_Baisse\"] == 1:\n",
        "        return \"Baisse\"\n",
        "    else:\n",
        "        return \"Stable\"\n",
        "\n",
        "df[\"FEDFUNDS_Classe\"] = df.apply(get_fedfunds_class, axis=1)"
      ]
    },
    {
      "cell_type": "code",
      "execution_count": 14,
      "metadata": {
        "id": "cGXkjew7x4x0"
      },
      "outputs": [],
      "source": [
        "y= df[\"FEDFUNDS_Classe\"]\n",
        "label_encoder = LabelEncoder()\n",
        "y_encoded = label_encoder.fit_transform(y)\n",
        "X= df[\"clean_text\"]"
      ]
    },
    {
      "cell_type": "markdown",
      "metadata": {
        "id": "ub5a_Ly7x4x0"
      },
      "source": [
        "**Définition de la structure d'évaluation des modèles**"
      ]
    },
    {
      "cell_type": "code",
      "execution_count": null,
      "metadata": {
        "id": "2u2Cfhf4x4x1"
      },
      "outputs": [],
      "source": [
        "def run_model_evaluation(model_name, model, X_train, y_train, X_test, y_test, cv, label_encoder):\n",
        "    print(f\"\\n=== Évaluation du modèle {model_name} ===\\n\")\n",
        "\n",
        "    all_fold_reports = []\n",
        "    balanced_accuracies = []\n",
        "    for fold, (train_idx, val_idx) in enumerate(cv.split(X_train, y_train)):\n",
        "        print(f\"Traitement du fold {fold+1}/{cv.n_splits}...\")\n",
        "\n",
        "        X_fold_train, X_fold_val = X_train[train_idx], X_train[val_idx]\n",
        "        y_fold_train, y_fold_val = y_train[train_idx], y_train[val_idx]\n",
        "        model.fit(X_fold_train, y_fold_train)\n",
        "\n",
        "        y_pred = model.predict(X_fold_val)\n",
        "\n",
        "        precision, recall, f1, support = precision_recall_fscore_support(\n",
        "            y_fold_val, y_pred, labels=range(len(label_encoder.classes_)), zero_division=0\n",
        "        )\n",
        "\n",
        "        report_df = pd.DataFrame({\n",
        "            'precision': precision,\n",
        "            'recall': recall,\n",
        "            'f1-score': f1,\n",
        "            'support': support\n",
        "        }, index=label_encoder.classes_)\n",
        "\n",
        "        all_fold_reports.append(report_df)\n",
        "        balanced_accuracies.append(balanced_accuracy_score(y_fold_val, y_pred))\n",
        "\n",
        "    avg_report= pd.concat(all_fold_reports).groupby(level=0).mean()\n",
        "    macro_avg= avg_report[['precision', 'recall', 'f1-score']].mean()\n",
        "    total_support= avg_report['support'].sum()\n",
        "    weighted_avg= (avg_report[['precision', 'recall', 'f1-score']].multiply(avg_report['support'], axis=0).sum()) / total_support\n",
        "\n",
        "    avg_report.loc['macro avg'] = list(macro_avg) + [avg_report['support'].mean()]\n",
        "    avg_report.loc['weighted avg'] = list(weighted_avg) + [total_support]\n",
        "    avg_report= avg_report.round(4)\n",
        "    print(f\"\\nScore F1 macro (validation croisée sur X_train) : {macro_avg['f1-score']:.4f}\")\n",
        "    print(f\"\\n=== Rapport de classification moyen ({model_name}, {cv.n_splits} folds sur train) ===\\n\")\n",
        "    print(avg_report)\n",
        "    print(f\"\\nPrécision équilibrée moyenne : {np.mean(balanced_accuracies):.4f}\")\n",
        "\n",
        "    print(f\"\\nEntraînement du modèle {model_name} final sur l'ensemble des données d'entraînement...\")\n",
        "    model.fit(X_train, y_train)\n",
        "\n",
        "    y_test_pred = model.predict(X_test)\n",
        "\n",
        "    test_precision, test_recall, test_f1, test_support = precision_recall_fscore_support(\n",
        "        y_test, y_test_pred, labels=range(len(label_encoder.classes_)), zero_division=0\n",
        "    )\n",
        "\n",
        "    test_report_df = pd.DataFrame({\n",
        "        'precision': test_precision,\n",
        "        'recall': test_recall,\n",
        "        'f1-score': test_f1,\n",
        "        'support': test_support}, index=label_encoder.classes_)\n",
        "\n",
        "    test_macro_avg= test_report_df[['precision', 'recall', 'f1-score']].mean()\n",
        "    test_total_support= test_report_df['support'].sum()\n",
        "    test_weighted_avg= (test_report_df[['precision', 'recall', 'f1-score']].multiply(test_report_df['support'], axis=0).sum()) / test_total_support\n",
        "\n",
        "    test_report_df.loc['macro avg'] = list(test_macro_avg) + [test_report_df['support'].mean()]\n",
        "    test_report_df.loc['weighted avg'] = list(test_weighted_avg) + [test_total_support]\n",
        "    test_report_df = test_report_df.round(4)\n",
        "\n",
        "    test_balanced_acc = balanced_accuracy_score(y_test, y_test_pred)\n",
        "    print(f\"\\n=== Évaluation sur l'ensemble de test ({model_name}) ===\\n\")\n",
        "    print(f\"Score F1 macro (test) : {test_macro_avg['f1-score']:.4f}\")\n",
        "    print(f\"Précision équilibrée sur test : {test_balanced_acc:.4f}\")\n",
        "    print(\"\\nRapport de classification sur l'ensemble de test :\\n\")\n",
        "    print(test_report_df)\n",
        "\n",
        "    return model, avg_report, test_report_df, np.mean(balanced_accuracies), test_balanced_acc"
      ]
    },
    {
      "cell_type": "markdown",
      "metadata": {
        "id": "t1Qe-Wusx4x4"
      },
      "source": [
        "### 3 - Modélisation basée sur des représentations vectorielles"
      ]
    },
    {
      "cell_type": "markdown",
      "metadata": {
        "id": "sXwzgW3ox4x4"
      },
      "source": [
        "#### a) Vectorisation et séparation"
      ]
    },
    {
      "cell_type": "markdown",
      "metadata": {
        "id": "_Z4dHj_wRniz"
      },
      "source": [
        "CountVectorizer pour Naive Bayes"
      ]
    },
    {
      "cell_type": "code",
      "execution_count": null,
      "metadata": {
        "id": "7pvKMMbNRY3X"
      },
      "outputs": [],
      "source": [
        "count_vectorizer = CountVectorizer(ngram_range=(1, 2), max_features=10000, min_df=2)\n",
        "X_counts= count_vectorizer.fit_transform(X)\n",
        "X_train, X_test, y_train, y_test = train_test_split(X_counts, y_encoded, test_size=0.2, random_state=42, stratify=y_encoded)"
      ]
    },
    {
      "cell_type": "markdown",
      "metadata": {
        "id": "AErIVeiBRqXJ"
      },
      "source": [
        "TF-IDF pour Naive Bayes, LR et SVM"
      ]
    },
    {
      "cell_type": "code",
      "execution_count": null,
      "metadata": {
        "id": "srQWi1RRx4x4"
      },
      "outputs": [],
      "source": [
        "tfidf_vectorizer= TfidfVectorizer(ngram_range=(1,2), max_features=10000, min_df=2)\n",
        "X_tfidf= tfidf_vectorizer.fit_transform(X)"
      ]
    },
    {
      "cell_type": "code",
      "execution_count": null,
      "metadata": {
        "id": "wqjOLPUgx4x5"
      },
      "outputs": [],
      "source": [
        "X_train,X_test, y_train,y_test = train_test_split(X_tfidf, y_encoded, test_size=0.2, random_state=42, stratify=y_encoded)"
      ]
    },
    {
      "cell_type": "markdown",
      "metadata": {
        "id": "jd8WoP9bx4x5"
      },
      "source": [
        "Hyper paramètres du TF IDF :\n",
        "- **ngram_range** : Cgarde à la fois les unigrammes (1 mot) et les bigrammes (2 mots consécutifs).\n",
        "- **max_features** : garde les 10 000 ngrams les plus fréquents (selon leur score tdidf).\n",
        "- **min_df** :  ignore n-grammes qui apparaissent dans moins de 2 documents."
      ]
    },
    {
      "cell_type": "markdown",
      "metadata": {
        "id": "kNrMdoN5x4x6"
      },
      "source": [
        "#### b) Multinomial Naïve Bayes"
      ]
    },
    {
      "cell_type": "markdown",
      "metadata": {
        "id": "2_g79Vr7x4x6"
      },
      "source": [
        "Attention : nos classes sont déséquilibrées"
      ]
    },
    {
      "cell_type": "code",
      "execution_count": null,
      "metadata": {
        "id": "e1l6SkOYx4x6"
      },
      "outputs": [],
      "source": [
        "class_counts= pd.Series(y_train).map(lambda idx: label_encoder.inverse_transform([idx])[0]).value_counts()\n",
        "class_weights= {cls: 1/class_counts[cls] for cls in label_encoder.classes_}\n",
        "class_prior= np.array([class_weights[cls] for cls in label_encoder.classes_])\n",
        "class_prior= class_prior/class_prior.sum()"
      ]
    },
    {
      "cell_type": "code",
      "execution_count": 17,
      "metadata": {
        "id": "TTN4gCQDx4x6",
        "outputId": "2fd3c735-6c44-4fb2-91b5-14dc3b2eab7d"
      },
      "outputs": [
        {
          "name": "stdout",
          "output_type": "stream",
          "text": [
            "Probabilités a priori ajustées: [0.24122715 0.30790782 0.45086503]\n"
          ]
        }
      ],
      "source": [
        "print(f\"Probabilités a priori ajustées: {class_prior}\")"
      ]
    },
    {
      "cell_type": "code",
      "execution_count": null,
      "metadata": {
        "id": "Cy7rfuUHx4x7"
      },
      "outputs": [],
      "source": [
        "cv= StratifiedKFold(n_splits=5, shuffle=True, random_state=42) #prévient le surapprentissag"
      ]
    },
    {
      "cell_type": "code",
      "execution_count": null,
      "metadata": {
        "id": "6D6eEhomx4x7"
      },
      "outputs": [],
      "source": [
        "nb_model= MultinomialNB(class_prior=class_prior)"
      ]
    },
    {
      "cell_type": "code",
      "execution_count": null,
      "metadata": {
        "id": "BePyBCFmx4x8",
        "outputId": "cac7814f-c62a-4aba-9ba7-b3cf30da1469"
      },
      "outputs": [
        {
          "name": "stdout",
          "output_type": "stream",
          "text": [
            "\n",
            "=== Évaluation du modèle Naive Bayes ===\n",
            "\n",
            "Traitement du fold 1/5...\n",
            "Traitement du fold 2/5...\n",
            "Traitement du fold 3/5...\n",
            "Traitement du fold 4/5...\n",
            "Traitement du fold 5/5...\n",
            "\n",
            "Score F1 macro (validation croisée sur X_train) : 0.4499\n",
            "\n",
            "=== Rapport de classification moyen (Naive Bayes, 5 folds sur train) ===\n",
            "\n",
            "              precision  recall  f1-score   support\n",
            "Augmentation     0.5357  0.4108    0.4646  125.6000\n",
            "Baisse           0.4610  0.4696    0.4645   98.4000\n",
            "Stable           0.3589  0.5089    0.4205   67.2000\n",
            "macro avg        0.4519  0.4631    0.4499   97.0667\n",
            "weighted avg     0.4697  0.4533    0.4544  291.2000\n",
            "\n",
            "Précision équilibrée moyenne : 0.4631\n",
            "\n",
            "Entraînement du modèle Naive Bayes final sur l'ensemble des données d'entraînement...\n",
            "\n",
            "=== Évaluation sur l'ensemble de test (Naive Bayes) ===\n",
            "\n",
            "Score F1 macro (test) : 0.4401\n",
            "Précision équilibrée sur test : 0.4620\n",
            "\n",
            "Rapport de classification sur l'ensemble de test :\n",
            "\n",
            "              precision  recall  f1-score   support\n",
            "Augmentation     0.4950  0.3185    0.3876  157.0000\n",
            "Baisse           0.4286  0.5081    0.4649  124.0000\n",
            "Stable           0.4017  0.5595    0.4677   84.0000\n",
            "macro avg        0.4418  0.4620    0.4401  121.6667\n",
            "weighted avg     0.4510  0.4384    0.4323  365.0000\n"
          ]
        }
      ],
      "source": [
        "nb_results= run_model_evaluation(\"Naive Bayes\",nb_model,X_train, y_train,X_test, y_test,cv,label_encoder)"
      ]
    },
    {
      "cell_type": "markdown",
      "metadata": {
        "id": "kaDAKWhyx4x8"
      },
      "source": [
        "**Conclusions du modèle Multinomial Naive Bayes :**\n",
        "\n",
        "- *1ère constatation* : Nous observons un biais vers la classe Augmentation. Malgré l'ajustement des probabilités a priori (class_prior), le modèle présente une forte tendance à classer les discours de la FED comme annonçant des augmentations de taux, même lorsqu'ils annoncent en réalité des baisses ou une stabilité.\n",
        "- *2de constatation* : On a une faible performance sur Stable. Cette classe étant la moins représentée initialement dans notre dataset, elle est particulièrement mal identifiée, avec seulement 10 classifications correctes sur 84 cas réels.\n",
        "- *3ème constatation* : L'hypothèse d'indépendance avancée par le modèle Naive Bayes suppose l'indépendance entre les mots, hypothèse rarement vérifiée dans le langage naturel et particulièrement dans des discours économiques structurés comme les discours de la FED.\n",
        "- *Quelques chiffres clefs* :\n",
        "    - F1 macro moyen : 0.4507 -> performance moyenne sur l’ensemble des classes, sans tenir compte du déséquilibre.\n",
        "    - Précision équilibrée : 0.4483 -> le modèle traite les classes avec une efficacité modérée mais équitable.\n",
        "    - Weighted avg F1 : 0.4739 -> le modèle réussit un peu mieux sur les classes majoritaires.\n",
        "\n",
        "Interprétation : Le modèle fait preuve de cohérence globale, mais reste limité dans sa capacité à capturer les nuances des classes, notamment les moins fréquentes."
      ]
    },
    {
      "cell_type": "markdown",
      "metadata": {
        "id": "CkO3isD4x4x8"
      },
      "source": [
        "#### c) Regression logistique"
      ]
    },
    {
      "cell_type": "code",
      "execution_count": null,
      "metadata": {
        "id": "HXNJBlAsx4x9"
      },
      "outputs": [],
      "source": [
        "param_grid= {'C': [0.01, 0.1, 1, 10, 100],'solver': ['liblinear', 'saga'],'penalty': ['l1', 'l2']}"
      ]
    },
    {
      "cell_type": "code",
      "execution_count": null,
      "metadata": {
        "id": "xvOdGaCHx4x9"
      },
      "outputs": [],
      "source": [
        "lreg= LogisticRegression(class_weight='balanced', max_iter=1000, random_state=42)"
      ]
    },
    {
      "cell_type": "code",
      "execution_count": null,
      "metadata": {
        "id": "O4ielry8x4x9",
        "outputId": "b13f1c5a-c68a-4b83-ce07-92453b6e619d"
      },
      "outputs": [
        {
          "name": "stdout",
          "output_type": "stream",
          "text": [
            "\n",
            "Exécution de Grid Search pour Régression Logistique...\n",
            "Fitting 5 folds for each of 20 candidates, totalling 100 fits\n"
          ]
        },
        {
          "data": {
            "text/html": [
              "<style>#sk-container-id-7 {\n",
              "  /* Definition of color scheme common for light and dark mode */\n",
              "  --sklearn-color-text: #000;\n",
              "  --sklearn-color-text-muted: #666;\n",
              "  --sklearn-color-line: gray;\n",
              "  /* Definition of color scheme for unfitted estimators */\n",
              "  --sklearn-color-unfitted-level-0: #fff5e6;\n",
              "  --sklearn-color-unfitted-level-1: #f6e4d2;\n",
              "  --sklearn-color-unfitted-level-2: #ffe0b3;\n",
              "  --sklearn-color-unfitted-level-3: chocolate;\n",
              "  /* Definition of color scheme for fitted estimators */\n",
              "  --sklearn-color-fitted-level-0: #f0f8ff;\n",
              "  --sklearn-color-fitted-level-1: #d4ebff;\n",
              "  --sklearn-color-fitted-level-2: #b3dbfd;\n",
              "  --sklearn-color-fitted-level-3: cornflowerblue;\n",
              "\n",
              "  /* Specific color for light theme */\n",
              "  --sklearn-color-text-on-default-background: var(--sg-text-color, var(--theme-code-foreground, var(--jp-content-font-color1, black)));\n",
              "  --sklearn-color-background: var(--sg-background-color, var(--theme-background, var(--jp-layout-color0, white)));\n",
              "  --sklearn-color-border-box: var(--sg-text-color, var(--theme-code-foreground, var(--jp-content-font-color1, black)));\n",
              "  --sklearn-color-icon: #696969;\n",
              "\n",
              "  @media (prefers-color-scheme: dark) {\n",
              "    /* Redefinition of color scheme for dark theme */\n",
              "    --sklearn-color-text-on-default-background: var(--sg-text-color, var(--theme-code-foreground, var(--jp-content-font-color1, white)));\n",
              "    --sklearn-color-background: var(--sg-background-color, var(--theme-background, var(--jp-layout-color0, #111)));\n",
              "    --sklearn-color-border-box: var(--sg-text-color, var(--theme-code-foreground, var(--jp-content-font-color1, white)));\n",
              "    --sklearn-color-icon: #878787;\n",
              "  }\n",
              "}\n",
              "\n",
              "#sk-container-id-7 {\n",
              "  color: var(--sklearn-color-text);\n",
              "}\n",
              "\n",
              "#sk-container-id-7 pre {\n",
              "  padding: 0;\n",
              "}\n",
              "\n",
              "#sk-container-id-7 input.sk-hidden--visually {\n",
              "  border: 0;\n",
              "  clip: rect(1px 1px 1px 1px);\n",
              "  clip: rect(1px, 1px, 1px, 1px);\n",
              "  height: 1px;\n",
              "  margin: -1px;\n",
              "  overflow: hidden;\n",
              "  padding: 0;\n",
              "  position: absolute;\n",
              "  width: 1px;\n",
              "}\n",
              "\n",
              "#sk-container-id-7 div.sk-dashed-wrapped {\n",
              "  border: 1px dashed var(--sklearn-color-line);\n",
              "  margin: 0 0.4em 0.5em 0.4em;\n",
              "  box-sizing: border-box;\n",
              "  padding-bottom: 0.4em;\n",
              "  background-color: var(--sklearn-color-background);\n",
              "}\n",
              "\n",
              "#sk-container-id-7 div.sk-container {\n",
              "  /* jupyter's `normalize.less` sets `[hidden] { display: none; }`\n",
              "     but bootstrap.min.css set `[hidden] { display: none !important; }`\n",
              "     so we also need the `!important` here to be able to override the\n",
              "     default hidden behavior on the sphinx rendered scikit-learn.org.\n",
              "     See: https://github.com/scikit-learn/scikit-learn/issues/21755 */\n",
              "  display: inline-block !important;\n",
              "  position: relative;\n",
              "}\n",
              "\n",
              "#sk-container-id-7 div.sk-text-repr-fallback {\n",
              "  display: none;\n",
              "}\n",
              "\n",
              "div.sk-parallel-item,\n",
              "div.sk-serial,\n",
              "div.sk-item {\n",
              "  /* draw centered vertical line to link estimators */\n",
              "  background-image: linear-gradient(var(--sklearn-color-text-on-default-background), var(--sklearn-color-text-on-default-background));\n",
              "  background-size: 2px 100%;\n",
              "  background-repeat: no-repeat;\n",
              "  background-position: center center;\n",
              "}\n",
              "\n",
              "/* Parallel-specific style estimator block */\n",
              "\n",
              "#sk-container-id-7 div.sk-parallel-item::after {\n",
              "  content: \"\";\n",
              "  width: 100%;\n",
              "  border-bottom: 2px solid var(--sklearn-color-text-on-default-background);\n",
              "  flex-grow: 1;\n",
              "}\n",
              "\n",
              "#sk-container-id-7 div.sk-parallel {\n",
              "  display: flex;\n",
              "  align-items: stretch;\n",
              "  justify-content: center;\n",
              "  background-color: var(--sklearn-color-background);\n",
              "  position: relative;\n",
              "}\n",
              "\n",
              "#sk-container-id-7 div.sk-parallel-item {\n",
              "  display: flex;\n",
              "  flex-direction: column;\n",
              "}\n",
              "\n",
              "#sk-container-id-7 div.sk-parallel-item:first-child::after {\n",
              "  align-self: flex-end;\n",
              "  width: 50%;\n",
              "}\n",
              "\n",
              "#sk-container-id-7 div.sk-parallel-item:last-child::after {\n",
              "  align-self: flex-start;\n",
              "  width: 50%;\n",
              "}\n",
              "\n",
              "#sk-container-id-7 div.sk-parallel-item:only-child::after {\n",
              "  width: 0;\n",
              "}\n",
              "\n",
              "/* Serial-specific style estimator block */\n",
              "\n",
              "#sk-container-id-7 div.sk-serial {\n",
              "  display: flex;\n",
              "  flex-direction: column;\n",
              "  align-items: center;\n",
              "  background-color: var(--sklearn-color-background);\n",
              "  padding-right: 1em;\n",
              "  padding-left: 1em;\n",
              "}\n",
              "\n",
              "\n",
              "/* Toggleable style: style used for estimator/Pipeline/ColumnTransformer box that is\n",
              "clickable and can be expanded/collapsed.\n",
              "- Pipeline and ColumnTransformer use this feature and define the default style\n",
              "- Estimators will overwrite some part of the style using the `sk-estimator` class\n",
              "*/\n",
              "\n",
              "/* Pipeline and ColumnTransformer style (default) */\n",
              "\n",
              "#sk-container-id-7 div.sk-toggleable {\n",
              "  /* Default theme specific background. It is overwritten whether we have a\n",
              "  specific estimator or a Pipeline/ColumnTransformer */\n",
              "  background-color: var(--sklearn-color-background);\n",
              "}\n",
              "\n",
              "/* Toggleable label */\n",
              "#sk-container-id-7 label.sk-toggleable__label {\n",
              "  cursor: pointer;\n",
              "  display: flex;\n",
              "  width: 100%;\n",
              "  margin-bottom: 0;\n",
              "  padding: 0.5em;\n",
              "  box-sizing: border-box;\n",
              "  text-align: center;\n",
              "  align-items: start;\n",
              "  justify-content: space-between;\n",
              "  gap: 0.5em;\n",
              "}\n",
              "\n",
              "#sk-container-id-7 label.sk-toggleable__label .caption {\n",
              "  font-size: 0.6rem;\n",
              "  font-weight: lighter;\n",
              "  color: var(--sklearn-color-text-muted);\n",
              "}\n",
              "\n",
              "#sk-container-id-7 label.sk-toggleable__label-arrow:before {\n",
              "  /* Arrow on the left of the label */\n",
              "  content: \"▸\";\n",
              "  float: left;\n",
              "  margin-right: 0.25em;\n",
              "  color: var(--sklearn-color-icon);\n",
              "}\n",
              "\n",
              "#sk-container-id-7 label.sk-toggleable__label-arrow:hover:before {\n",
              "  color: var(--sklearn-color-text);\n",
              "}\n",
              "\n",
              "/* Toggleable content - dropdown */\n",
              "\n",
              "#sk-container-id-7 div.sk-toggleable__content {\n",
              "  max-height: 0;\n",
              "  max-width: 0;\n",
              "  overflow: hidden;\n",
              "  text-align: left;\n",
              "  /* unfitted */\n",
              "  background-color: var(--sklearn-color-unfitted-level-0);\n",
              "}\n",
              "\n",
              "#sk-container-id-7 div.sk-toggleable__content.fitted {\n",
              "  /* fitted */\n",
              "  background-color: var(--sklearn-color-fitted-level-0);\n",
              "}\n",
              "\n",
              "#sk-container-id-7 div.sk-toggleable__content pre {\n",
              "  margin: 0.2em;\n",
              "  border-radius: 0.25em;\n",
              "  color: var(--sklearn-color-text);\n",
              "  /* unfitted */\n",
              "  background-color: var(--sklearn-color-unfitted-level-0);\n",
              "}\n",
              "\n",
              "#sk-container-id-7 div.sk-toggleable__content.fitted pre {\n",
              "  /* unfitted */\n",
              "  background-color: var(--sklearn-color-fitted-level-0);\n",
              "}\n",
              "\n",
              "#sk-container-id-7 input.sk-toggleable__control:checked~div.sk-toggleable__content {\n",
              "  /* Expand drop-down */\n",
              "  max-height: 200px;\n",
              "  max-width: 100%;\n",
              "  overflow: auto;\n",
              "}\n",
              "\n",
              "#sk-container-id-7 input.sk-toggleable__control:checked~label.sk-toggleable__label-arrow:before {\n",
              "  content: \"▾\";\n",
              "}\n",
              "\n",
              "/* Pipeline/ColumnTransformer-specific style */\n",
              "\n",
              "#sk-container-id-7 div.sk-label input.sk-toggleable__control:checked~label.sk-toggleable__label {\n",
              "  color: var(--sklearn-color-text);\n",
              "  background-color: var(--sklearn-color-unfitted-level-2);\n",
              "}\n",
              "\n",
              "#sk-container-id-7 div.sk-label.fitted input.sk-toggleable__control:checked~label.sk-toggleable__label {\n",
              "  background-color: var(--sklearn-color-fitted-level-2);\n",
              "}\n",
              "\n",
              "/* Estimator-specific style */\n",
              "\n",
              "/* Colorize estimator box */\n",
              "#sk-container-id-7 div.sk-estimator input.sk-toggleable__control:checked~label.sk-toggleable__label {\n",
              "  /* unfitted */\n",
              "  background-color: var(--sklearn-color-unfitted-level-2);\n",
              "}\n",
              "\n",
              "#sk-container-id-7 div.sk-estimator.fitted input.sk-toggleable__control:checked~label.sk-toggleable__label {\n",
              "  /* fitted */\n",
              "  background-color: var(--sklearn-color-fitted-level-2);\n",
              "}\n",
              "\n",
              "#sk-container-id-7 div.sk-label label.sk-toggleable__label,\n",
              "#sk-container-id-7 div.sk-label label {\n",
              "  /* The background is the default theme color */\n",
              "  color: var(--sklearn-color-text-on-default-background);\n",
              "}\n",
              "\n",
              "/* On hover, darken the color of the background */\n",
              "#sk-container-id-7 div.sk-label:hover label.sk-toggleable__label {\n",
              "  color: var(--sklearn-color-text);\n",
              "  background-color: var(--sklearn-color-unfitted-level-2);\n",
              "}\n",
              "\n",
              "/* Label box, darken color on hover, fitted */\n",
              "#sk-container-id-7 div.sk-label.fitted:hover label.sk-toggleable__label.fitted {\n",
              "  color: var(--sklearn-color-text);\n",
              "  background-color: var(--sklearn-color-fitted-level-2);\n",
              "}\n",
              "\n",
              "/* Estimator label */\n",
              "\n",
              "#sk-container-id-7 div.sk-label label {\n",
              "  font-family: monospace;\n",
              "  font-weight: bold;\n",
              "  display: inline-block;\n",
              "  line-height: 1.2em;\n",
              "}\n",
              "\n",
              "#sk-container-id-7 div.sk-label-container {\n",
              "  text-align: center;\n",
              "}\n",
              "\n",
              "/* Estimator-specific */\n",
              "#sk-container-id-7 div.sk-estimator {\n",
              "  font-family: monospace;\n",
              "  border: 1px dotted var(--sklearn-color-border-box);\n",
              "  border-radius: 0.25em;\n",
              "  box-sizing: border-box;\n",
              "  margin-bottom: 0.5em;\n",
              "  /* unfitted */\n",
              "  background-color: var(--sklearn-color-unfitted-level-0);\n",
              "}\n",
              "\n",
              "#sk-container-id-7 div.sk-estimator.fitted {\n",
              "  /* fitted */\n",
              "  background-color: var(--sklearn-color-fitted-level-0);\n",
              "}\n",
              "\n",
              "/* on hover */\n",
              "#sk-container-id-7 div.sk-estimator:hover {\n",
              "  /* unfitted */\n",
              "  background-color: var(--sklearn-color-unfitted-level-2);\n",
              "}\n",
              "\n",
              "#sk-container-id-7 div.sk-estimator.fitted:hover {\n",
              "  /* fitted */\n",
              "  background-color: var(--sklearn-color-fitted-level-2);\n",
              "}\n",
              "\n",
              "/* Specification for estimator info (e.g. \"i\" and \"?\") */\n",
              "\n",
              "/* Common style for \"i\" and \"?\" */\n",
              "\n",
              ".sk-estimator-doc-link,\n",
              "a:link.sk-estimator-doc-link,\n",
              "a:visited.sk-estimator-doc-link {\n",
              "  float: right;\n",
              "  font-size: smaller;\n",
              "  line-height: 1em;\n",
              "  font-family: monospace;\n",
              "  background-color: var(--sklearn-color-background);\n",
              "  border-radius: 1em;\n",
              "  height: 1em;\n",
              "  width: 1em;\n",
              "  text-decoration: none !important;\n",
              "  margin-left: 0.5em;\n",
              "  text-align: center;\n",
              "  /* unfitted */\n",
              "  border: var(--sklearn-color-unfitted-level-1) 1pt solid;\n",
              "  color: var(--sklearn-color-unfitted-level-1);\n",
              "}\n",
              "\n",
              ".sk-estimator-doc-link.fitted,\n",
              "a:link.sk-estimator-doc-link.fitted,\n",
              "a:visited.sk-estimator-doc-link.fitted {\n",
              "  /* fitted */\n",
              "  border: var(--sklearn-color-fitted-level-1) 1pt solid;\n",
              "  color: var(--sklearn-color-fitted-level-1);\n",
              "}\n",
              "\n",
              "/* On hover */\n",
              "div.sk-estimator:hover .sk-estimator-doc-link:hover,\n",
              ".sk-estimator-doc-link:hover,\n",
              "div.sk-label-container:hover .sk-estimator-doc-link:hover,\n",
              ".sk-estimator-doc-link:hover {\n",
              "  /* unfitted */\n",
              "  background-color: var(--sklearn-color-unfitted-level-3);\n",
              "  color: var(--sklearn-color-background);\n",
              "  text-decoration: none;\n",
              "}\n",
              "\n",
              "div.sk-estimator.fitted:hover .sk-estimator-doc-link.fitted:hover,\n",
              ".sk-estimator-doc-link.fitted:hover,\n",
              "div.sk-label-container:hover .sk-estimator-doc-link.fitted:hover,\n",
              ".sk-estimator-doc-link.fitted:hover {\n",
              "  /* fitted */\n",
              "  background-color: var(--sklearn-color-fitted-level-3);\n",
              "  color: var(--sklearn-color-background);\n",
              "  text-decoration: none;\n",
              "}\n",
              "\n",
              "/* Span, style for the box shown on hovering the info icon */\n",
              ".sk-estimator-doc-link span {\n",
              "  display: none;\n",
              "  z-index: 9999;\n",
              "  position: relative;\n",
              "  font-weight: normal;\n",
              "  right: .2ex;\n",
              "  padding: .5ex;\n",
              "  margin: .5ex;\n",
              "  width: min-content;\n",
              "  min-width: 20ex;\n",
              "  max-width: 50ex;\n",
              "  color: var(--sklearn-color-text);\n",
              "  box-shadow: 2pt 2pt 4pt #999;\n",
              "  /* unfitted */\n",
              "  background: var(--sklearn-color-unfitted-level-0);\n",
              "  border: .5pt solid var(--sklearn-color-unfitted-level-3);\n",
              "}\n",
              "\n",
              ".sk-estimator-doc-link.fitted span {\n",
              "  /* fitted */\n",
              "  background: var(--sklearn-color-fitted-level-0);\n",
              "  border: var(--sklearn-color-fitted-level-3);\n",
              "}\n",
              "\n",
              ".sk-estimator-doc-link:hover span {\n",
              "  display: block;\n",
              "}\n",
              "\n",
              "/* \"?\"-specific style due to the `<a>` HTML tag */\n",
              "\n",
              "#sk-container-id-7 a.estimator_doc_link {\n",
              "  float: right;\n",
              "  font-size: 1rem;\n",
              "  line-height: 1em;\n",
              "  font-family: monospace;\n",
              "  background-color: var(--sklearn-color-background);\n",
              "  border-radius: 1rem;\n",
              "  height: 1rem;\n",
              "  width: 1rem;\n",
              "  text-decoration: none;\n",
              "  /* unfitted */\n",
              "  color: var(--sklearn-color-unfitted-level-1);\n",
              "  border: var(--sklearn-color-unfitted-level-1) 1pt solid;\n",
              "}\n",
              "\n",
              "#sk-container-id-7 a.estimator_doc_link.fitted {\n",
              "  /* fitted */\n",
              "  border: var(--sklearn-color-fitted-level-1) 1pt solid;\n",
              "  color: var(--sklearn-color-fitted-level-1);\n",
              "}\n",
              "\n",
              "/* On hover */\n",
              "#sk-container-id-7 a.estimator_doc_link:hover {\n",
              "  /* unfitted */\n",
              "  background-color: var(--sklearn-color-unfitted-level-3);\n",
              "  color: var(--sklearn-color-background);\n",
              "  text-decoration: none;\n",
              "}\n",
              "\n",
              "#sk-container-id-7 a.estimator_doc_link.fitted:hover {\n",
              "  /* fitted */\n",
              "  background-color: var(--sklearn-color-fitted-level-3);\n",
              "}\n",
              "</style><div id=\"sk-container-id-7\" class=\"sk-top-container\"><div class=\"sk-text-repr-fallback\"><pre>GridSearchCV(cv=5,\n",
              "             estimator=LogisticRegression(class_weight=&#x27;balanced&#x27;,\n",
              "                                          max_iter=1000, random_state=42),\n",
              "             n_jobs=-1,\n",
              "             param_grid={&#x27;C&#x27;: [0.01, 0.1, 1, 10, 100], &#x27;penalty&#x27;: [&#x27;l1&#x27;, &#x27;l2&#x27;],\n",
              "                         &#x27;solver&#x27;: [&#x27;liblinear&#x27;, &#x27;saga&#x27;]},\n",
              "             scoring=&#x27;f1_macro&#x27;, verbose=1)</pre><b>In a Jupyter environment, please rerun this cell to show the HTML representation or trust the notebook. <br />On GitHub, the HTML representation is unable to render, please try loading this page with nbviewer.org.</b></div><div class=\"sk-container\" hidden><div class=\"sk-item sk-dashed-wrapped\"><div class=\"sk-label-container\"><div class=\"sk-label fitted sk-toggleable\"><input class=\"sk-toggleable__control sk-hidden--visually\" id=\"sk-estimator-id-15\" type=\"checkbox\" ><label for=\"sk-estimator-id-15\" class=\"sk-toggleable__label fitted sk-toggleable__label-arrow\"><div><div>GridSearchCV</div></div><div><a class=\"sk-estimator-doc-link fitted\" rel=\"noreferrer\" target=\"_blank\" href=\"https://scikit-learn.org/1.6/modules/generated/sklearn.model_selection.GridSearchCV.html\">?<span>Documentation for GridSearchCV</span></a><span class=\"sk-estimator-doc-link fitted\">i<span>Fitted</span></span></div></label><div class=\"sk-toggleable__content fitted\"><pre>GridSearchCV(cv=5,\n",
              "             estimator=LogisticRegression(class_weight=&#x27;balanced&#x27;,\n",
              "                                          max_iter=1000, random_state=42),\n",
              "             n_jobs=-1,\n",
              "             param_grid={&#x27;C&#x27;: [0.01, 0.1, 1, 10, 100], &#x27;penalty&#x27;: [&#x27;l1&#x27;, &#x27;l2&#x27;],\n",
              "                         &#x27;solver&#x27;: [&#x27;liblinear&#x27;, &#x27;saga&#x27;]},\n",
              "             scoring=&#x27;f1_macro&#x27;, verbose=1)</pre></div> </div></div><div class=\"sk-parallel\"><div class=\"sk-parallel-item\"><div class=\"sk-item\"><div class=\"sk-label-container\"><div class=\"sk-label fitted sk-toggleable\"><input class=\"sk-toggleable__control sk-hidden--visually\" id=\"sk-estimator-id-16\" type=\"checkbox\" ><label for=\"sk-estimator-id-16\" class=\"sk-toggleable__label fitted sk-toggleable__label-arrow\"><div><div>best_estimator_: LogisticRegression</div></div></label><div class=\"sk-toggleable__content fitted\"><pre>LogisticRegression(C=100, class_weight=&#x27;balanced&#x27;, max_iter=1000,\n",
              "                   random_state=42, solver=&#x27;saga&#x27;)</pre></div> </div></div><div class=\"sk-serial\"><div class=\"sk-item\"><div class=\"sk-estimator fitted sk-toggleable\"><input class=\"sk-toggleable__control sk-hidden--visually\" id=\"sk-estimator-id-17\" type=\"checkbox\" ><label for=\"sk-estimator-id-17\" class=\"sk-toggleable__label fitted sk-toggleable__label-arrow\"><div><div>LogisticRegression</div></div><div><a class=\"sk-estimator-doc-link fitted\" rel=\"noreferrer\" target=\"_blank\" href=\"https://scikit-learn.org/1.6/modules/generated/sklearn.linear_model.LogisticRegression.html\">?<span>Documentation for LogisticRegression</span></a></div></label><div class=\"sk-toggleable__content fitted\"><pre>LogisticRegression(C=100, class_weight=&#x27;balanced&#x27;, max_iter=1000,\n",
              "                   random_state=42, solver=&#x27;saga&#x27;)</pre></div> </div></div></div></div></div></div></div></div></div>"
            ],
            "text/plain": [
              "GridSearchCV(cv=5,\n",
              "             estimator=LogisticRegression(class_weight='balanced',\n",
              "                                          max_iter=1000, random_state=42),\n",
              "             n_jobs=-1,\n",
              "             param_grid={'C': [0.01, 0.1, 1, 10, 100], 'penalty': ['l1', 'l2'],\n",
              "                         'solver': ['liblinear', 'saga']},\n",
              "             scoring='f1_macro', verbose=1)"
            ]
          },
          "execution_count": 147,
          "metadata": {},
          "output_type": "execute_result"
        }
      ],
      "source": [
        "print(\"\\nExécution de Grid Search pour Régression Logistique...\")\n",
        "grid = GridSearchCV(estimator=lreg,param_grid=param_grid, scoring='f1_macro',cv=5, n_jobs=-1,verbose=1)\n",
        "grid.fit(X_train, y_train)"
      ]
    },
    {
      "cell_type": "code",
      "execution_count": null,
      "metadata": {
        "id": "1EmK7tmDx4x9",
        "outputId": "55829eb4-40ff-4b37-af60-6c15bba3e40f"
      },
      "outputs": [
        {
          "name": "stdout",
          "output_type": "stream",
          "text": [
            "\n",
            "Meilleurs hyperparamètres trouvés :\n",
            "{'C': 100, 'penalty': 'l2', 'solver': 'saga'}\n",
            "Score F1 macro (CV Grid Search) : 0.4849\n"
          ]
        }
      ],
      "source": [
        "print(\"\\nMeilleurs hyperparamètres trouvés :\")\n",
        "print(grid.best_params_)\n",
        "print(f\"Score F1 macro (CV Grid Search) : {grid.best_score_:.4f}\")"
      ]
    },
    {
      "cell_type": "markdown",
      "metadata": {
        "id": "82bmgr1Nx4x-"
      },
      "source": [
        "Les classes étant déséquilibrées, on va préférer le f1_macro comme critère d'évaluation. Il permet de :\n",
        "\n",
        "- Calculer le F1 pour chaque classe séparément,\n",
        "- Faire la moyenne de ces F1 sans tenir compte de la taille des classes.\n",
        "\n",
        "=> Cela permet d’évaluer l'équité du modèle entre les classes, même si une classe est sous-représentée."
      ]
    },
    {
      "cell_type": "code",
      "execution_count": null,
      "metadata": {
        "id": "1Tj3v6t6x4x-"
      },
      "outputs": [],
      "source": [
        "best_lreg= grid.best_estimator_ #meilleur modele"
      ]
    },
    {
      "cell_type": "code",
      "execution_count": null,
      "metadata": {
        "id": "2-_bp4Dqx4yG",
        "outputId": "ebcb9109-c13a-404d-acc2-497503124586"
      },
      "outputs": [
        {
          "name": "stdout",
          "output_type": "stream",
          "text": [
            "\n",
            "=== Évaluation du modèle Régression Logistique (optimisée) ===\n",
            "\n",
            "Traitement du fold 1/5...\n",
            "Traitement du fold 2/5...\n",
            "Traitement du fold 3/5...\n",
            "Traitement du fold 4/5...\n",
            "Traitement du fold 5/5...\n",
            "\n",
            "Score F1 macro (validation croisée sur X_train) : 0.4700\n",
            "\n",
            "=== Rapport de classification moyen (Régression Logistique (optimisée), 5 folds sur train) ===\n",
            "\n",
            "              precision  recall  f1-score   support\n",
            "Augmentation     0.5524  0.5827    0.5665  125.6000\n",
            "Baisse           0.4606  0.4776    0.4685   98.4000\n",
            "Stable           0.4117  0.3452    0.3749   67.2000\n",
            "macro avg        0.4749  0.4685    0.4700   97.0667\n",
            "weighted avg     0.4889  0.4924    0.4892  291.2000\n",
            "\n",
            "Précision équilibrée moyenne : 0.4685\n",
            "\n",
            "Entraînement du modèle Régression Logistique (optimisée) final sur l'ensemble des données d'entraînement...\n",
            "\n",
            "=== Évaluation sur l'ensemble de test (Régression Logistique (optimisée)) ===\n",
            "\n",
            "Score F1 macro (test) : 0.4913\n",
            "Précision équilibrée sur test : 0.4918\n",
            "\n",
            "Rapport de classification sur l'ensemble de test :\n",
            "\n",
            "              precision  recall  f1-score   support\n",
            "Augmentation     0.5267  0.5032    0.5147  157.0000\n",
            "Baisse           0.4773  0.5081    0.4922  124.0000\n",
            "Stable           0.4699  0.4643    0.4671   84.0000\n",
            "macro avg        0.4913  0.4918    0.4913  121.6667\n",
            "weighted avg     0.4968  0.4959    0.4961  365.0000\n"
          ]
        }
      ],
      "source": [
        "lr_results = run_model_evaluation(\n",
        "    \"Régression Logistique (optimisée)\",\n",
        "    best_lreg,\n",
        "    X_train, y_train,\n",
        "    X_test, y_test,\n",
        "    cv,\n",
        "    label_encoder)"
      ]
    },
    {
      "cell_type": "markdown",
      "metadata": {
        "id": "7hZ0ahocx4yG"
      },
      "source": [
        "**Conclusions du modèle Regression logistique (TF-IDF) :**\n",
        "\n",
        "- *1ère constatation* : La F1 macro en validation croisée (0.4849) et la F1 macro sur le test (0.49) sont très proches donc le modèle généralise bien et n’a pas surappris les données d’entraînement.\n",
        "\n",
        "- *2de constatation* :  La régression logistique donne des scores homogènes sur les trois classes avec des F1-score entre 0.47 et0.51 pour chaque classe.\n",
        "Contrairement au Naive Bayes qui favorisait la classe majoritaire. => Bonnes performances grâce à class_weight='balanced', et une capacité du modèle à gérer le déséquilibre des données.\n",
        "\n",
        "- *3ème constatation* : L’accuracy et le F1-score global restent autour de 0.50, cela indique que le modèle capte une structure informative dans les textes, mais atteint une limite de complexité."
      ]
    },
    {
      "cell_type": "markdown",
      "metadata": {},
      "source": [
        "**Conclusions du modèle Regression logistique (CountVectorizer)) :**\n",
        "\n",
        "- *1ère constatation* : Amélioration des performances générales par rapport à la version précédente avec TF-IDF. Score F1 macro (test) : 0.4401 (vs 0.4189 avec TF-IDF).\n",
        "- *2de constatation* : Pas d'overfitting observé : les performances en validation croisée et sur le test sont proches (F1 macro train = 0.4499 ; test = 0.4401).\n",
        "- *3ème constatation* : Le modèle reconnaît beaucoup mieux cette classe, auparavant négligée. (F1-score passe de 0.3538 → 0.4677 et le (recall) monte fortement : de 0.27 → 0.56)."
      ]
    },
    {
      "cell_type": "markdown",
      "metadata": {
        "id": "WfBy8X1Cx4yH"
      },
      "source": [
        "#### d) SVM"
      ]
    },
    {
      "cell_type": "code",
      "execution_count": null,
      "metadata": {
        "id": "GZz32lqPx4yM"
      },
      "outputs": [],
      "source": [
        "svm_model = SVC(probability=True, random_state=42, class_weight='balanced')"
      ]
    },
    {
      "cell_type": "code",
      "execution_count": null,
      "metadata": {
        "id": "lLRMLpMtx4yO"
      },
      "outputs": [],
      "source": [
        "param_grid = {'C': [0.1, 1],#régularisation forte (0.1) ou moyenne (1)\n",
        "    'kernel': ['linear', 'rbf'],'gamma': ['scale']}"
      ]
    },
    {
      "cell_type": "code",
      "execution_count": null,
      "metadata": {
        "id": "Hotqdqidx4yP",
        "outputId": "d51ee795-e3e4-4bbd-ef13-89f517830e0e"
      },
      "outputs": [
        {
          "name": "stdout",
          "output_type": "stream",
          "text": [
            "\n",
            "Exécution de Grid Search pour SVM...\n",
            "Fitting 5 folds for each of 4 candidates, totalling 20 fits\n"
          ]
        },
        {
          "data": {
            "text/html": [
              "<style>#sk-container-id-8 {\n",
              "  /* Definition of color scheme common for light and dark mode */\n",
              "  --sklearn-color-text: #000;\n",
              "  --sklearn-color-text-muted: #666;\n",
              "  --sklearn-color-line: gray;\n",
              "  /* Definition of color scheme for unfitted estimators */\n",
              "  --sklearn-color-unfitted-level-0: #fff5e6;\n",
              "  --sklearn-color-unfitted-level-1: #f6e4d2;\n",
              "  --sklearn-color-unfitted-level-2: #ffe0b3;\n",
              "  --sklearn-color-unfitted-level-3: chocolate;\n",
              "  /* Definition of color scheme for fitted estimators */\n",
              "  --sklearn-color-fitted-level-0: #f0f8ff;\n",
              "  --sklearn-color-fitted-level-1: #d4ebff;\n",
              "  --sklearn-color-fitted-level-2: #b3dbfd;\n",
              "  --sklearn-color-fitted-level-3: cornflowerblue;\n",
              "\n",
              "  /* Specific color for light theme */\n",
              "  --sklearn-color-text-on-default-background: var(--sg-text-color, var(--theme-code-foreground, var(--jp-content-font-color1, black)));\n",
              "  --sklearn-color-background: var(--sg-background-color, var(--theme-background, var(--jp-layout-color0, white)));\n",
              "  --sklearn-color-border-box: var(--sg-text-color, var(--theme-code-foreground, var(--jp-content-font-color1, black)));\n",
              "  --sklearn-color-icon: #696969;\n",
              "\n",
              "  @media (prefers-color-scheme: dark) {\n",
              "    /* Redefinition of color scheme for dark theme */\n",
              "    --sklearn-color-text-on-default-background: var(--sg-text-color, var(--theme-code-foreground, var(--jp-content-font-color1, white)));\n",
              "    --sklearn-color-background: var(--sg-background-color, var(--theme-background, var(--jp-layout-color0, #111)));\n",
              "    --sklearn-color-border-box: var(--sg-text-color, var(--theme-code-foreground, var(--jp-content-font-color1, white)));\n",
              "    --sklearn-color-icon: #878787;\n",
              "  }\n",
              "}\n",
              "\n",
              "#sk-container-id-8 {\n",
              "  color: var(--sklearn-color-text);\n",
              "}\n",
              "\n",
              "#sk-container-id-8 pre {\n",
              "  padding: 0;\n",
              "}\n",
              "\n",
              "#sk-container-id-8 input.sk-hidden--visually {\n",
              "  border: 0;\n",
              "  clip: rect(1px 1px 1px 1px);\n",
              "  clip: rect(1px, 1px, 1px, 1px);\n",
              "  height: 1px;\n",
              "  margin: -1px;\n",
              "  overflow: hidden;\n",
              "  padding: 0;\n",
              "  position: absolute;\n",
              "  width: 1px;\n",
              "}\n",
              "\n",
              "#sk-container-id-8 div.sk-dashed-wrapped {\n",
              "  border: 1px dashed var(--sklearn-color-line);\n",
              "  margin: 0 0.4em 0.5em 0.4em;\n",
              "  box-sizing: border-box;\n",
              "  padding-bottom: 0.4em;\n",
              "  background-color: var(--sklearn-color-background);\n",
              "}\n",
              "\n",
              "#sk-container-id-8 div.sk-container {\n",
              "  /* jupyter's `normalize.less` sets `[hidden] { display: none; }`\n",
              "     but bootstrap.min.css set `[hidden] { display: none !important; }`\n",
              "     so we also need the `!important` here to be able to override the\n",
              "     default hidden behavior on the sphinx rendered scikit-learn.org.\n",
              "     See: https://github.com/scikit-learn/scikit-learn/issues/21755 */\n",
              "  display: inline-block !important;\n",
              "  position: relative;\n",
              "}\n",
              "\n",
              "#sk-container-id-8 div.sk-text-repr-fallback {\n",
              "  display: none;\n",
              "}\n",
              "\n",
              "div.sk-parallel-item,\n",
              "div.sk-serial,\n",
              "div.sk-item {\n",
              "  /* draw centered vertical line to link estimators */\n",
              "  background-image: linear-gradient(var(--sklearn-color-text-on-default-background), var(--sklearn-color-text-on-default-background));\n",
              "  background-size: 2px 100%;\n",
              "  background-repeat: no-repeat;\n",
              "  background-position: center center;\n",
              "}\n",
              "\n",
              "/* Parallel-specific style estimator block */\n",
              "\n",
              "#sk-container-id-8 div.sk-parallel-item::after {\n",
              "  content: \"\";\n",
              "  width: 100%;\n",
              "  border-bottom: 2px solid var(--sklearn-color-text-on-default-background);\n",
              "  flex-grow: 1;\n",
              "}\n",
              "\n",
              "#sk-container-id-8 div.sk-parallel {\n",
              "  display: flex;\n",
              "  align-items: stretch;\n",
              "  justify-content: center;\n",
              "  background-color: var(--sklearn-color-background);\n",
              "  position: relative;\n",
              "}\n",
              "\n",
              "#sk-container-id-8 div.sk-parallel-item {\n",
              "  display: flex;\n",
              "  flex-direction: column;\n",
              "}\n",
              "\n",
              "#sk-container-id-8 div.sk-parallel-item:first-child::after {\n",
              "  align-self: flex-end;\n",
              "  width: 50%;\n",
              "}\n",
              "\n",
              "#sk-container-id-8 div.sk-parallel-item:last-child::after {\n",
              "  align-self: flex-start;\n",
              "  width: 50%;\n",
              "}\n",
              "\n",
              "#sk-container-id-8 div.sk-parallel-item:only-child::after {\n",
              "  width: 0;\n",
              "}\n",
              "\n",
              "/* Serial-specific style estimator block */\n",
              "\n",
              "#sk-container-id-8 div.sk-serial {\n",
              "  display: flex;\n",
              "  flex-direction: column;\n",
              "  align-items: center;\n",
              "  background-color: var(--sklearn-color-background);\n",
              "  padding-right: 1em;\n",
              "  padding-left: 1em;\n",
              "}\n",
              "\n",
              "\n",
              "/* Toggleable style: style used for estimator/Pipeline/ColumnTransformer box that is\n",
              "clickable and can be expanded/collapsed.\n",
              "- Pipeline and ColumnTransformer use this feature and define the default style\n",
              "- Estimators will overwrite some part of the style using the `sk-estimator` class\n",
              "*/\n",
              "\n",
              "/* Pipeline and ColumnTransformer style (default) */\n",
              "\n",
              "#sk-container-id-8 div.sk-toggleable {\n",
              "  /* Default theme specific background. It is overwritten whether we have a\n",
              "  specific estimator or a Pipeline/ColumnTransformer */\n",
              "  background-color: var(--sklearn-color-background);\n",
              "}\n",
              "\n",
              "/* Toggleable label */\n",
              "#sk-container-id-8 label.sk-toggleable__label {\n",
              "  cursor: pointer;\n",
              "  display: flex;\n",
              "  width: 100%;\n",
              "  margin-bottom: 0;\n",
              "  padding: 0.5em;\n",
              "  box-sizing: border-box;\n",
              "  text-align: center;\n",
              "  align-items: start;\n",
              "  justify-content: space-between;\n",
              "  gap: 0.5em;\n",
              "}\n",
              "\n",
              "#sk-container-id-8 label.sk-toggleable__label .caption {\n",
              "  font-size: 0.6rem;\n",
              "  font-weight: lighter;\n",
              "  color: var(--sklearn-color-text-muted);\n",
              "}\n",
              "\n",
              "#sk-container-id-8 label.sk-toggleable__label-arrow:before {\n",
              "  /* Arrow on the left of the label */\n",
              "  content: \"▸\";\n",
              "  float: left;\n",
              "  margin-right: 0.25em;\n",
              "  color: var(--sklearn-color-icon);\n",
              "}\n",
              "\n",
              "#sk-container-id-8 label.sk-toggleable__label-arrow:hover:before {\n",
              "  color: var(--sklearn-color-text);\n",
              "}\n",
              "\n",
              "/* Toggleable content - dropdown */\n",
              "\n",
              "#sk-container-id-8 div.sk-toggleable__content {\n",
              "  max-height: 0;\n",
              "  max-width: 0;\n",
              "  overflow: hidden;\n",
              "  text-align: left;\n",
              "  /* unfitted */\n",
              "  background-color: var(--sklearn-color-unfitted-level-0);\n",
              "}\n",
              "\n",
              "#sk-container-id-8 div.sk-toggleable__content.fitted {\n",
              "  /* fitted */\n",
              "  background-color: var(--sklearn-color-fitted-level-0);\n",
              "}\n",
              "\n",
              "#sk-container-id-8 div.sk-toggleable__content pre {\n",
              "  margin: 0.2em;\n",
              "  border-radius: 0.25em;\n",
              "  color: var(--sklearn-color-text);\n",
              "  /* unfitted */\n",
              "  background-color: var(--sklearn-color-unfitted-level-0);\n",
              "}\n",
              "\n",
              "#sk-container-id-8 div.sk-toggleable__content.fitted pre {\n",
              "  /* unfitted */\n",
              "  background-color: var(--sklearn-color-fitted-level-0);\n",
              "}\n",
              "\n",
              "#sk-container-id-8 input.sk-toggleable__control:checked~div.sk-toggleable__content {\n",
              "  /* Expand drop-down */\n",
              "  max-height: 200px;\n",
              "  max-width: 100%;\n",
              "  overflow: auto;\n",
              "}\n",
              "\n",
              "#sk-container-id-8 input.sk-toggleable__control:checked~label.sk-toggleable__label-arrow:before {\n",
              "  content: \"▾\";\n",
              "}\n",
              "\n",
              "/* Pipeline/ColumnTransformer-specific style */\n",
              "\n",
              "#sk-container-id-8 div.sk-label input.sk-toggleable__control:checked~label.sk-toggleable__label {\n",
              "  color: var(--sklearn-color-text);\n",
              "  background-color: var(--sklearn-color-unfitted-level-2);\n",
              "}\n",
              "\n",
              "#sk-container-id-8 div.sk-label.fitted input.sk-toggleable__control:checked~label.sk-toggleable__label {\n",
              "  background-color: var(--sklearn-color-fitted-level-2);\n",
              "}\n",
              "\n",
              "/* Estimator-specific style */\n",
              "\n",
              "/* Colorize estimator box */\n",
              "#sk-container-id-8 div.sk-estimator input.sk-toggleable__control:checked~label.sk-toggleable__label {\n",
              "  /* unfitted */\n",
              "  background-color: var(--sklearn-color-unfitted-level-2);\n",
              "}\n",
              "\n",
              "#sk-container-id-8 div.sk-estimator.fitted input.sk-toggleable__control:checked~label.sk-toggleable__label {\n",
              "  /* fitted */\n",
              "  background-color: var(--sklearn-color-fitted-level-2);\n",
              "}\n",
              "\n",
              "#sk-container-id-8 div.sk-label label.sk-toggleable__label,\n",
              "#sk-container-id-8 div.sk-label label {\n",
              "  /* The background is the default theme color */\n",
              "  color: var(--sklearn-color-text-on-default-background);\n",
              "}\n",
              "\n",
              "/* On hover, darken the color of the background */\n",
              "#sk-container-id-8 div.sk-label:hover label.sk-toggleable__label {\n",
              "  color: var(--sklearn-color-text);\n",
              "  background-color: var(--sklearn-color-unfitted-level-2);\n",
              "}\n",
              "\n",
              "/* Label box, darken color on hover, fitted */\n",
              "#sk-container-id-8 div.sk-label.fitted:hover label.sk-toggleable__label.fitted {\n",
              "  color: var(--sklearn-color-text);\n",
              "  background-color: var(--sklearn-color-fitted-level-2);\n",
              "}\n",
              "\n",
              "/* Estimator label */\n",
              "\n",
              "#sk-container-id-8 div.sk-label label {\n",
              "  font-family: monospace;\n",
              "  font-weight: bold;\n",
              "  display: inline-block;\n",
              "  line-height: 1.2em;\n",
              "}\n",
              "\n",
              "#sk-container-id-8 div.sk-label-container {\n",
              "  text-align: center;\n",
              "}\n",
              "\n",
              "/* Estimator-specific */\n",
              "#sk-container-id-8 div.sk-estimator {\n",
              "  font-family: monospace;\n",
              "  border: 1px dotted var(--sklearn-color-border-box);\n",
              "  border-radius: 0.25em;\n",
              "  box-sizing: border-box;\n",
              "  margin-bottom: 0.5em;\n",
              "  /* unfitted */\n",
              "  background-color: var(--sklearn-color-unfitted-level-0);\n",
              "}\n",
              "\n",
              "#sk-container-id-8 div.sk-estimator.fitted {\n",
              "  /* fitted */\n",
              "  background-color: var(--sklearn-color-fitted-level-0);\n",
              "}\n",
              "\n",
              "/* on hover */\n",
              "#sk-container-id-8 div.sk-estimator:hover {\n",
              "  /* unfitted */\n",
              "  background-color: var(--sklearn-color-unfitted-level-2);\n",
              "}\n",
              "\n",
              "#sk-container-id-8 div.sk-estimator.fitted:hover {\n",
              "  /* fitted */\n",
              "  background-color: var(--sklearn-color-fitted-level-2);\n",
              "}\n",
              "\n",
              "/* Specification for estimator info (e.g. \"i\" and \"?\") */\n",
              "\n",
              "/* Common style for \"i\" and \"?\" */\n",
              "\n",
              ".sk-estimator-doc-link,\n",
              "a:link.sk-estimator-doc-link,\n",
              "a:visited.sk-estimator-doc-link {\n",
              "  float: right;\n",
              "  font-size: smaller;\n",
              "  line-height: 1em;\n",
              "  font-family: monospace;\n",
              "  background-color: var(--sklearn-color-background);\n",
              "  border-radius: 1em;\n",
              "  height: 1em;\n",
              "  width: 1em;\n",
              "  text-decoration: none !important;\n",
              "  margin-left: 0.5em;\n",
              "  text-align: center;\n",
              "  /* unfitted */\n",
              "  border: var(--sklearn-color-unfitted-level-1) 1pt solid;\n",
              "  color: var(--sklearn-color-unfitted-level-1);\n",
              "}\n",
              "\n",
              ".sk-estimator-doc-link.fitted,\n",
              "a:link.sk-estimator-doc-link.fitted,\n",
              "a:visited.sk-estimator-doc-link.fitted {\n",
              "  /* fitted */\n",
              "  border: var(--sklearn-color-fitted-level-1) 1pt solid;\n",
              "  color: var(--sklearn-color-fitted-level-1);\n",
              "}\n",
              "\n",
              "/* On hover */\n",
              "div.sk-estimator:hover .sk-estimator-doc-link:hover,\n",
              ".sk-estimator-doc-link:hover,\n",
              "div.sk-label-container:hover .sk-estimator-doc-link:hover,\n",
              ".sk-estimator-doc-link:hover {\n",
              "  /* unfitted */\n",
              "  background-color: var(--sklearn-color-unfitted-level-3);\n",
              "  color: var(--sklearn-color-background);\n",
              "  text-decoration: none;\n",
              "}\n",
              "\n",
              "div.sk-estimator.fitted:hover .sk-estimator-doc-link.fitted:hover,\n",
              ".sk-estimator-doc-link.fitted:hover,\n",
              "div.sk-label-container:hover .sk-estimator-doc-link.fitted:hover,\n",
              ".sk-estimator-doc-link.fitted:hover {\n",
              "  /* fitted */\n",
              "  background-color: var(--sklearn-color-fitted-level-3);\n",
              "  color: var(--sklearn-color-background);\n",
              "  text-decoration: none;\n",
              "}\n",
              "\n",
              "/* Span, style for the box shown on hovering the info icon */\n",
              ".sk-estimator-doc-link span {\n",
              "  display: none;\n",
              "  z-index: 9999;\n",
              "  position: relative;\n",
              "  font-weight: normal;\n",
              "  right: .2ex;\n",
              "  padding: .5ex;\n",
              "  margin: .5ex;\n",
              "  width: min-content;\n",
              "  min-width: 20ex;\n",
              "  max-width: 50ex;\n",
              "  color: var(--sklearn-color-text);\n",
              "  box-shadow: 2pt 2pt 4pt #999;\n",
              "  /* unfitted */\n",
              "  background: var(--sklearn-color-unfitted-level-0);\n",
              "  border: .5pt solid var(--sklearn-color-unfitted-level-3);\n",
              "}\n",
              "\n",
              ".sk-estimator-doc-link.fitted span {\n",
              "  /* fitted */\n",
              "  background: var(--sklearn-color-fitted-level-0);\n",
              "  border: var(--sklearn-color-fitted-level-3);\n",
              "}\n",
              "\n",
              ".sk-estimator-doc-link:hover span {\n",
              "  display: block;\n",
              "}\n",
              "\n",
              "/* \"?\"-specific style due to the `<a>` HTML tag */\n",
              "\n",
              "#sk-container-id-8 a.estimator_doc_link {\n",
              "  float: right;\n",
              "  font-size: 1rem;\n",
              "  line-height: 1em;\n",
              "  font-family: monospace;\n",
              "  background-color: var(--sklearn-color-background);\n",
              "  border-radius: 1rem;\n",
              "  height: 1rem;\n",
              "  width: 1rem;\n",
              "  text-decoration: none;\n",
              "  /* unfitted */\n",
              "  color: var(--sklearn-color-unfitted-level-1);\n",
              "  border: var(--sklearn-color-unfitted-level-1) 1pt solid;\n",
              "}\n",
              "\n",
              "#sk-container-id-8 a.estimator_doc_link.fitted {\n",
              "  /* fitted */\n",
              "  border: var(--sklearn-color-fitted-level-1) 1pt solid;\n",
              "  color: var(--sklearn-color-fitted-level-1);\n",
              "}\n",
              "\n",
              "/* On hover */\n",
              "#sk-container-id-8 a.estimator_doc_link:hover {\n",
              "  /* unfitted */\n",
              "  background-color: var(--sklearn-color-unfitted-level-3);\n",
              "  color: var(--sklearn-color-background);\n",
              "  text-decoration: none;\n",
              "}\n",
              "\n",
              "#sk-container-id-8 a.estimator_doc_link.fitted:hover {\n",
              "  /* fitted */\n",
              "  background-color: var(--sklearn-color-fitted-level-3);\n",
              "}\n",
              "</style><div id=\"sk-container-id-8\" class=\"sk-top-container\"><div class=\"sk-text-repr-fallback\"><pre>GridSearchCV(cv=5,\n",
              "             estimator=SVC(class_weight=&#x27;balanced&#x27;, probability=True,\n",
              "                           random_state=42),\n",
              "             n_jobs=-1,\n",
              "             param_grid={&#x27;C&#x27;: [0.1, 1], &#x27;gamma&#x27;: [&#x27;scale&#x27;],\n",
              "                         &#x27;kernel&#x27;: [&#x27;linear&#x27;, &#x27;rbf&#x27;]},\n",
              "             scoring=&#x27;balanced_accuracy&#x27;, verbose=1)</pre><b>In a Jupyter environment, please rerun this cell to show the HTML representation or trust the notebook. <br />On GitHub, the HTML representation is unable to render, please try loading this page with nbviewer.org.</b></div><div class=\"sk-container\" hidden><div class=\"sk-item sk-dashed-wrapped\"><div class=\"sk-label-container\"><div class=\"sk-label fitted sk-toggleable\"><input class=\"sk-toggleable__control sk-hidden--visually\" id=\"sk-estimator-id-18\" type=\"checkbox\" ><label for=\"sk-estimator-id-18\" class=\"sk-toggleable__label fitted sk-toggleable__label-arrow\"><div><div>GridSearchCV</div></div><div><a class=\"sk-estimator-doc-link fitted\" rel=\"noreferrer\" target=\"_blank\" href=\"https://scikit-learn.org/1.6/modules/generated/sklearn.model_selection.GridSearchCV.html\">?<span>Documentation for GridSearchCV</span></a><span class=\"sk-estimator-doc-link fitted\">i<span>Fitted</span></span></div></label><div class=\"sk-toggleable__content fitted\"><pre>GridSearchCV(cv=5,\n",
              "             estimator=SVC(class_weight=&#x27;balanced&#x27;, probability=True,\n",
              "                           random_state=42),\n",
              "             n_jobs=-1,\n",
              "             param_grid={&#x27;C&#x27;: [0.1, 1], &#x27;gamma&#x27;: [&#x27;scale&#x27;],\n",
              "                         &#x27;kernel&#x27;: [&#x27;linear&#x27;, &#x27;rbf&#x27;]},\n",
              "             scoring=&#x27;balanced_accuracy&#x27;, verbose=1)</pre></div> </div></div><div class=\"sk-parallel\"><div class=\"sk-parallel-item\"><div class=\"sk-item\"><div class=\"sk-label-container\"><div class=\"sk-label fitted sk-toggleable\"><input class=\"sk-toggleable__control sk-hidden--visually\" id=\"sk-estimator-id-19\" type=\"checkbox\" ><label for=\"sk-estimator-id-19\" class=\"sk-toggleable__label fitted sk-toggleable__label-arrow\"><div><div>best_estimator_: SVC</div></div></label><div class=\"sk-toggleable__content fitted\"><pre>SVC(C=1, class_weight=&#x27;balanced&#x27;, kernel=&#x27;linear&#x27;, probability=True,\n",
              "    random_state=42)</pre></div> </div></div><div class=\"sk-serial\"><div class=\"sk-item\"><div class=\"sk-estimator fitted sk-toggleable\"><input class=\"sk-toggleable__control sk-hidden--visually\" id=\"sk-estimator-id-20\" type=\"checkbox\" ><label for=\"sk-estimator-id-20\" class=\"sk-toggleable__label fitted sk-toggleable__label-arrow\"><div><div>SVC</div></div><div><a class=\"sk-estimator-doc-link fitted\" rel=\"noreferrer\" target=\"_blank\" href=\"https://scikit-learn.org/1.6/modules/generated/sklearn.svm.SVC.html\">?<span>Documentation for SVC</span></a></div></label><div class=\"sk-toggleable__content fitted\"><pre>SVC(C=1, class_weight=&#x27;balanced&#x27;, kernel=&#x27;linear&#x27;, probability=True,\n",
              "    random_state=42)</pre></div> </div></div></div></div></div></div></div></div></div>"
            ],
            "text/plain": [
              "GridSearchCV(cv=5,\n",
              "             estimator=SVC(class_weight='balanced', probability=True,\n",
              "                           random_state=42),\n",
              "             n_jobs=-1,\n",
              "             param_grid={'C': [0.1, 1], 'gamma': ['scale'],\n",
              "                         'kernel': ['linear', 'rbf']},\n",
              "             scoring='balanced_accuracy', verbose=1)"
            ]
          },
          "execution_count": 153,
          "metadata": {},
          "output_type": "execute_result"
        }
      ],
      "source": [
        "print(\"\\nExécution de Grid Search pour SVM...\")\n",
        "grid_search = GridSearchCV(\n",
        "    svm_model,\n",
        "    param_grid,\n",
        "    cv=5,\n",
        "    scoring='balanced_accuracy',\n",
        "    n_jobs=-1,\n",
        "    verbose=1\n",
        ")\n",
        "grid_search.fit(X_train, y_train)"
      ]
    },
    {
      "cell_type": "code",
      "execution_count": null,
      "metadata": {
        "id": "s_W52Qrux4yP",
        "outputId": "3fc551de-16f6-4455-f351-17e82295a5f4"
      },
      "outputs": [
        {
          "name": "stdout",
          "output_type": "stream",
          "text": [
            "Meilleurs paramètres SVM: {'C': 1, 'gamma': 'scale', 'kernel': 'linear'}\n"
          ]
        }
      ],
      "source": [
        "print(f\"Meilleurs paramètres SVM: {grid_search.best_params_}\")\n",
        "best_svm = grid_search.best_estimator_"
      ]
    },
    {
      "cell_type": "code",
      "execution_count": null,
      "metadata": {
        "id": "jTaKB2aVx4yV",
        "outputId": "ee4df925-4d81-4a0f-fb2e-66d6d06b6dbc"
      },
      "outputs": [
        {
          "name": "stdout",
          "output_type": "stream",
          "text": [
            "\n",
            "=== Évaluation du modèle SVM (optimisé) ===\n",
            "\n",
            "Traitement du fold 1/5...\n",
            "Traitement du fold 2/5...\n",
            "Traitement du fold 3/5...\n",
            "Traitement du fold 4/5...\n",
            "Traitement du fold 5/5...\n",
            "\n",
            "Score F1 macro (validation croisée sur X_train) : 0.4741\n",
            "\n",
            "=== Rapport de classification moyen (SVM (optimisé), 5 folds sur train) ===\n",
            "\n",
            "              precision  recall  f1-score   support\n",
            "Augmentation     0.5692  0.4793    0.5199  125.6000\n",
            "Baisse           0.4660  0.5183    0.4892   98.4000\n",
            "Stable           0.3912  0.4404    0.4132   67.2000\n",
            "macro avg        0.4754  0.4794    0.4741   97.0667\n",
            "weighted avg     0.4932  0.4835    0.4849  291.2000\n",
            "\n",
            "Précision équilibrée moyenne : 0.4794\n",
            "\n",
            "Entraînement du modèle SVM (optimisé) final sur l'ensemble des données d'entraînement...\n",
            "\n",
            "=== Évaluation sur l'ensemble de test (SVM (optimisé)) ===\n",
            "\n",
            "Score F1 macro (test) : 0.4972\n",
            "Précision équilibrée sur test : 0.5070\n",
            "\n",
            "Rapport de classification sur l'ensemble de test :\n",
            "\n",
            "              precision  recall  f1-score   support\n",
            "Augmentation     0.5893  0.4204    0.4907  157.0000\n",
            "Baisse           0.4534  0.5887    0.5123  124.0000\n",
            "Stable           0.4674  0.5119    0.4886   84.0000\n",
            "macro avg        0.5034  0.5070    0.4972  121.6667\n",
            "weighted avg     0.5151  0.4986    0.4976  365.0000\n"
          ]
        }
      ],
      "source": [
        "svm_results = run_model_evaluation(\n",
        "    \"SVM (optimisé)\",best_svm,\n",
        "    X_train, y_train, X_test, y_test,\n",
        "    cv,label_encoder)"
      ]
    },
    {
      "cell_type": "markdown",
      "metadata": {
        "id": "Dgn2owmFx4yW"
      },
      "source": [
        "**Conclusions du modèle SVM :**\n",
        "\n",
        "- *1ère constatation* : Le modèle SVM optimisé affiche des performances globalement solides, avec un score F1 macro de 0.4741 obtenu par validation croisée sur l’ensemble d’entraînement, et un score légèrement supérieur de 0.4972 sur le jeu de test. Cette cohérence entre les deux phases d’évaluation, accompagnée d’une précision équilibrée de 0.5070 en test, démontre une bonne capacité de généralisation : le modèle ne surapprend pas et reste fiable lorsqu’il est confronté à de nouvelles données.\n",
        "\n",
        "- *2de constatation* :  Un autre point fort réside dans sa capacité à mieux gérer les classes historiquement plus difficiles à prédire, notamment la classe \"Stable\". Alors que cette classe atteignait un F1-score relativement faible en validation croisée (0.41), elle atteint désormais 0.49 en test, avec un rappel supérieur à 0.51.\n",
        "\n",
        "- *3ème constatation* : le modèle se distingue par une répartition homogène de ses performances entre les classes. Les F1-scores obtenus sur le test varient très peu d’une classe à l’autre (Augmentation : 0.49, Baisse : 0.51, Stable : 0.49), ce qui confirme que le modèle ne favorise pas excessivement une classe dominante au détriment des autres"
      ]
    },
    {
      "cell_type": "markdown",
      "metadata": {
        "id": "T9z8akz8x4yW"
      },
      "source": [
        "#### f) Comparaison des modèles"
      ]
    },
    {
      "cell_type": "code",
      "execution_count": null,
      "metadata": {
        "id": "5a4uqoK8x4yb",
        "outputId": "26a5de8d-e180-4373-ad03-80915e8d40bd"
      },
      "outputs": [
        {
          "name": "stdout",
          "output_type": "stream",
          "text": [
            "\n",
            "Comparaison des performances des modèles:\n",
            "\n",
            "                          Naive Bayes     SVM  Régression Logistique\n",
            "Balanced Accuracy (CV)         0.4220  0.4794                 0.4685\n",
            "Balanced Accuracy (Test)       0.4128  0.5070                 0.4918\n",
            "F1-score macro (CV)            0.4164  0.4741                 0.4700\n",
            "F1-score macro (Test)          0.4189  0.4972                 0.4913\n"
          ]
        }
      ],
      "source": [
        "model_comparison = pd.DataFrame({\n",
        "    'Naive Bayes': [nb_results[3], nb_results[4], nb_results[1].loc['macro avg', 'f1-score'], nb_results[2].loc['macro avg', 'f1-score']],\n",
        "    'SVM': [svm_results[3], svm_results[4], svm_results[1].loc['macro avg', 'f1-score'], svm_results[2].loc['macro avg', 'f1-score']],\n",
        "    'Régression Logistique': [lr_results[3], lr_results[4], lr_results[1].loc['macro avg', 'f1-score'], lr_results[2].loc['macro avg', 'f1-score']]\n",
        "}, index=['Balanced Accuracy (CV)', 'Balanced Accuracy (Test)', 'F1-score macro (CV)', 'F1-score macro (Test)'])\n",
        "\n",
        "print(\"\\nComparaison des performances des modèles:\\n\")\n",
        "print(model_comparison.round(4))"
      ]
    },
    {
      "cell_type": "markdown",
      "metadata": {
        "id": "Hrg4ekxsx4yc"
      },
      "source": [
        "La comparaison des trois modèles montre que le SVM optimisé est celui qui offre les meilleures performances globales, avec un F1-score macro de 0.4972 et une précision équilibrée de 0.5070 sur le jeu de test, ce qui traduit à la fois une bonne couverture des classes et une capacité de généralisation efficace. La régression logistique suit de très près, avec des scores très similaires (F1 macro : 0.4913, balanced accuracy : 0.4918), et se distingue par sa stabilité entre la validation croisée et le test, tout en offrant l'avantage d’une interprétabilité plus forte. En revanche, Naive Bayes reste en retrait, avec un F1-score de 0.4189 et une précision équilibrée de 0.4128 en test, ce qui en fait un bon modèle de référence initial mais limité dans sa capacité à capturer les relations complexes du langage. Ces résultats confirment que des modèles plus flexibles et optimisés comme le SVM ou la régression logistique sont mieux adaptés pour traiter un jeu de données textuel déséquilibré."
      ]
    },
    {
      "cell_type": "markdown",
      "metadata": {
        "id": "cvyanEphx4yd"
      },
      "source": [
        "### 4 - Modèlisation basée sur des représentations avancées"
      ]
    },
    {
      "cell_type": "markdown",
      "metadata": {
        "id": "DHoIMv0Cx4yj"
      },
      "source": [
        "#### a) Word Embeddings avec GloVe"
      ]
    },
    {
      "cell_type": "code",
      "execution_count": null,
      "metadata": {
        "id": "4ZWbsjNgx4yj"
      },
      "outputs": [],
      "source": [
        "model = api.load(\"glove-wiki-gigaword-100\")  # 100 dimensions\n",
        "embedding_dim= 100"
      ]
    },
    {
      "cell_type": "code",
      "execution_count": null,
      "metadata": {
        "id": "Ol8JXkMEx4yj"
      },
      "outputs": [],
      "source": [
        "def glove_tfidf_vectorizer_max_pooling(corpus, texts, model, dim=100):\n",
        "    vectorizer = TfidfVectorizer()\n",
        "    vectorizer.fit(corpus)\n",
        "\n",
        "    feature_names = vectorizer.get_feature_names_out()\n",
        "    word_to_idx = {word: idx for idx, word in enumerate(feature_names)}\n",
        "\n",
        "    document_vectors = []\n",
        "\n",
        "    for text in texts:\n",
        "        tfidf = vectorizer.transform([text]).toarray()[0]\n",
        "\n",
        "        word_vectors = []\n",
        "        for word in text.split():\n",
        "            if word in model and word in word_to_idx:\n",
        "                idx = word_to_idx[word]\n",
        "                weight = tfidf[idx]\n",
        "                if weight > 0:\n",
        "                    word_vectors.append(model[word] * weight)\n",
        "\n",
        "        if word_vectors:\n",
        "            # Max pooling : on prend le max par dimension parmi les vecteurs pondérés\n",
        "            word_vectors = np.vstack(word_vectors)\n",
        "            max_pooled = np.max(word_vectors, axis=0)\n",
        "            document_vectors.append(max_pooled)\n",
        "        else:\n",
        "            document_vectors.append(np.zeros(dim))\n",
        "\n",
        "    return np.array(document_vectors)\n"
      ]
    },
    {
      "cell_type": "code",
      "execution_count": null,
      "metadata": {
        "id": "dPOFKUVJx4yl"
      },
      "outputs": [],
      "source": [
        "X_vec = glove_tfidf_vectorizer_max_pooling(X, X, model, dim=embedding_dim)"
      ]
    },
    {
      "cell_type": "code",
      "execution_count": null,
      "metadata": {
        "id": "mfH4gFDix4yr"
      },
      "outputs": [],
      "source": [
        "X_train_vec, X_test_vec, y_train, y_test = train_test_split(X_vec, y_encoded, test_size=0.2, random_state=42, stratify=y_encoded)"
      ]
    },
    {
      "cell_type": "markdown",
      "metadata": {
        "id": "tMCQFGOVx4yr"
      },
      "source": [
        "#### b) Modélisation par SVM"
      ]
    },
    {
      "cell_type": "code",
      "execution_count": null,
      "metadata": {
        "id": "xS8eLMNax4yr"
      },
      "outputs": [],
      "source": [
        "cv = StratifiedKFold(n_splits=5, shuffle=True, random_state=42)"
      ]
    },
    {
      "cell_type": "code",
      "execution_count": null,
      "metadata": {
        "id": "8DHRBWAbx4yr",
        "outputId": "980093df-6bd3-4706-c97a-8398cb3ece88"
      },
      "outputs": [
        {
          "name": "stdout",
          "output_type": "stream",
          "text": [
            "\n",
            "Exécution de Grid Search pour SVM avec embeddings GloVe...\n"
          ]
        }
      ],
      "source": [
        "param_grid = {\n",
        "    'C': [0.1, 1],\n",
        "    'kernel': ['linear', 'rbf'],\n",
        "    'gamma': ['scale']\n",
        "}\n",
        "\n",
        "print(\"\\nExécution de Grid Search pour SVM avec embeddings GloVe...\")\n",
        "svm_model = SVC(probability=True, random_state=42, class_weight='balanced')"
      ]
    },
    {
      "cell_type": "code",
      "execution_count": null,
      "metadata": {
        "id": "ap2DrarJx4yx",
        "outputId": "f3b3b16b-d1bc-485c-e9c8-c49a110ec1d1"
      },
      "outputs": [
        {
          "name": "stdout",
          "output_type": "stream",
          "text": [
            "Fitting 5 folds for each of 4 candidates, totalling 20 fits\n",
            "\n",
            "Meilleurs paramètres SVM: {'C': 1, 'gamma': 'scale', 'kernel': 'rbf'}\n"
          ]
        }
      ],
      "source": [
        "grid_search = GridSearchCV(\n",
        "    svm_model,\n",
        "    param_grid,\n",
        "    cv=5,\n",
        "    scoring='f1_macro',\n",
        "    n_jobs=-1,\n",
        "    verbose=1\n",
        ")\n",
        "\n",
        "grid_search.fit(X_train_vec, y_train)\n",
        "\n",
        "print(f\"\\nMeilleurs paramètres SVM: {grid_search.best_params_}\")\n",
        "best_svm = grid_search.best_estimator_"
      ]
    },
    {
      "cell_type": "code",
      "execution_count": null,
      "metadata": {
        "id": "aH4C3W-tx4yy",
        "outputId": "103a0612-9c56-4839-92b7-d67a3616835c"
      },
      "outputs": [
        {
          "name": "stdout",
          "output_type": "stream",
          "text": [
            "\n",
            "=== Évaluation du modèle SVM (GloVe embeddings) ===\n",
            "\n",
            "Traitement du fold 1/5...\n",
            "Traitement du fold 2/5...\n",
            "Traitement du fold 3/5...\n",
            "Traitement du fold 4/5...\n",
            "Traitement du fold 5/5...\n",
            "\n",
            "Score F1 macro (validation croisée sur X_train) : 0.3904\n",
            "\n",
            "=== Rapport de classification moyen (SVM (GloVe embeddings), 5 folds sur train) ===\n",
            "\n",
            "              precision  recall  f1-score   support\n",
            "Augmentation     0.5076  0.3425    0.4082  125.6000\n",
            "Baisse           0.4013  0.4839    0.4383   98.4000\n",
            "Stable           0.2876  0.3750    0.3248   67.2000\n",
            "macro avg        0.3988  0.4005    0.3904   97.0667\n",
            "weighted avg     0.4209  0.3978    0.3991  291.2000\n",
            "\n",
            "Précision équilibrée moyenne : 0.4005\n",
            "\n",
            "Entraînement du modèle SVM (GloVe embeddings) final sur l'ensemble des données d'entraînement...\n",
            "\n",
            "=== Évaluation sur l'ensemble de test (SVM (GloVe embeddings)) ===\n",
            "\n",
            "Score F1 macro (test) : 0.3747\n",
            "Précision équilibrée sur test : 0.3950\n",
            "\n",
            "Rapport de classification sur l'ensemble de test :\n",
            "\n",
            "              precision  recall  f1-score   support\n",
            "Augmentation     0.4457  0.2611    0.3293  157.0000\n",
            "Baisse           0.3677  0.4597    0.4086  124.0000\n",
            "Stable           0.3305  0.4643    0.3861   84.0000\n",
            "macro avg        0.3813  0.3950    0.3747  121.6667\n",
            "weighted avg     0.3927  0.3753    0.3693  365.0000\n"
          ]
        }
      ],
      "source": [
        "svm_glove_results = run_model_evaluation(\n",
        "    \"SVM (GloVe embeddings)\",\n",
        "    best_svm,\n",
        "    X_train_vec, y_train,\n",
        "    X_test_vec, y_test,\n",
        "    cv,\n",
        "    label_encoder)"
      ]
    },
    {
      "cell_type": "markdown",
      "metadata": {
        "id": "5CBSYc1Bx4y4"
      },
      "source": [
        "**Conclusions du modèle SVM avec embeddings GloVe pondérés par TF - IDF:**\n",
        "\n",
        "- *1ère constatation* : Les performances du modèle SVM utilisant des embeddings GloVe pondérés par TF-IDF sont globalement faibles, avec un F1-score macro de 0.3747 sur le jeu de test et une précision équilibrée de 0.3950. Ces scores, proches d’un tirage aléatoire dans un problème à trois classes (≈0.33), montrent que le modèle peine à distinguer de manière fiable les différentes classes.\n",
        "\n",
        "- *2de constatation* :  L’analyse plus fine des performances par classe confirme cela, notamment pour la classe \"Augmentation\", qui est pourtant bien représentée dans les données mais obtient un rappel catastrophique de 0.26. Cela signifie que plus de 70 % des cas réels de cette classe ne sont pas détectés. Malgré une pondération TF-IDF, les vecteurs GloVe, en moyenne ou en max pooling, lissent excessivement l'information et ne permettent pas de capturer les signaux spécifiques à certains termes clés ou formulations qui pourraient faire la différence entre une hausse, une baisse ou une stabilité des taux.\n",
        "\n",
        "- *3ème constatation* : le problème réside dans le fait que GloVe produit des représentations non contextuelles c'est-à-dire que chaque mot a un vecteur unique, indépendamment de son sens dans la phrase. Or, dans des discours de la FED, le sens des mots est fortement dépendant du contexte (\"raise\" peut concerner les taux, les salaires ou l'inflation selon la formulation).\n",
        "\n",
        "Tentons tout de même d'appliquer un modèle XG BOOST. Malgré des représentations textuelles imparfaites, XGBoost peut tirer son épingle du jeu grâce à sa capacité à modéliser des relations non linéaires, ignorer le bruit, et gérer les déséquilibres."
      ]
    },
    {
      "cell_type": "code",
      "execution_count": null,
      "metadata": {
        "id": "PhkWbpQzx4y5"
      },
      "outputs": [],
      "source": [
        "class_counts = np.bincount(y_train)\n",
        "total = sum(class_counts)\n",
        "class_weights = [total / (len(class_counts) * c) for c in class_counts]"
      ]
    },
    {
      "cell_type": "code",
      "execution_count": null,
      "metadata": {
        "id": "icN4WZFKx4y5"
      },
      "outputs": [],
      "source": [
        "param_grid_xgb = {\n",
        "    'max_depth': [3, 5],\n",
        "    'learning_rate': [0.1, 0.3],\n",
        "    'n_estimators': [50, 100]\n",
        "}\n",
        "\n",
        "xgb_model = XGBClassifier(\n",
        "    objective='multi:softprob',         \n",
        "    num_class=len(np.unique(y_train)),  \n",
        "    eval_metric='mlogloss',\n",
        "    use_label_encoder=False,\n",
        "    random_state=42,\n",
        "    scale_pos_weight=class_weights     \n",
        ")"
      ]
    },
    {
      "cell_type": "code",
      "execution_count": null,
      "metadata": {
        "id": "CZ1Hw1HBx4y6",
        "outputId": "cdc14dca-39c4-4564-b180-9179de0dec40"
      },
      "outputs": [
        {
          "name": "stdout",
          "output_type": "stream",
          "text": [
            "\n",
            "🔍 Exécution de Grid Search pour XGBoost avec embeddings GloVe...\n",
            "Fitting 5 folds for each of 8 candidates, totalling 40 fits\n"
          ]
        },
        {
          "name": "stderr",
          "output_type": "stream",
          "text": [
            "c:\\Users\\Lia\\OneDrive - Université Paris 1 Panthéon-Sorbonne\\Bureau\\MASTER 2\\S2\\NLP\\.venv\\Lib\\site-packages\\xgboost\\training.py:183: UserWarning: [12:32:03] WARNING: C:\\actions-runner\\_work\\xgboost\\xgboost\\src\\learner.cc:738: \n",
            "Parameters: { \"scale_pos_weight\", \"use_label_encoder\" } are not used.\n",
            "\n",
            "  bst.update(dtrain, iteration=i, fobj=obj)\n"
          ]
        },
        {
          "name": "stdout",
          "output_type": "stream",
          "text": [
            "\n",
            "✅ Meilleurs paramètres XGBoost : {'learning_rate': 0.3, 'max_depth': 5, 'n_estimators': 100}\n"
          ]
        }
      ],
      "source": [
        "grid_search_xgb = GridSearchCV(\n",
        "    estimator=xgb_model,\n",
        "    param_grid=param_grid_xgb,\n",
        "    cv=cv,\n",
        "    scoring='f1_macro',\n",
        "    n_jobs=-1,\n",
        "    verbose=1\n",
        ")\n",
        "\n",
        "print(\"\\n Exécution de Grid Search pour XGBoost avec embeddings GloVe...\")\n",
        "grid_search_xgb.fit(X_train_vec, y_train)\n",
        "\n",
        "print(f\"\\n Meilleurs paramètres XGBoost : {grid_search_xgb.best_params_}\")\n",
        "best_xgb = grid_search_xgb.best_estimator_"
      ]
    },
    {
      "cell_type": "code",
      "execution_count": null,
      "metadata": {
        "id": "S1hO9Skpx4y_",
        "outputId": "c43d629e-a9e5-4eab-ffcf-c2f6462f71d1"
      },
      "outputs": [
        {
          "name": "stdout",
          "output_type": "stream",
          "text": [
            "\n",
            "=== Évaluation du modèle XGBoost (GloVe embeddings) ===\n",
            "\n",
            "Traitement du fold 1/5...\n"
          ]
        },
        {
          "name": "stderr",
          "output_type": "stream",
          "text": [
            "c:\\Users\\Lia\\OneDrive - Université Paris 1 Panthéon-Sorbonne\\Bureau\\MASTER 2\\S2\\NLP\\.venv\\Lib\\site-packages\\xgboost\\training.py:183: UserWarning: [12:32:11] WARNING: C:\\actions-runner\\_work\\xgboost\\xgboost\\src\\learner.cc:738: \n",
            "Parameters: { \"scale_pos_weight\", \"use_label_encoder\" } are not used.\n",
            "\n",
            "  bst.update(dtrain, iteration=i, fobj=obj)\n"
          ]
        },
        {
          "name": "stdout",
          "output_type": "stream",
          "text": [
            "Traitement du fold 2/5...\n"
          ]
        },
        {
          "name": "stderr",
          "output_type": "stream",
          "text": [
            "c:\\Users\\Lia\\OneDrive - Université Paris 1 Panthéon-Sorbonne\\Bureau\\MASTER 2\\S2\\NLP\\.venv\\Lib\\site-packages\\xgboost\\training.py:183: UserWarning: [12:32:14] WARNING: C:\\actions-runner\\_work\\xgboost\\xgboost\\src\\learner.cc:738: \n",
            "Parameters: { \"scale_pos_weight\", \"use_label_encoder\" } are not used.\n",
            "\n",
            "  bst.update(dtrain, iteration=i, fobj=obj)\n"
          ]
        },
        {
          "name": "stdout",
          "output_type": "stream",
          "text": [
            "Traitement du fold 3/5...\n"
          ]
        },
        {
          "name": "stderr",
          "output_type": "stream",
          "text": [
            "c:\\Users\\Lia\\OneDrive - Université Paris 1 Panthéon-Sorbonne\\Bureau\\MASTER 2\\S2\\NLP\\.venv\\Lib\\site-packages\\xgboost\\training.py:183: UserWarning: [12:32:17] WARNING: C:\\actions-runner\\_work\\xgboost\\xgboost\\src\\learner.cc:738: \n",
            "Parameters: { \"scale_pos_weight\", \"use_label_encoder\" } are not used.\n",
            "\n",
            "  bst.update(dtrain, iteration=i, fobj=obj)\n"
          ]
        },
        {
          "name": "stdout",
          "output_type": "stream",
          "text": [
            "Traitement du fold 4/5...\n"
          ]
        },
        {
          "name": "stderr",
          "output_type": "stream",
          "text": [
            "c:\\Users\\Lia\\OneDrive - Université Paris 1 Panthéon-Sorbonne\\Bureau\\MASTER 2\\S2\\NLP\\.venv\\Lib\\site-packages\\xgboost\\training.py:183: UserWarning: [12:32:20] WARNING: C:\\actions-runner\\_work\\xgboost\\xgboost\\src\\learner.cc:738: \n",
            "Parameters: { \"scale_pos_weight\", \"use_label_encoder\" } are not used.\n",
            "\n",
            "  bst.update(dtrain, iteration=i, fobj=obj)\n"
          ]
        },
        {
          "name": "stdout",
          "output_type": "stream",
          "text": [
            "Traitement du fold 5/5...\n"
          ]
        },
        {
          "name": "stderr",
          "output_type": "stream",
          "text": [
            "c:\\Users\\Lia\\OneDrive - Université Paris 1 Panthéon-Sorbonne\\Bureau\\MASTER 2\\S2\\NLP\\.venv\\Lib\\site-packages\\xgboost\\training.py:183: UserWarning: [12:32:23] WARNING: C:\\actions-runner\\_work\\xgboost\\xgboost\\src\\learner.cc:738: \n",
            "Parameters: { \"scale_pos_weight\", \"use_label_encoder\" } are not used.\n",
            "\n",
            "  bst.update(dtrain, iteration=i, fobj=obj)\n"
          ]
        },
        {
          "name": "stdout",
          "output_type": "stream",
          "text": [
            "\n",
            "Score F1 macro (validation croisée sur X_train) : 0.3959\n",
            "\n",
            "=== Rapport de classification moyen (XGBoost (GloVe embeddings), 5 folds sur train) ===\n",
            "\n",
            "              precision  recall  f1-score   support\n",
            "Augmentation     0.4775  0.6305    0.5432  125.6000\n",
            "Baisse           0.4321  0.3800    0.4037   98.4000\n",
            "Stable           0.3275  0.1906    0.2407   67.2000\n",
            "macro avg        0.4124  0.4003    0.3959   97.0667\n",
            "weighted avg     0.4275  0.4443    0.4262  291.2000\n",
            "\n",
            "Précision équilibrée moyenne : 0.4003\n",
            "\n",
            "Entraînement du modèle XGBoost (GloVe embeddings) final sur l'ensemble des données d'entraînement...\n"
          ]
        },
        {
          "name": "stderr",
          "output_type": "stream",
          "text": [
            "c:\\Users\\Lia\\OneDrive - Université Paris 1 Panthéon-Sorbonne\\Bureau\\MASTER 2\\S2\\NLP\\.venv\\Lib\\site-packages\\xgboost\\training.py:183: UserWarning: [12:32:25] WARNING: C:\\actions-runner\\_work\\xgboost\\xgboost\\src\\learner.cc:738: \n",
            "Parameters: { \"scale_pos_weight\", \"use_label_encoder\" } are not used.\n",
            "\n",
            "  bst.update(dtrain, iteration=i, fobj=obj)\n"
          ]
        },
        {
          "name": "stdout",
          "output_type": "stream",
          "text": [
            "\n",
            "=== Évaluation sur l'ensemble de test (XGBoost (GloVe embeddings)) ===\n",
            "\n",
            "Score F1 macro (test) : 0.3876\n",
            "Précision équilibrée sur test : 0.3893\n",
            "\n",
            "Rapport de classification sur l'ensemble de test :\n",
            "\n",
            "              precision  recall  f1-score   support\n",
            "Augmentation     0.4796  0.5987    0.5326  157.0000\n",
            "Baisse           0.3729  0.3548    0.3636  124.0000\n",
            "Stable           0.3529  0.2143    0.2667   84.0000\n",
            "macro avg        0.4018  0.3893    0.3876  121.6667\n",
            "weighted avg     0.4142  0.4274    0.4140  365.0000\n"
          ]
        }
      ],
      "source": [
        "xgb_glove_results = run_model_evaluation(\n",
        "    \"XGBoost (GloVe embeddings)\",\n",
        "    best_xgb,\n",
        "    X_train_vec, y_train,\n",
        "    X_test_vec, y_test,\n",
        "    cv,\n",
        "    label_encoder\n",
        ")"
      ]
    },
    {
      "cell_type": "markdown",
      "metadata": {
        "id": "KtpbIngvx4zA"
      },
      "source": [
        "**Conclusions du modèle XGboost avec embeddings GloVe pondérés par TF - IDF:**\n",
        "\n",
        "- *1ère constatation* : Les performances du modèle XGBoost avec embeddings GloVe restent modestes, avec un F1-score macro de 0.3876 et une précision équilibrée de 0.3893 sur le jeu de test. Ces scores sont légèrement au-dessus du hasard, mais confirment que le modèle a des difficultés à capturer les caractéristiques discriminantes du texte. Malgré une optimisation par validation croisée, les résultats montrent que XGBoost n’est pas capable, de compenser les limites des représentations GloVe, surtout dans un contexte aussi subtil que celui de la prédiction d’intention de politique monétaire à partir de discours de la FED.\n",
        "\n",
        "- *2de constatation* :  Lorsqu'on analyse les classes individuellement, le modèle obtient ses meilleurs résultats sur la classe \"Augmentation\" (F1-score : 0.53), avec un rappel de 0.60, ce qui signifie qu’il parvient à détecter correctement une majorité des cas positifs dans cette classe. En revanche, les classes \"Baisse\" et surtout \"Stable\" sont beaucoup moins bien reconnues.\n",
        "\n",
        "- *3ème constatation* : si XGBoost peut être légèrement plus souple que SVM pour exploiter des représentations bruitées, il reste très dépendant de la qualité des embeddings en entrée. GloVe, étant un modèle non contextuel, produit les mêmes vecteurs pour un mot quel que soit son contexte, ce qui est particulièrement limitant pour analyser des discours où le sens dépend fortement des formulations. Le modèle n’a pas suffisamment d'information pour apprendre des règles précises de décision à partir des vecteurs GloVe."
      ]
    },
    {
      "cell_type": "code",
      "execution_count": null,
      "metadata": {
        "id": "8JxsxaFax4zA",
        "outputId": "9ada5db9-8e61-4437-a661-3e066034b578"
      },
      "outputs": [
        {
          "name": "stdout",
          "output_type": "stream",
          "text": [
            "\n",
            "=== Comparaison des performances : SVM vs XGBoost (GloVe embeddings) ===\n",
            "\n",
            "                          SVM (GloVe)  XGBoost (GloVe)\n",
            "Balanced Accuracy (CV)         0.4005           0.4003\n",
            "Balanced Accuracy (Test)       0.3950           0.3893\n",
            "F1-score macro (CV)            0.3904           0.3959\n",
            "F1-score macro (Test)          0.3747           0.3876\n"
          ]
        }
      ],
      "source": [
        "model_comparison = pd.DataFrame({\n",
        "    'SVM (GloVe)': [\n",
        "        svm_glove_results[3],  # Balanced Accuracy (CV)\n",
        "        svm_glove_results[4],  # Balanced Accuracy (Test)\n",
        "        svm_glove_results[1].loc['macro avg', 'f1-score'],  # F1-score macro (CV)\n",
        "        svm_glove_results[2].loc['macro avg', 'f1-score']   # F1-score macro (Test)\n",
        "    ],\n",
        "    'XGBoost (GloVe)': [\n",
        "        xgb_glove_results[3],\n",
        "        xgb_glove_results[4],\n",
        "        xgb_glove_results[1].loc['macro avg', 'f1-score'],\n",
        "        xgb_glove_results[2].loc['macro avg', 'f1-score']\n",
        "    ]\n",
        "}, index=[\n",
        "    'Balanced Accuracy (CV)',\n",
        "    'Balanced Accuracy (Test)',\n",
        "    'F1-score macro (CV)',\n",
        "    'F1-score macro (Test)'\n",
        "])\n",
        "\n",
        "print(\"\\n=== Comparaison des performances : SVM vs XGBoost (GloVe embeddings) ===\\n\")\n",
        "print(model_comparison.round(4))"
      ]
    },
    {
      "cell_type": "markdown",
      "metadata": {
        "id": "ztqX3cRfx4zI"
      },
      "source": [
        " La comparaison des deux modèles montre que ni l’un ni l’autre ne dépasse la barre des 0.40 en F1-score macro ou en balanced accuracy. Néanmoins, le SVM reste plus homogène, tandis que XGBoost affiche des performances très inégales selon les classes. Cela confirme que ces modèles traditionnels, même combinés à des embeddings GloVe, atteignent ici leurs limites, et que pour capturer la richesse des discours économiques, il devient indispensable de tester des représentations plus puissantes comme BERT."
      ]
    },
    {
      "cell_type": "markdown",
      "metadata": {
        "id": "a7U-kAVAx4zI"
      },
      "source": [
        "### 5 - Modèles neuronaux"
      ]
    },
    {
      "cell_type": "code",
      "execution_count": 20,
      "metadata": {
        "colab": {
          "base_uri": "https://localhost:8080/"
        },
        "id": "AXLq_cPN7UYd",
        "outputId": "96361b56-9bdb-4b35-c431-64f9a3c4ff6d"
      },
      "outputs": [
        {
          "name": "stdout",
          "output_type": "stream",
          "text": [
            "Utilisation de: cuda\n",
            "GPU détecté: Tesla T4\n"
          ]
        }
      ],
      "source": [
        "device = torch.device(\"cuda\" if torch.cuda.is_available() else \"cpu\")\n",
        "print(f\"Utilisation de: {device}\")\n",
        "\n",
        "# Si GPU disponible, définir les optimisations CUDA\n",
        "if device.type == 'cuda':\n",
        "    torch.backends.cudnn.benchmark = True\n",
        "    print(f\"GPU détecté: {torch.cuda.get_device_name(0)}\")"
      ]
    },
    {
      "cell_type": "markdown",
      "metadata": {
        "id": "RvSRFI97x4zO"
      },
      "source": [
        "#### FinBERT"
      ]
    },
    {
      "cell_type": "markdown",
      "metadata": {
        "id": "6DHT_5P64ikz"
      },
      "source": [
        "EPOCH = 4 // LEARNING_RATE = 2e-5"
      ]
    },
    {
      "cell_type": "code",
      "execution_count": null,
      "metadata": {
        "colab": {
          "base_uri": "https://localhost:8080/",
          "height": 1000,
          "referenced_widgets": [
            "df30a928ab264d0eb07bc5f0ef0b4d32",
            "9479ebe6e6d244188b65348afbbc54d7",
            "8773d741c3ed4b7dbb74b4d55c324f83",
            "9328256daef5437ca5e99392d7dbf6b5",
            "a5b7c86282dc43e39cc26ce42929f1c4",
            "a22a9a9e696c46ccb6e9844e61e3c971",
            "07cc465061c84437aaad4bceda3f0a45",
            "62b49f85d55845588e74028c72af76f8",
            "a6f69050c0de4a0791f668d61d0cbbdd",
            "2878d9f0858a4b228f00af789c71f3f5",
            "71a1602a4664421cb0a81b94b68d0014",
            "f0428216d075450eb4e17a7722d170ff",
            "781cd85ae4ce4efebb86566e1fbb4949",
            "bd1b1d46643941ce8de348af87b20120",
            "146af938eadc41fd9250b03f07790958",
            "e0f22ecb2d90442ea22673ec9bc02903",
            "8f88df9710de4512b58cfd213a60ae6b",
            "bacfbb8028604eae9e9ecbe09e4654f2",
            "b290db3608644430b987cdae6a4c98c7",
            "31b955bd7069450c84a47bf4cb6f68b8",
            "06e5e3ef7fd644b1bdc9c412b5ad712d",
            "5650e0d0233846d2aaadb656e0dfff5b",
            "9eada8702b984fce82f0098721aab53a",
            "8a6d731696894f79b417527e98dc2fd2",
            "d7c9c9a9311447618ad6f291e81b5654",
            "a1426bd6a6c84df697169c896cf98311",
            "71fd01b8b3164fafb1fe5e2cac85e2e1",
            "48690c1cf31b4e08baa3e02208e2b6b2",
            "bf9b3f147848423a8d59dcbd7ab98894",
            "fdc4137d9fc54a3cb8a45d05856fc7dd",
            "3b97675adfd74fe5b771ee3e5a6fde68",
            "25baaca44a3544deba6befcad4527001",
            "6ef9a74f69ae4eafb9331272d197d59e",
            "e6b293130ac046a5ab24eb624edd5536",
            "a494182df58e4ccf9bbfe4a5f3b13160",
            "a69ef00f1fba4af8bf33c4d4a8d3f2e1",
            "c475cdbf47164ba8a5854c02655e1e3b",
            "b4862c5124ae4de8be3697bec508f231",
            "261620fcd5ed4629b41a2b875bc1cc1d",
            "8a28c7338c234ac984a232095ca71f78",
            "59255b34277e4724bbd29ce5b3ded716",
            "fcbc20df80914db997003703b500c018",
            "ff90c31d9a7b4416ba56c8129c0825d1",
            "78a653fb62a641659ee815884f65e3fe",
            "a1ab50856ffc412eb644728fb8fd7e39",
            "fea80031ff4c4b9cb441357e2d218b52",
            "9f56516045a34af1b6771ed7c1f5c4a4",
            "63e9342c8ce74e3587f887454e9459a3",
            "a203119eac6e4d09ba3dbf789e503203",
            "97ec71523aaf4c9190d038766e94f5f6",
            "85f0cb390e8b4bc7a4983077f1395372",
            "f7ee880efffd4228b8cd83abb7cb1848",
            "4a84be057d794563a2ea2b98a3e3b43d",
            "1f717e221a37460d9b5319f1f858422c",
            "391b6985f9714f32a00356bc2baca875",
            "842a830164e948d89ac3597d7cf575cd",
            "6ec0be9746234467b3bc8f3283fce533",
            "aecaced0a08a42bfb155559ad78a2565",
            "6168d0cbf05f40fca2a3d697a9309f81",
            "7c87f377b9c44c86bbf35e80df1da810",
            "0d919e2979ef4033991321df1096e108",
            "5b26a420aa4d4fbf9fd8b57d03ed41a5",
            "990cabac3db3494ea41657831a5f2760",
            "4842c72e85e1499fa7dc5d1223297a9a",
            "fd237a3e145447c59dc8d832cee938ba",
            "86cb5d77b2454aefb50d2fcbda35177c"
          ]
        },
        "id": "oy4t_EQ7sFnc",
        "outputId": "1e5c48f7-ba1c-4bb5-c727-2a5782e1e3d5"
      },
      "outputs": [
        {
          "name": "stdout",
          "output_type": "stream",
          "text": [
            "Requirement already satisfied: transformers in /usr/local/lib/python3.11/dist-packages (4.51.3)\n",
            "Requirement already satisfied: datasets in /usr/local/lib/python3.11/dist-packages (3.5.0)\n",
            "Requirement already satisfied: scikit-learn in /usr/local/lib/python3.11/dist-packages (1.6.1)\n",
            "Requirement already satisfied: filelock in /usr/local/lib/python3.11/dist-packages (from transformers) (3.18.0)\n",
            "Requirement already satisfied: huggingface-hub<1.0,>=0.30.0 in /usr/local/lib/python3.11/dist-packages (from transformers) (0.30.2)\n",
            "Requirement already satisfied: numpy>=1.17 in /usr/local/lib/python3.11/dist-packages (from transformers) (1.25.2)\n",
            "Requirement already satisfied: packaging>=20.0 in /usr/local/lib/python3.11/dist-packages (from transformers) (24.2)\n",
            "Requirement already satisfied: pyyaml>=5.1 in /usr/local/lib/python3.11/dist-packages (from transformers) (6.0.2)\n",
            "Requirement already satisfied: regex!=2019.12.17 in /usr/local/lib/python3.11/dist-packages (from transformers) (2024.11.6)\n",
            "Requirement already satisfied: requests in /usr/local/lib/python3.11/dist-packages (from transformers) (2.32.3)\n",
            "Requirement already satisfied: tokenizers<0.22,>=0.21 in /usr/local/lib/python3.11/dist-packages (from transformers) (0.21.1)\n",
            "Requirement already satisfied: safetensors>=0.4.3 in /usr/local/lib/python3.11/dist-packages (from transformers) (0.5.3)\n",
            "Requirement already satisfied: tqdm>=4.27 in /usr/local/lib/python3.11/dist-packages (from transformers) (4.67.1)\n",
            "Requirement already satisfied: pyarrow>=15.0.0 in /usr/local/lib/python3.11/dist-packages (from datasets) (18.1.0)\n",
            "Requirement already satisfied: dill<0.3.9,>=0.3.0 in /usr/local/lib/python3.11/dist-packages (from datasets) (0.3.8)\n",
            "Requirement already satisfied: pandas in /usr/local/lib/python3.11/dist-packages (from datasets) (2.2.2)\n",
            "Requirement already satisfied: xxhash in /usr/local/lib/python3.11/dist-packages (from datasets) (3.5.0)\n",
            "Requirement already satisfied: multiprocess<0.70.17 in /usr/local/lib/python3.11/dist-packages (from datasets) (0.70.16)\n",
            "Requirement already satisfied: fsspec<=2024.12.0,>=2023.1.0 in /usr/local/lib/python3.11/dist-packages (from fsspec[http]<=2024.12.0,>=2023.1.0->datasets) (2024.12.0)\n",
            "Requirement already satisfied: aiohttp in /usr/local/lib/python3.11/dist-packages (from datasets) (3.11.15)\n",
            "Requirement already satisfied: scipy>=1.6.0 in /usr/local/lib/python3.11/dist-packages (from scikit-learn) (1.9.3)\n",
            "Requirement already satisfied: joblib>=1.2.0 in /usr/local/lib/python3.11/dist-packages (from scikit-learn) (1.4.2)\n",
            "Requirement already satisfied: threadpoolctl>=3.1.0 in /usr/local/lib/python3.11/dist-packages (from scikit-learn) (3.6.0)\n",
            "Requirement already satisfied: aiohappyeyeballs>=2.3.0 in /usr/local/lib/python3.11/dist-packages (from aiohttp->datasets) (2.6.1)\n",
            "Requirement already satisfied: aiosignal>=1.1.2 in /usr/local/lib/python3.11/dist-packages (from aiohttp->datasets) (1.3.2)\n",
            "Requirement already satisfied: attrs>=17.3.0 in /usr/local/lib/python3.11/dist-packages (from aiohttp->datasets) (25.3.0)\n",
            "Requirement already satisfied: frozenlist>=1.1.1 in /usr/local/lib/python3.11/dist-packages (from aiohttp->datasets) (1.5.0)\n",
            "Requirement already satisfied: multidict<7.0,>=4.5 in /usr/local/lib/python3.11/dist-packages (from aiohttp->datasets) (6.4.3)\n",
            "Requirement already satisfied: propcache>=0.2.0 in /usr/local/lib/python3.11/dist-packages (from aiohttp->datasets) (0.3.1)\n",
            "Requirement already satisfied: yarl<2.0,>=1.17.0 in /usr/local/lib/python3.11/dist-packages (from aiohttp->datasets) (1.19.0)\n",
            "Requirement already satisfied: typing-extensions>=3.7.4.3 in /usr/local/lib/python3.11/dist-packages (from huggingface-hub<1.0,>=0.30.0->transformers) (4.13.2)\n",
            "Requirement already satisfied: charset-normalizer<4,>=2 in /usr/local/lib/python3.11/dist-packages (from requests->transformers) (3.4.1)\n",
            "Requirement already satisfied: idna<4,>=2.5 in /usr/local/lib/python3.11/dist-packages (from requests->transformers) (3.10)\n",
            "Requirement already satisfied: urllib3<3,>=1.21.1 in /usr/local/lib/python3.11/dist-packages (from requests->transformers) (2.3.0)\n",
            "Requirement already satisfied: certifi>=2017.4.17 in /usr/local/lib/python3.11/dist-packages (from requests->transformers) (2025.1.31)\n",
            "Requirement already satisfied: python-dateutil>=2.8.2 in /usr/local/lib/python3.11/dist-packages (from pandas->datasets) (2.8.2)\n",
            "Requirement already satisfied: pytz>=2020.1 in /usr/local/lib/python3.11/dist-packages (from pandas->datasets) (2025.2)\n",
            "Requirement already satisfied: tzdata>=2022.7 in /usr/local/lib/python3.11/dist-packages (from pandas->datasets) (2025.2)\n",
            "Requirement already satisfied: six>=1.5 in /usr/local/lib/python3.11/dist-packages (from python-dateutil>=2.8.2->pandas->datasets) (1.17.0)\n",
            "Drive already mounted at /content/drive; to attempt to forcibly remount, call drive.mount(\"/content/drive\", force_remount=True).\n"
          ]
        },
        {
          "name": "stderr",
          "output_type": "stream",
          "text": [
            "/usr/local/lib/python3.11/dist-packages/huggingface_hub/utils/_auth.py:94: UserWarning: \n",
            "The secret `HF_TOKEN` does not exist in your Colab secrets.\n",
            "To authenticate with the Hugging Face Hub, create a token in your settings tab (https://huggingface.co/settings/tokens), set it as secret in your Google Colab and restart your session.\n",
            "You will be able to reuse this secret in all of your notebooks.\n",
            "Please note that authentication is recommended but still optional to access public models or datasets.\n",
            "  warnings.warn(\n"
          ]
        },
        {
          "data": {
            "application/vnd.jupyter.widget-view+json": {
              "model_id": "df30a928ab264d0eb07bc5f0ef0b4d32",
              "version_major": 2,
              "version_minor": 0
            },
            "text/plain": [
              "vocab.txt:   0%|          | 0.00/226k [00:00<?, ?B/s]"
            ]
          },
          "metadata": {},
          "output_type": "display_data"
        },
        {
          "data": {
            "application/vnd.jupyter.widget-view+json": {
              "model_id": "f0428216d075450eb4e17a7722d170ff",
              "version_major": 2,
              "version_minor": 0
            },
            "text/plain": [
              "config.json:   0%|          | 0.00/533 [00:00<?, ?B/s]"
            ]
          },
          "metadata": {},
          "output_type": "display_data"
        },
        {
          "data": {
            "application/vnd.jupyter.widget-view+json": {
              "model_id": "9eada8702b984fce82f0098721aab53a",
              "version_major": 2,
              "version_minor": 0
            },
            "text/plain": [
              "pytorch_model.bin:   0%|          | 0.00/439M [00:00<?, ?B/s]"
            ]
          },
          "metadata": {},
          "output_type": "display_data"
        },
        {
          "data": {
            "application/vnd.jupyter.widget-view+json": {
              "model_id": "e6b293130ac046a5ab24eb624edd5536",
              "version_major": 2,
              "version_minor": 0
            },
            "text/plain": [
              "Map:   0%|          | 0/1456 [00:00<?, ? examples/s]"
            ]
          },
          "metadata": {},
          "output_type": "display_data"
        },
        {
          "data": {
            "application/vnd.jupyter.widget-view+json": {
              "model_id": "a1ab50856ffc412eb644728fb8fd7e39",
              "version_major": 2,
              "version_minor": 0
            },
            "text/plain": [
              "model.safetensors:   0%|          | 0.00/439M [00:00<?, ?B/s]"
            ]
          },
          "metadata": {},
          "output_type": "display_data"
        },
        {
          "data": {
            "application/vnd.jupyter.widget-view+json": {
              "model_id": "842a830164e948d89ac3597d7cf575cd",
              "version_major": 2,
              "version_minor": 0
            },
            "text/plain": [
              "Map:   0%|          | 0/365 [00:00<?, ? examples/s]"
            ]
          },
          "metadata": {},
          "output_type": "display_data"
        },
        {
          "name": "stderr",
          "output_type": "stream",
          "text": [
            "<ipython-input-21-3fcb1aa75b03>:57: FutureWarning: `tokenizer` is deprecated and will be removed in version 5.0.0 for `Trainer.__init__`. Use `processing_class` instead.\n",
            "  trainer = Trainer(\n",
            "\u001b[34m\u001b[1mwandb\u001b[0m: \u001b[33mWARNING\u001b[0m The `run_name` is currently set to the same value as `TrainingArguments.output_dir`. If this was not intended, please specify a different run name by setting the `TrainingArguments.run_name` parameter.\n",
            "\u001b[34m\u001b[1mwandb\u001b[0m: Using wandb-core as the SDK backend.  Please refer to https://wandb.me/wandb-core for more information.\n"
          ]
        },
        {
          "data": {
            "application/javascript": "\n        window._wandbApiKey = new Promise((resolve, reject) => {\n            function loadScript(url) {\n            return new Promise(function(resolve, reject) {\n                let newScript = document.createElement(\"script\");\n                newScript.onerror = reject;\n                newScript.onload = resolve;\n                document.body.appendChild(newScript);\n                newScript.src = url;\n            });\n            }\n            loadScript(\"https://cdn.jsdelivr.net/npm/postmate/build/postmate.min.js\").then(() => {\n            const iframe = document.createElement('iframe')\n            iframe.style.cssText = \"width:0;height:0;border:none\"\n            document.body.appendChild(iframe)\n            const handshake = new Postmate({\n                container: iframe,\n                url: 'https://wandb.ai/authorize'\n            });\n            const timeout = setTimeout(() => reject(\"Couldn't auto authenticate\"), 5000)\n            handshake.then(function(child) {\n                child.on('authorize', data => {\n                    clearTimeout(timeout)\n                    resolve(data)\n                });\n            });\n            })\n        });\n    ",
            "text/plain": [
              "<IPython.core.display.Javascript object>"
            ]
          },
          "metadata": {},
          "output_type": "display_data"
        },
        {
          "name": "stderr",
          "output_type": "stream",
          "text": [
            "\u001b[34m\u001b[1mwandb\u001b[0m: Logging into wandb.ai. (Learn how to deploy a W&B server locally: https://wandb.me/wandb-server)\n",
            "\u001b[34m\u001b[1mwandb\u001b[0m: You can find your API key in your browser here: https://wandb.ai/authorize\n",
            "wandb: Paste an API key from your profile and hit enter:"
          ]
        },
        {
          "name": "stdout",
          "output_type": "stream",
          "text": [
            " ··········\n"
          ]
        },
        {
          "name": "stderr",
          "output_type": "stream",
          "text": [
            "\u001b[34m\u001b[1mwandb\u001b[0m: \u001b[33mWARNING\u001b[0m If you're specifying your api key in code, ensure this code is not shared publicly.\n",
            "\u001b[34m\u001b[1mwandb\u001b[0m: \u001b[33mWARNING\u001b[0m Consider setting the WANDB_API_KEY environment variable, or running `wandb login` from the command line.\n",
            "\u001b[34m\u001b[1mwandb\u001b[0m: No netrc file found, creating one.\n",
            "\u001b[34m\u001b[1mwandb\u001b[0m: Appending key for api.wandb.ai to your netrc file: /root/.netrc\n",
            "\u001b[34m\u001b[1mwandb\u001b[0m: Currently logged in as: \u001b[33mliagasparingranger\u001b[0m (\u001b[33mliagasparingranger-panth-on-sorbonne-university\u001b[0m) to \u001b[32mhttps://api.wandb.ai\u001b[0m. Use \u001b[1m`wandb login --relogin`\u001b[0m to force relogin\n"
          ]
        },
        {
          "data": {
            "text/html": [
              "Tracking run with wandb version 0.19.9"
            ],
            "text/plain": [
              "<IPython.core.display.HTML object>"
            ]
          },
          "metadata": {},
          "output_type": "display_data"
        },
        {
          "data": {
            "text/html": [
              "Run data is saved locally in <code>/content/wandb/run-20250423_170428-bvmx0zo7</code>"
            ],
            "text/plain": [
              "<IPython.core.display.HTML object>"
            ]
          },
          "metadata": {},
          "output_type": "display_data"
        },
        {
          "data": {
            "text/html": [
              "Syncing run <strong><a href='https://wandb.ai/liagasparingranger-panth-on-sorbonne-university/huggingface/runs/bvmx0zo7' target=\"_blank\">./results</a></strong> to <a href='https://wandb.ai/liagasparingranger-panth-on-sorbonne-university/huggingface' target=\"_blank\">Weights & Biases</a> (<a href='https://wandb.me/developer-guide' target=\"_blank\">docs</a>)<br>"
            ],
            "text/plain": [
              "<IPython.core.display.HTML object>"
            ]
          },
          "metadata": {},
          "output_type": "display_data"
        },
        {
          "data": {
            "text/html": [
              " View project at <a href='https://wandb.ai/liagasparingranger-panth-on-sorbonne-university/huggingface' target=\"_blank\">https://wandb.ai/liagasparingranger-panth-on-sorbonne-university/huggingface</a>"
            ],
            "text/plain": [
              "<IPython.core.display.HTML object>"
            ]
          },
          "metadata": {},
          "output_type": "display_data"
        },
        {
          "data": {
            "text/html": [
              " View run at <a href='https://wandb.ai/liagasparingranger-panth-on-sorbonne-university/huggingface/runs/bvmx0zo7' target=\"_blank\">https://wandb.ai/liagasparingranger-panth-on-sorbonne-university/huggingface/runs/bvmx0zo7</a>"
            ],
            "text/plain": [
              "<IPython.core.display.HTML object>"
            ]
          },
          "metadata": {},
          "output_type": "display_data"
        },
        {
          "data": {
            "text/html": [
              "\n",
              "    <div>\n",
              "      \n",
              "      <progress value='728' max='728' style='width:300px; height:20px; vertical-align: middle;'></progress>\n",
              "      [728/728 09:55, Epoch 4/4]\n",
              "    </div>\n",
              "    <table border=\"1\" class=\"dataframe\">\n",
              "  <thead>\n",
              " <tr style=\"text-align: left;\">\n",
              "      <th>Step</th>\n",
              "      <th>Training Loss</th>\n",
              "    </tr>\n",
              "  </thead>\n",
              "  <tbody>\n",
              "    <tr>\n",
              "      <td>500</td>\n",
              "      <td>1.179400</td>\n",
              "    </tr>\n",
              "  </tbody>\n",
              "</table><p>"
            ],
            "text/plain": [
              "<IPython.core.display.HTML object>"
            ]
          },
          "metadata": {},
          "output_type": "display_data"
        },
        {
          "data": {
            "text/html": [],
            "text/plain": [
              "<IPython.core.display.HTML object>"
            ]
          },
          "metadata": {},
          "output_type": "display_data"
        },
        {
          "name": "stdout",
          "output_type": "stream",
          "text": [
            "              precision    recall  f1-score   support\n",
            "\n",
            "Augmentation       0.36      0.26      0.30       157\n",
            "      Baisse       0.36      0.42      0.39       124\n",
            "      Stable       0.33      0.42      0.37        84\n",
            "\n",
            "    accuracy                           0.35       365\n",
            "   macro avg       0.35      0.37      0.35       365\n",
            "weighted avg       0.35      0.35      0.35       365\n",
            "\n"
          ]
        },
        {
          "data": {
            "text/plain": [
              "('/content/drive/MyDrive/NLP/finbert_finetuned_fedfunds/tokenizer_config.json',\n",
              " '/content/drive/MyDrive/NLP/finbert_finetuned_fedfunds/special_tokens_map.json',\n",
              " '/content/drive/MyDrive/NLP/finbert_finetuned_fedfunds/vocab.txt',\n",
              " '/content/drive/MyDrive/NLP/finbert_finetuned_fedfunds/added_tokens.json')"
            ]
          },
          "execution_count": 21,
          "metadata": {},
          "output_type": "execute_result"
        }
      ],
      "source": [
        "!pip install transformers datasets scikit-learn\n",
        "\n",
        "from sklearn.model_selection import train_test_split\n",
        "from sklearn.metrics import classification_report, f1_score\n",
        "from transformers import BertTokenizer, BertForSequenceClassification, Trainer, TrainingArguments\n",
        "from transformers import DataCollatorWithPadding\n",
        "from datasets import Dataset\n",
        "import torch\n",
        "import os\n",
        "\n",
        "X_train, X_test, y_train, y_test = train_test_split(X, y_encoded, test_size=0.2, random_state=42, stratify=y_encoded)\n",
        "\n",
        "model_name = \"yiyanghkust/finbert-tone\"\n",
        "tokenizer = BertTokenizer.from_pretrained(model_name)\n",
        "model = BertForSequenceClassification.from_pretrained(model_name, num_labels=3)  # 3 classes : Augmentation, Baisse, Stable\n",
        "\n",
        "train_dataset = Dataset.from_dict({\n",
        "    \"text\": X_train.tolist(),\n",
        "    \"label\": y_train.tolist()\n",
        "})\n",
        "test_dataset = Dataset.from_dict({\n",
        "    \"text\": X_test.tolist(),\n",
        "    \"label\": y_test.tolist()\n",
        "})\n",
        "\n",
        "def tokenize(batch):\n",
        "    return tokenizer(batch[\"text\"], truncation=True, padding=True, max_length=512)\n",
        "\n",
        "train_dataset = train_dataset.map(tokenize, batched=True)\n",
        "test_dataset = test_dataset.map(tokenize, batched=True)\n",
        "\n",
        "training_args = TrainingArguments(\n",
        "    output_dir=\"./results\",\n",
        "    learning_rate=2e-5,\n",
        "    per_device_train_batch_size=8,\n",
        "    per_device_eval_batch_size=8,\n",
        "    num_train_epochs=4,\n",
        "    weight_decay=0.01,\n",
        "    logging_dir=\"./logs\"\n",
        ")\n",
        "\n",
        "def compute_metrics(p):\n",
        "    preds = torch.argmax(torch.tensor(p.predictions), axis=1)\n",
        "    f1 = f1_score(p.label_ids, preds, average=\"weighted\")\n",
        "    return {\"f1\": f1}\n",
        "\n",
        "trainer = Trainer(\n",
        "    model=model,\n",
        "    args=training_args,\n",
        "    train_dataset=train_dataset,\n",
        "    eval_dataset=test_dataset,\n",
        "    tokenizer=tokenizer,\n",
        "    data_collator=DataCollatorWithPadding(tokenizer=tokenizer),\n",
        "    compute_metrics=compute_metrics,\n",
        ")\n",
        "\n",
        "trainer.train()\n",
        "\n",
        "preds = trainer.predict(test_dataset)\n",
        "print(classification_report(y_test, preds.predictions.argmax(axis=1), target_names=label_encoder.classes_)) \n",
        "model.save_pretrained(\"/content/drive/MyDrive/NLP/finbert_finetuned_fedfunds\")\n",
        "tokenizer.save_pretrained(\"/content/drive/MyDrive/NLP/finbert_finetuned_fedfunds\")\n"
      ]
    },
    {
      "cell_type": "markdown",
      "metadata": {
        "id": "19j_Y7o-4abo"
      },
      "source": [
        "EPOCH = 8 // LEARNING_RATE = 1e-5"
      ]
    },
    {
      "cell_type": "code",
      "execution_count": null,
      "metadata": {
        "colab": {
          "base_uri": "https://localhost:8080/",
          "height": 480,
          "referenced_widgets": [
            "4b965bc6d33c42a387c1cb3f4b13f4ed",
            "f95582cc8de04019b633837d63bb1133",
            "ffd96ffbee8d4425a044f1ace1109896",
            "e6ce002e1b4b412eb70430e85779f4b3",
            "636819e9b81349b6810dfeae7ed401e3",
            "a432fe390e1b446ca3460ba71bf3524e",
            "473e31d4483d4efc90e62af11a973721",
            "79a34d605c1743e4a1f702345d227eb6",
            "09266553baf140fabd3e5069f15ccf72",
            "557bfa10f15740a4b8f73ff013799dbb",
            "2bcb7d90ce594492b1599dab4517cdc5",
            "e4da5a092f3347baaa41d472caf744c4",
            "d64422ab65c2463788ffb1345cbe64dd",
            "715b281e8bcb4bfba317b3436ba0e326",
            "0dd6aec5f1dd4cd6a243519646a10e8b",
            "6cb0bc6eabe34f9ca811fb3653f4a682",
            "463c8fee8ce54bfeadcc6c63dcb1c0f2",
            "dbac1d2d71654f1aa07effabc3402e2a",
            "00040cc0e59d4ce2b98d63ab312a70d5",
            "5bec32e92bf441b1b1cdc04013b27860",
            "dd221e6d849847e1bf8746b9e9a1ac5b",
            "f1fc01c7b6f14d02bf2e768c44d61633"
          ]
        },
        "id": "5rYX4w0u3vyK",
        "outputId": "2d94ddd0-cfea-40fb-e61b-b22f73fa3daa"
      },
      "outputs": [
        {
          "data": {
            "application/vnd.jupyter.widget-view+json": {
              "model_id": "4b965bc6d33c42a387c1cb3f4b13f4ed",
              "version_major": 2,
              "version_minor": 0
            },
            "text/plain": [
              "Map:   0%|          | 0/1456 [00:00<?, ? examples/s]"
            ]
          },
          "metadata": {},
          "output_type": "display_data"
        },
        {
          "data": {
            "application/vnd.jupyter.widget-view+json": {
              "model_id": "e4da5a092f3347baaa41d472caf744c4",
              "version_major": 2,
              "version_minor": 0
            },
            "text/plain": [
              "Map:   0%|          | 0/365 [00:00<?, ? examples/s]"
            ]
          },
          "metadata": {},
          "output_type": "display_data"
        },
        {
          "name": "stderr",
          "output_type": "stream",
          "text": [
            "<ipython-input-23-90d06c2e2087>:42: FutureWarning: `tokenizer` is deprecated and will be removed in version 5.0.0 for `Trainer.__init__`. Use `processing_class` instead.\n",
            "  trainer = Trainer(\n"
          ]
        },
        {
          "data": {
            "text/html": [
              "\n",
              "    <div>\n",
              "      \n",
              "      <progress value='1456' max='1456' style='width:300px; height:20px; vertical-align: middle;'></progress>\n",
              "      [1456/1456 19:48, Epoch 8/8]\n",
              "    </div>\n",
              "    <table border=\"1\" class=\"dataframe\">\n",
              "  <thead>\n",
              " <tr style=\"text-align: left;\">\n",
              "      <th>Step</th>\n",
              "      <th>Training Loss</th>\n",
              "    </tr>\n",
              "  </thead>\n",
              "  <tbody>\n",
              "    <tr>\n",
              "      <td>500</td>\n",
              "      <td>1.170000</td>\n",
              "    </tr>\n",
              "    <tr>\n",
              "      <td>1000</td>\n",
              "      <td>0.862300</td>\n",
              "    </tr>\n",
              "  </tbody>\n",
              "</table><p>"
            ],
            "text/plain": [
              "<IPython.core.display.HTML object>"
            ]
          },
          "metadata": {},
          "output_type": "display_data"
        },
        {
          "data": {
            "text/html": [],
            "text/plain": [
              "<IPython.core.display.HTML object>"
            ]
          },
          "metadata": {},
          "output_type": "display_data"
        },
        {
          "name": "stdout",
          "output_type": "stream",
          "text": [
            "              precision    recall  f1-score   support\n",
            "\n",
            "Augmentation       0.42      0.40      0.41       157\n",
            "      Baisse       0.40      0.42      0.41       124\n",
            "      Stable       0.34      0.36      0.35        84\n",
            "\n",
            "    accuracy                           0.40       365\n",
            "   macro avg       0.39      0.39      0.39       365\n",
            "weighted avg       0.40      0.40      0.40       365\n",
            "\n"
          ]
        },
        {
          "data": {
            "text/plain": [
              "('/content/drive/MyDrive/NLP/finbert_finetuned_fedfunds_epoch8/tokenizer_config.json',\n",
              " '/content/drive/MyDrive/NLP/finbert_finetuned_fedfunds_epoch8/special_tokens_map.json',\n",
              " '/content/drive/MyDrive/NLP/finbert_finetuned_fedfunds_epoch8/vocab.txt',\n",
              " '/content/drive/MyDrive/NLP/finbert_finetuned_fedfunds_epoch8/added_tokens.json')"
            ]
          },
          "execution_count": 23,
          "metadata": {},
          "output_type": "execute_result"
        }
      ],
      "source": [
        "X_train, X_test, y_train, y_test = train_test_split(X, y_encoded, test_size=0.2, random_state=42, stratify=y_encoded)\n",
        "\n",
        "model_name = \"yiyanghkust/finbert-tone\"\n",
        "tokenizer = BertTokenizer.from_pretrained(model_name)\n",
        "model = BertForSequenceClassification.from_pretrained(model_name, num_labels=3)  \n",
        "train_dataset = Dataset.from_dict({\n",
        "    \"text\": X_train.tolist(),\n",
        "    \"label\": y_train.tolist()\n",
        "})\n",
        "test_dataset = Dataset.from_dict({\n",
        "    \"text\": X_test.tolist(),\n",
        "    \"label\": y_test.tolist()\n",
        "})\n",
        "\n",
        "def tokenize(batch):\n",
        "    return tokenizer(batch[\"text\"], truncation=True, padding=True, max_length=512)\n",
        "\n",
        "train_dataset = train_dataset.map(tokenize, batched=True)\n",
        "test_dataset = test_dataset.map(tokenize, batched=True)\n",
        "\n",
        "training_args = TrainingArguments(\n",
        "    output_dir=\"./results_epoch8\",\n",
        "    learning_rate=1e-5,\n",
        "    per_device_train_batch_size=8,\n",
        "    per_device_eval_batch_size=8,\n",
        "    num_train_epochs=8,\n",
        "    weight_decay=0.01,\n",
        "    logging_dir=\"./logs_epoch8\"\n",
        ")\n",
        "\n",
        "\n",
        "def compute_metrics(p):\n",
        "    preds = torch.argmax(torch.tensor(p.predictions), axis=1)\n",
        "    f1 = f1_score(p.label_ids, preds, average=\"weighted\")\n",
        "    return {\"f1\": f1}\n",
        "\n",
        "trainer = Trainer(\n",
        "    model=model,\n",
        "    args=training_args,\n",
        "    train_dataset=train_dataset,\n",
        "    eval_dataset=test_dataset,\n",
        "    tokenizer=tokenizer,\n",
        "    data_collator=DataCollatorWithPadding(tokenizer=tokenizer),\n",
        "    compute_metrics=compute_metrics,\n",
        ")\n",
        "\n",
        "trainer.train()\n",
        "\n",
        "preds = trainer.predict(test_dataset)\n",
        "print(classification_report(y_test, preds.predictions.argmax(axis=1), target_names=label_encoder.classes_))\n",
        "model.save_pretrained(\"/content/drive/MyDrive/NLP/finbert_finetuned_fedfunds_epoch8\")\n",
        "tokenizer.save_pretrained(\"/content/drive/MyDrive/NLP/finbert_finetuned_fedfunds_epoch8\")\n"
      ]
    },
    {
      "cell_type": "markdown",
      "metadata": {
        "id": "CW4omRb04Wc1"
      },
      "source": [
        "CV + EQUILIBRE DES CLASSES"
      ]
    },
    {
      "cell_type": "code",
      "execution_count": null,
      "metadata": {
        "colab": {
          "base_uri": "https://localhost:8080/",
          "height": 1000,
          "referenced_widgets": [
            "85ac230a03b04c7f9a2a945093c872ea",
            "f5cb41683fe74045a55bbf8e8b6a5b34",
            "31ab3f062a564d429c7867ab6f9db52f",
            "5986072b554b469e9ad87c656fc0fcf8",
            "64346eb39e844fa78fe79ad4bea58f22",
            "5529ebeb2c7f4ef3b27bb109a7de9906",
            "8c9c52b290e6459a9bb1dc92b358d411",
            "d62d1dac0d294c25b55901dffbd87773",
            "691a7488fd1143178234077b41ff19fd",
            "23c741d8690f4c8aa5ae7304fc404eba",
            "1751ea24dd4a4fd1a35cdacb33014fdf",
            "f5a715171e0c4340accb2869be72586c",
            "abc94daa65e94138b3cd1f913f0cb88d",
            "56dfdabf27f84574a0c553ac23807515",
            "bdbf90abf8af4d11bd0515b21c1b57b1",
            "90f69ac11cdd44788dd988cae6ed638e",
            "d2074acf636743bbb928e50fa1d17558",
            "01f08db1dc684735a75037f199b665ea",
            "efdbdf39e4eb47f0a592be940dc41a5b",
            "76d9ebc5607448858398c13054c2502e",
            "33bff8756a7e44d4ba000ebe2fb2e804",
            "6de3c6ffa25d42d198b4fad4e44b60be",
            "da0092a3f93541d3bd67bef75abe1710",
            "2d29efbd1da34025bf5870ff9196713d",
            "b701325a583a4fd9bc87b9b04eac483a",
            "5c36912ac2b946b2bb66fc427dd05d2b",
            "ec986b3cc8854a5ba9e05daa6c7afd7c",
            "f558b515cdd043d3aa2da2722d213102",
            "f64f0e764ca643eab97e3eec915213ba",
            "8c4d1a3dc8da40b699b5f19ed2cc9d67",
            "acb163e6afa142e2bc646d40ba6a6a31",
            "4357805f22074413b409a57f28d69643",
            "b6a288b6f2304e0a894eb5cda8807d4c",
            "f89312fb4ca941a8a3c66e550b244ee5",
            "6d280d06eb4e42f69f754ea4a3e04bbe",
            "dc033d2f7fb6458fa98b4a74f4c724d5",
            "91de328672094db497e5009d04de52dc",
            "9f349550d8cd446ba58b0de604c907d9",
            "b2c03906f8fc41b7b3f2d9b52c415512",
            "dcdf39cc31ce4f7d9a38355dc4aea11c",
            "25d2d868de1e408aa7e5b10d500aa3f7",
            "d251531f6b6940e2a24cecf92e093cf5",
            "a180dba3062e441a994f56362c545f3e",
            "9504dfe9820b45b886a0b3c7a5f71914",
            "b7cd97d5778841a0a428c724e41a9ec2",
            "56a1d9011a6a4eb8846516b426448a91",
            "f25f3d7123684570aa00000ae48ea631",
            "1580e4874a2d46b5a51d42c1fd22142f",
            "eddffe01a8a140dcb818eb7954e98541",
            "4e2700cbb2a940fdb85ccea11ebc0ae1",
            "2823a89e11b8446ca9806850d0b3f5be",
            "1f061953a32f4060b68dda68bbc4a472",
            "b7cc8331e7084657ac34110aef290325",
            "fb4930e6a1794367a5fb8dc3ccf7f754",
            "1d210e7a28da4fab96d8dccaaa8a5192",
            "130d4ea8b302408888d9d5b14d815c25",
            "63d2f2c57d914f8c9b09153c484e9208",
            "3b8c4b4ae7c54176815401865fddc900",
            "dff172cf096f4ae59ba00e8a9936157d",
            "983a155250b94cc1a3df0cd5c5690021",
            "8874d53c2d8f45a4bb4bac86513a1e35",
            "2311bdb0e6ef47a190fffe527051fceb",
            "376a9d2932ca45d78ede48b468b40fd2",
            "60b19cd3cd1a4f9bafa0e7073030a066",
            "ade3a2edd27248438be7b4bf7e2c8297",
            "65699cbcbd74437cb15b08ca2abf06ee",
            "939bf8ead2a0467e9f59bf66bc186769",
            "5fd7f46b086a4442a7423aac30428f25",
            "db123d35ff3e437e8916dd3f45aa054e",
            "aee1c31c1d984a2a8959177c8dd62dde",
            "28c1155aaad847adbe268ae1650522d4",
            "0d576d74225545cc8fcb18e3fa89eb20",
            "851585acacaa4087a701424b613d767c",
            "55c37124870948a085ea1b8feaa71f99",
            "e1a4c0d3b5614675be8175e80e741921",
            "1fc2a2ebe967469384d181dff25914c0",
            "840329d1dfaf4fa693d74c73e12b941f",
            "67a12142e3f4412f9af9e9a3a99aeabe",
            "97d7af6ec49143d3ba69bcb18056f52a",
            "929af22cdc294c95b7d534257ea997f8",
            "6fcd240561d84e53a05b803ba5aa1ad3",
            "16e38b9141504ff89c12677af032f7f8",
            "c1a9fbd8c1474160b2f2523f9cac086a",
            "f958e64758084858a4724e5a46ea7ab0",
            "882b15cb558c4ff0985b5f873ea3410f",
            "316ec3caf1974ede94b9cb33cc8f5864",
            "101a02d292394bb38b81c0c6b14aab2c",
            "6e7d0df1c9824fd9a02e227b3b41d793",
            "e44b3406d786452b8135313c6a792fff",
            "a7168c9b5ae147db9d66966ba523e97e",
            "2d4440c8f3e642d1a4f507e0fede3162",
            "02d1b3906f964da5a3bed60b19ae660c",
            "7b5ed05b29544df684ad1861a894ee61",
            "6df62e1a8be54e61b1b11f45361dcd5f",
            "cf0c6c089bec437e83cb77f6375c8655",
            "60856c623f9d4745883b61dd679b1156",
            "eb4188de25d2470aa46fe6a6f384b530",
            "f771108edda946c7a8693546161ded3b",
            "39401f49ff214c2889458d2141e0dd2f",
            "49da7214642645b3976b7747d7174767",
            "5ac234a630e14674b05a4082bc9fd665",
            "9d4ce87386144338b23c0ea16ed9fa47",
            "70c540a45d344a28a0958a75d3d95fa1",
            "88d2ca1079fd4623bfc64e148e020834",
            "ad1996da54644bd78797175fc7f99feb",
            "65bf84b6848c48b69dc416282a4a799a",
            "2091cc13038d451b9d8686f029a2030e",
            "8277998dff804d228adba4bde4247dda",
            "e18eb32b165c46768bd3b841de13d45a",
            "dedc386f61704610997abdb516cb4c2b"
          ]
        },
        "id": "m7K9l4Z04Y82",
        "outputId": "5119ab32-cc70-42dd-edae-ceed2ef35377"
      },
      "outputs": [
        {
          "name": "stdout",
          "output_type": "stream",
          "text": [
            "\n",
            "=== Fold 1 ===\n"
          ]
        },
        {
          "data": {
            "application/vnd.jupyter.widget-view+json": {
              "model_id": "85ac230a03b04c7f9a2a945093c872ea",
              "version_major": 2,
              "version_minor": 0
            },
            "text/plain": [
              "Map:   0%|          | 0/1456 [00:00<?, ? examples/s]"
            ]
          },
          "metadata": {},
          "output_type": "display_data"
        },
        {
          "data": {
            "application/vnd.jupyter.widget-view+json": {
              "model_id": "f5a715171e0c4340accb2869be72586c",
              "version_major": 2,
              "version_minor": 0
            },
            "text/plain": [
              "Map:   0%|          | 0/365 [00:00<?, ? examples/s]"
            ]
          },
          "metadata": {},
          "output_type": "display_data"
        },
        {
          "name": "stderr",
          "output_type": "stream",
          "text": [
            "<ipython-input-29-1fbc8766ea22>:19: FutureWarning: `tokenizer` is deprecated and will be removed in version 5.0.0 for `CustomTrainer.__init__`. Use `processing_class` instead.\n",
            "  super().__init__(*args, **kwargs)\n"
          ]
        },
        {
          "data": {
            "text/html": [
              "\n",
              "    <div>\n",
              "      \n",
              "      <progress value='1092' max='1092' style='width:300px; height:20px; vertical-align: middle;'></progress>\n",
              "      [1092/1092 15:32, Epoch 6/6]\n",
              "    </div>\n",
              "    <table border=\"1\" class=\"dataframe\">\n",
              "  <thead>\n",
              " <tr style=\"text-align: left;\">\n",
              "      <th>Step</th>\n",
              "      <th>Training Loss</th>\n",
              "    </tr>\n",
              "  </thead>\n",
              "  <tbody>\n",
              "    <tr>\n",
              "      <td>500</td>\n",
              "      <td>1.196000</td>\n",
              "    </tr>\n",
              "    <tr>\n",
              "      <td>1000</td>\n",
              "      <td>0.887500</td>\n",
              "    </tr>\n",
              "  </tbody>\n",
              "</table><p>"
            ],
            "text/plain": [
              "<IPython.core.display.HTML object>"
            ]
          },
          "metadata": {},
          "output_type": "display_data"
        },
        {
          "data": {
            "text/html": [],
            "text/plain": [
              "<IPython.core.display.HTML object>"
            ]
          },
          "metadata": {},
          "output_type": "display_data"
        },
        {
          "name": "stdout",
          "output_type": "stream",
          "text": [
            "F1-score (fold 1): 0.4190\n",
            "\n",
            "=== Fold 2 ===\n"
          ]
        },
        {
          "data": {
            "application/vnd.jupyter.widget-view+json": {
              "model_id": "da0092a3f93541d3bd67bef75abe1710",
              "version_major": 2,
              "version_minor": 0
            },
            "text/plain": [
              "Map:   0%|          | 0/1457 [00:00<?, ? examples/s]"
            ]
          },
          "metadata": {},
          "output_type": "display_data"
        },
        {
          "data": {
            "application/vnd.jupyter.widget-view+json": {
              "model_id": "f89312fb4ca941a8a3c66e550b244ee5",
              "version_major": 2,
              "version_minor": 0
            },
            "text/plain": [
              "Map:   0%|          | 0/364 [00:00<?, ? examples/s]"
            ]
          },
          "metadata": {},
          "output_type": "display_data"
        },
        {
          "name": "stderr",
          "output_type": "stream",
          "text": [
            "<ipython-input-29-1fbc8766ea22>:19: FutureWarning: `tokenizer` is deprecated and will be removed in version 5.0.0 for `CustomTrainer.__init__`. Use `processing_class` instead.\n",
            "  super().__init__(*args, **kwargs)\n"
          ]
        },
        {
          "data": {
            "text/html": [
              "\n",
              "    <div>\n",
              "      \n",
              "      <progress value='1098' max='1098' style='width:300px; height:20px; vertical-align: middle;'></progress>\n",
              "      [1098/1098 16:12, Epoch 6/6]\n",
              "    </div>\n",
              "    <table border=\"1\" class=\"dataframe\">\n",
              "  <thead>\n",
              " <tr style=\"text-align: left;\">\n",
              "      <th>Step</th>\n",
              "      <th>Training Loss</th>\n",
              "    </tr>\n",
              "  </thead>\n",
              "  <tbody>\n",
              "    <tr>\n",
              "      <td>500</td>\n",
              "      <td>1.181400</td>\n",
              "    </tr>\n",
              "    <tr>\n",
              "      <td>1000</td>\n",
              "      <td>0.904500</td>\n",
              "    </tr>\n",
              "  </tbody>\n",
              "</table><p>"
            ],
            "text/plain": [
              "<IPython.core.display.HTML object>"
            ]
          },
          "metadata": {},
          "output_type": "display_data"
        },
        {
          "data": {
            "text/html": [],
            "text/plain": [
              "<IPython.core.display.HTML object>"
            ]
          },
          "metadata": {},
          "output_type": "display_data"
        },
        {
          "name": "stdout",
          "output_type": "stream",
          "text": [
            "F1-score (fold 2): 0.4358\n",
            "\n",
            "=== Fold 3 ===\n"
          ]
        },
        {
          "data": {
            "application/vnd.jupyter.widget-view+json": {
              "model_id": "b7cd97d5778841a0a428c724e41a9ec2",
              "version_major": 2,
              "version_minor": 0
            },
            "text/plain": [
              "Map:   0%|          | 0/1457 [00:00<?, ? examples/s]"
            ]
          },
          "metadata": {},
          "output_type": "display_data"
        },
        {
          "data": {
            "application/vnd.jupyter.widget-view+json": {
              "model_id": "130d4ea8b302408888d9d5b14d815c25",
              "version_major": 2,
              "version_minor": 0
            },
            "text/plain": [
              "Map:   0%|          | 0/364 [00:00<?, ? examples/s]"
            ]
          },
          "metadata": {},
          "output_type": "display_data"
        },
        {
          "name": "stderr",
          "output_type": "stream",
          "text": [
            "<ipython-input-29-1fbc8766ea22>:19: FutureWarning: `tokenizer` is deprecated and will be removed in version 5.0.0 for `CustomTrainer.__init__`. Use `processing_class` instead.\n",
            "  super().__init__(*args, **kwargs)\n"
          ]
        },
        {
          "data": {
            "text/html": [
              "\n",
              "    <div>\n",
              "      \n",
              "      <progress value='1098' max='1098' style='width:300px; height:20px; vertical-align: middle;'></progress>\n",
              "      [1098/1098 15:36, Epoch 6/6]\n",
              "    </div>\n",
              "    <table border=\"1\" class=\"dataframe\">\n",
              "  <thead>\n",
              " <tr style=\"text-align: left;\">\n",
              "      <th>Step</th>\n",
              "      <th>Training Loss</th>\n",
              "    </tr>\n",
              "  </thead>\n",
              "  <tbody>\n",
              "    <tr>\n",
              "      <td>500</td>\n",
              "      <td>1.163300</td>\n",
              "    </tr>\n",
              "    <tr>\n",
              "      <td>1000</td>\n",
              "      <td>0.883700</td>\n",
              "    </tr>\n",
              "  </tbody>\n",
              "</table><p>"
            ],
            "text/plain": [
              "<IPython.core.display.HTML object>"
            ]
          },
          "metadata": {},
          "output_type": "display_data"
        },
        {
          "data": {
            "text/html": [],
            "text/plain": [
              "<IPython.core.display.HTML object>"
            ]
          },
          "metadata": {},
          "output_type": "display_data"
        },
        {
          "name": "stdout",
          "output_type": "stream",
          "text": [
            "F1-score (fold 3): 0.4181\n",
            "\n",
            "=== Fold 4 ===\n"
          ]
        },
        {
          "data": {
            "application/vnd.jupyter.widget-view+json": {
              "model_id": "939bf8ead2a0467e9f59bf66bc186769",
              "version_major": 2,
              "version_minor": 0
            },
            "text/plain": [
              "Map:   0%|          | 0/1457 [00:00<?, ? examples/s]"
            ]
          },
          "metadata": {},
          "output_type": "display_data"
        },
        {
          "data": {
            "application/vnd.jupyter.widget-view+json": {
              "model_id": "67a12142e3f4412f9af9e9a3a99aeabe",
              "version_major": 2,
              "version_minor": 0
            },
            "text/plain": [
              "Map:   0%|          | 0/364 [00:00<?, ? examples/s]"
            ]
          },
          "metadata": {},
          "output_type": "display_data"
        },
        {
          "name": "stderr",
          "output_type": "stream",
          "text": [
            "<ipython-input-29-1fbc8766ea22>:19: FutureWarning: `tokenizer` is deprecated and will be removed in version 5.0.0 for `CustomTrainer.__init__`. Use `processing_class` instead.\n",
            "  super().__init__(*args, **kwargs)\n"
          ]
        },
        {
          "data": {
            "text/html": [
              "\n",
              "    <div>\n",
              "      \n",
              "      <progress value='1098' max='1098' style='width:300px; height:20px; vertical-align: middle;'></progress>\n",
              "      [1098/1098 15:11, Epoch 6/6]\n",
              "    </div>\n",
              "    <table border=\"1\" class=\"dataframe\">\n",
              "  <thead>\n",
              " <tr style=\"text-align: left;\">\n",
              "      <th>Step</th>\n",
              "      <th>Training Loss</th>\n",
              "    </tr>\n",
              "  </thead>\n",
              "  <tbody>\n",
              "    <tr>\n",
              "      <td>500</td>\n",
              "      <td>1.173900</td>\n",
              "    </tr>\n",
              "    <tr>\n",
              "      <td>1000</td>\n",
              "      <td>0.909100</td>\n",
              "    </tr>\n",
              "  </tbody>\n",
              "</table><p>"
            ],
            "text/plain": [
              "<IPython.core.display.HTML object>"
            ]
          },
          "metadata": {},
          "output_type": "display_data"
        },
        {
          "data": {
            "text/html": [],
            "text/plain": [
              "<IPython.core.display.HTML object>"
            ]
          },
          "metadata": {},
          "output_type": "display_data"
        },
        {
          "name": "stdout",
          "output_type": "stream",
          "text": [
            "F1-score (fold 4): 0.4463\n",
            "\n",
            "=== Fold 5 ===\n"
          ]
        },
        {
          "data": {
            "application/vnd.jupyter.widget-view+json": {
              "model_id": "e44b3406d786452b8135313c6a792fff",
              "version_major": 2,
              "version_minor": 0
            },
            "text/plain": [
              "Map:   0%|          | 0/1457 [00:00<?, ? examples/s]"
            ]
          },
          "metadata": {},
          "output_type": "display_data"
        },
        {
          "data": {
            "application/vnd.jupyter.widget-view+json": {
              "model_id": "49da7214642645b3976b7747d7174767",
              "version_major": 2,
              "version_minor": 0
            },
            "text/plain": [
              "Map:   0%|          | 0/364 [00:00<?, ? examples/s]"
            ]
          },
          "metadata": {},
          "output_type": "display_data"
        },
        {
          "name": "stderr",
          "output_type": "stream",
          "text": [
            "<ipython-input-29-1fbc8766ea22>:19: FutureWarning: `tokenizer` is deprecated and will be removed in version 5.0.0 for `CustomTrainer.__init__`. Use `processing_class` instead.\n",
            "  super().__init__(*args, **kwargs)\n"
          ]
        },
        {
          "data": {
            "text/html": [
              "\n",
              "    <div>\n",
              "      \n",
              "      <progress value='1098' max='1098' style='width:300px; height:20px; vertical-align: middle;'></progress>\n",
              "      [1098/1098 15:50, Epoch 6/6]\n",
              "    </div>\n",
              "    <table border=\"1\" class=\"dataframe\">\n",
              "  <thead>\n",
              " <tr style=\"text-align: left;\">\n",
              "      <th>Step</th>\n",
              "      <th>Training Loss</th>\n",
              "    </tr>\n",
              "  </thead>\n",
              "  <tbody>\n",
              "    <tr>\n",
              "      <td>500</td>\n",
              "      <td>1.168100</td>\n",
              "    </tr>\n",
              "    <tr>\n",
              "      <td>1000</td>\n",
              "      <td>0.916100</td>\n",
              "    </tr>\n",
              "  </tbody>\n",
              "</table><p>"
            ],
            "text/plain": [
              "<IPython.core.display.HTML object>"
            ]
          },
          "metadata": {},
          "output_type": "display_data"
        },
        {
          "data": {
            "text/html": [],
            "text/plain": [
              "<IPython.core.display.HTML object>"
            ]
          },
          "metadata": {},
          "output_type": "display_data"
        },
        {
          "name": "stdout",
          "output_type": "stream",
          "text": [
            "F1-score (fold 5): 0.4685\n",
            "\n",
            "=== Résultats finaux ===\n",
            "Fold 1 : F1-score = 0.4190\n",
            "Fold 2 : F1-score = 0.4358\n",
            "Fold 3 : F1-score = 0.4181\n",
            "Fold 4 : F1-score = 0.4463\n",
            "Fold 5 : F1-score = 0.4685\n",
            "Moyenne F1-score : 0.4376\n"
          ]
        },
        {
          "data": {
            "text/plain": [
              "('/content/drive/MyDrive/NLP/finbert_finetuned_fedfunds_kfold/tokenizer_config.json',\n",
              " '/content/drive/MyDrive/NLP/finbert_finetuned_fedfunds_kfold/special_tokens_map.json',\n",
              " '/content/drive/MyDrive/NLP/finbert_finetuned_fedfunds_kfold/vocab.txt',\n",
              " '/content/drive/MyDrive/NLP/finbert_finetuned_fedfunds_kfold/added_tokens.json')"
            ]
          },
          "execution_count": 29,
          "metadata": {},
          "output_type": "execute_result"
        }
      ],
      "source": [
        "model_name = \"yiyanghkust/finbert-tone\"\n",
        "k_folds = 5\n",
        "batch_size = 8\n",
        "num_epochs = 6\n",
        "learning_rate = 1e-5\n",
        "\n",
        "tokenizer = BertTokenizer.from_pretrained(model_name)\n",
        "f1_scores = []\n",
        "\n",
        "skf = StratifiedKFold(n_splits=k_folds, shuffle=True, random_state=42)\n",
        "class CustomTrainer(Trainer):\n",
        "    def __init__(self, class_weights=None, *args, **kwargs):\n",
        "        super().__init__(*args, **kwargs)\n",
        "        self.class_weights = class_weights\n",
        "\n",
        "    def compute_loss(self, model, inputs, return_outputs=False, num_items_in_batch=None):\n",
        "        labels = inputs.pop(\"labels\")\n",
        "        outputs = model(**inputs)\n",
        "        logits = outputs.logits\n",
        "        loss = F.cross_entropy(logits, labels, weight=self.class_weights)\n",
        "        return (loss, outputs) if return_outputs else loss\n",
        "\n",
        "\n",
        "for fold, (train_idx, test_idx) in enumerate(skf.split(X, y_encoded)):\n",
        "    print(f\"\\n=== Fold {fold + 1} ===\")\n",
        "\n",
        "    # Split\n",
        "    X_train, X_test = X.iloc[train_idx], X.iloc[test_idx]\n",
        "    y_train, y_test = y_encoded[train_idx], y_encoded[test_idx]\n",
        "    classes, class_counts = np.unique(y_train, return_counts=True)\n",
        "    total = sum(class_counts)\n",
        "    weights = total / (len(classes) * class_counts)\n",
        "    class_weights = torch.tensor(weights, dtype=torch.float)\n",
        "    def tokenize(batch):\n",
        "        return tokenizer(batch[\"text\"], truncation=True, padding=\"max_length\", max_length=512)\n",
        "\n",
        "    train_dataset = Dataset.from_dict({\n",
        "        \"text\": X_train.tolist(),\n",
        "        \"label\": y_train.tolist()\n",
        "    }).map(tokenize, batched=True)\n",
        "\n",
        "    test_dataset = Dataset.from_dict({\n",
        "        \"text\": X_test.tolist(),\n",
        "        \"label\": y_test.tolist()\n",
        "    }).map(tokenize, batched=True)\n",
        "\n",
        "    model = BertForSequenceClassification.from_pretrained(model_name, num_labels=3)\n",
        "    model.to(\"cuda\" if torch.cuda.is_available() else \"cpu\")\n",
        "    class_weights = class_weights.to(model.device)\n",
        "\n",
        "    def compute_loss(model, inputs, return_outputs=False):\n",
        "        labels = inputs.pop(\"labels\")\n",
        "        outputs = model(**inputs)\n",
        "        logits = outputs.logits\n",
        "        loss = F.cross_entropy(logits, labels, weight=class_weights)\n",
        "        return (loss, outputs) if return_outputs else loss\n",
        "\n",
        "    def compute_metrics(p):\n",
        "        preds = torch.argmax(torch.tensor(p.predictions), axis=1)\n",
        "        f1 = f1_score(p.label_ids, preds, average=\"weighted\")\n",
        "        return {\"f1\": f1}\n",
        "    training_args = TrainingArguments(\n",
        "        output_dir=f\"./results_fold{fold + 1}\",\n",
        "        learning_rate=learning_rate,\n",
        "        per_device_train_batch_size=batch_size,\n",
        "        per_device_eval_batch_size=batch_size,\n",
        "        num_train_epochs=num_epochs,\n",
        "        weight_decay=0.01,\n",
        "        logging_dir=f\"./logs_fold{fold + 1}\"\n",
        "    )\n",
        "\n",
        "    trainer = CustomTrainer(\n",
        "        model=model,\n",
        "        args=training_args,\n",
        "        train_dataset=train_dataset,\n",
        "        eval_dataset=test_dataset,\n",
        "        tokenizer=tokenizer,\n",
        "        data_collator=DataCollatorWithPadding(tokenizer=tokenizer),\n",
        "        compute_metrics=compute_metrics,\n",
        "        class_weights=class_weights  # <- uniquement ici\n",
        ")\n",
        "\n",
        "\n",
        "    trainer.train()\n",
        "\n",
        "    preds = trainer.predict(test_dataset)\n",
        "    report = classification_report(y_test, preds.predictions.argmax(axis=1), target_names=label_encoder.classes_, output_dict=True)\n",
        "    f1 = report[\"weighted avg\"][\"f1-score\"]\n",
        "    f1_scores.append(f1)\n",
        "    print(f\"F1-score (fold {fold + 1}): {f1:.4f}\")\n",
        "\n",
        "print(\"\\n=== Résultats finaux ===\")\n",
        "for i, score in enumerate(f1_scores):\n",
        "    print(f\"Fold {i+1} : F1-score = {score:.4f}\")\n",
        "print(f\"Moyenne F1-score : {np.mean(f1_scores):.4f}\")\n",
        "\n",
        "model.save_pretrained(\"/content/drive/MyDrive/NLP/finbert_finetuned_fedfunds_kfold\")\n",
        "tokenizer.save_pretrained(\"/content/drive/MyDrive/NLP/finbert_finetuned_fedfunds_kfold\")"
      ]
    },
    {
      "cell_type": "code",
      "execution_count": null,
      "metadata": {
        "id": "SLAS8xJ0CJUh"
      },
      "outputs": [],
      "source": []
    }
  ],
  "metadata": {
    "accelerator": "GPU",
    "colab": {
      "collapsed_sections": [
        "X3kLwAsbx4xm",
        "t1Qe-Wusx4x4",
        "T9z8akz8x4yW",
        "cvyanEphx4yd"
      ],
      "gpuType": "T4",
      "provenance": []
    },
    "kernelspec": {
      "display_name": ".venv",
      "language": "python",
      "name": "python3"
    },
    "language_info": {
      "codemirror_mode": {
        "name": "ipython",
        "version": 3
      },
      "file_extension": ".py",
      "mimetype": "text/x-python",
      "name": "python",
      "nbconvert_exporter": "python",
      "pygments_lexer": "ipython3",
      "version": "3.11.8"
    },
    "widgets": {
      "application/vnd.jupyter.widget-state+json": {
        "00040cc0e59d4ce2b98d63ab312a70d5": {
          "model_module": "@jupyter-widgets/base",
          "model_module_version": "1.2.0",
          "model_name": "LayoutModel",
          "state": {
            "_model_module": "@jupyter-widgets/base",
            "_model_module_version": "1.2.0",
            "_model_name": "LayoutModel",
            "_view_count": null,
            "_view_module": "@jupyter-widgets/base",
            "_view_module_version": "1.2.0",
            "_view_name": "LayoutView",
            "align_content": null,
            "align_items": null,
            "align_self": null,
            "border": null,
            "bottom": null,
            "display": null,
            "flex": null,
            "flex_flow": null,
            "grid_area": null,
            "grid_auto_columns": null,
            "grid_auto_flow": null,
            "grid_auto_rows": null,
            "grid_column": null,
            "grid_gap": null,
            "grid_row": null,
            "grid_template_areas": null,
            "grid_template_columns": null,
            "grid_template_rows": null,
            "height": null,
            "justify_content": null,
            "justify_items": null,
            "left": null,
            "margin": null,
            "max_height": null,
            "max_width": null,
            "min_height": null,
            "min_width": null,
            "object_fit": null,
            "object_position": null,
            "order": null,
            "overflow": null,
            "overflow_x": null,
            "overflow_y": null,
            "padding": null,
            "right": null,
            "top": null,
            "visibility": null,
            "width": null
          }
        },
        "01f08db1dc684735a75037f199b665ea": {
          "model_module": "@jupyter-widgets/controls",
          "model_module_version": "1.5.0",
          "model_name": "DescriptionStyleModel",
          "state": {
            "_model_module": "@jupyter-widgets/controls",
            "_model_module_version": "1.5.0",
            "_model_name": "DescriptionStyleModel",
            "_view_count": null,
            "_view_module": "@jupyter-widgets/base",
            "_view_module_version": "1.2.0",
            "_view_name": "StyleView",
            "description_width": ""
          }
        },
        "02d1b3906f964da5a3bed60b19ae660c": {
          "model_module": "@jupyter-widgets/controls",
          "model_module_version": "1.5.0",
          "model_name": "HTMLModel",
          "state": {
            "_dom_classes": [],
            "_model_module": "@jupyter-widgets/controls",
            "_model_module_version": "1.5.0",
            "_model_name": "HTMLModel",
            "_view_count": null,
            "_view_module": "@jupyter-widgets/controls",
            "_view_module_version": "1.5.0",
            "_view_name": "HTMLView",
            "description": "",
            "description_tooltip": null,
            "layout": "IPY_MODEL_f771108edda946c7a8693546161ded3b",
            "placeholder": "​",
            "style": "IPY_MODEL_39401f49ff214c2889458d2141e0dd2f",
            "value": " 1457/1457 [01:00&lt;00:00, 24.40 examples/s]"
          }
        },
        "06e5e3ef7fd644b1bdc9c412b5ad712d": {
          "model_module": "@jupyter-widgets/base",
          "model_module_version": "1.2.0",
          "model_name": "LayoutModel",
          "state": {
            "_model_module": "@jupyter-widgets/base",
            "_model_module_version": "1.2.0",
            "_model_name": "LayoutModel",
            "_view_count": null,
            "_view_module": "@jupyter-widgets/base",
            "_view_module_version": "1.2.0",
            "_view_name": "LayoutView",
            "align_content": null,
            "align_items": null,
            "align_self": null,
            "border": null,
            "bottom": null,
            "display": null,
            "flex": null,
            "flex_flow": null,
            "grid_area": null,
            "grid_auto_columns": null,
            "grid_auto_flow": null,
            "grid_auto_rows": null,
            "grid_column": null,
            "grid_gap": null,
            "grid_row": null,
            "grid_template_areas": null,
            "grid_template_columns": null,
            "grid_template_rows": null,
            "height": null,
            "justify_content": null,
            "justify_items": null,
            "left": null,
            "margin": null,
            "max_height": null,
            "max_width": null,
            "min_height": null,
            "min_width": null,
            "object_fit": null,
            "object_position": null,
            "order": null,
            "overflow": null,
            "overflow_x": null,
            "overflow_y": null,
            "padding": null,
            "right": null,
            "top": null,
            "visibility": null,
            "width": null
          }
        },
        "07cc465061c84437aaad4bceda3f0a45": {
          "model_module": "@jupyter-widgets/controls",
          "model_module_version": "1.5.0",
          "model_name": "DescriptionStyleModel",
          "state": {
            "_model_module": "@jupyter-widgets/controls",
            "_model_module_version": "1.5.0",
            "_model_name": "DescriptionStyleModel",
            "_view_count": null,
            "_view_module": "@jupyter-widgets/base",
            "_view_module_version": "1.2.0",
            "_view_name": "StyleView",
            "description_width": ""
          }
        },
        "09266553baf140fabd3e5069f15ccf72": {
          "model_module": "@jupyter-widgets/controls",
          "model_module_version": "1.5.0",
          "model_name": "ProgressStyleModel",
          "state": {
            "_model_module": "@jupyter-widgets/controls",
            "_model_module_version": "1.5.0",
            "_model_name": "ProgressStyleModel",
            "_view_count": null,
            "_view_module": "@jupyter-widgets/base",
            "_view_module_version": "1.2.0",
            "_view_name": "StyleView",
            "bar_color": null,
            "description_width": ""
          }
        },
        "0d576d74225545cc8fcb18e3fa89eb20": {
          "model_module": "@jupyter-widgets/base",
          "model_module_version": "1.2.0",
          "model_name": "LayoutModel",
          "state": {
            "_model_module": "@jupyter-widgets/base",
            "_model_module_version": "1.2.0",
            "_model_name": "LayoutModel",
            "_view_count": null,
            "_view_module": "@jupyter-widgets/base",
            "_view_module_version": "1.2.0",
            "_view_name": "LayoutView",
            "align_content": null,
            "align_items": null,
            "align_self": null,
            "border": null,
            "bottom": null,
            "display": null,
            "flex": null,
            "flex_flow": null,
            "grid_area": null,
            "grid_auto_columns": null,
            "grid_auto_flow": null,
            "grid_auto_rows": null,
            "grid_column": null,
            "grid_gap": null,
            "grid_row": null,
            "grid_template_areas": null,
            "grid_template_columns": null,
            "grid_template_rows": null,
            "height": null,
            "justify_content": null,
            "justify_items": null,
            "left": null,
            "margin": null,
            "max_height": null,
            "max_width": null,
            "min_height": null,
            "min_width": null,
            "object_fit": null,
            "object_position": null,
            "order": null,
            "overflow": null,
            "overflow_x": null,
            "overflow_y": null,
            "padding": null,
            "right": null,
            "top": null,
            "visibility": null,
            "width": null
          }
        },
        "0d919e2979ef4033991321df1096e108": {
          "model_module": "@jupyter-widgets/base",
          "model_module_version": "1.2.0",
          "model_name": "LayoutModel",
          "state": {
            "_model_module": "@jupyter-widgets/base",
            "_model_module_version": "1.2.0",
            "_model_name": "LayoutModel",
            "_view_count": null,
            "_view_module": "@jupyter-widgets/base",
            "_view_module_version": "1.2.0",
            "_view_name": "LayoutView",
            "align_content": null,
            "align_items": null,
            "align_self": null,
            "border": null,
            "bottom": null,
            "display": null,
            "flex": null,
            "flex_flow": null,
            "grid_area": null,
            "grid_auto_columns": null,
            "grid_auto_flow": null,
            "grid_auto_rows": null,
            "grid_column": null,
            "grid_gap": null,
            "grid_row": null,
            "grid_template_areas": null,
            "grid_template_columns": null,
            "grid_template_rows": null,
            "height": null,
            "justify_content": null,
            "justify_items": null,
            "left": null,
            "margin": null,
            "max_height": null,
            "max_width": null,
            "min_height": null,
            "min_width": null,
            "object_fit": null,
            "object_position": null,
            "order": null,
            "overflow": null,
            "overflow_x": null,
            "overflow_y": null,
            "padding": null,
            "right": null,
            "top": null,
            "visibility": null,
            "width": null
          }
        },
        "0dd6aec5f1dd4cd6a243519646a10e8b": {
          "model_module": "@jupyter-widgets/controls",
          "model_module_version": "1.5.0",
          "model_name": "HTMLModel",
          "state": {
            "_dom_classes": [],
            "_model_module": "@jupyter-widgets/controls",
            "_model_module_version": "1.5.0",
            "_model_name": "HTMLModel",
            "_view_count": null,
            "_view_module": "@jupyter-widgets/controls",
            "_view_module_version": "1.5.0",
            "_view_name": "HTMLView",
            "description": "",
            "description_tooltip": null,
            "layout": "IPY_MODEL_dd221e6d849847e1bf8746b9e9a1ac5b",
            "placeholder": "​",
            "style": "IPY_MODEL_f1fc01c7b6f14d02bf2e768c44d61633",
            "value": " 365/365 [00:14&lt;00:00, 24.38 examples/s]"
          }
        },
        "101a02d292394bb38b81c0c6b14aab2c": {
          "model_module": "@jupyter-widgets/base",
          "model_module_version": "1.2.0",
          "model_name": "LayoutModel",
          "state": {
            "_model_module": "@jupyter-widgets/base",
            "_model_module_version": "1.2.0",
            "_model_name": "LayoutModel",
            "_view_count": null,
            "_view_module": "@jupyter-widgets/base",
            "_view_module_version": "1.2.0",
            "_view_name": "LayoutView",
            "align_content": null,
            "align_items": null,
            "align_self": null,
            "border": null,
            "bottom": null,
            "display": null,
            "flex": null,
            "flex_flow": null,
            "grid_area": null,
            "grid_auto_columns": null,
            "grid_auto_flow": null,
            "grid_auto_rows": null,
            "grid_column": null,
            "grid_gap": null,
            "grid_row": null,
            "grid_template_areas": null,
            "grid_template_columns": null,
            "grid_template_rows": null,
            "height": null,
            "justify_content": null,
            "justify_items": null,
            "left": null,
            "margin": null,
            "max_height": null,
            "max_width": null,
            "min_height": null,
            "min_width": null,
            "object_fit": null,
            "object_position": null,
            "order": null,
            "overflow": null,
            "overflow_x": null,
            "overflow_y": null,
            "padding": null,
            "right": null,
            "top": null,
            "visibility": null,
            "width": null
          }
        },
        "130d4ea8b302408888d9d5b14d815c25": {
          "model_module": "@jupyter-widgets/controls",
          "model_module_version": "1.5.0",
          "model_name": "HBoxModel",
          "state": {
            "_dom_classes": [],
            "_model_module": "@jupyter-widgets/controls",
            "_model_module_version": "1.5.0",
            "_model_name": "HBoxModel",
            "_view_count": null,
            "_view_module": "@jupyter-widgets/controls",
            "_view_module_version": "1.5.0",
            "_view_name": "HBoxView",
            "box_style": "",
            "children": [
              "IPY_MODEL_63d2f2c57d914f8c9b09153c484e9208",
              "IPY_MODEL_3b8c4b4ae7c54176815401865fddc900",
              "IPY_MODEL_dff172cf096f4ae59ba00e8a9936157d"
            ],
            "layout": "IPY_MODEL_983a155250b94cc1a3df0cd5c5690021"
          }
        },
        "146af938eadc41fd9250b03f07790958": {
          "model_module": "@jupyter-widgets/controls",
          "model_module_version": "1.5.0",
          "model_name": "HTMLModel",
          "state": {
            "_dom_classes": [],
            "_model_module": "@jupyter-widgets/controls",
            "_model_module_version": "1.5.0",
            "_model_name": "HTMLModel",
            "_view_count": null,
            "_view_module": "@jupyter-widgets/controls",
            "_view_module_version": "1.5.0",
            "_view_name": "HTMLView",
            "description": "",
            "description_tooltip": null,
            "layout": "IPY_MODEL_06e5e3ef7fd644b1bdc9c412b5ad712d",
            "placeholder": "​",
            "style": "IPY_MODEL_5650e0d0233846d2aaadb656e0dfff5b",
            "value": " 533/533 [00:00&lt;00:00, 52.6kB/s]"
          }
        },
        "1580e4874a2d46b5a51d42c1fd22142f": {
          "model_module": "@jupyter-widgets/controls",
          "model_module_version": "1.5.0",
          "model_name": "HTMLModel",
          "state": {
            "_dom_classes": [],
            "_model_module": "@jupyter-widgets/controls",
            "_model_module_version": "1.5.0",
            "_model_name": "HTMLModel",
            "_view_count": null,
            "_view_module": "@jupyter-widgets/controls",
            "_view_module_version": "1.5.0",
            "_view_name": "HTMLView",
            "description": "",
            "description_tooltip": null,
            "layout": "IPY_MODEL_fb4930e6a1794367a5fb8dc3ccf7f754",
            "placeholder": "​",
            "style": "IPY_MODEL_1d210e7a28da4fab96d8dccaaa8a5192",
            "value": " 1457/1457 [00:59&lt;00:00, 24.88 examples/s]"
          }
        },
        "16e38b9141504ff89c12677af032f7f8": {
          "model_module": "@jupyter-widgets/base",
          "model_module_version": "1.2.0",
          "model_name": "LayoutModel",
          "state": {
            "_model_module": "@jupyter-widgets/base",
            "_model_module_version": "1.2.0",
            "_model_name": "LayoutModel",
            "_view_count": null,
            "_view_module": "@jupyter-widgets/base",
            "_view_module_version": "1.2.0",
            "_view_name": "LayoutView",
            "align_content": null,
            "align_items": null,
            "align_self": null,
            "border": null,
            "bottom": null,
            "display": null,
            "flex": null,
            "flex_flow": null,
            "grid_area": null,
            "grid_auto_columns": null,
            "grid_auto_flow": null,
            "grid_auto_rows": null,
            "grid_column": null,
            "grid_gap": null,
            "grid_row": null,
            "grid_template_areas": null,
            "grid_template_columns": null,
            "grid_template_rows": null,
            "height": null,
            "justify_content": null,
            "justify_items": null,
            "left": null,
            "margin": null,
            "max_height": null,
            "max_width": null,
            "min_height": null,
            "min_width": null,
            "object_fit": null,
            "object_position": null,
            "order": null,
            "overflow": null,
            "overflow_x": null,
            "overflow_y": null,
            "padding": null,
            "right": null,
            "top": null,
            "visibility": null,
            "width": null
          }
        },
        "1751ea24dd4a4fd1a35cdacb33014fdf": {
          "model_module": "@jupyter-widgets/controls",
          "model_module_version": "1.5.0",
          "model_name": "DescriptionStyleModel",
          "state": {
            "_model_module": "@jupyter-widgets/controls",
            "_model_module_version": "1.5.0",
            "_model_name": "DescriptionStyleModel",
            "_view_count": null,
            "_view_module": "@jupyter-widgets/base",
            "_view_module_version": "1.2.0",
            "_view_name": "StyleView",
            "description_width": ""
          }
        },
        "1d210e7a28da4fab96d8dccaaa8a5192": {
          "model_module": "@jupyter-widgets/controls",
          "model_module_version": "1.5.0",
          "model_name": "DescriptionStyleModel",
          "state": {
            "_model_module": "@jupyter-widgets/controls",
            "_model_module_version": "1.5.0",
            "_model_name": "DescriptionStyleModel",
            "_view_count": null,
            "_view_module": "@jupyter-widgets/base",
            "_view_module_version": "1.2.0",
            "_view_name": "StyleView",
            "description_width": ""
          }
        },
        "1f061953a32f4060b68dda68bbc4a472": {
          "model_module": "@jupyter-widgets/base",
          "model_module_version": "1.2.0",
          "model_name": "LayoutModel",
          "state": {
            "_model_module": "@jupyter-widgets/base",
            "_model_module_version": "1.2.0",
            "_model_name": "LayoutModel",
            "_view_count": null,
            "_view_module": "@jupyter-widgets/base",
            "_view_module_version": "1.2.0",
            "_view_name": "LayoutView",
            "align_content": null,
            "align_items": null,
            "align_self": null,
            "border": null,
            "bottom": null,
            "display": null,
            "flex": null,
            "flex_flow": null,
            "grid_area": null,
            "grid_auto_columns": null,
            "grid_auto_flow": null,
            "grid_auto_rows": null,
            "grid_column": null,
            "grid_gap": null,
            "grid_row": null,
            "grid_template_areas": null,
            "grid_template_columns": null,
            "grid_template_rows": null,
            "height": null,
            "justify_content": null,
            "justify_items": null,
            "left": null,
            "margin": null,
            "max_height": null,
            "max_width": null,
            "min_height": null,
            "min_width": null,
            "object_fit": null,
            "object_position": null,
            "order": null,
            "overflow": null,
            "overflow_x": null,
            "overflow_y": null,
            "padding": null,
            "right": null,
            "top": null,
            "visibility": null,
            "width": null
          }
        },
        "1f717e221a37460d9b5319f1f858422c": {
          "model_module": "@jupyter-widgets/base",
          "model_module_version": "1.2.0",
          "model_name": "LayoutModel",
          "state": {
            "_model_module": "@jupyter-widgets/base",
            "_model_module_version": "1.2.0",
            "_model_name": "LayoutModel",
            "_view_count": null,
            "_view_module": "@jupyter-widgets/base",
            "_view_module_version": "1.2.0",
            "_view_name": "LayoutView",
            "align_content": null,
            "align_items": null,
            "align_self": null,
            "border": null,
            "bottom": null,
            "display": null,
            "flex": null,
            "flex_flow": null,
            "grid_area": null,
            "grid_auto_columns": null,
            "grid_auto_flow": null,
            "grid_auto_rows": null,
            "grid_column": null,
            "grid_gap": null,
            "grid_row": null,
            "grid_template_areas": null,
            "grid_template_columns": null,
            "grid_template_rows": null,
            "height": null,
            "justify_content": null,
            "justify_items": null,
            "left": null,
            "margin": null,
            "max_height": null,
            "max_width": null,
            "min_height": null,
            "min_width": null,
            "object_fit": null,
            "object_position": null,
            "order": null,
            "overflow": null,
            "overflow_x": null,
            "overflow_y": null,
            "padding": null,
            "right": null,
            "top": null,
            "visibility": null,
            "width": null
          }
        },
        "1fc2a2ebe967469384d181dff25914c0": {
          "model_module": "@jupyter-widgets/base",
          "model_module_version": "1.2.0",
          "model_name": "LayoutModel",
          "state": {
            "_model_module": "@jupyter-widgets/base",
            "_model_module_version": "1.2.0",
            "_model_name": "LayoutModel",
            "_view_count": null,
            "_view_module": "@jupyter-widgets/base",
            "_view_module_version": "1.2.0",
            "_view_name": "LayoutView",
            "align_content": null,
            "align_items": null,
            "align_self": null,
            "border": null,
            "bottom": null,
            "display": null,
            "flex": null,
            "flex_flow": null,
            "grid_area": null,
            "grid_auto_columns": null,
            "grid_auto_flow": null,
            "grid_auto_rows": null,
            "grid_column": null,
            "grid_gap": null,
            "grid_row": null,
            "grid_template_areas": null,
            "grid_template_columns": null,
            "grid_template_rows": null,
            "height": null,
            "justify_content": null,
            "justify_items": null,
            "left": null,
            "margin": null,
            "max_height": null,
            "max_width": null,
            "min_height": null,
            "min_width": null,
            "object_fit": null,
            "object_position": null,
            "order": null,
            "overflow": null,
            "overflow_x": null,
            "overflow_y": null,
            "padding": null,
            "right": null,
            "top": null,
            "visibility": null,
            "width": null
          }
        },
        "2091cc13038d451b9d8686f029a2030e": {
          "model_module": "@jupyter-widgets/base",
          "model_module_version": "1.2.0",
          "model_name": "LayoutModel",
          "state": {
            "_model_module": "@jupyter-widgets/base",
            "_model_module_version": "1.2.0",
            "_model_name": "LayoutModel",
            "_view_count": null,
            "_view_module": "@jupyter-widgets/base",
            "_view_module_version": "1.2.0",
            "_view_name": "LayoutView",
            "align_content": null,
            "align_items": null,
            "align_self": null,
            "border": null,
            "bottom": null,
            "display": null,
            "flex": null,
            "flex_flow": null,
            "grid_area": null,
            "grid_auto_columns": null,
            "grid_auto_flow": null,
            "grid_auto_rows": null,
            "grid_column": null,
            "grid_gap": null,
            "grid_row": null,
            "grid_template_areas": null,
            "grid_template_columns": null,
            "grid_template_rows": null,
            "height": null,
            "justify_content": null,
            "justify_items": null,
            "left": null,
            "margin": null,
            "max_height": null,
            "max_width": null,
            "min_height": null,
            "min_width": null,
            "object_fit": null,
            "object_position": null,
            "order": null,
            "overflow": null,
            "overflow_x": null,
            "overflow_y": null,
            "padding": null,
            "right": null,
            "top": null,
            "visibility": null,
            "width": null
          }
        },
        "2311bdb0e6ef47a190fffe527051fceb": {
          "model_module": "@jupyter-widgets/controls",
          "model_module_version": "1.5.0",
          "model_name": "DescriptionStyleModel",
          "state": {
            "_model_module": "@jupyter-widgets/controls",
            "_model_module_version": "1.5.0",
            "_model_name": "DescriptionStyleModel",
            "_view_count": null,
            "_view_module": "@jupyter-widgets/base",
            "_view_module_version": "1.2.0",
            "_view_name": "StyleView",
            "description_width": ""
          }
        },
        "23c741d8690f4c8aa5ae7304fc404eba": {
          "model_module": "@jupyter-widgets/base",
          "model_module_version": "1.2.0",
          "model_name": "LayoutModel",
          "state": {
            "_model_module": "@jupyter-widgets/base",
            "_model_module_version": "1.2.0",
            "_model_name": "LayoutModel",
            "_view_count": null,
            "_view_module": "@jupyter-widgets/base",
            "_view_module_version": "1.2.0",
            "_view_name": "LayoutView",
            "align_content": null,
            "align_items": null,
            "align_self": null,
            "border": null,
            "bottom": null,
            "display": null,
            "flex": null,
            "flex_flow": null,
            "grid_area": null,
            "grid_auto_columns": null,
            "grid_auto_flow": null,
            "grid_auto_rows": null,
            "grid_column": null,
            "grid_gap": null,
            "grid_row": null,
            "grid_template_areas": null,
            "grid_template_columns": null,
            "grid_template_rows": null,
            "height": null,
            "justify_content": null,
            "justify_items": null,
            "left": null,
            "margin": null,
            "max_height": null,
            "max_width": null,
            "min_height": null,
            "min_width": null,
            "object_fit": null,
            "object_position": null,
            "order": null,
            "overflow": null,
            "overflow_x": null,
            "overflow_y": null,
            "padding": null,
            "right": null,
            "top": null,
            "visibility": null,
            "width": null
          }
        },
        "25baaca44a3544deba6befcad4527001": {
          "model_module": "@jupyter-widgets/base",
          "model_module_version": "1.2.0",
          "model_name": "LayoutModel",
          "state": {
            "_model_module": "@jupyter-widgets/base",
            "_model_module_version": "1.2.0",
            "_model_name": "LayoutModel",
            "_view_count": null,
            "_view_module": "@jupyter-widgets/base",
            "_view_module_version": "1.2.0",
            "_view_name": "LayoutView",
            "align_content": null,
            "align_items": null,
            "align_self": null,
            "border": null,
            "bottom": null,
            "display": null,
            "flex": null,
            "flex_flow": null,
            "grid_area": null,
            "grid_auto_columns": null,
            "grid_auto_flow": null,
            "grid_auto_rows": null,
            "grid_column": null,
            "grid_gap": null,
            "grid_row": null,
            "grid_template_areas": null,
            "grid_template_columns": null,
            "grid_template_rows": null,
            "height": null,
            "justify_content": null,
            "justify_items": null,
            "left": null,
            "margin": null,
            "max_height": null,
            "max_width": null,
            "min_height": null,
            "min_width": null,
            "object_fit": null,
            "object_position": null,
            "order": null,
            "overflow": null,
            "overflow_x": null,
            "overflow_y": null,
            "padding": null,
            "right": null,
            "top": null,
            "visibility": null,
            "width": null
          }
        },
        "25d2d868de1e408aa7e5b10d500aa3f7": {
          "model_module": "@jupyter-widgets/base",
          "model_module_version": "1.2.0",
          "model_name": "LayoutModel",
          "state": {
            "_model_module": "@jupyter-widgets/base",
            "_model_module_version": "1.2.0",
            "_model_name": "LayoutModel",
            "_view_count": null,
            "_view_module": "@jupyter-widgets/base",
            "_view_module_version": "1.2.0",
            "_view_name": "LayoutView",
            "align_content": null,
            "align_items": null,
            "align_self": null,
            "border": null,
            "bottom": null,
            "display": null,
            "flex": null,
            "flex_flow": null,
            "grid_area": null,
            "grid_auto_columns": null,
            "grid_auto_flow": null,
            "grid_auto_rows": null,
            "grid_column": null,
            "grid_gap": null,
            "grid_row": null,
            "grid_template_areas": null,
            "grid_template_columns": null,
            "grid_template_rows": null,
            "height": null,
            "justify_content": null,
            "justify_items": null,
            "left": null,
            "margin": null,
            "max_height": null,
            "max_width": null,
            "min_height": null,
            "min_width": null,
            "object_fit": null,
            "object_position": null,
            "order": null,
            "overflow": null,
            "overflow_x": null,
            "overflow_y": null,
            "padding": null,
            "right": null,
            "top": null,
            "visibility": null,
            "width": null
          }
        },
        "261620fcd5ed4629b41a2b875bc1cc1d": {
          "model_module": "@jupyter-widgets/base",
          "model_module_version": "1.2.0",
          "model_name": "LayoutModel",
          "state": {
            "_model_module": "@jupyter-widgets/base",
            "_model_module_version": "1.2.0",
            "_model_name": "LayoutModel",
            "_view_count": null,
            "_view_module": "@jupyter-widgets/base",
            "_view_module_version": "1.2.0",
            "_view_name": "LayoutView",
            "align_content": null,
            "align_items": null,
            "align_self": null,
            "border": null,
            "bottom": null,
            "display": null,
            "flex": null,
            "flex_flow": null,
            "grid_area": null,
            "grid_auto_columns": null,
            "grid_auto_flow": null,
            "grid_auto_rows": null,
            "grid_column": null,
            "grid_gap": null,
            "grid_row": null,
            "grid_template_areas": null,
            "grid_template_columns": null,
            "grid_template_rows": null,
            "height": null,
            "justify_content": null,
            "justify_items": null,
            "left": null,
            "margin": null,
            "max_height": null,
            "max_width": null,
            "min_height": null,
            "min_width": null,
            "object_fit": null,
            "object_position": null,
            "order": null,
            "overflow": null,
            "overflow_x": null,
            "overflow_y": null,
            "padding": null,
            "right": null,
            "top": null,
            "visibility": null,
            "width": null
          }
        },
        "2823a89e11b8446ca9806850d0b3f5be": {
          "model_module": "@jupyter-widgets/controls",
          "model_module_version": "1.5.0",
          "model_name": "DescriptionStyleModel",
          "state": {
            "_model_module": "@jupyter-widgets/controls",
            "_model_module_version": "1.5.0",
            "_model_name": "DescriptionStyleModel",
            "_view_count": null,
            "_view_module": "@jupyter-widgets/base",
            "_view_module_version": "1.2.0",
            "_view_name": "StyleView",
            "description_width": ""
          }
        },
        "2878d9f0858a4b228f00af789c71f3f5": {
          "model_module": "@jupyter-widgets/base",
          "model_module_version": "1.2.0",
          "model_name": "LayoutModel",
          "state": {
            "_model_module": "@jupyter-widgets/base",
            "_model_module_version": "1.2.0",
            "_model_name": "LayoutModel",
            "_view_count": null,
            "_view_module": "@jupyter-widgets/base",
            "_view_module_version": "1.2.0",
            "_view_name": "LayoutView",
            "align_content": null,
            "align_items": null,
            "align_self": null,
            "border": null,
            "bottom": null,
            "display": null,
            "flex": null,
            "flex_flow": null,
            "grid_area": null,
            "grid_auto_columns": null,
            "grid_auto_flow": null,
            "grid_auto_rows": null,
            "grid_column": null,
            "grid_gap": null,
            "grid_row": null,
            "grid_template_areas": null,
            "grid_template_columns": null,
            "grid_template_rows": null,
            "height": null,
            "justify_content": null,
            "justify_items": null,
            "left": null,
            "margin": null,
            "max_height": null,
            "max_width": null,
            "min_height": null,
            "min_width": null,
            "object_fit": null,
            "object_position": null,
            "order": null,
            "overflow": null,
            "overflow_x": null,
            "overflow_y": null,
            "padding": null,
            "right": null,
            "top": null,
            "visibility": null,
            "width": null
          }
        },
        "28c1155aaad847adbe268ae1650522d4": {
          "model_module": "@jupyter-widgets/base",
          "model_module_version": "1.2.0",
          "model_name": "LayoutModel",
          "state": {
            "_model_module": "@jupyter-widgets/base",
            "_model_module_version": "1.2.0",
            "_model_name": "LayoutModel",
            "_view_count": null,
            "_view_module": "@jupyter-widgets/base",
            "_view_module_version": "1.2.0",
            "_view_name": "LayoutView",
            "align_content": null,
            "align_items": null,
            "align_self": null,
            "border": null,
            "bottom": null,
            "display": null,
            "flex": null,
            "flex_flow": null,
            "grid_area": null,
            "grid_auto_columns": null,
            "grid_auto_flow": null,
            "grid_auto_rows": null,
            "grid_column": null,
            "grid_gap": null,
            "grid_row": null,
            "grid_template_areas": null,
            "grid_template_columns": null,
            "grid_template_rows": null,
            "height": null,
            "justify_content": null,
            "justify_items": null,
            "left": null,
            "margin": null,
            "max_height": null,
            "max_width": null,
            "min_height": null,
            "min_width": null,
            "object_fit": null,
            "object_position": null,
            "order": null,
            "overflow": null,
            "overflow_x": null,
            "overflow_y": null,
            "padding": null,
            "right": null,
            "top": null,
            "visibility": null,
            "width": null
          }
        },
        "2bcb7d90ce594492b1599dab4517cdc5": {
          "model_module": "@jupyter-widgets/controls",
          "model_module_version": "1.5.0",
          "model_name": "DescriptionStyleModel",
          "state": {
            "_model_module": "@jupyter-widgets/controls",
            "_model_module_version": "1.5.0",
            "_model_name": "DescriptionStyleModel",
            "_view_count": null,
            "_view_module": "@jupyter-widgets/base",
            "_view_module_version": "1.2.0",
            "_view_name": "StyleView",
            "description_width": ""
          }
        },
        "2d29efbd1da34025bf5870ff9196713d": {
          "model_module": "@jupyter-widgets/controls",
          "model_module_version": "1.5.0",
          "model_name": "HTMLModel",
          "state": {
            "_dom_classes": [],
            "_model_module": "@jupyter-widgets/controls",
            "_model_module_version": "1.5.0",
            "_model_name": "HTMLModel",
            "_view_count": null,
            "_view_module": "@jupyter-widgets/controls",
            "_view_module_version": "1.5.0",
            "_view_name": "HTMLView",
            "description": "",
            "description_tooltip": null,
            "layout": "IPY_MODEL_f558b515cdd043d3aa2da2722d213102",
            "placeholder": "​",
            "style": "IPY_MODEL_f64f0e764ca643eab97e3eec915213ba",
            "value": "Map: 100%"
          }
        },
        "2d4440c8f3e642d1a4f507e0fede3162": {
          "model_module": "@jupyter-widgets/controls",
          "model_module_version": "1.5.0",
          "model_name": "FloatProgressModel",
          "state": {
            "_dom_classes": [],
            "_model_module": "@jupyter-widgets/controls",
            "_model_module_version": "1.5.0",
            "_model_name": "FloatProgressModel",
            "_view_count": null,
            "_view_module": "@jupyter-widgets/controls",
            "_view_module_version": "1.5.0",
            "_view_name": "ProgressView",
            "bar_style": "success",
            "description": "",
            "description_tooltip": null,
            "layout": "IPY_MODEL_60856c623f9d4745883b61dd679b1156",
            "max": 1457,
            "min": 0,
            "orientation": "horizontal",
            "style": "IPY_MODEL_eb4188de25d2470aa46fe6a6f384b530",
            "value": 1457
          }
        },
        "316ec3caf1974ede94b9cb33cc8f5864": {
          "model_module": "@jupyter-widgets/controls",
          "model_module_version": "1.5.0",
          "model_name": "ProgressStyleModel",
          "state": {
            "_model_module": "@jupyter-widgets/controls",
            "_model_module_version": "1.5.0",
            "_model_name": "ProgressStyleModel",
            "_view_count": null,
            "_view_module": "@jupyter-widgets/base",
            "_view_module_version": "1.2.0",
            "_view_name": "StyleView",
            "bar_color": null,
            "description_width": ""
          }
        },
        "31ab3f062a564d429c7867ab6f9db52f": {
          "model_module": "@jupyter-widgets/controls",
          "model_module_version": "1.5.0",
          "model_name": "FloatProgressModel",
          "state": {
            "_dom_classes": [],
            "_model_module": "@jupyter-widgets/controls",
            "_model_module_version": "1.5.0",
            "_model_name": "FloatProgressModel",
            "_view_count": null,
            "_view_module": "@jupyter-widgets/controls",
            "_view_module_version": "1.5.0",
            "_view_name": "ProgressView",
            "bar_style": "success",
            "description": "",
            "description_tooltip": null,
            "layout": "IPY_MODEL_d62d1dac0d294c25b55901dffbd87773",
            "max": 1456,
            "min": 0,
            "orientation": "horizontal",
            "style": "IPY_MODEL_691a7488fd1143178234077b41ff19fd",
            "value": 1456
          }
        },
        "31b955bd7069450c84a47bf4cb6f68b8": {
          "model_module": "@jupyter-widgets/controls",
          "model_module_version": "1.5.0",
          "model_name": "ProgressStyleModel",
          "state": {
            "_model_module": "@jupyter-widgets/controls",
            "_model_module_version": "1.5.0",
            "_model_name": "ProgressStyleModel",
            "_view_count": null,
            "_view_module": "@jupyter-widgets/base",
            "_view_module_version": "1.2.0",
            "_view_name": "StyleView",
            "bar_color": null,
            "description_width": ""
          }
        },
        "33bff8756a7e44d4ba000ebe2fb2e804": {
          "model_module": "@jupyter-widgets/base",
          "model_module_version": "1.2.0",
          "model_name": "LayoutModel",
          "state": {
            "_model_module": "@jupyter-widgets/base",
            "_model_module_version": "1.2.0",
            "_model_name": "LayoutModel",
            "_view_count": null,
            "_view_module": "@jupyter-widgets/base",
            "_view_module_version": "1.2.0",
            "_view_name": "LayoutView",
            "align_content": null,
            "align_items": null,
            "align_self": null,
            "border": null,
            "bottom": null,
            "display": null,
            "flex": null,
            "flex_flow": null,
            "grid_area": null,
            "grid_auto_columns": null,
            "grid_auto_flow": null,
            "grid_auto_rows": null,
            "grid_column": null,
            "grid_gap": null,
            "grid_row": null,
            "grid_template_areas": null,
            "grid_template_columns": null,
            "grid_template_rows": null,
            "height": null,
            "justify_content": null,
            "justify_items": null,
            "left": null,
            "margin": null,
            "max_height": null,
            "max_width": null,
            "min_height": null,
            "min_width": null,
            "object_fit": null,
            "object_position": null,
            "order": null,
            "overflow": null,
            "overflow_x": null,
            "overflow_y": null,
            "padding": null,
            "right": null,
            "top": null,
            "visibility": null,
            "width": null
          }
        },
        "376a9d2932ca45d78ede48b468b40fd2": {
          "model_module": "@jupyter-widgets/base",
          "model_module_version": "1.2.0",
          "model_name": "LayoutModel",
          "state": {
            "_model_module": "@jupyter-widgets/base",
            "_model_module_version": "1.2.0",
            "_model_name": "LayoutModel",
            "_view_count": null,
            "_view_module": "@jupyter-widgets/base",
            "_view_module_version": "1.2.0",
            "_view_name": "LayoutView",
            "align_content": null,
            "align_items": null,
            "align_self": null,
            "border": null,
            "bottom": null,
            "display": null,
            "flex": null,
            "flex_flow": null,
            "grid_area": null,
            "grid_auto_columns": null,
            "grid_auto_flow": null,
            "grid_auto_rows": null,
            "grid_column": null,
            "grid_gap": null,
            "grid_row": null,
            "grid_template_areas": null,
            "grid_template_columns": null,
            "grid_template_rows": null,
            "height": null,
            "justify_content": null,
            "justify_items": null,
            "left": null,
            "margin": null,
            "max_height": null,
            "max_width": null,
            "min_height": null,
            "min_width": null,
            "object_fit": null,
            "object_position": null,
            "order": null,
            "overflow": null,
            "overflow_x": null,
            "overflow_y": null,
            "padding": null,
            "right": null,
            "top": null,
            "visibility": null,
            "width": null
          }
        },
        "391b6985f9714f32a00356bc2baca875": {
          "model_module": "@jupyter-widgets/controls",
          "model_module_version": "1.5.0",
          "model_name": "DescriptionStyleModel",
          "state": {
            "_model_module": "@jupyter-widgets/controls",
            "_model_module_version": "1.5.0",
            "_model_name": "DescriptionStyleModel",
            "_view_count": null,
            "_view_module": "@jupyter-widgets/base",
            "_view_module_version": "1.2.0",
            "_view_name": "StyleView",
            "description_width": ""
          }
        },
        "39401f49ff214c2889458d2141e0dd2f": {
          "model_module": "@jupyter-widgets/controls",
          "model_module_version": "1.5.0",
          "model_name": "DescriptionStyleModel",
          "state": {
            "_model_module": "@jupyter-widgets/controls",
            "_model_module_version": "1.5.0",
            "_model_name": "DescriptionStyleModel",
            "_view_count": null,
            "_view_module": "@jupyter-widgets/base",
            "_view_module_version": "1.2.0",
            "_view_name": "StyleView",
            "description_width": ""
          }
        },
        "3b8c4b4ae7c54176815401865fddc900": {
          "model_module": "@jupyter-widgets/controls",
          "model_module_version": "1.5.0",
          "model_name": "FloatProgressModel",
          "state": {
            "_dom_classes": [],
            "_model_module": "@jupyter-widgets/controls",
            "_model_module_version": "1.5.0",
            "_model_name": "FloatProgressModel",
            "_view_count": null,
            "_view_module": "@jupyter-widgets/controls",
            "_view_module_version": "1.5.0",
            "_view_name": "ProgressView",
            "bar_style": "success",
            "description": "",
            "description_tooltip": null,
            "layout": "IPY_MODEL_376a9d2932ca45d78ede48b468b40fd2",
            "max": 364,
            "min": 0,
            "orientation": "horizontal",
            "style": "IPY_MODEL_60b19cd3cd1a4f9bafa0e7073030a066",
            "value": 364
          }
        },
        "3b97675adfd74fe5b771ee3e5a6fde68": {
          "model_module": "@jupyter-widgets/controls",
          "model_module_version": "1.5.0",
          "model_name": "ProgressStyleModel",
          "state": {
            "_model_module": "@jupyter-widgets/controls",
            "_model_module_version": "1.5.0",
            "_model_name": "ProgressStyleModel",
            "_view_count": null,
            "_view_module": "@jupyter-widgets/base",
            "_view_module_version": "1.2.0",
            "_view_name": "StyleView",
            "bar_color": null,
            "description_width": ""
          }
        },
        "4357805f22074413b409a57f28d69643": {
          "model_module": "@jupyter-widgets/base",
          "model_module_version": "1.2.0",
          "model_name": "LayoutModel",
          "state": {
            "_model_module": "@jupyter-widgets/base",
            "_model_module_version": "1.2.0",
            "_model_name": "LayoutModel",
            "_view_count": null,
            "_view_module": "@jupyter-widgets/base",
            "_view_module_version": "1.2.0",
            "_view_name": "LayoutView",
            "align_content": null,
            "align_items": null,
            "align_self": null,
            "border": null,
            "bottom": null,
            "display": null,
            "flex": null,
            "flex_flow": null,
            "grid_area": null,
            "grid_auto_columns": null,
            "grid_auto_flow": null,
            "grid_auto_rows": null,
            "grid_column": null,
            "grid_gap": null,
            "grid_row": null,
            "grid_template_areas": null,
            "grid_template_columns": null,
            "grid_template_rows": null,
            "height": null,
            "justify_content": null,
            "justify_items": null,
            "left": null,
            "margin": null,
            "max_height": null,
            "max_width": null,
            "min_height": null,
            "min_width": null,
            "object_fit": null,
            "object_position": null,
            "order": null,
            "overflow": null,
            "overflow_x": null,
            "overflow_y": null,
            "padding": null,
            "right": null,
            "top": null,
            "visibility": null,
            "width": null
          }
        },
        "463c8fee8ce54bfeadcc6c63dcb1c0f2": {
          "model_module": "@jupyter-widgets/base",
          "model_module_version": "1.2.0",
          "model_name": "LayoutModel",
          "state": {
            "_model_module": "@jupyter-widgets/base",
            "_model_module_version": "1.2.0",
            "_model_name": "LayoutModel",
            "_view_count": null,
            "_view_module": "@jupyter-widgets/base",
            "_view_module_version": "1.2.0",
            "_view_name": "LayoutView",
            "align_content": null,
            "align_items": null,
            "align_self": null,
            "border": null,
            "bottom": null,
            "display": null,
            "flex": null,
            "flex_flow": null,
            "grid_area": null,
            "grid_auto_columns": null,
            "grid_auto_flow": null,
            "grid_auto_rows": null,
            "grid_column": null,
            "grid_gap": null,
            "grid_row": null,
            "grid_template_areas": null,
            "grid_template_columns": null,
            "grid_template_rows": null,
            "height": null,
            "justify_content": null,
            "justify_items": null,
            "left": null,
            "margin": null,
            "max_height": null,
            "max_width": null,
            "min_height": null,
            "min_width": null,
            "object_fit": null,
            "object_position": null,
            "order": null,
            "overflow": null,
            "overflow_x": null,
            "overflow_y": null,
            "padding": null,
            "right": null,
            "top": null,
            "visibility": null,
            "width": null
          }
        },
        "473e31d4483d4efc90e62af11a973721": {
          "model_module": "@jupyter-widgets/controls",
          "model_module_version": "1.5.0",
          "model_name": "DescriptionStyleModel",
          "state": {
            "_model_module": "@jupyter-widgets/controls",
            "_model_module_version": "1.5.0",
            "_model_name": "DescriptionStyleModel",
            "_view_count": null,
            "_view_module": "@jupyter-widgets/base",
            "_view_module_version": "1.2.0",
            "_view_name": "StyleView",
            "description_width": ""
          }
        },
        "4842c72e85e1499fa7dc5d1223297a9a": {
          "model_module": "@jupyter-widgets/controls",
          "model_module_version": "1.5.0",
          "model_name": "ProgressStyleModel",
          "state": {
            "_model_module": "@jupyter-widgets/controls",
            "_model_module_version": "1.5.0",
            "_model_name": "ProgressStyleModel",
            "_view_count": null,
            "_view_module": "@jupyter-widgets/base",
            "_view_module_version": "1.2.0",
            "_view_name": "StyleView",
            "bar_color": null,
            "description_width": ""
          }
        },
        "48690c1cf31b4e08baa3e02208e2b6b2": {
          "model_module": "@jupyter-widgets/base",
          "model_module_version": "1.2.0",
          "model_name": "LayoutModel",
          "state": {
            "_model_module": "@jupyter-widgets/base",
            "_model_module_version": "1.2.0",
            "_model_name": "LayoutModel",
            "_view_count": null,
            "_view_module": "@jupyter-widgets/base",
            "_view_module_version": "1.2.0",
            "_view_name": "LayoutView",
            "align_content": null,
            "align_items": null,
            "align_self": null,
            "border": null,
            "bottom": null,
            "display": null,
            "flex": null,
            "flex_flow": null,
            "grid_area": null,
            "grid_auto_columns": null,
            "grid_auto_flow": null,
            "grid_auto_rows": null,
            "grid_column": null,
            "grid_gap": null,
            "grid_row": null,
            "grid_template_areas": null,
            "grid_template_columns": null,
            "grid_template_rows": null,
            "height": null,
            "justify_content": null,
            "justify_items": null,
            "left": null,
            "margin": null,
            "max_height": null,
            "max_width": null,
            "min_height": null,
            "min_width": null,
            "object_fit": null,
            "object_position": null,
            "order": null,
            "overflow": null,
            "overflow_x": null,
            "overflow_y": null,
            "padding": null,
            "right": null,
            "top": null,
            "visibility": null,
            "width": null
          }
        },
        "49da7214642645b3976b7747d7174767": {
          "model_module": "@jupyter-widgets/controls",
          "model_module_version": "1.5.0",
          "model_name": "HBoxModel",
          "state": {
            "_dom_classes": [],
            "_model_module": "@jupyter-widgets/controls",
            "_model_module_version": "1.5.0",
            "_model_name": "HBoxModel",
            "_view_count": null,
            "_view_module": "@jupyter-widgets/controls",
            "_view_module_version": "1.5.0",
            "_view_name": "HBoxView",
            "box_style": "",
            "children": [
              "IPY_MODEL_5ac234a630e14674b05a4082bc9fd665",
              "IPY_MODEL_9d4ce87386144338b23c0ea16ed9fa47",
              "IPY_MODEL_70c540a45d344a28a0958a75d3d95fa1"
            ],
            "layout": "IPY_MODEL_88d2ca1079fd4623bfc64e148e020834"
          }
        },
        "4a84be057d794563a2ea2b98a3e3b43d": {
          "model_module": "@jupyter-widgets/controls",
          "model_module_version": "1.5.0",
          "model_name": "ProgressStyleModel",
          "state": {
            "_model_module": "@jupyter-widgets/controls",
            "_model_module_version": "1.5.0",
            "_model_name": "ProgressStyleModel",
            "_view_count": null,
            "_view_module": "@jupyter-widgets/base",
            "_view_module_version": "1.2.0",
            "_view_name": "StyleView",
            "bar_color": null,
            "description_width": ""
          }
        },
        "4b965bc6d33c42a387c1cb3f4b13f4ed": {
          "model_module": "@jupyter-widgets/controls",
          "model_module_version": "1.5.0",
          "model_name": "HBoxModel",
          "state": {
            "_dom_classes": [],
            "_model_module": "@jupyter-widgets/controls",
            "_model_module_version": "1.5.0",
            "_model_name": "HBoxModel",
            "_view_count": null,
            "_view_module": "@jupyter-widgets/controls",
            "_view_module_version": "1.5.0",
            "_view_name": "HBoxView",
            "box_style": "",
            "children": [
              "IPY_MODEL_f95582cc8de04019b633837d63bb1133",
              "IPY_MODEL_ffd96ffbee8d4425a044f1ace1109896",
              "IPY_MODEL_e6ce002e1b4b412eb70430e85779f4b3"
            ],
            "layout": "IPY_MODEL_636819e9b81349b6810dfeae7ed401e3"
          }
        },
        "4e2700cbb2a940fdb85ccea11ebc0ae1": {
          "model_module": "@jupyter-widgets/base",
          "model_module_version": "1.2.0",
          "model_name": "LayoutModel",
          "state": {
            "_model_module": "@jupyter-widgets/base",
            "_model_module_version": "1.2.0",
            "_model_name": "LayoutModel",
            "_view_count": null,
            "_view_module": "@jupyter-widgets/base",
            "_view_module_version": "1.2.0",
            "_view_name": "LayoutView",
            "align_content": null,
            "align_items": null,
            "align_self": null,
            "border": null,
            "bottom": null,
            "display": null,
            "flex": null,
            "flex_flow": null,
            "grid_area": null,
            "grid_auto_columns": null,
            "grid_auto_flow": null,
            "grid_auto_rows": null,
            "grid_column": null,
            "grid_gap": null,
            "grid_row": null,
            "grid_template_areas": null,
            "grid_template_columns": null,
            "grid_template_rows": null,
            "height": null,
            "justify_content": null,
            "justify_items": null,
            "left": null,
            "margin": null,
            "max_height": null,
            "max_width": null,
            "min_height": null,
            "min_width": null,
            "object_fit": null,
            "object_position": null,
            "order": null,
            "overflow": null,
            "overflow_x": null,
            "overflow_y": null,
            "padding": null,
            "right": null,
            "top": null,
            "visibility": null,
            "width": null
          }
        },
        "5529ebeb2c7f4ef3b27bb109a7de9906": {
          "model_module": "@jupyter-widgets/base",
          "model_module_version": "1.2.0",
          "model_name": "LayoutModel",
          "state": {
            "_model_module": "@jupyter-widgets/base",
            "_model_module_version": "1.2.0",
            "_model_name": "LayoutModel",
            "_view_count": null,
            "_view_module": "@jupyter-widgets/base",
            "_view_module_version": "1.2.0",
            "_view_name": "LayoutView",
            "align_content": null,
            "align_items": null,
            "align_self": null,
            "border": null,
            "bottom": null,
            "display": null,
            "flex": null,
            "flex_flow": null,
            "grid_area": null,
            "grid_auto_columns": null,
            "grid_auto_flow": null,
            "grid_auto_rows": null,
            "grid_column": null,
            "grid_gap": null,
            "grid_row": null,
            "grid_template_areas": null,
            "grid_template_columns": null,
            "grid_template_rows": null,
            "height": null,
            "justify_content": null,
            "justify_items": null,
            "left": null,
            "margin": null,
            "max_height": null,
            "max_width": null,
            "min_height": null,
            "min_width": null,
            "object_fit": null,
            "object_position": null,
            "order": null,
            "overflow": null,
            "overflow_x": null,
            "overflow_y": null,
            "padding": null,
            "right": null,
            "top": null,
            "visibility": null,
            "width": null
          }
        },
        "557bfa10f15740a4b8f73ff013799dbb": {
          "model_module": "@jupyter-widgets/base",
          "model_module_version": "1.2.0",
          "model_name": "LayoutModel",
          "state": {
            "_model_module": "@jupyter-widgets/base",
            "_model_module_version": "1.2.0",
            "_model_name": "LayoutModel",
            "_view_count": null,
            "_view_module": "@jupyter-widgets/base",
            "_view_module_version": "1.2.0",
            "_view_name": "LayoutView",
            "align_content": null,
            "align_items": null,
            "align_self": null,
            "border": null,
            "bottom": null,
            "display": null,
            "flex": null,
            "flex_flow": null,
            "grid_area": null,
            "grid_auto_columns": null,
            "grid_auto_flow": null,
            "grid_auto_rows": null,
            "grid_column": null,
            "grid_gap": null,
            "grid_row": null,
            "grid_template_areas": null,
            "grid_template_columns": null,
            "grid_template_rows": null,
            "height": null,
            "justify_content": null,
            "justify_items": null,
            "left": null,
            "margin": null,
            "max_height": null,
            "max_width": null,
            "min_height": null,
            "min_width": null,
            "object_fit": null,
            "object_position": null,
            "order": null,
            "overflow": null,
            "overflow_x": null,
            "overflow_y": null,
            "padding": null,
            "right": null,
            "top": null,
            "visibility": null,
            "width": null
          }
        },
        "55c37124870948a085ea1b8feaa71f99": {
          "model_module": "@jupyter-widgets/base",
          "model_module_version": "1.2.0",
          "model_name": "LayoutModel",
          "state": {
            "_model_module": "@jupyter-widgets/base",
            "_model_module_version": "1.2.0",
            "_model_name": "LayoutModel",
            "_view_count": null,
            "_view_module": "@jupyter-widgets/base",
            "_view_module_version": "1.2.0",
            "_view_name": "LayoutView",
            "align_content": null,
            "align_items": null,
            "align_self": null,
            "border": null,
            "bottom": null,
            "display": null,
            "flex": null,
            "flex_flow": null,
            "grid_area": null,
            "grid_auto_columns": null,
            "grid_auto_flow": null,
            "grid_auto_rows": null,
            "grid_column": null,
            "grid_gap": null,
            "grid_row": null,
            "grid_template_areas": null,
            "grid_template_columns": null,
            "grid_template_rows": null,
            "height": null,
            "justify_content": null,
            "justify_items": null,
            "left": null,
            "margin": null,
            "max_height": null,
            "max_width": null,
            "min_height": null,
            "min_width": null,
            "object_fit": null,
            "object_position": null,
            "order": null,
            "overflow": null,
            "overflow_x": null,
            "overflow_y": null,
            "padding": null,
            "right": null,
            "top": null,
            "visibility": null,
            "width": null
          }
        },
        "5650e0d0233846d2aaadb656e0dfff5b": {
          "model_module": "@jupyter-widgets/controls",
          "model_module_version": "1.5.0",
          "model_name": "DescriptionStyleModel",
          "state": {
            "_model_module": "@jupyter-widgets/controls",
            "_model_module_version": "1.5.0",
            "_model_name": "DescriptionStyleModel",
            "_view_count": null,
            "_view_module": "@jupyter-widgets/base",
            "_view_module_version": "1.2.0",
            "_view_name": "StyleView",
            "description_width": ""
          }
        },
        "56a1d9011a6a4eb8846516b426448a91": {
          "model_module": "@jupyter-widgets/controls",
          "model_module_version": "1.5.0",
          "model_name": "HTMLModel",
          "state": {
            "_dom_classes": [],
            "_model_module": "@jupyter-widgets/controls",
            "_model_module_version": "1.5.0",
            "_model_name": "HTMLModel",
            "_view_count": null,
            "_view_module": "@jupyter-widgets/controls",
            "_view_module_version": "1.5.0",
            "_view_name": "HTMLView",
            "description": "",
            "description_tooltip": null,
            "layout": "IPY_MODEL_4e2700cbb2a940fdb85ccea11ebc0ae1",
            "placeholder": "​",
            "style": "IPY_MODEL_2823a89e11b8446ca9806850d0b3f5be",
            "value": "Map: 100%"
          }
        },
        "56dfdabf27f84574a0c553ac23807515": {
          "model_module": "@jupyter-widgets/controls",
          "model_module_version": "1.5.0",
          "model_name": "FloatProgressModel",
          "state": {
            "_dom_classes": [],
            "_model_module": "@jupyter-widgets/controls",
            "_model_module_version": "1.5.0",
            "_model_name": "FloatProgressModel",
            "_view_count": null,
            "_view_module": "@jupyter-widgets/controls",
            "_view_module_version": "1.5.0",
            "_view_name": "ProgressView",
            "bar_style": "success",
            "description": "",
            "description_tooltip": null,
            "layout": "IPY_MODEL_efdbdf39e4eb47f0a592be940dc41a5b",
            "max": 365,
            "min": 0,
            "orientation": "horizontal",
            "style": "IPY_MODEL_76d9ebc5607448858398c13054c2502e",
            "value": 365
          }
        },
        "59255b34277e4724bbd29ce5b3ded716": {
          "model_module": "@jupyter-widgets/base",
          "model_module_version": "1.2.0",
          "model_name": "LayoutModel",
          "state": {
            "_model_module": "@jupyter-widgets/base",
            "_model_module_version": "1.2.0",
            "_model_name": "LayoutModel",
            "_view_count": null,
            "_view_module": "@jupyter-widgets/base",
            "_view_module_version": "1.2.0",
            "_view_name": "LayoutView",
            "align_content": null,
            "align_items": null,
            "align_self": null,
            "border": null,
            "bottom": null,
            "display": null,
            "flex": null,
            "flex_flow": null,
            "grid_area": null,
            "grid_auto_columns": null,
            "grid_auto_flow": null,
            "grid_auto_rows": null,
            "grid_column": null,
            "grid_gap": null,
            "grid_row": null,
            "grid_template_areas": null,
            "grid_template_columns": null,
            "grid_template_rows": null,
            "height": null,
            "justify_content": null,
            "justify_items": null,
            "left": null,
            "margin": null,
            "max_height": null,
            "max_width": null,
            "min_height": null,
            "min_width": null,
            "object_fit": null,
            "object_position": null,
            "order": null,
            "overflow": null,
            "overflow_x": null,
            "overflow_y": null,
            "padding": null,
            "right": null,
            "top": null,
            "visibility": null,
            "width": null
          }
        },
        "5986072b554b469e9ad87c656fc0fcf8": {
          "model_module": "@jupyter-widgets/controls",
          "model_module_version": "1.5.0",
          "model_name": "HTMLModel",
          "state": {
            "_dom_classes": [],
            "_model_module": "@jupyter-widgets/controls",
            "_model_module_version": "1.5.0",
            "_model_name": "HTMLModel",
            "_view_count": null,
            "_view_module": "@jupyter-widgets/controls",
            "_view_module_version": "1.5.0",
            "_view_name": "HTMLView",
            "description": "",
            "description_tooltip": null,
            "layout": "IPY_MODEL_23c741d8690f4c8aa5ae7304fc404eba",
            "placeholder": "​",
            "style": "IPY_MODEL_1751ea24dd4a4fd1a35cdacb33014fdf",
            "value": " 1456/1456 [01:00&lt;00:00, 24.35 examples/s]"
          }
        },
        "5ac234a630e14674b05a4082bc9fd665": {
          "model_module": "@jupyter-widgets/controls",
          "model_module_version": "1.5.0",
          "model_name": "HTMLModel",
          "state": {
            "_dom_classes": [],
            "_model_module": "@jupyter-widgets/controls",
            "_model_module_version": "1.5.0",
            "_model_name": "HTMLModel",
            "_view_count": null,
            "_view_module": "@jupyter-widgets/controls",
            "_view_module_version": "1.5.0",
            "_view_name": "HTMLView",
            "description": "",
            "description_tooltip": null,
            "layout": "IPY_MODEL_ad1996da54644bd78797175fc7f99feb",
            "placeholder": "​",
            "style": "IPY_MODEL_65bf84b6848c48b69dc416282a4a799a",
            "value": "Map: 100%"
          }
        },
        "5b26a420aa4d4fbf9fd8b57d03ed41a5": {
          "model_module": "@jupyter-widgets/controls",
          "model_module_version": "1.5.0",
          "model_name": "DescriptionStyleModel",
          "state": {
            "_model_module": "@jupyter-widgets/controls",
            "_model_module_version": "1.5.0",
            "_model_name": "DescriptionStyleModel",
            "_view_count": null,
            "_view_module": "@jupyter-widgets/base",
            "_view_module_version": "1.2.0",
            "_view_name": "StyleView",
            "description_width": ""
          }
        },
        "5bec32e92bf441b1b1cdc04013b27860": {
          "model_module": "@jupyter-widgets/controls",
          "model_module_version": "1.5.0",
          "model_name": "ProgressStyleModel",
          "state": {
            "_model_module": "@jupyter-widgets/controls",
            "_model_module_version": "1.5.0",
            "_model_name": "ProgressStyleModel",
            "_view_count": null,
            "_view_module": "@jupyter-widgets/base",
            "_view_module_version": "1.2.0",
            "_view_name": "StyleView",
            "bar_color": null,
            "description_width": ""
          }
        },
        "5c36912ac2b946b2bb66fc427dd05d2b": {
          "model_module": "@jupyter-widgets/controls",
          "model_module_version": "1.5.0",
          "model_name": "HTMLModel",
          "state": {
            "_dom_classes": [],
            "_model_module": "@jupyter-widgets/controls",
            "_model_module_version": "1.5.0",
            "_model_name": "HTMLModel",
            "_view_count": null,
            "_view_module": "@jupyter-widgets/controls",
            "_view_module_version": "1.5.0",
            "_view_name": "HTMLView",
            "description": "",
            "description_tooltip": null,
            "layout": "IPY_MODEL_4357805f22074413b409a57f28d69643",
            "placeholder": "​",
            "style": "IPY_MODEL_b6a288b6f2304e0a894eb5cda8807d4c",
            "value": " 1457/1457 [00:59&lt;00:00, 24.97 examples/s]"
          }
        },
        "5fd7f46b086a4442a7423aac30428f25": {
          "model_module": "@jupyter-widgets/controls",
          "model_module_version": "1.5.0",
          "model_name": "HTMLModel",
          "state": {
            "_dom_classes": [],
            "_model_module": "@jupyter-widgets/controls",
            "_model_module_version": "1.5.0",
            "_model_name": "HTMLModel",
            "_view_count": null,
            "_view_module": "@jupyter-widgets/controls",
            "_view_module_version": "1.5.0",
            "_view_name": "HTMLView",
            "description": "",
            "description_tooltip": null,
            "layout": "IPY_MODEL_0d576d74225545cc8fcb18e3fa89eb20",
            "placeholder": "​",
            "style": "IPY_MODEL_851585acacaa4087a701424b613d767c",
            "value": "Map: 100%"
          }
        },
        "60856c623f9d4745883b61dd679b1156": {
          "model_module": "@jupyter-widgets/base",
          "model_module_version": "1.2.0",
          "model_name": "LayoutModel",
          "state": {
            "_model_module": "@jupyter-widgets/base",
            "_model_module_version": "1.2.0",
            "_model_name": "LayoutModel",
            "_view_count": null,
            "_view_module": "@jupyter-widgets/base",
            "_view_module_version": "1.2.0",
            "_view_name": "LayoutView",
            "align_content": null,
            "align_items": null,
            "align_self": null,
            "border": null,
            "bottom": null,
            "display": null,
            "flex": null,
            "flex_flow": null,
            "grid_area": null,
            "grid_auto_columns": null,
            "grid_auto_flow": null,
            "grid_auto_rows": null,
            "grid_column": null,
            "grid_gap": null,
            "grid_row": null,
            "grid_template_areas": null,
            "grid_template_columns": null,
            "grid_template_rows": null,
            "height": null,
            "justify_content": null,
            "justify_items": null,
            "left": null,
            "margin": null,
            "max_height": null,
            "max_width": null,
            "min_height": null,
            "min_width": null,
            "object_fit": null,
            "object_position": null,
            "order": null,
            "overflow": null,
            "overflow_x": null,
            "overflow_y": null,
            "padding": null,
            "right": null,
            "top": null,
            "visibility": null,
            "width": null
          }
        },
        "60b19cd3cd1a4f9bafa0e7073030a066": {
          "model_module": "@jupyter-widgets/controls",
          "model_module_version": "1.5.0",
          "model_name": "ProgressStyleModel",
          "state": {
            "_model_module": "@jupyter-widgets/controls",
            "_model_module_version": "1.5.0",
            "_model_name": "ProgressStyleModel",
            "_view_count": null,
            "_view_module": "@jupyter-widgets/base",
            "_view_module_version": "1.2.0",
            "_view_name": "StyleView",
            "bar_color": null,
            "description_width": ""
          }
        },
        "6168d0cbf05f40fca2a3d697a9309f81": {
          "model_module": "@jupyter-widgets/controls",
          "model_module_version": "1.5.0",
          "model_name": "HTMLModel",
          "state": {
            "_dom_classes": [],
            "_model_module": "@jupyter-widgets/controls",
            "_model_module_version": "1.5.0",
            "_model_name": "HTMLModel",
            "_view_count": null,
            "_view_module": "@jupyter-widgets/controls",
            "_view_module_version": "1.5.0",
            "_view_name": "HTMLView",
            "description": "",
            "description_tooltip": null,
            "layout": "IPY_MODEL_fd237a3e145447c59dc8d832cee938ba",
            "placeholder": "​",
            "style": "IPY_MODEL_86cb5d77b2454aefb50d2fcbda35177c",
            "value": " 365/365 [00:14&lt;00:00, 24.94 examples/s]"
          }
        },
        "62b49f85d55845588e74028c72af76f8": {
          "model_module": "@jupyter-widgets/base",
          "model_module_version": "1.2.0",
          "model_name": "LayoutModel",
          "state": {
            "_model_module": "@jupyter-widgets/base",
            "_model_module_version": "1.2.0",
            "_model_name": "LayoutModel",
            "_view_count": null,
            "_view_module": "@jupyter-widgets/base",
            "_view_module_version": "1.2.0",
            "_view_name": "LayoutView",
            "align_content": null,
            "align_items": null,
            "align_self": null,
            "border": null,
            "bottom": null,
            "display": null,
            "flex": null,
            "flex_flow": null,
            "grid_area": null,
            "grid_auto_columns": null,
            "grid_auto_flow": null,
            "grid_auto_rows": null,
            "grid_column": null,
            "grid_gap": null,
            "grid_row": null,
            "grid_template_areas": null,
            "grid_template_columns": null,
            "grid_template_rows": null,
            "height": null,
            "justify_content": null,
            "justify_items": null,
            "left": null,
            "margin": null,
            "max_height": null,
            "max_width": null,
            "min_height": null,
            "min_width": null,
            "object_fit": null,
            "object_position": null,
            "order": null,
            "overflow": null,
            "overflow_x": null,
            "overflow_y": null,
            "padding": null,
            "right": null,
            "top": null,
            "visibility": null,
            "width": null
          }
        },
        "636819e9b81349b6810dfeae7ed401e3": {
          "model_module": "@jupyter-widgets/base",
          "model_module_version": "1.2.0",
          "model_name": "LayoutModel",
          "state": {
            "_model_module": "@jupyter-widgets/base",
            "_model_module_version": "1.2.0",
            "_model_name": "LayoutModel",
            "_view_count": null,
            "_view_module": "@jupyter-widgets/base",
            "_view_module_version": "1.2.0",
            "_view_name": "LayoutView",
            "align_content": null,
            "align_items": null,
            "align_self": null,
            "border": null,
            "bottom": null,
            "display": null,
            "flex": null,
            "flex_flow": null,
            "grid_area": null,
            "grid_auto_columns": null,
            "grid_auto_flow": null,
            "grid_auto_rows": null,
            "grid_column": null,
            "grid_gap": null,
            "grid_row": null,
            "grid_template_areas": null,
            "grid_template_columns": null,
            "grid_template_rows": null,
            "height": null,
            "justify_content": null,
            "justify_items": null,
            "left": null,
            "margin": null,
            "max_height": null,
            "max_width": null,
            "min_height": null,
            "min_width": null,
            "object_fit": null,
            "object_position": null,
            "order": null,
            "overflow": null,
            "overflow_x": null,
            "overflow_y": null,
            "padding": null,
            "right": null,
            "top": null,
            "visibility": null,
            "width": null
          }
        },
        "63d2f2c57d914f8c9b09153c484e9208": {
          "model_module": "@jupyter-widgets/controls",
          "model_module_version": "1.5.0",
          "model_name": "HTMLModel",
          "state": {
            "_dom_classes": [],
            "_model_module": "@jupyter-widgets/controls",
            "_model_module_version": "1.5.0",
            "_model_name": "HTMLModel",
            "_view_count": null,
            "_view_module": "@jupyter-widgets/controls",
            "_view_module_version": "1.5.0",
            "_view_name": "HTMLView",
            "description": "",
            "description_tooltip": null,
            "layout": "IPY_MODEL_8874d53c2d8f45a4bb4bac86513a1e35",
            "placeholder": "​",
            "style": "IPY_MODEL_2311bdb0e6ef47a190fffe527051fceb",
            "value": "Map: 100%"
          }
        },
        "63e9342c8ce74e3587f887454e9459a3": {
          "model_module": "@jupyter-widgets/controls",
          "model_module_version": "1.5.0",
          "model_name": "HTMLModel",
          "state": {
            "_dom_classes": [],
            "_model_module": "@jupyter-widgets/controls",
            "_model_module_version": "1.5.0",
            "_model_name": "HTMLModel",
            "_view_count": null,
            "_view_module": "@jupyter-widgets/controls",
            "_view_module_version": "1.5.0",
            "_view_name": "HTMLView",
            "description": "",
            "description_tooltip": null,
            "layout": "IPY_MODEL_1f717e221a37460d9b5319f1f858422c",
            "placeholder": "​",
            "style": "IPY_MODEL_391b6985f9714f32a00356bc2baca875",
            "value": " 439M/439M [00:12&lt;00:00, 91.3MB/s]"
          }
        },
        "64346eb39e844fa78fe79ad4bea58f22": {
          "model_module": "@jupyter-widgets/base",
          "model_module_version": "1.2.0",
          "model_name": "LayoutModel",
          "state": {
            "_model_module": "@jupyter-widgets/base",
            "_model_module_version": "1.2.0",
            "_model_name": "LayoutModel",
            "_view_count": null,
            "_view_module": "@jupyter-widgets/base",
            "_view_module_version": "1.2.0",
            "_view_name": "LayoutView",
            "align_content": null,
            "align_items": null,
            "align_self": null,
            "border": null,
            "bottom": null,
            "display": null,
            "flex": null,
            "flex_flow": null,
            "grid_area": null,
            "grid_auto_columns": null,
            "grid_auto_flow": null,
            "grid_auto_rows": null,
            "grid_column": null,
            "grid_gap": null,
            "grid_row": null,
            "grid_template_areas": null,
            "grid_template_columns": null,
            "grid_template_rows": null,
            "height": null,
            "justify_content": null,
            "justify_items": null,
            "left": null,
            "margin": null,
            "max_height": null,
            "max_width": null,
            "min_height": null,
            "min_width": null,
            "object_fit": null,
            "object_position": null,
            "order": null,
            "overflow": null,
            "overflow_x": null,
            "overflow_y": null,
            "padding": null,
            "right": null,
            "top": null,
            "visibility": null,
            "width": null
          }
        },
        "65699cbcbd74437cb15b08ca2abf06ee": {
          "model_module": "@jupyter-widgets/controls",
          "model_module_version": "1.5.0",
          "model_name": "DescriptionStyleModel",
          "state": {
            "_model_module": "@jupyter-widgets/controls",
            "_model_module_version": "1.5.0",
            "_model_name": "DescriptionStyleModel",
            "_view_count": null,
            "_view_module": "@jupyter-widgets/base",
            "_view_module_version": "1.2.0",
            "_view_name": "StyleView",
            "description_width": ""
          }
        },
        "65bf84b6848c48b69dc416282a4a799a": {
          "model_module": "@jupyter-widgets/controls",
          "model_module_version": "1.5.0",
          "model_name": "DescriptionStyleModel",
          "state": {
            "_model_module": "@jupyter-widgets/controls",
            "_model_module_version": "1.5.0",
            "_model_name": "DescriptionStyleModel",
            "_view_count": null,
            "_view_module": "@jupyter-widgets/base",
            "_view_module_version": "1.2.0",
            "_view_name": "StyleView",
            "description_width": ""
          }
        },
        "67a12142e3f4412f9af9e9a3a99aeabe": {
          "model_module": "@jupyter-widgets/controls",
          "model_module_version": "1.5.0",
          "model_name": "HBoxModel",
          "state": {
            "_dom_classes": [],
            "_model_module": "@jupyter-widgets/controls",
            "_model_module_version": "1.5.0",
            "_model_name": "HBoxModel",
            "_view_count": null,
            "_view_module": "@jupyter-widgets/controls",
            "_view_module_version": "1.5.0",
            "_view_name": "HBoxView",
            "box_style": "",
            "children": [
              "IPY_MODEL_97d7af6ec49143d3ba69bcb18056f52a",
              "IPY_MODEL_929af22cdc294c95b7d534257ea997f8",
              "IPY_MODEL_6fcd240561d84e53a05b803ba5aa1ad3"
            ],
            "layout": "IPY_MODEL_16e38b9141504ff89c12677af032f7f8"
          }
        },
        "691a7488fd1143178234077b41ff19fd": {
          "model_module": "@jupyter-widgets/controls",
          "model_module_version": "1.5.0",
          "model_name": "ProgressStyleModel",
          "state": {
            "_model_module": "@jupyter-widgets/controls",
            "_model_module_version": "1.5.0",
            "_model_name": "ProgressStyleModel",
            "_view_count": null,
            "_view_module": "@jupyter-widgets/base",
            "_view_module_version": "1.2.0",
            "_view_name": "StyleView",
            "bar_color": null,
            "description_width": ""
          }
        },
        "6cb0bc6eabe34f9ca811fb3653f4a682": {
          "model_module": "@jupyter-widgets/base",
          "model_module_version": "1.2.0",
          "model_name": "LayoutModel",
          "state": {
            "_model_module": "@jupyter-widgets/base",
            "_model_module_version": "1.2.0",
            "_model_name": "LayoutModel",
            "_view_count": null,
            "_view_module": "@jupyter-widgets/base",
            "_view_module_version": "1.2.0",
            "_view_name": "LayoutView",
            "align_content": null,
            "align_items": null,
            "align_self": null,
            "border": null,
            "bottom": null,
            "display": null,
            "flex": null,
            "flex_flow": null,
            "grid_area": null,
            "grid_auto_columns": null,
            "grid_auto_flow": null,
            "grid_auto_rows": null,
            "grid_column": null,
            "grid_gap": null,
            "grid_row": null,
            "grid_template_areas": null,
            "grid_template_columns": null,
            "grid_template_rows": null,
            "height": null,
            "justify_content": null,
            "justify_items": null,
            "left": null,
            "margin": null,
            "max_height": null,
            "max_width": null,
            "min_height": null,
            "min_width": null,
            "object_fit": null,
            "object_position": null,
            "order": null,
            "overflow": null,
            "overflow_x": null,
            "overflow_y": null,
            "padding": null,
            "right": null,
            "top": null,
            "visibility": null,
            "width": null
          }
        },
        "6d280d06eb4e42f69f754ea4a3e04bbe": {
          "model_module": "@jupyter-widgets/controls",
          "model_module_version": "1.5.0",
          "model_name": "HTMLModel",
          "state": {
            "_dom_classes": [],
            "_model_module": "@jupyter-widgets/controls",
            "_model_module_version": "1.5.0",
            "_model_name": "HTMLModel",
            "_view_count": null,
            "_view_module": "@jupyter-widgets/controls",
            "_view_module_version": "1.5.0",
            "_view_name": "HTMLView",
            "description": "",
            "description_tooltip": null,
            "layout": "IPY_MODEL_b2c03906f8fc41b7b3f2d9b52c415512",
            "placeholder": "​",
            "style": "IPY_MODEL_dcdf39cc31ce4f7d9a38355dc4aea11c",
            "value": "Map: 100%"
          }
        },
        "6de3c6ffa25d42d198b4fad4e44b60be": {
          "model_module": "@jupyter-widgets/controls",
          "model_module_version": "1.5.0",
          "model_name": "DescriptionStyleModel",
          "state": {
            "_model_module": "@jupyter-widgets/controls",
            "_model_module_version": "1.5.0",
            "_model_name": "DescriptionStyleModel",
            "_view_count": null,
            "_view_module": "@jupyter-widgets/base",
            "_view_module_version": "1.2.0",
            "_view_name": "StyleView",
            "description_width": ""
          }
        },
        "6df62e1a8be54e61b1b11f45361dcd5f": {
          "model_module": "@jupyter-widgets/base",
          "model_module_version": "1.2.0",
          "model_name": "LayoutModel",
          "state": {
            "_model_module": "@jupyter-widgets/base",
            "_model_module_version": "1.2.0",
            "_model_name": "LayoutModel",
            "_view_count": null,
            "_view_module": "@jupyter-widgets/base",
            "_view_module_version": "1.2.0",
            "_view_name": "LayoutView",
            "align_content": null,
            "align_items": null,
            "align_self": null,
            "border": null,
            "bottom": null,
            "display": null,
            "flex": null,
            "flex_flow": null,
            "grid_area": null,
            "grid_auto_columns": null,
            "grid_auto_flow": null,
            "grid_auto_rows": null,
            "grid_column": null,
            "grid_gap": null,
            "grid_row": null,
            "grid_template_areas": null,
            "grid_template_columns": null,
            "grid_template_rows": null,
            "height": null,
            "justify_content": null,
            "justify_items": null,
            "left": null,
            "margin": null,
            "max_height": null,
            "max_width": null,
            "min_height": null,
            "min_width": null,
            "object_fit": null,
            "object_position": null,
            "order": null,
            "overflow": null,
            "overflow_x": null,
            "overflow_y": null,
            "padding": null,
            "right": null,
            "top": null,
            "visibility": null,
            "width": null
          }
        },
        "6e7d0df1c9824fd9a02e227b3b41d793": {
          "model_module": "@jupyter-widgets/controls",
          "model_module_version": "1.5.0",
          "model_name": "DescriptionStyleModel",
          "state": {
            "_model_module": "@jupyter-widgets/controls",
            "_model_module_version": "1.5.0",
            "_model_name": "DescriptionStyleModel",
            "_view_count": null,
            "_view_module": "@jupyter-widgets/base",
            "_view_module_version": "1.2.0",
            "_view_name": "StyleView",
            "description_width": ""
          }
        },
        "6ec0be9746234467b3bc8f3283fce533": {
          "model_module": "@jupyter-widgets/controls",
          "model_module_version": "1.5.0",
          "model_name": "HTMLModel",
          "state": {
            "_dom_classes": [],
            "_model_module": "@jupyter-widgets/controls",
            "_model_module_version": "1.5.0",
            "_model_name": "HTMLModel",
            "_view_count": null,
            "_view_module": "@jupyter-widgets/controls",
            "_view_module_version": "1.5.0",
            "_view_name": "HTMLView",
            "description": "",
            "description_tooltip": null,
            "layout": "IPY_MODEL_0d919e2979ef4033991321df1096e108",
            "placeholder": "​",
            "style": "IPY_MODEL_5b26a420aa4d4fbf9fd8b57d03ed41a5",
            "value": "Map: 100%"
          }
        },
        "6ef9a74f69ae4eafb9331272d197d59e": {
          "model_module": "@jupyter-widgets/controls",
          "model_module_version": "1.5.0",
          "model_name": "DescriptionStyleModel",
          "state": {
            "_model_module": "@jupyter-widgets/controls",
            "_model_module_version": "1.5.0",
            "_model_name": "DescriptionStyleModel",
            "_view_count": null,
            "_view_module": "@jupyter-widgets/base",
            "_view_module_version": "1.2.0",
            "_view_name": "StyleView",
            "description_width": ""
          }
        },
        "6fcd240561d84e53a05b803ba5aa1ad3": {
          "model_module": "@jupyter-widgets/controls",
          "model_module_version": "1.5.0",
          "model_name": "HTMLModel",
          "state": {
            "_dom_classes": [],
            "_model_module": "@jupyter-widgets/controls",
            "_model_module_version": "1.5.0",
            "_model_name": "HTMLModel",
            "_view_count": null,
            "_view_module": "@jupyter-widgets/controls",
            "_view_module_version": "1.5.0",
            "_view_name": "HTMLView",
            "description": "",
            "description_tooltip": null,
            "layout": "IPY_MODEL_101a02d292394bb38b81c0c6b14aab2c",
            "placeholder": "​",
            "style": "IPY_MODEL_6e7d0df1c9824fd9a02e227b3b41d793",
            "value": " 364/364 [00:14&lt;00:00, 24.33 examples/s]"
          }
        },
        "70c540a45d344a28a0958a75d3d95fa1": {
          "model_module": "@jupyter-widgets/controls",
          "model_module_version": "1.5.0",
          "model_name": "HTMLModel",
          "state": {
            "_dom_classes": [],
            "_model_module": "@jupyter-widgets/controls",
            "_model_module_version": "1.5.0",
            "_model_name": "HTMLModel",
            "_view_count": null,
            "_view_module": "@jupyter-widgets/controls",
            "_view_module_version": "1.5.0",
            "_view_name": "HTMLView",
            "description": "",
            "description_tooltip": null,
            "layout": "IPY_MODEL_e18eb32b165c46768bd3b841de13d45a",
            "placeholder": "​",
            "style": "IPY_MODEL_dedc386f61704610997abdb516cb4c2b",
            "value": " 364/364 [00:16&lt;00:00, 22.49 examples/s]"
          }
        },
        "715b281e8bcb4bfba317b3436ba0e326": {
          "model_module": "@jupyter-widgets/controls",
          "model_module_version": "1.5.0",
          "model_name": "FloatProgressModel",
          "state": {
            "_dom_classes": [],
            "_model_module": "@jupyter-widgets/controls",
            "_model_module_version": "1.5.0",
            "_model_name": "FloatProgressModel",
            "_view_count": null,
            "_view_module": "@jupyter-widgets/controls",
            "_view_module_version": "1.5.0",
            "_view_name": "ProgressView",
            "bar_style": "success",
            "description": "",
            "description_tooltip": null,
            "layout": "IPY_MODEL_00040cc0e59d4ce2b98d63ab312a70d5",
            "max": 365,
            "min": 0,
            "orientation": "horizontal",
            "style": "IPY_MODEL_5bec32e92bf441b1b1cdc04013b27860",
            "value": 365
          }
        },
        "71a1602a4664421cb0a81b94b68d0014": {
          "model_module": "@jupyter-widgets/controls",
          "model_module_version": "1.5.0",
          "model_name": "DescriptionStyleModel",
          "state": {
            "_model_module": "@jupyter-widgets/controls",
            "_model_module_version": "1.5.0",
            "_model_name": "DescriptionStyleModel",
            "_view_count": null,
            "_view_module": "@jupyter-widgets/base",
            "_view_module_version": "1.2.0",
            "_view_name": "StyleView",
            "description_width": ""
          }
        },
        "71fd01b8b3164fafb1fe5e2cac85e2e1": {
          "model_module": "@jupyter-widgets/base",
          "model_module_version": "1.2.0",
          "model_name": "LayoutModel",
          "state": {
            "_model_module": "@jupyter-widgets/base",
            "_model_module_version": "1.2.0",
            "_model_name": "LayoutModel",
            "_view_count": null,
            "_view_module": "@jupyter-widgets/base",
            "_view_module_version": "1.2.0",
            "_view_name": "LayoutView",
            "align_content": null,
            "align_items": null,
            "align_self": null,
            "border": null,
            "bottom": null,
            "display": null,
            "flex": null,
            "flex_flow": null,
            "grid_area": null,
            "grid_auto_columns": null,
            "grid_auto_flow": null,
            "grid_auto_rows": null,
            "grid_column": null,
            "grid_gap": null,
            "grid_row": null,
            "grid_template_areas": null,
            "grid_template_columns": null,
            "grid_template_rows": null,
            "height": null,
            "justify_content": null,
            "justify_items": null,
            "left": null,
            "margin": null,
            "max_height": null,
            "max_width": null,
            "min_height": null,
            "min_width": null,
            "object_fit": null,
            "object_position": null,
            "order": null,
            "overflow": null,
            "overflow_x": null,
            "overflow_y": null,
            "padding": null,
            "right": null,
            "top": null,
            "visibility": null,
            "width": null
          }
        },
        "76d9ebc5607448858398c13054c2502e": {
          "model_module": "@jupyter-widgets/controls",
          "model_module_version": "1.5.0",
          "model_name": "ProgressStyleModel",
          "state": {
            "_model_module": "@jupyter-widgets/controls",
            "_model_module_version": "1.5.0",
            "_model_name": "ProgressStyleModel",
            "_view_count": null,
            "_view_module": "@jupyter-widgets/base",
            "_view_module_version": "1.2.0",
            "_view_name": "StyleView",
            "bar_color": null,
            "description_width": ""
          }
        },
        "781cd85ae4ce4efebb86566e1fbb4949": {
          "model_module": "@jupyter-widgets/controls",
          "model_module_version": "1.5.0",
          "model_name": "HTMLModel",
          "state": {
            "_dom_classes": [],
            "_model_module": "@jupyter-widgets/controls",
            "_model_module_version": "1.5.0",
            "_model_name": "HTMLModel",
            "_view_count": null,
            "_view_module": "@jupyter-widgets/controls",
            "_view_module_version": "1.5.0",
            "_view_name": "HTMLView",
            "description": "",
            "description_tooltip": null,
            "layout": "IPY_MODEL_8f88df9710de4512b58cfd213a60ae6b",
            "placeholder": "​",
            "style": "IPY_MODEL_bacfbb8028604eae9e9ecbe09e4654f2",
            "value": "config.json: 100%"
          }
        },
        "78a653fb62a641659ee815884f65e3fe": {
          "model_module": "@jupyter-widgets/controls",
          "model_module_version": "1.5.0",
          "model_name": "DescriptionStyleModel",
          "state": {
            "_model_module": "@jupyter-widgets/controls",
            "_model_module_version": "1.5.0",
            "_model_name": "DescriptionStyleModel",
            "_view_count": null,
            "_view_module": "@jupyter-widgets/base",
            "_view_module_version": "1.2.0",
            "_view_name": "StyleView",
            "description_width": ""
          }
        },
        "79a34d605c1743e4a1f702345d227eb6": {
          "model_module": "@jupyter-widgets/base",
          "model_module_version": "1.2.0",
          "model_name": "LayoutModel",
          "state": {
            "_model_module": "@jupyter-widgets/base",
            "_model_module_version": "1.2.0",
            "_model_name": "LayoutModel",
            "_view_count": null,
            "_view_module": "@jupyter-widgets/base",
            "_view_module_version": "1.2.0",
            "_view_name": "LayoutView",
            "align_content": null,
            "align_items": null,
            "align_self": null,
            "border": null,
            "bottom": null,
            "display": null,
            "flex": null,
            "flex_flow": null,
            "grid_area": null,
            "grid_auto_columns": null,
            "grid_auto_flow": null,
            "grid_auto_rows": null,
            "grid_column": null,
            "grid_gap": null,
            "grid_row": null,
            "grid_template_areas": null,
            "grid_template_columns": null,
            "grid_template_rows": null,
            "height": null,
            "justify_content": null,
            "justify_items": null,
            "left": null,
            "margin": null,
            "max_height": null,
            "max_width": null,
            "min_height": null,
            "min_width": null,
            "object_fit": null,
            "object_position": null,
            "order": null,
            "overflow": null,
            "overflow_x": null,
            "overflow_y": null,
            "padding": null,
            "right": null,
            "top": null,
            "visibility": null,
            "width": null
          }
        },
        "7b5ed05b29544df684ad1861a894ee61": {
          "model_module": "@jupyter-widgets/base",
          "model_module_version": "1.2.0",
          "model_name": "LayoutModel",
          "state": {
            "_model_module": "@jupyter-widgets/base",
            "_model_module_version": "1.2.0",
            "_model_name": "LayoutModel",
            "_view_count": null,
            "_view_module": "@jupyter-widgets/base",
            "_view_module_version": "1.2.0",
            "_view_name": "LayoutView",
            "align_content": null,
            "align_items": null,
            "align_self": null,
            "border": null,
            "bottom": null,
            "display": null,
            "flex": null,
            "flex_flow": null,
            "grid_area": null,
            "grid_auto_columns": null,
            "grid_auto_flow": null,
            "grid_auto_rows": null,
            "grid_column": null,
            "grid_gap": null,
            "grid_row": null,
            "grid_template_areas": null,
            "grid_template_columns": null,
            "grid_template_rows": null,
            "height": null,
            "justify_content": null,
            "justify_items": null,
            "left": null,
            "margin": null,
            "max_height": null,
            "max_width": null,
            "min_height": null,
            "min_width": null,
            "object_fit": null,
            "object_position": null,
            "order": null,
            "overflow": null,
            "overflow_x": null,
            "overflow_y": null,
            "padding": null,
            "right": null,
            "top": null,
            "visibility": null,
            "width": null
          }
        },
        "7c87f377b9c44c86bbf35e80df1da810": {
          "model_module": "@jupyter-widgets/base",
          "model_module_version": "1.2.0",
          "model_name": "LayoutModel",
          "state": {
            "_model_module": "@jupyter-widgets/base",
            "_model_module_version": "1.2.0",
            "_model_name": "LayoutModel",
            "_view_count": null,
            "_view_module": "@jupyter-widgets/base",
            "_view_module_version": "1.2.0",
            "_view_name": "LayoutView",
            "align_content": null,
            "align_items": null,
            "align_self": null,
            "border": null,
            "bottom": null,
            "display": null,
            "flex": null,
            "flex_flow": null,
            "grid_area": null,
            "grid_auto_columns": null,
            "grid_auto_flow": null,
            "grid_auto_rows": null,
            "grid_column": null,
            "grid_gap": null,
            "grid_row": null,
            "grid_template_areas": null,
            "grid_template_columns": null,
            "grid_template_rows": null,
            "height": null,
            "justify_content": null,
            "justify_items": null,
            "left": null,
            "margin": null,
            "max_height": null,
            "max_width": null,
            "min_height": null,
            "min_width": null,
            "object_fit": null,
            "object_position": null,
            "order": null,
            "overflow": null,
            "overflow_x": null,
            "overflow_y": null,
            "padding": null,
            "right": null,
            "top": null,
            "visibility": null,
            "width": null
          }
        },
        "8277998dff804d228adba4bde4247dda": {
          "model_module": "@jupyter-widgets/controls",
          "model_module_version": "1.5.0",
          "model_name": "ProgressStyleModel",
          "state": {
            "_model_module": "@jupyter-widgets/controls",
            "_model_module_version": "1.5.0",
            "_model_name": "ProgressStyleModel",
            "_view_count": null,
            "_view_module": "@jupyter-widgets/base",
            "_view_module_version": "1.2.0",
            "_view_name": "StyleView",
            "bar_color": null,
            "description_width": ""
          }
        },
        "840329d1dfaf4fa693d74c73e12b941f": {
          "model_module": "@jupyter-widgets/controls",
          "model_module_version": "1.5.0",
          "model_name": "DescriptionStyleModel",
          "state": {
            "_model_module": "@jupyter-widgets/controls",
            "_model_module_version": "1.5.0",
            "_model_name": "DescriptionStyleModel",
            "_view_count": null,
            "_view_module": "@jupyter-widgets/base",
            "_view_module_version": "1.2.0",
            "_view_name": "StyleView",
            "description_width": ""
          }
        },
        "842a830164e948d89ac3597d7cf575cd": {
          "model_module": "@jupyter-widgets/controls",
          "model_module_version": "1.5.0",
          "model_name": "HBoxModel",
          "state": {
            "_dom_classes": [],
            "_model_module": "@jupyter-widgets/controls",
            "_model_module_version": "1.5.0",
            "_model_name": "HBoxModel",
            "_view_count": null,
            "_view_module": "@jupyter-widgets/controls",
            "_view_module_version": "1.5.0",
            "_view_name": "HBoxView",
            "box_style": "",
            "children": [
              "IPY_MODEL_6ec0be9746234467b3bc8f3283fce533",
              "IPY_MODEL_aecaced0a08a42bfb155559ad78a2565",
              "IPY_MODEL_6168d0cbf05f40fca2a3d697a9309f81"
            ],
            "layout": "IPY_MODEL_7c87f377b9c44c86bbf35e80df1da810"
          }
        },
        "851585acacaa4087a701424b613d767c": {
          "model_module": "@jupyter-widgets/controls",
          "model_module_version": "1.5.0",
          "model_name": "DescriptionStyleModel",
          "state": {
            "_model_module": "@jupyter-widgets/controls",
            "_model_module_version": "1.5.0",
            "_model_name": "DescriptionStyleModel",
            "_view_count": null,
            "_view_module": "@jupyter-widgets/base",
            "_view_module_version": "1.2.0",
            "_view_name": "StyleView",
            "description_width": ""
          }
        },
        "85ac230a03b04c7f9a2a945093c872ea": {
          "model_module": "@jupyter-widgets/controls",
          "model_module_version": "1.5.0",
          "model_name": "HBoxModel",
          "state": {
            "_dom_classes": [],
            "_model_module": "@jupyter-widgets/controls",
            "_model_module_version": "1.5.0",
            "_model_name": "HBoxModel",
            "_view_count": null,
            "_view_module": "@jupyter-widgets/controls",
            "_view_module_version": "1.5.0",
            "_view_name": "HBoxView",
            "box_style": "",
            "children": [
              "IPY_MODEL_f5cb41683fe74045a55bbf8e8b6a5b34",
              "IPY_MODEL_31ab3f062a564d429c7867ab6f9db52f",
              "IPY_MODEL_5986072b554b469e9ad87c656fc0fcf8"
            ],
            "layout": "IPY_MODEL_64346eb39e844fa78fe79ad4bea58f22"
          }
        },
        "85f0cb390e8b4bc7a4983077f1395372": {
          "model_module": "@jupyter-widgets/controls",
          "model_module_version": "1.5.0",
          "model_name": "DescriptionStyleModel",
          "state": {
            "_model_module": "@jupyter-widgets/controls",
            "_model_module_version": "1.5.0",
            "_model_name": "DescriptionStyleModel",
            "_view_count": null,
            "_view_module": "@jupyter-widgets/base",
            "_view_module_version": "1.2.0",
            "_view_name": "StyleView",
            "description_width": ""
          }
        },
        "86cb5d77b2454aefb50d2fcbda35177c": {
          "model_module": "@jupyter-widgets/controls",
          "model_module_version": "1.5.0",
          "model_name": "DescriptionStyleModel",
          "state": {
            "_model_module": "@jupyter-widgets/controls",
            "_model_module_version": "1.5.0",
            "_model_name": "DescriptionStyleModel",
            "_view_count": null,
            "_view_module": "@jupyter-widgets/base",
            "_view_module_version": "1.2.0",
            "_view_name": "StyleView",
            "description_width": ""
          }
        },
        "8773d741c3ed4b7dbb74b4d55c324f83": {
          "model_module": "@jupyter-widgets/controls",
          "model_module_version": "1.5.0",
          "model_name": "FloatProgressModel",
          "state": {
            "_dom_classes": [],
            "_model_module": "@jupyter-widgets/controls",
            "_model_module_version": "1.5.0",
            "_model_name": "FloatProgressModel",
            "_view_count": null,
            "_view_module": "@jupyter-widgets/controls",
            "_view_module_version": "1.5.0",
            "_view_name": "ProgressView",
            "bar_style": "success",
            "description": "",
            "description_tooltip": null,
            "layout": "IPY_MODEL_62b49f85d55845588e74028c72af76f8",
            "max": 226122,
            "min": 0,
            "orientation": "horizontal",
            "style": "IPY_MODEL_a6f69050c0de4a0791f668d61d0cbbdd",
            "value": 226122
          }
        },
        "882b15cb558c4ff0985b5f873ea3410f": {
          "model_module": "@jupyter-widgets/base",
          "model_module_version": "1.2.0",
          "model_name": "LayoutModel",
          "state": {
            "_model_module": "@jupyter-widgets/base",
            "_model_module_version": "1.2.0",
            "_model_name": "LayoutModel",
            "_view_count": null,
            "_view_module": "@jupyter-widgets/base",
            "_view_module_version": "1.2.0",
            "_view_name": "LayoutView",
            "align_content": null,
            "align_items": null,
            "align_self": null,
            "border": null,
            "bottom": null,
            "display": null,
            "flex": null,
            "flex_flow": null,
            "grid_area": null,
            "grid_auto_columns": null,
            "grid_auto_flow": null,
            "grid_auto_rows": null,
            "grid_column": null,
            "grid_gap": null,
            "grid_row": null,
            "grid_template_areas": null,
            "grid_template_columns": null,
            "grid_template_rows": null,
            "height": null,
            "justify_content": null,
            "justify_items": null,
            "left": null,
            "margin": null,
            "max_height": null,
            "max_width": null,
            "min_height": null,
            "min_width": null,
            "object_fit": null,
            "object_position": null,
            "order": null,
            "overflow": null,
            "overflow_x": null,
            "overflow_y": null,
            "padding": null,
            "right": null,
            "top": null,
            "visibility": null,
            "width": null
          }
        },
        "8874d53c2d8f45a4bb4bac86513a1e35": {
          "model_module": "@jupyter-widgets/base",
          "model_module_version": "1.2.0",
          "model_name": "LayoutModel",
          "state": {
            "_model_module": "@jupyter-widgets/base",
            "_model_module_version": "1.2.0",
            "_model_name": "LayoutModel",
            "_view_count": null,
            "_view_module": "@jupyter-widgets/base",
            "_view_module_version": "1.2.0",
            "_view_name": "LayoutView",
            "align_content": null,
            "align_items": null,
            "align_self": null,
            "border": null,
            "bottom": null,
            "display": null,
            "flex": null,
            "flex_flow": null,
            "grid_area": null,
            "grid_auto_columns": null,
            "grid_auto_flow": null,
            "grid_auto_rows": null,
            "grid_column": null,
            "grid_gap": null,
            "grid_row": null,
            "grid_template_areas": null,
            "grid_template_columns": null,
            "grid_template_rows": null,
            "height": null,
            "justify_content": null,
            "justify_items": null,
            "left": null,
            "margin": null,
            "max_height": null,
            "max_width": null,
            "min_height": null,
            "min_width": null,
            "object_fit": null,
            "object_position": null,
            "order": null,
            "overflow": null,
            "overflow_x": null,
            "overflow_y": null,
            "padding": null,
            "right": null,
            "top": null,
            "visibility": null,
            "width": null
          }
        },
        "88d2ca1079fd4623bfc64e148e020834": {
          "model_module": "@jupyter-widgets/base",
          "model_module_version": "1.2.0",
          "model_name": "LayoutModel",
          "state": {
            "_model_module": "@jupyter-widgets/base",
            "_model_module_version": "1.2.0",
            "_model_name": "LayoutModel",
            "_view_count": null,
            "_view_module": "@jupyter-widgets/base",
            "_view_module_version": "1.2.0",
            "_view_name": "LayoutView",
            "align_content": null,
            "align_items": null,
            "align_self": null,
            "border": null,
            "bottom": null,
            "display": null,
            "flex": null,
            "flex_flow": null,
            "grid_area": null,
            "grid_auto_columns": null,
            "grid_auto_flow": null,
            "grid_auto_rows": null,
            "grid_column": null,
            "grid_gap": null,
            "grid_row": null,
            "grid_template_areas": null,
            "grid_template_columns": null,
            "grid_template_rows": null,
            "height": null,
            "justify_content": null,
            "justify_items": null,
            "left": null,
            "margin": null,
            "max_height": null,
            "max_width": null,
            "min_height": null,
            "min_width": null,
            "object_fit": null,
            "object_position": null,
            "order": null,
            "overflow": null,
            "overflow_x": null,
            "overflow_y": null,
            "padding": null,
            "right": null,
            "top": null,
            "visibility": null,
            "width": null
          }
        },
        "8a28c7338c234ac984a232095ca71f78": {
          "model_module": "@jupyter-widgets/controls",
          "model_module_version": "1.5.0",
          "model_name": "DescriptionStyleModel",
          "state": {
            "_model_module": "@jupyter-widgets/controls",
            "_model_module_version": "1.5.0",
            "_model_name": "DescriptionStyleModel",
            "_view_count": null,
            "_view_module": "@jupyter-widgets/base",
            "_view_module_version": "1.2.0",
            "_view_name": "StyleView",
            "description_width": ""
          }
        },
        "8a6d731696894f79b417527e98dc2fd2": {
          "model_module": "@jupyter-widgets/controls",
          "model_module_version": "1.5.0",
          "model_name": "HTMLModel",
          "state": {
            "_dom_classes": [],
            "_model_module": "@jupyter-widgets/controls",
            "_model_module_version": "1.5.0",
            "_model_name": "HTMLModel",
            "_view_count": null,
            "_view_module": "@jupyter-widgets/controls",
            "_view_module_version": "1.5.0",
            "_view_name": "HTMLView",
            "description": "",
            "description_tooltip": null,
            "layout": "IPY_MODEL_48690c1cf31b4e08baa3e02208e2b6b2",
            "placeholder": "​",
            "style": "IPY_MODEL_bf9b3f147848423a8d59dcbd7ab98894",
            "value": "pytorch_model.bin: 100%"
          }
        },
        "8c4d1a3dc8da40b699b5f19ed2cc9d67": {
          "model_module": "@jupyter-widgets/base",
          "model_module_version": "1.2.0",
          "model_name": "LayoutModel",
          "state": {
            "_model_module": "@jupyter-widgets/base",
            "_model_module_version": "1.2.0",
            "_model_name": "LayoutModel",
            "_view_count": null,
            "_view_module": "@jupyter-widgets/base",
            "_view_module_version": "1.2.0",
            "_view_name": "LayoutView",
            "align_content": null,
            "align_items": null,
            "align_self": null,
            "border": null,
            "bottom": null,
            "display": null,
            "flex": null,
            "flex_flow": null,
            "grid_area": null,
            "grid_auto_columns": null,
            "grid_auto_flow": null,
            "grid_auto_rows": null,
            "grid_column": null,
            "grid_gap": null,
            "grid_row": null,
            "grid_template_areas": null,
            "grid_template_columns": null,
            "grid_template_rows": null,
            "height": null,
            "justify_content": null,
            "justify_items": null,
            "left": null,
            "margin": null,
            "max_height": null,
            "max_width": null,
            "min_height": null,
            "min_width": null,
            "object_fit": null,
            "object_position": null,
            "order": null,
            "overflow": null,
            "overflow_x": null,
            "overflow_y": null,
            "padding": null,
            "right": null,
            "top": null,
            "visibility": null,
            "width": null
          }
        },
        "8c9c52b290e6459a9bb1dc92b358d411": {
          "model_module": "@jupyter-widgets/controls",
          "model_module_version": "1.5.0",
          "model_name": "DescriptionStyleModel",
          "state": {
            "_model_module": "@jupyter-widgets/controls",
            "_model_module_version": "1.5.0",
            "_model_name": "DescriptionStyleModel",
            "_view_count": null,
            "_view_module": "@jupyter-widgets/base",
            "_view_module_version": "1.2.0",
            "_view_name": "StyleView",
            "description_width": ""
          }
        },
        "8f88df9710de4512b58cfd213a60ae6b": {
          "model_module": "@jupyter-widgets/base",
          "model_module_version": "1.2.0",
          "model_name": "LayoutModel",
          "state": {
            "_model_module": "@jupyter-widgets/base",
            "_model_module_version": "1.2.0",
            "_model_name": "LayoutModel",
            "_view_count": null,
            "_view_module": "@jupyter-widgets/base",
            "_view_module_version": "1.2.0",
            "_view_name": "LayoutView",
            "align_content": null,
            "align_items": null,
            "align_self": null,
            "border": null,
            "bottom": null,
            "display": null,
            "flex": null,
            "flex_flow": null,
            "grid_area": null,
            "grid_auto_columns": null,
            "grid_auto_flow": null,
            "grid_auto_rows": null,
            "grid_column": null,
            "grid_gap": null,
            "grid_row": null,
            "grid_template_areas": null,
            "grid_template_columns": null,
            "grid_template_rows": null,
            "height": null,
            "justify_content": null,
            "justify_items": null,
            "left": null,
            "margin": null,
            "max_height": null,
            "max_width": null,
            "min_height": null,
            "min_width": null,
            "object_fit": null,
            "object_position": null,
            "order": null,
            "overflow": null,
            "overflow_x": null,
            "overflow_y": null,
            "padding": null,
            "right": null,
            "top": null,
            "visibility": null,
            "width": null
          }
        },
        "90f69ac11cdd44788dd988cae6ed638e": {
          "model_module": "@jupyter-widgets/base",
          "model_module_version": "1.2.0",
          "model_name": "LayoutModel",
          "state": {
            "_model_module": "@jupyter-widgets/base",
            "_model_module_version": "1.2.0",
            "_model_name": "LayoutModel",
            "_view_count": null,
            "_view_module": "@jupyter-widgets/base",
            "_view_module_version": "1.2.0",
            "_view_name": "LayoutView",
            "align_content": null,
            "align_items": null,
            "align_self": null,
            "border": null,
            "bottom": null,
            "display": null,
            "flex": null,
            "flex_flow": null,
            "grid_area": null,
            "grid_auto_columns": null,
            "grid_auto_flow": null,
            "grid_auto_rows": null,
            "grid_column": null,
            "grid_gap": null,
            "grid_row": null,
            "grid_template_areas": null,
            "grid_template_columns": null,
            "grid_template_rows": null,
            "height": null,
            "justify_content": null,
            "justify_items": null,
            "left": null,
            "margin": null,
            "max_height": null,
            "max_width": null,
            "min_height": null,
            "min_width": null,
            "object_fit": null,
            "object_position": null,
            "order": null,
            "overflow": null,
            "overflow_x": null,
            "overflow_y": null,
            "padding": null,
            "right": null,
            "top": null,
            "visibility": null,
            "width": null
          }
        },
        "91de328672094db497e5009d04de52dc": {
          "model_module": "@jupyter-widgets/controls",
          "model_module_version": "1.5.0",
          "model_name": "HTMLModel",
          "state": {
            "_dom_classes": [],
            "_model_module": "@jupyter-widgets/controls",
            "_model_module_version": "1.5.0",
            "_model_name": "HTMLModel",
            "_view_count": null,
            "_view_module": "@jupyter-widgets/controls",
            "_view_module_version": "1.5.0",
            "_view_name": "HTMLView",
            "description": "",
            "description_tooltip": null,
            "layout": "IPY_MODEL_a180dba3062e441a994f56362c545f3e",
            "placeholder": "​",
            "style": "IPY_MODEL_9504dfe9820b45b886a0b3c7a5f71914",
            "value": " 364/364 [00:14&lt;00:00, 24.90 examples/s]"
          }
        },
        "929af22cdc294c95b7d534257ea997f8": {
          "model_module": "@jupyter-widgets/controls",
          "model_module_version": "1.5.0",
          "model_name": "FloatProgressModel",
          "state": {
            "_dom_classes": [],
            "_model_module": "@jupyter-widgets/controls",
            "_model_module_version": "1.5.0",
            "_model_name": "FloatProgressModel",
            "_view_count": null,
            "_view_module": "@jupyter-widgets/controls",
            "_view_module_version": "1.5.0",
            "_view_name": "ProgressView",
            "bar_style": "success",
            "description": "",
            "description_tooltip": null,
            "layout": "IPY_MODEL_882b15cb558c4ff0985b5f873ea3410f",
            "max": 364,
            "min": 0,
            "orientation": "horizontal",
            "style": "IPY_MODEL_316ec3caf1974ede94b9cb33cc8f5864",
            "value": 364
          }
        },
        "9328256daef5437ca5e99392d7dbf6b5": {
          "model_module": "@jupyter-widgets/controls",
          "model_module_version": "1.5.0",
          "model_name": "HTMLModel",
          "state": {
            "_dom_classes": [],
            "_model_module": "@jupyter-widgets/controls",
            "_model_module_version": "1.5.0",
            "_model_name": "HTMLModel",
            "_view_count": null,
            "_view_module": "@jupyter-widgets/controls",
            "_view_module_version": "1.5.0",
            "_view_name": "HTMLView",
            "description": "",
            "description_tooltip": null,
            "layout": "IPY_MODEL_2878d9f0858a4b228f00af789c71f3f5",
            "placeholder": "​",
            "style": "IPY_MODEL_71a1602a4664421cb0a81b94b68d0014",
            "value": " 226k/226k [00:00&lt;00:00, 1.04MB/s]"
          }
        },
        "939bf8ead2a0467e9f59bf66bc186769": {
          "model_module": "@jupyter-widgets/controls",
          "model_module_version": "1.5.0",
          "model_name": "HBoxModel",
          "state": {
            "_dom_classes": [],
            "_model_module": "@jupyter-widgets/controls",
            "_model_module_version": "1.5.0",
            "_model_name": "HBoxModel",
            "_view_count": null,
            "_view_module": "@jupyter-widgets/controls",
            "_view_module_version": "1.5.0",
            "_view_name": "HBoxView",
            "box_style": "",
            "children": [
              "IPY_MODEL_5fd7f46b086a4442a7423aac30428f25",
              "IPY_MODEL_db123d35ff3e437e8916dd3f45aa054e",
              "IPY_MODEL_aee1c31c1d984a2a8959177c8dd62dde"
            ],
            "layout": "IPY_MODEL_28c1155aaad847adbe268ae1650522d4"
          }
        },
        "9479ebe6e6d244188b65348afbbc54d7": {
          "model_module": "@jupyter-widgets/controls",
          "model_module_version": "1.5.0",
          "model_name": "HTMLModel",
          "state": {
            "_dom_classes": [],
            "_model_module": "@jupyter-widgets/controls",
            "_model_module_version": "1.5.0",
            "_model_name": "HTMLModel",
            "_view_count": null,
            "_view_module": "@jupyter-widgets/controls",
            "_view_module_version": "1.5.0",
            "_view_name": "HTMLView",
            "description": "",
            "description_tooltip": null,
            "layout": "IPY_MODEL_a22a9a9e696c46ccb6e9844e61e3c971",
            "placeholder": "​",
            "style": "IPY_MODEL_07cc465061c84437aaad4bceda3f0a45",
            "value": "vocab.txt: 100%"
          }
        },
        "9504dfe9820b45b886a0b3c7a5f71914": {
          "model_module": "@jupyter-widgets/controls",
          "model_module_version": "1.5.0",
          "model_name": "DescriptionStyleModel",
          "state": {
            "_model_module": "@jupyter-widgets/controls",
            "_model_module_version": "1.5.0",
            "_model_name": "DescriptionStyleModel",
            "_view_count": null,
            "_view_module": "@jupyter-widgets/base",
            "_view_module_version": "1.2.0",
            "_view_name": "StyleView",
            "description_width": ""
          }
        },
        "97d7af6ec49143d3ba69bcb18056f52a": {
          "model_module": "@jupyter-widgets/controls",
          "model_module_version": "1.5.0",
          "model_name": "HTMLModel",
          "state": {
            "_dom_classes": [],
            "_model_module": "@jupyter-widgets/controls",
            "_model_module_version": "1.5.0",
            "_model_name": "HTMLModel",
            "_view_count": null,
            "_view_module": "@jupyter-widgets/controls",
            "_view_module_version": "1.5.0",
            "_view_name": "HTMLView",
            "description": "",
            "description_tooltip": null,
            "layout": "IPY_MODEL_c1a9fbd8c1474160b2f2523f9cac086a",
            "placeholder": "​",
            "style": "IPY_MODEL_f958e64758084858a4724e5a46ea7ab0",
            "value": "Map: 100%"
          }
        },
        "97ec71523aaf4c9190d038766e94f5f6": {
          "model_module": "@jupyter-widgets/base",
          "model_module_version": "1.2.0",
          "model_name": "LayoutModel",
          "state": {
            "_model_module": "@jupyter-widgets/base",
            "_model_module_version": "1.2.0",
            "_model_name": "LayoutModel",
            "_view_count": null,
            "_view_module": "@jupyter-widgets/base",
            "_view_module_version": "1.2.0",
            "_view_name": "LayoutView",
            "align_content": null,
            "align_items": null,
            "align_self": null,
            "border": null,
            "bottom": null,
            "display": null,
            "flex": null,
            "flex_flow": null,
            "grid_area": null,
            "grid_auto_columns": null,
            "grid_auto_flow": null,
            "grid_auto_rows": null,
            "grid_column": null,
            "grid_gap": null,
            "grid_row": null,
            "grid_template_areas": null,
            "grid_template_columns": null,
            "grid_template_rows": null,
            "height": null,
            "justify_content": null,
            "justify_items": null,
            "left": null,
            "margin": null,
            "max_height": null,
            "max_width": null,
            "min_height": null,
            "min_width": null,
            "object_fit": null,
            "object_position": null,
            "order": null,
            "overflow": null,
            "overflow_x": null,
            "overflow_y": null,
            "padding": null,
            "right": null,
            "top": null,
            "visibility": null,
            "width": null
          }
        },
        "983a155250b94cc1a3df0cd5c5690021": {
          "model_module": "@jupyter-widgets/base",
          "model_module_version": "1.2.0",
          "model_name": "LayoutModel",
          "state": {
            "_model_module": "@jupyter-widgets/base",
            "_model_module_version": "1.2.0",
            "_model_name": "LayoutModel",
            "_view_count": null,
            "_view_module": "@jupyter-widgets/base",
            "_view_module_version": "1.2.0",
            "_view_name": "LayoutView",
            "align_content": null,
            "align_items": null,
            "align_self": null,
            "border": null,
            "bottom": null,
            "display": null,
            "flex": null,
            "flex_flow": null,
            "grid_area": null,
            "grid_auto_columns": null,
            "grid_auto_flow": null,
            "grid_auto_rows": null,
            "grid_column": null,
            "grid_gap": null,
            "grid_row": null,
            "grid_template_areas": null,
            "grid_template_columns": null,
            "grid_template_rows": null,
            "height": null,
            "justify_content": null,
            "justify_items": null,
            "left": null,
            "margin": null,
            "max_height": null,
            "max_width": null,
            "min_height": null,
            "min_width": null,
            "object_fit": null,
            "object_position": null,
            "order": null,
            "overflow": null,
            "overflow_x": null,
            "overflow_y": null,
            "padding": null,
            "right": null,
            "top": null,
            "visibility": null,
            "width": null
          }
        },
        "990cabac3db3494ea41657831a5f2760": {
          "model_module": "@jupyter-widgets/base",
          "model_module_version": "1.2.0",
          "model_name": "LayoutModel",
          "state": {
            "_model_module": "@jupyter-widgets/base",
            "_model_module_version": "1.2.0",
            "_model_name": "LayoutModel",
            "_view_count": null,
            "_view_module": "@jupyter-widgets/base",
            "_view_module_version": "1.2.0",
            "_view_name": "LayoutView",
            "align_content": null,
            "align_items": null,
            "align_self": null,
            "border": null,
            "bottom": null,
            "display": null,
            "flex": null,
            "flex_flow": null,
            "grid_area": null,
            "grid_auto_columns": null,
            "grid_auto_flow": null,
            "grid_auto_rows": null,
            "grid_column": null,
            "grid_gap": null,
            "grid_row": null,
            "grid_template_areas": null,
            "grid_template_columns": null,
            "grid_template_rows": null,
            "height": null,
            "justify_content": null,
            "justify_items": null,
            "left": null,
            "margin": null,
            "max_height": null,
            "max_width": null,
            "min_height": null,
            "min_width": null,
            "object_fit": null,
            "object_position": null,
            "order": null,
            "overflow": null,
            "overflow_x": null,
            "overflow_y": null,
            "padding": null,
            "right": null,
            "top": null,
            "visibility": null,
            "width": null
          }
        },
        "9d4ce87386144338b23c0ea16ed9fa47": {
          "model_module": "@jupyter-widgets/controls",
          "model_module_version": "1.5.0",
          "model_name": "FloatProgressModel",
          "state": {
            "_dom_classes": [],
            "_model_module": "@jupyter-widgets/controls",
            "_model_module_version": "1.5.0",
            "_model_name": "FloatProgressModel",
            "_view_count": null,
            "_view_module": "@jupyter-widgets/controls",
            "_view_module_version": "1.5.0",
            "_view_name": "ProgressView",
            "bar_style": "success",
            "description": "",
            "description_tooltip": null,
            "layout": "IPY_MODEL_2091cc13038d451b9d8686f029a2030e",
            "max": 364,
            "min": 0,
            "orientation": "horizontal",
            "style": "IPY_MODEL_8277998dff804d228adba4bde4247dda",
            "value": 364
          }
        },
        "9eada8702b984fce82f0098721aab53a": {
          "model_module": "@jupyter-widgets/controls",
          "model_module_version": "1.5.0",
          "model_name": "HBoxModel",
          "state": {
            "_dom_classes": [],
            "_model_module": "@jupyter-widgets/controls",
            "_model_module_version": "1.5.0",
            "_model_name": "HBoxModel",
            "_view_count": null,
            "_view_module": "@jupyter-widgets/controls",
            "_view_module_version": "1.5.0",
            "_view_name": "HBoxView",
            "box_style": "",
            "children": [
              "IPY_MODEL_8a6d731696894f79b417527e98dc2fd2",
              "IPY_MODEL_d7c9c9a9311447618ad6f291e81b5654",
              "IPY_MODEL_a1426bd6a6c84df697169c896cf98311"
            ],
            "layout": "IPY_MODEL_71fd01b8b3164fafb1fe5e2cac85e2e1"
          }
        },
        "9f349550d8cd446ba58b0de604c907d9": {
          "model_module": "@jupyter-widgets/base",
          "model_module_version": "1.2.0",
          "model_name": "LayoutModel",
          "state": {
            "_model_module": "@jupyter-widgets/base",
            "_model_module_version": "1.2.0",
            "_model_name": "LayoutModel",
            "_view_count": null,
            "_view_module": "@jupyter-widgets/base",
            "_view_module_version": "1.2.0",
            "_view_name": "LayoutView",
            "align_content": null,
            "align_items": null,
            "align_self": null,
            "border": null,
            "bottom": null,
            "display": null,
            "flex": null,
            "flex_flow": null,
            "grid_area": null,
            "grid_auto_columns": null,
            "grid_auto_flow": null,
            "grid_auto_rows": null,
            "grid_column": null,
            "grid_gap": null,
            "grid_row": null,
            "grid_template_areas": null,
            "grid_template_columns": null,
            "grid_template_rows": null,
            "height": null,
            "justify_content": null,
            "justify_items": null,
            "left": null,
            "margin": null,
            "max_height": null,
            "max_width": null,
            "min_height": null,
            "min_width": null,
            "object_fit": null,
            "object_position": null,
            "order": null,
            "overflow": null,
            "overflow_x": null,
            "overflow_y": null,
            "padding": null,
            "right": null,
            "top": null,
            "visibility": null,
            "width": null
          }
        },
        "9f56516045a34af1b6771ed7c1f5c4a4": {
          "model_module": "@jupyter-widgets/controls",
          "model_module_version": "1.5.0",
          "model_name": "FloatProgressModel",
          "state": {
            "_dom_classes": [],
            "_model_module": "@jupyter-widgets/controls",
            "_model_module_version": "1.5.0",
            "_model_name": "FloatProgressModel",
            "_view_count": null,
            "_view_module": "@jupyter-widgets/controls",
            "_view_module_version": "1.5.0",
            "_view_name": "ProgressView",
            "bar_style": "success",
            "description": "",
            "description_tooltip": null,
            "layout": "IPY_MODEL_f7ee880efffd4228b8cd83abb7cb1848",
            "max": 439044180,
            "min": 0,
            "orientation": "horizontal",
            "style": "IPY_MODEL_4a84be057d794563a2ea2b98a3e3b43d",
            "value": 439044180
          }
        },
        "a1426bd6a6c84df697169c896cf98311": {
          "model_module": "@jupyter-widgets/controls",
          "model_module_version": "1.5.0",
          "model_name": "HTMLModel",
          "state": {
            "_dom_classes": [],
            "_model_module": "@jupyter-widgets/controls",
            "_model_module_version": "1.5.0",
            "_model_name": "HTMLModel",
            "_view_count": null,
            "_view_module": "@jupyter-widgets/controls",
            "_view_module_version": "1.5.0",
            "_view_name": "HTMLView",
            "description": "",
            "description_tooltip": null,
            "layout": "IPY_MODEL_25baaca44a3544deba6befcad4527001",
            "placeholder": "​",
            "style": "IPY_MODEL_6ef9a74f69ae4eafb9331272d197d59e",
            "value": " 439M/439M [00:06&lt;00:00, 63.6MB/s]"
          }
        },
        "a180dba3062e441a994f56362c545f3e": {
          "model_module": "@jupyter-widgets/base",
          "model_module_version": "1.2.0",
          "model_name": "LayoutModel",
          "state": {
            "_model_module": "@jupyter-widgets/base",
            "_model_module_version": "1.2.0",
            "_model_name": "LayoutModel",
            "_view_count": null,
            "_view_module": "@jupyter-widgets/base",
            "_view_module_version": "1.2.0",
            "_view_name": "LayoutView",
            "align_content": null,
            "align_items": null,
            "align_self": null,
            "border": null,
            "bottom": null,
            "display": null,
            "flex": null,
            "flex_flow": null,
            "grid_area": null,
            "grid_auto_columns": null,
            "grid_auto_flow": null,
            "grid_auto_rows": null,
            "grid_column": null,
            "grid_gap": null,
            "grid_row": null,
            "grid_template_areas": null,
            "grid_template_columns": null,
            "grid_template_rows": null,
            "height": null,
            "justify_content": null,
            "justify_items": null,
            "left": null,
            "margin": null,
            "max_height": null,
            "max_width": null,
            "min_height": null,
            "min_width": null,
            "object_fit": null,
            "object_position": null,
            "order": null,
            "overflow": null,
            "overflow_x": null,
            "overflow_y": null,
            "padding": null,
            "right": null,
            "top": null,
            "visibility": null,
            "width": null
          }
        },
        "a1ab50856ffc412eb644728fb8fd7e39": {
          "model_module": "@jupyter-widgets/controls",
          "model_module_version": "1.5.0",
          "model_name": "HBoxModel",
          "state": {
            "_dom_classes": [],
            "_model_module": "@jupyter-widgets/controls",
            "_model_module_version": "1.5.0",
            "_model_name": "HBoxModel",
            "_view_count": null,
            "_view_module": "@jupyter-widgets/controls",
            "_view_module_version": "1.5.0",
            "_view_name": "HBoxView",
            "box_style": "",
            "children": [
              "IPY_MODEL_fea80031ff4c4b9cb441357e2d218b52",
              "IPY_MODEL_9f56516045a34af1b6771ed7c1f5c4a4",
              "IPY_MODEL_63e9342c8ce74e3587f887454e9459a3"
            ],
            "layout": "IPY_MODEL_a203119eac6e4d09ba3dbf789e503203"
          }
        },
        "a203119eac6e4d09ba3dbf789e503203": {
          "model_module": "@jupyter-widgets/base",
          "model_module_version": "1.2.0",
          "model_name": "LayoutModel",
          "state": {
            "_model_module": "@jupyter-widgets/base",
            "_model_module_version": "1.2.0",
            "_model_name": "LayoutModel",
            "_view_count": null,
            "_view_module": "@jupyter-widgets/base",
            "_view_module_version": "1.2.0",
            "_view_name": "LayoutView",
            "align_content": null,
            "align_items": null,
            "align_self": null,
            "border": null,
            "bottom": null,
            "display": null,
            "flex": null,
            "flex_flow": null,
            "grid_area": null,
            "grid_auto_columns": null,
            "grid_auto_flow": null,
            "grid_auto_rows": null,
            "grid_column": null,
            "grid_gap": null,
            "grid_row": null,
            "grid_template_areas": null,
            "grid_template_columns": null,
            "grid_template_rows": null,
            "height": null,
            "justify_content": null,
            "justify_items": null,
            "left": null,
            "margin": null,
            "max_height": null,
            "max_width": null,
            "min_height": null,
            "min_width": null,
            "object_fit": null,
            "object_position": null,
            "order": null,
            "overflow": null,
            "overflow_x": null,
            "overflow_y": null,
            "padding": null,
            "right": null,
            "top": null,
            "visibility": null,
            "width": null
          }
        },
        "a22a9a9e696c46ccb6e9844e61e3c971": {
          "model_module": "@jupyter-widgets/base",
          "model_module_version": "1.2.0",
          "model_name": "LayoutModel",
          "state": {
            "_model_module": "@jupyter-widgets/base",
            "_model_module_version": "1.2.0",
            "_model_name": "LayoutModel",
            "_view_count": null,
            "_view_module": "@jupyter-widgets/base",
            "_view_module_version": "1.2.0",
            "_view_name": "LayoutView",
            "align_content": null,
            "align_items": null,
            "align_self": null,
            "border": null,
            "bottom": null,
            "display": null,
            "flex": null,
            "flex_flow": null,
            "grid_area": null,
            "grid_auto_columns": null,
            "grid_auto_flow": null,
            "grid_auto_rows": null,
            "grid_column": null,
            "grid_gap": null,
            "grid_row": null,
            "grid_template_areas": null,
            "grid_template_columns": null,
            "grid_template_rows": null,
            "height": null,
            "justify_content": null,
            "justify_items": null,
            "left": null,
            "margin": null,
            "max_height": null,
            "max_width": null,
            "min_height": null,
            "min_width": null,
            "object_fit": null,
            "object_position": null,
            "order": null,
            "overflow": null,
            "overflow_x": null,
            "overflow_y": null,
            "padding": null,
            "right": null,
            "top": null,
            "visibility": null,
            "width": null
          }
        },
        "a432fe390e1b446ca3460ba71bf3524e": {
          "model_module": "@jupyter-widgets/base",
          "model_module_version": "1.2.0",
          "model_name": "LayoutModel",
          "state": {
            "_model_module": "@jupyter-widgets/base",
            "_model_module_version": "1.2.0",
            "_model_name": "LayoutModel",
            "_view_count": null,
            "_view_module": "@jupyter-widgets/base",
            "_view_module_version": "1.2.0",
            "_view_name": "LayoutView",
            "align_content": null,
            "align_items": null,
            "align_self": null,
            "border": null,
            "bottom": null,
            "display": null,
            "flex": null,
            "flex_flow": null,
            "grid_area": null,
            "grid_auto_columns": null,
            "grid_auto_flow": null,
            "grid_auto_rows": null,
            "grid_column": null,
            "grid_gap": null,
            "grid_row": null,
            "grid_template_areas": null,
            "grid_template_columns": null,
            "grid_template_rows": null,
            "height": null,
            "justify_content": null,
            "justify_items": null,
            "left": null,
            "margin": null,
            "max_height": null,
            "max_width": null,
            "min_height": null,
            "min_width": null,
            "object_fit": null,
            "object_position": null,
            "order": null,
            "overflow": null,
            "overflow_x": null,
            "overflow_y": null,
            "padding": null,
            "right": null,
            "top": null,
            "visibility": null,
            "width": null
          }
        },
        "a494182df58e4ccf9bbfe4a5f3b13160": {
          "model_module": "@jupyter-widgets/controls",
          "model_module_version": "1.5.0",
          "model_name": "HTMLModel",
          "state": {
            "_dom_classes": [],
            "_model_module": "@jupyter-widgets/controls",
            "_model_module_version": "1.5.0",
            "_model_name": "HTMLModel",
            "_view_count": null,
            "_view_module": "@jupyter-widgets/controls",
            "_view_module_version": "1.5.0",
            "_view_name": "HTMLView",
            "description": "",
            "description_tooltip": null,
            "layout": "IPY_MODEL_261620fcd5ed4629b41a2b875bc1cc1d",
            "placeholder": "​",
            "style": "IPY_MODEL_8a28c7338c234ac984a232095ca71f78",
            "value": "Map: 100%"
          }
        },
        "a5b7c86282dc43e39cc26ce42929f1c4": {
          "model_module": "@jupyter-widgets/base",
          "model_module_version": "1.2.0",
          "model_name": "LayoutModel",
          "state": {
            "_model_module": "@jupyter-widgets/base",
            "_model_module_version": "1.2.0",
            "_model_name": "LayoutModel",
            "_view_count": null,
            "_view_module": "@jupyter-widgets/base",
            "_view_module_version": "1.2.0",
            "_view_name": "LayoutView",
            "align_content": null,
            "align_items": null,
            "align_self": null,
            "border": null,
            "bottom": null,
            "display": null,
            "flex": null,
            "flex_flow": null,
            "grid_area": null,
            "grid_auto_columns": null,
            "grid_auto_flow": null,
            "grid_auto_rows": null,
            "grid_column": null,
            "grid_gap": null,
            "grid_row": null,
            "grid_template_areas": null,
            "grid_template_columns": null,
            "grid_template_rows": null,
            "height": null,
            "justify_content": null,
            "justify_items": null,
            "left": null,
            "margin": null,
            "max_height": null,
            "max_width": null,
            "min_height": null,
            "min_width": null,
            "object_fit": null,
            "object_position": null,
            "order": null,
            "overflow": null,
            "overflow_x": null,
            "overflow_y": null,
            "padding": null,
            "right": null,
            "top": null,
            "visibility": null,
            "width": null
          }
        },
        "a69ef00f1fba4af8bf33c4d4a8d3f2e1": {
          "model_module": "@jupyter-widgets/controls",
          "model_module_version": "1.5.0",
          "model_name": "FloatProgressModel",
          "state": {
            "_dom_classes": [],
            "_model_module": "@jupyter-widgets/controls",
            "_model_module_version": "1.5.0",
            "_model_name": "FloatProgressModel",
            "_view_count": null,
            "_view_module": "@jupyter-widgets/controls",
            "_view_module_version": "1.5.0",
            "_view_name": "ProgressView",
            "bar_style": "success",
            "description": "",
            "description_tooltip": null,
            "layout": "IPY_MODEL_59255b34277e4724bbd29ce5b3ded716",
            "max": 1456,
            "min": 0,
            "orientation": "horizontal",
            "style": "IPY_MODEL_fcbc20df80914db997003703b500c018",
            "value": 1456
          }
        },
        "a6f69050c0de4a0791f668d61d0cbbdd": {
          "model_module": "@jupyter-widgets/controls",
          "model_module_version": "1.5.0",
          "model_name": "ProgressStyleModel",
          "state": {
            "_model_module": "@jupyter-widgets/controls",
            "_model_module_version": "1.5.0",
            "_model_name": "ProgressStyleModel",
            "_view_count": null,
            "_view_module": "@jupyter-widgets/base",
            "_view_module_version": "1.2.0",
            "_view_name": "StyleView",
            "bar_color": null,
            "description_width": ""
          }
        },
        "a7168c9b5ae147db9d66966ba523e97e": {
          "model_module": "@jupyter-widgets/controls",
          "model_module_version": "1.5.0",
          "model_name": "HTMLModel",
          "state": {
            "_dom_classes": [],
            "_model_module": "@jupyter-widgets/controls",
            "_model_module_version": "1.5.0",
            "_model_name": "HTMLModel",
            "_view_count": null,
            "_view_module": "@jupyter-widgets/controls",
            "_view_module_version": "1.5.0",
            "_view_name": "HTMLView",
            "description": "",
            "description_tooltip": null,
            "layout": "IPY_MODEL_6df62e1a8be54e61b1b11f45361dcd5f",
            "placeholder": "​",
            "style": "IPY_MODEL_cf0c6c089bec437e83cb77f6375c8655",
            "value": "Map: 100%"
          }
        },
        "abc94daa65e94138b3cd1f913f0cb88d": {
          "model_module": "@jupyter-widgets/controls",
          "model_module_version": "1.5.0",
          "model_name": "HTMLModel",
          "state": {
            "_dom_classes": [],
            "_model_module": "@jupyter-widgets/controls",
            "_model_module_version": "1.5.0",
            "_model_name": "HTMLModel",
            "_view_count": null,
            "_view_module": "@jupyter-widgets/controls",
            "_view_module_version": "1.5.0",
            "_view_name": "HTMLView",
            "description": "",
            "description_tooltip": null,
            "layout": "IPY_MODEL_d2074acf636743bbb928e50fa1d17558",
            "placeholder": "​",
            "style": "IPY_MODEL_01f08db1dc684735a75037f199b665ea",
            "value": "Map: 100%"
          }
        },
        "acb163e6afa142e2bc646d40ba6a6a31": {
          "model_module": "@jupyter-widgets/controls",
          "model_module_version": "1.5.0",
          "model_name": "ProgressStyleModel",
          "state": {
            "_model_module": "@jupyter-widgets/controls",
            "_model_module_version": "1.5.0",
            "_model_name": "ProgressStyleModel",
            "_view_count": null,
            "_view_module": "@jupyter-widgets/base",
            "_view_module_version": "1.2.0",
            "_view_name": "StyleView",
            "bar_color": null,
            "description_width": ""
          }
        },
        "ad1996da54644bd78797175fc7f99feb": {
          "model_module": "@jupyter-widgets/base",
          "model_module_version": "1.2.0",
          "model_name": "LayoutModel",
          "state": {
            "_model_module": "@jupyter-widgets/base",
            "_model_module_version": "1.2.0",
            "_model_name": "LayoutModel",
            "_view_count": null,
            "_view_module": "@jupyter-widgets/base",
            "_view_module_version": "1.2.0",
            "_view_name": "LayoutView",
            "align_content": null,
            "align_items": null,
            "align_self": null,
            "border": null,
            "bottom": null,
            "display": null,
            "flex": null,
            "flex_flow": null,
            "grid_area": null,
            "grid_auto_columns": null,
            "grid_auto_flow": null,
            "grid_auto_rows": null,
            "grid_column": null,
            "grid_gap": null,
            "grid_row": null,
            "grid_template_areas": null,
            "grid_template_columns": null,
            "grid_template_rows": null,
            "height": null,
            "justify_content": null,
            "justify_items": null,
            "left": null,
            "margin": null,
            "max_height": null,
            "max_width": null,
            "min_height": null,
            "min_width": null,
            "object_fit": null,
            "object_position": null,
            "order": null,
            "overflow": null,
            "overflow_x": null,
            "overflow_y": null,
            "padding": null,
            "right": null,
            "top": null,
            "visibility": null,
            "width": null
          }
        },
        "ade3a2edd27248438be7b4bf7e2c8297": {
          "model_module": "@jupyter-widgets/base",
          "model_module_version": "1.2.0",
          "model_name": "LayoutModel",
          "state": {
            "_model_module": "@jupyter-widgets/base",
            "_model_module_version": "1.2.0",
            "_model_name": "LayoutModel",
            "_view_count": null,
            "_view_module": "@jupyter-widgets/base",
            "_view_module_version": "1.2.0",
            "_view_name": "LayoutView",
            "align_content": null,
            "align_items": null,
            "align_self": null,
            "border": null,
            "bottom": null,
            "display": null,
            "flex": null,
            "flex_flow": null,
            "grid_area": null,
            "grid_auto_columns": null,
            "grid_auto_flow": null,
            "grid_auto_rows": null,
            "grid_column": null,
            "grid_gap": null,
            "grid_row": null,
            "grid_template_areas": null,
            "grid_template_columns": null,
            "grid_template_rows": null,
            "height": null,
            "justify_content": null,
            "justify_items": null,
            "left": null,
            "margin": null,
            "max_height": null,
            "max_width": null,
            "min_height": null,
            "min_width": null,
            "object_fit": null,
            "object_position": null,
            "order": null,
            "overflow": null,
            "overflow_x": null,
            "overflow_y": null,
            "padding": null,
            "right": null,
            "top": null,
            "visibility": null,
            "width": null
          }
        },
        "aecaced0a08a42bfb155559ad78a2565": {
          "model_module": "@jupyter-widgets/controls",
          "model_module_version": "1.5.0",
          "model_name": "FloatProgressModel",
          "state": {
            "_dom_classes": [],
            "_model_module": "@jupyter-widgets/controls",
            "_model_module_version": "1.5.0",
            "_model_name": "FloatProgressModel",
            "_view_count": null,
            "_view_module": "@jupyter-widgets/controls",
            "_view_module_version": "1.5.0",
            "_view_name": "ProgressView",
            "bar_style": "success",
            "description": "",
            "description_tooltip": null,
            "layout": "IPY_MODEL_990cabac3db3494ea41657831a5f2760",
            "max": 365,
            "min": 0,
            "orientation": "horizontal",
            "style": "IPY_MODEL_4842c72e85e1499fa7dc5d1223297a9a",
            "value": 365
          }
        },
        "aee1c31c1d984a2a8959177c8dd62dde": {
          "model_module": "@jupyter-widgets/controls",
          "model_module_version": "1.5.0",
          "model_name": "HTMLModel",
          "state": {
            "_dom_classes": [],
            "_model_module": "@jupyter-widgets/controls",
            "_model_module_version": "1.5.0",
            "_model_name": "HTMLModel",
            "_view_count": null,
            "_view_module": "@jupyter-widgets/controls",
            "_view_module_version": "1.5.0",
            "_view_name": "HTMLView",
            "description": "",
            "description_tooltip": null,
            "layout": "IPY_MODEL_1fc2a2ebe967469384d181dff25914c0",
            "placeholder": "​",
            "style": "IPY_MODEL_840329d1dfaf4fa693d74c73e12b941f",
            "value": " 1457/1457 [00:59&lt;00:00, 24.94 examples/s]"
          }
        },
        "b290db3608644430b987cdae6a4c98c7": {
          "model_module": "@jupyter-widgets/base",
          "model_module_version": "1.2.0",
          "model_name": "LayoutModel",
          "state": {
            "_model_module": "@jupyter-widgets/base",
            "_model_module_version": "1.2.0",
            "_model_name": "LayoutModel",
            "_view_count": null,
            "_view_module": "@jupyter-widgets/base",
            "_view_module_version": "1.2.0",
            "_view_name": "LayoutView",
            "align_content": null,
            "align_items": null,
            "align_self": null,
            "border": null,
            "bottom": null,
            "display": null,
            "flex": null,
            "flex_flow": null,
            "grid_area": null,
            "grid_auto_columns": null,
            "grid_auto_flow": null,
            "grid_auto_rows": null,
            "grid_column": null,
            "grid_gap": null,
            "grid_row": null,
            "grid_template_areas": null,
            "grid_template_columns": null,
            "grid_template_rows": null,
            "height": null,
            "justify_content": null,
            "justify_items": null,
            "left": null,
            "margin": null,
            "max_height": null,
            "max_width": null,
            "min_height": null,
            "min_width": null,
            "object_fit": null,
            "object_position": null,
            "order": null,
            "overflow": null,
            "overflow_x": null,
            "overflow_y": null,
            "padding": null,
            "right": null,
            "top": null,
            "visibility": null,
            "width": null
          }
        },
        "b2c03906f8fc41b7b3f2d9b52c415512": {
          "model_module": "@jupyter-widgets/base",
          "model_module_version": "1.2.0",
          "model_name": "LayoutModel",
          "state": {
            "_model_module": "@jupyter-widgets/base",
            "_model_module_version": "1.2.0",
            "_model_name": "LayoutModel",
            "_view_count": null,
            "_view_module": "@jupyter-widgets/base",
            "_view_module_version": "1.2.0",
            "_view_name": "LayoutView",
            "align_content": null,
            "align_items": null,
            "align_self": null,
            "border": null,
            "bottom": null,
            "display": null,
            "flex": null,
            "flex_flow": null,
            "grid_area": null,
            "grid_auto_columns": null,
            "grid_auto_flow": null,
            "grid_auto_rows": null,
            "grid_column": null,
            "grid_gap": null,
            "grid_row": null,
            "grid_template_areas": null,
            "grid_template_columns": null,
            "grid_template_rows": null,
            "height": null,
            "justify_content": null,
            "justify_items": null,
            "left": null,
            "margin": null,
            "max_height": null,
            "max_width": null,
            "min_height": null,
            "min_width": null,
            "object_fit": null,
            "object_position": null,
            "order": null,
            "overflow": null,
            "overflow_x": null,
            "overflow_y": null,
            "padding": null,
            "right": null,
            "top": null,
            "visibility": null,
            "width": null
          }
        },
        "b4862c5124ae4de8be3697bec508f231": {
          "model_module": "@jupyter-widgets/base",
          "model_module_version": "1.2.0",
          "model_name": "LayoutModel",
          "state": {
            "_model_module": "@jupyter-widgets/base",
            "_model_module_version": "1.2.0",
            "_model_name": "LayoutModel",
            "_view_count": null,
            "_view_module": "@jupyter-widgets/base",
            "_view_module_version": "1.2.0",
            "_view_name": "LayoutView",
            "align_content": null,
            "align_items": null,
            "align_self": null,
            "border": null,
            "bottom": null,
            "display": null,
            "flex": null,
            "flex_flow": null,
            "grid_area": null,
            "grid_auto_columns": null,
            "grid_auto_flow": null,
            "grid_auto_rows": null,
            "grid_column": null,
            "grid_gap": null,
            "grid_row": null,
            "grid_template_areas": null,
            "grid_template_columns": null,
            "grid_template_rows": null,
            "height": null,
            "justify_content": null,
            "justify_items": null,
            "left": null,
            "margin": null,
            "max_height": null,
            "max_width": null,
            "min_height": null,
            "min_width": null,
            "object_fit": null,
            "object_position": null,
            "order": null,
            "overflow": null,
            "overflow_x": null,
            "overflow_y": null,
            "padding": null,
            "right": null,
            "top": null,
            "visibility": null,
            "width": null
          }
        },
        "b6a288b6f2304e0a894eb5cda8807d4c": {
          "model_module": "@jupyter-widgets/controls",
          "model_module_version": "1.5.0",
          "model_name": "DescriptionStyleModel",
          "state": {
            "_model_module": "@jupyter-widgets/controls",
            "_model_module_version": "1.5.0",
            "_model_name": "DescriptionStyleModel",
            "_view_count": null,
            "_view_module": "@jupyter-widgets/base",
            "_view_module_version": "1.2.0",
            "_view_name": "StyleView",
            "description_width": ""
          }
        },
        "b701325a583a4fd9bc87b9b04eac483a": {
          "model_module": "@jupyter-widgets/controls",
          "model_module_version": "1.5.0",
          "model_name": "FloatProgressModel",
          "state": {
            "_dom_classes": [],
            "_model_module": "@jupyter-widgets/controls",
            "_model_module_version": "1.5.0",
            "_model_name": "FloatProgressModel",
            "_view_count": null,
            "_view_module": "@jupyter-widgets/controls",
            "_view_module_version": "1.5.0",
            "_view_name": "ProgressView",
            "bar_style": "success",
            "description": "",
            "description_tooltip": null,
            "layout": "IPY_MODEL_8c4d1a3dc8da40b699b5f19ed2cc9d67",
            "max": 1457,
            "min": 0,
            "orientation": "horizontal",
            "style": "IPY_MODEL_acb163e6afa142e2bc646d40ba6a6a31",
            "value": 1457
          }
        },
        "b7cc8331e7084657ac34110aef290325": {
          "model_module": "@jupyter-widgets/controls",
          "model_module_version": "1.5.0",
          "model_name": "ProgressStyleModel",
          "state": {
            "_model_module": "@jupyter-widgets/controls",
            "_model_module_version": "1.5.0",
            "_model_name": "ProgressStyleModel",
            "_view_count": null,
            "_view_module": "@jupyter-widgets/base",
            "_view_module_version": "1.2.0",
            "_view_name": "StyleView",
            "bar_color": null,
            "description_width": ""
          }
        },
        "b7cd97d5778841a0a428c724e41a9ec2": {
          "model_module": "@jupyter-widgets/controls",
          "model_module_version": "1.5.0",
          "model_name": "HBoxModel",
          "state": {
            "_dom_classes": [],
            "_model_module": "@jupyter-widgets/controls",
            "_model_module_version": "1.5.0",
            "_model_name": "HBoxModel",
            "_view_count": null,
            "_view_module": "@jupyter-widgets/controls",
            "_view_module_version": "1.5.0",
            "_view_name": "HBoxView",
            "box_style": "",
            "children": [
              "IPY_MODEL_56a1d9011a6a4eb8846516b426448a91",
              "IPY_MODEL_f25f3d7123684570aa00000ae48ea631",
              "IPY_MODEL_1580e4874a2d46b5a51d42c1fd22142f"
            ],
            "layout": "IPY_MODEL_eddffe01a8a140dcb818eb7954e98541"
          }
        },
        "bacfbb8028604eae9e9ecbe09e4654f2": {
          "model_module": "@jupyter-widgets/controls",
          "model_module_version": "1.5.0",
          "model_name": "DescriptionStyleModel",
          "state": {
            "_model_module": "@jupyter-widgets/controls",
            "_model_module_version": "1.5.0",
            "_model_name": "DescriptionStyleModel",
            "_view_count": null,
            "_view_module": "@jupyter-widgets/base",
            "_view_module_version": "1.2.0",
            "_view_name": "StyleView",
            "description_width": ""
          }
        },
        "bd1b1d46643941ce8de348af87b20120": {
          "model_module": "@jupyter-widgets/controls",
          "model_module_version": "1.5.0",
          "model_name": "FloatProgressModel",
          "state": {
            "_dom_classes": [],
            "_model_module": "@jupyter-widgets/controls",
            "_model_module_version": "1.5.0",
            "_model_name": "FloatProgressModel",
            "_view_count": null,
            "_view_module": "@jupyter-widgets/controls",
            "_view_module_version": "1.5.0",
            "_view_name": "ProgressView",
            "bar_style": "success",
            "description": "",
            "description_tooltip": null,
            "layout": "IPY_MODEL_b290db3608644430b987cdae6a4c98c7",
            "max": 533,
            "min": 0,
            "orientation": "horizontal",
            "style": "IPY_MODEL_31b955bd7069450c84a47bf4cb6f68b8",
            "value": 533
          }
        },
        "bdbf90abf8af4d11bd0515b21c1b57b1": {
          "model_module": "@jupyter-widgets/controls",
          "model_module_version": "1.5.0",
          "model_name": "HTMLModel",
          "state": {
            "_dom_classes": [],
            "_model_module": "@jupyter-widgets/controls",
            "_model_module_version": "1.5.0",
            "_model_name": "HTMLModel",
            "_view_count": null,
            "_view_module": "@jupyter-widgets/controls",
            "_view_module_version": "1.5.0",
            "_view_name": "HTMLView",
            "description": "",
            "description_tooltip": null,
            "layout": "IPY_MODEL_33bff8756a7e44d4ba000ebe2fb2e804",
            "placeholder": "​",
            "style": "IPY_MODEL_6de3c6ffa25d42d198b4fad4e44b60be",
            "value": " 365/365 [00:16&lt;00:00, 22.49 examples/s]"
          }
        },
        "bf9b3f147848423a8d59dcbd7ab98894": {
          "model_module": "@jupyter-widgets/controls",
          "model_module_version": "1.5.0",
          "model_name": "DescriptionStyleModel",
          "state": {
            "_model_module": "@jupyter-widgets/controls",
            "_model_module_version": "1.5.0",
            "_model_name": "DescriptionStyleModel",
            "_view_count": null,
            "_view_module": "@jupyter-widgets/base",
            "_view_module_version": "1.2.0",
            "_view_name": "StyleView",
            "description_width": ""
          }
        },
        "c1a9fbd8c1474160b2f2523f9cac086a": {
          "model_module": "@jupyter-widgets/base",
          "model_module_version": "1.2.0",
          "model_name": "LayoutModel",
          "state": {
            "_model_module": "@jupyter-widgets/base",
            "_model_module_version": "1.2.0",
            "_model_name": "LayoutModel",
            "_view_count": null,
            "_view_module": "@jupyter-widgets/base",
            "_view_module_version": "1.2.0",
            "_view_name": "LayoutView",
            "align_content": null,
            "align_items": null,
            "align_self": null,
            "border": null,
            "bottom": null,
            "display": null,
            "flex": null,
            "flex_flow": null,
            "grid_area": null,
            "grid_auto_columns": null,
            "grid_auto_flow": null,
            "grid_auto_rows": null,
            "grid_column": null,
            "grid_gap": null,
            "grid_row": null,
            "grid_template_areas": null,
            "grid_template_columns": null,
            "grid_template_rows": null,
            "height": null,
            "justify_content": null,
            "justify_items": null,
            "left": null,
            "margin": null,
            "max_height": null,
            "max_width": null,
            "min_height": null,
            "min_width": null,
            "object_fit": null,
            "object_position": null,
            "order": null,
            "overflow": null,
            "overflow_x": null,
            "overflow_y": null,
            "padding": null,
            "right": null,
            "top": null,
            "visibility": null,
            "width": null
          }
        },
        "c475cdbf47164ba8a5854c02655e1e3b": {
          "model_module": "@jupyter-widgets/controls",
          "model_module_version": "1.5.0",
          "model_name": "HTMLModel",
          "state": {
            "_dom_classes": [],
            "_model_module": "@jupyter-widgets/controls",
            "_model_module_version": "1.5.0",
            "_model_name": "HTMLModel",
            "_view_count": null,
            "_view_module": "@jupyter-widgets/controls",
            "_view_module_version": "1.5.0",
            "_view_name": "HTMLView",
            "description": "",
            "description_tooltip": null,
            "layout": "IPY_MODEL_ff90c31d9a7b4416ba56c8129c0825d1",
            "placeholder": "​",
            "style": "IPY_MODEL_78a653fb62a641659ee815884f65e3fe",
            "value": " 1456/1456 [00:59&lt;00:00, 24.54 examples/s]"
          }
        },
        "cf0c6c089bec437e83cb77f6375c8655": {
          "model_module": "@jupyter-widgets/controls",
          "model_module_version": "1.5.0",
          "model_name": "DescriptionStyleModel",
          "state": {
            "_model_module": "@jupyter-widgets/controls",
            "_model_module_version": "1.5.0",
            "_model_name": "DescriptionStyleModel",
            "_view_count": null,
            "_view_module": "@jupyter-widgets/base",
            "_view_module_version": "1.2.0",
            "_view_name": "StyleView",
            "description_width": ""
          }
        },
        "d2074acf636743bbb928e50fa1d17558": {
          "model_module": "@jupyter-widgets/base",
          "model_module_version": "1.2.0",
          "model_name": "LayoutModel",
          "state": {
            "_model_module": "@jupyter-widgets/base",
            "_model_module_version": "1.2.0",
            "_model_name": "LayoutModel",
            "_view_count": null,
            "_view_module": "@jupyter-widgets/base",
            "_view_module_version": "1.2.0",
            "_view_name": "LayoutView",
            "align_content": null,
            "align_items": null,
            "align_self": null,
            "border": null,
            "bottom": null,
            "display": null,
            "flex": null,
            "flex_flow": null,
            "grid_area": null,
            "grid_auto_columns": null,
            "grid_auto_flow": null,
            "grid_auto_rows": null,
            "grid_column": null,
            "grid_gap": null,
            "grid_row": null,
            "grid_template_areas": null,
            "grid_template_columns": null,
            "grid_template_rows": null,
            "height": null,
            "justify_content": null,
            "justify_items": null,
            "left": null,
            "margin": null,
            "max_height": null,
            "max_width": null,
            "min_height": null,
            "min_width": null,
            "object_fit": null,
            "object_position": null,
            "order": null,
            "overflow": null,
            "overflow_x": null,
            "overflow_y": null,
            "padding": null,
            "right": null,
            "top": null,
            "visibility": null,
            "width": null
          }
        },
        "d251531f6b6940e2a24cecf92e093cf5": {
          "model_module": "@jupyter-widgets/controls",
          "model_module_version": "1.5.0",
          "model_name": "ProgressStyleModel",
          "state": {
            "_model_module": "@jupyter-widgets/controls",
            "_model_module_version": "1.5.0",
            "_model_name": "ProgressStyleModel",
            "_view_count": null,
            "_view_module": "@jupyter-widgets/base",
            "_view_module_version": "1.2.0",
            "_view_name": "StyleView",
            "bar_color": null,
            "description_width": ""
          }
        },
        "d62d1dac0d294c25b55901dffbd87773": {
          "model_module": "@jupyter-widgets/base",
          "model_module_version": "1.2.0",
          "model_name": "LayoutModel",
          "state": {
            "_model_module": "@jupyter-widgets/base",
            "_model_module_version": "1.2.0",
            "_model_name": "LayoutModel",
            "_view_count": null,
            "_view_module": "@jupyter-widgets/base",
            "_view_module_version": "1.2.0",
            "_view_name": "LayoutView",
            "align_content": null,
            "align_items": null,
            "align_self": null,
            "border": null,
            "bottom": null,
            "display": null,
            "flex": null,
            "flex_flow": null,
            "grid_area": null,
            "grid_auto_columns": null,
            "grid_auto_flow": null,
            "grid_auto_rows": null,
            "grid_column": null,
            "grid_gap": null,
            "grid_row": null,
            "grid_template_areas": null,
            "grid_template_columns": null,
            "grid_template_rows": null,
            "height": null,
            "justify_content": null,
            "justify_items": null,
            "left": null,
            "margin": null,
            "max_height": null,
            "max_width": null,
            "min_height": null,
            "min_width": null,
            "object_fit": null,
            "object_position": null,
            "order": null,
            "overflow": null,
            "overflow_x": null,
            "overflow_y": null,
            "padding": null,
            "right": null,
            "top": null,
            "visibility": null,
            "width": null
          }
        },
        "d64422ab65c2463788ffb1345cbe64dd": {
          "model_module": "@jupyter-widgets/controls",
          "model_module_version": "1.5.0",
          "model_name": "HTMLModel",
          "state": {
            "_dom_classes": [],
            "_model_module": "@jupyter-widgets/controls",
            "_model_module_version": "1.5.0",
            "_model_name": "HTMLModel",
            "_view_count": null,
            "_view_module": "@jupyter-widgets/controls",
            "_view_module_version": "1.5.0",
            "_view_name": "HTMLView",
            "description": "",
            "description_tooltip": null,
            "layout": "IPY_MODEL_463c8fee8ce54bfeadcc6c63dcb1c0f2",
            "placeholder": "​",
            "style": "IPY_MODEL_dbac1d2d71654f1aa07effabc3402e2a",
            "value": "Map: 100%"
          }
        },
        "d7c9c9a9311447618ad6f291e81b5654": {
          "model_module": "@jupyter-widgets/controls",
          "model_module_version": "1.5.0",
          "model_name": "FloatProgressModel",
          "state": {
            "_dom_classes": [],
            "_model_module": "@jupyter-widgets/controls",
            "_model_module_version": "1.5.0",
            "_model_name": "FloatProgressModel",
            "_view_count": null,
            "_view_module": "@jupyter-widgets/controls",
            "_view_module_version": "1.5.0",
            "_view_name": "ProgressView",
            "bar_style": "success",
            "description": "",
            "description_tooltip": null,
            "layout": "IPY_MODEL_fdc4137d9fc54a3cb8a45d05856fc7dd",
            "max": 439101405,
            "min": 0,
            "orientation": "horizontal",
            "style": "IPY_MODEL_3b97675adfd74fe5b771ee3e5a6fde68",
            "value": 439101405
          }
        },
        "da0092a3f93541d3bd67bef75abe1710": {
          "model_module": "@jupyter-widgets/controls",
          "model_module_version": "1.5.0",
          "model_name": "HBoxModel",
          "state": {
            "_dom_classes": [],
            "_model_module": "@jupyter-widgets/controls",
            "_model_module_version": "1.5.0",
            "_model_name": "HBoxModel",
            "_view_count": null,
            "_view_module": "@jupyter-widgets/controls",
            "_view_module_version": "1.5.0",
            "_view_name": "HBoxView",
            "box_style": "",
            "children": [
              "IPY_MODEL_2d29efbd1da34025bf5870ff9196713d",
              "IPY_MODEL_b701325a583a4fd9bc87b9b04eac483a",
              "IPY_MODEL_5c36912ac2b946b2bb66fc427dd05d2b"
            ],
            "layout": "IPY_MODEL_ec986b3cc8854a5ba9e05daa6c7afd7c"
          }
        },
        "db123d35ff3e437e8916dd3f45aa054e": {
          "model_module": "@jupyter-widgets/controls",
          "model_module_version": "1.5.0",
          "model_name": "FloatProgressModel",
          "state": {
            "_dom_classes": [],
            "_model_module": "@jupyter-widgets/controls",
            "_model_module_version": "1.5.0",
            "_model_name": "FloatProgressModel",
            "_view_count": null,
            "_view_module": "@jupyter-widgets/controls",
            "_view_module_version": "1.5.0",
            "_view_name": "ProgressView",
            "bar_style": "success",
            "description": "",
            "description_tooltip": null,
            "layout": "IPY_MODEL_55c37124870948a085ea1b8feaa71f99",
            "max": 1457,
            "min": 0,
            "orientation": "horizontal",
            "style": "IPY_MODEL_e1a4c0d3b5614675be8175e80e741921",
            "value": 1457
          }
        },
        "dbac1d2d71654f1aa07effabc3402e2a": {
          "model_module": "@jupyter-widgets/controls",
          "model_module_version": "1.5.0",
          "model_name": "DescriptionStyleModel",
          "state": {
            "_model_module": "@jupyter-widgets/controls",
            "_model_module_version": "1.5.0",
            "_model_name": "DescriptionStyleModel",
            "_view_count": null,
            "_view_module": "@jupyter-widgets/base",
            "_view_module_version": "1.2.0",
            "_view_name": "StyleView",
            "description_width": ""
          }
        },
        "dc033d2f7fb6458fa98b4a74f4c724d5": {
          "model_module": "@jupyter-widgets/controls",
          "model_module_version": "1.5.0",
          "model_name": "FloatProgressModel",
          "state": {
            "_dom_classes": [],
            "_model_module": "@jupyter-widgets/controls",
            "_model_module_version": "1.5.0",
            "_model_name": "FloatProgressModel",
            "_view_count": null,
            "_view_module": "@jupyter-widgets/controls",
            "_view_module_version": "1.5.0",
            "_view_name": "ProgressView",
            "bar_style": "success",
            "description": "",
            "description_tooltip": null,
            "layout": "IPY_MODEL_25d2d868de1e408aa7e5b10d500aa3f7",
            "max": 364,
            "min": 0,
            "orientation": "horizontal",
            "style": "IPY_MODEL_d251531f6b6940e2a24cecf92e093cf5",
            "value": 364
          }
        },
        "dcdf39cc31ce4f7d9a38355dc4aea11c": {
          "model_module": "@jupyter-widgets/controls",
          "model_module_version": "1.5.0",
          "model_name": "DescriptionStyleModel",
          "state": {
            "_model_module": "@jupyter-widgets/controls",
            "_model_module_version": "1.5.0",
            "_model_name": "DescriptionStyleModel",
            "_view_count": null,
            "_view_module": "@jupyter-widgets/base",
            "_view_module_version": "1.2.0",
            "_view_name": "StyleView",
            "description_width": ""
          }
        },
        "dd221e6d849847e1bf8746b9e9a1ac5b": {
          "model_module": "@jupyter-widgets/base",
          "model_module_version": "1.2.0",
          "model_name": "LayoutModel",
          "state": {
            "_model_module": "@jupyter-widgets/base",
            "_model_module_version": "1.2.0",
            "_model_name": "LayoutModel",
            "_view_count": null,
            "_view_module": "@jupyter-widgets/base",
            "_view_module_version": "1.2.0",
            "_view_name": "LayoutView",
            "align_content": null,
            "align_items": null,
            "align_self": null,
            "border": null,
            "bottom": null,
            "display": null,
            "flex": null,
            "flex_flow": null,
            "grid_area": null,
            "grid_auto_columns": null,
            "grid_auto_flow": null,
            "grid_auto_rows": null,
            "grid_column": null,
            "grid_gap": null,
            "grid_row": null,
            "grid_template_areas": null,
            "grid_template_columns": null,
            "grid_template_rows": null,
            "height": null,
            "justify_content": null,
            "justify_items": null,
            "left": null,
            "margin": null,
            "max_height": null,
            "max_width": null,
            "min_height": null,
            "min_width": null,
            "object_fit": null,
            "object_position": null,
            "order": null,
            "overflow": null,
            "overflow_x": null,
            "overflow_y": null,
            "padding": null,
            "right": null,
            "top": null,
            "visibility": null,
            "width": null
          }
        },
        "dedc386f61704610997abdb516cb4c2b": {
          "model_module": "@jupyter-widgets/controls",
          "model_module_version": "1.5.0",
          "model_name": "DescriptionStyleModel",
          "state": {
            "_model_module": "@jupyter-widgets/controls",
            "_model_module_version": "1.5.0",
            "_model_name": "DescriptionStyleModel",
            "_view_count": null,
            "_view_module": "@jupyter-widgets/base",
            "_view_module_version": "1.2.0",
            "_view_name": "StyleView",
            "description_width": ""
          }
        },
        "df30a928ab264d0eb07bc5f0ef0b4d32": {
          "model_module": "@jupyter-widgets/controls",
          "model_module_version": "1.5.0",
          "model_name": "HBoxModel",
          "state": {
            "_dom_classes": [],
            "_model_module": "@jupyter-widgets/controls",
            "_model_module_version": "1.5.0",
            "_model_name": "HBoxModel",
            "_view_count": null,
            "_view_module": "@jupyter-widgets/controls",
            "_view_module_version": "1.5.0",
            "_view_name": "HBoxView",
            "box_style": "",
            "children": [
              "IPY_MODEL_9479ebe6e6d244188b65348afbbc54d7",
              "IPY_MODEL_8773d741c3ed4b7dbb74b4d55c324f83",
              "IPY_MODEL_9328256daef5437ca5e99392d7dbf6b5"
            ],
            "layout": "IPY_MODEL_a5b7c86282dc43e39cc26ce42929f1c4"
          }
        },
        "dff172cf096f4ae59ba00e8a9936157d": {
          "model_module": "@jupyter-widgets/controls",
          "model_module_version": "1.5.0",
          "model_name": "HTMLModel",
          "state": {
            "_dom_classes": [],
            "_model_module": "@jupyter-widgets/controls",
            "_model_module_version": "1.5.0",
            "_model_name": "HTMLModel",
            "_view_count": null,
            "_view_module": "@jupyter-widgets/controls",
            "_view_module_version": "1.5.0",
            "_view_name": "HTMLView",
            "description": "",
            "description_tooltip": null,
            "layout": "IPY_MODEL_ade3a2edd27248438be7b4bf7e2c8297",
            "placeholder": "​",
            "style": "IPY_MODEL_65699cbcbd74437cb15b08ca2abf06ee",
            "value": " 364/364 [00:15&lt;00:00, 23.15 examples/s]"
          }
        },
        "e0f22ecb2d90442ea22673ec9bc02903": {
          "model_module": "@jupyter-widgets/base",
          "model_module_version": "1.2.0",
          "model_name": "LayoutModel",
          "state": {
            "_model_module": "@jupyter-widgets/base",
            "_model_module_version": "1.2.0",
            "_model_name": "LayoutModel",
            "_view_count": null,
            "_view_module": "@jupyter-widgets/base",
            "_view_module_version": "1.2.0",
            "_view_name": "LayoutView",
            "align_content": null,
            "align_items": null,
            "align_self": null,
            "border": null,
            "bottom": null,
            "display": null,
            "flex": null,
            "flex_flow": null,
            "grid_area": null,
            "grid_auto_columns": null,
            "grid_auto_flow": null,
            "grid_auto_rows": null,
            "grid_column": null,
            "grid_gap": null,
            "grid_row": null,
            "grid_template_areas": null,
            "grid_template_columns": null,
            "grid_template_rows": null,
            "height": null,
            "justify_content": null,
            "justify_items": null,
            "left": null,
            "margin": null,
            "max_height": null,
            "max_width": null,
            "min_height": null,
            "min_width": null,
            "object_fit": null,
            "object_position": null,
            "order": null,
            "overflow": null,
            "overflow_x": null,
            "overflow_y": null,
            "padding": null,
            "right": null,
            "top": null,
            "visibility": null,
            "width": null
          }
        },
        "e18eb32b165c46768bd3b841de13d45a": {
          "model_module": "@jupyter-widgets/base",
          "model_module_version": "1.2.0",
          "model_name": "LayoutModel",
          "state": {
            "_model_module": "@jupyter-widgets/base",
            "_model_module_version": "1.2.0",
            "_model_name": "LayoutModel",
            "_view_count": null,
            "_view_module": "@jupyter-widgets/base",
            "_view_module_version": "1.2.0",
            "_view_name": "LayoutView",
            "align_content": null,
            "align_items": null,
            "align_self": null,
            "border": null,
            "bottom": null,
            "display": null,
            "flex": null,
            "flex_flow": null,
            "grid_area": null,
            "grid_auto_columns": null,
            "grid_auto_flow": null,
            "grid_auto_rows": null,
            "grid_column": null,
            "grid_gap": null,
            "grid_row": null,
            "grid_template_areas": null,
            "grid_template_columns": null,
            "grid_template_rows": null,
            "height": null,
            "justify_content": null,
            "justify_items": null,
            "left": null,
            "margin": null,
            "max_height": null,
            "max_width": null,
            "min_height": null,
            "min_width": null,
            "object_fit": null,
            "object_position": null,
            "order": null,
            "overflow": null,
            "overflow_x": null,
            "overflow_y": null,
            "padding": null,
            "right": null,
            "top": null,
            "visibility": null,
            "width": null
          }
        },
        "e1a4c0d3b5614675be8175e80e741921": {
          "model_module": "@jupyter-widgets/controls",
          "model_module_version": "1.5.0",
          "model_name": "ProgressStyleModel",
          "state": {
            "_model_module": "@jupyter-widgets/controls",
            "_model_module_version": "1.5.0",
            "_model_name": "ProgressStyleModel",
            "_view_count": null,
            "_view_module": "@jupyter-widgets/base",
            "_view_module_version": "1.2.0",
            "_view_name": "StyleView",
            "bar_color": null,
            "description_width": ""
          }
        },
        "e44b3406d786452b8135313c6a792fff": {
          "model_module": "@jupyter-widgets/controls",
          "model_module_version": "1.5.0",
          "model_name": "HBoxModel",
          "state": {
            "_dom_classes": [],
            "_model_module": "@jupyter-widgets/controls",
            "_model_module_version": "1.5.0",
            "_model_name": "HBoxModel",
            "_view_count": null,
            "_view_module": "@jupyter-widgets/controls",
            "_view_module_version": "1.5.0",
            "_view_name": "HBoxView",
            "box_style": "",
            "children": [
              "IPY_MODEL_a7168c9b5ae147db9d66966ba523e97e",
              "IPY_MODEL_2d4440c8f3e642d1a4f507e0fede3162",
              "IPY_MODEL_02d1b3906f964da5a3bed60b19ae660c"
            ],
            "layout": "IPY_MODEL_7b5ed05b29544df684ad1861a894ee61"
          }
        },
        "e4da5a092f3347baaa41d472caf744c4": {
          "model_module": "@jupyter-widgets/controls",
          "model_module_version": "1.5.0",
          "model_name": "HBoxModel",
          "state": {
            "_dom_classes": [],
            "_model_module": "@jupyter-widgets/controls",
            "_model_module_version": "1.5.0",
            "_model_name": "HBoxModel",
            "_view_count": null,
            "_view_module": "@jupyter-widgets/controls",
            "_view_module_version": "1.5.0",
            "_view_name": "HBoxView",
            "box_style": "",
            "children": [
              "IPY_MODEL_d64422ab65c2463788ffb1345cbe64dd",
              "IPY_MODEL_715b281e8bcb4bfba317b3436ba0e326",
              "IPY_MODEL_0dd6aec5f1dd4cd6a243519646a10e8b"
            ],
            "layout": "IPY_MODEL_6cb0bc6eabe34f9ca811fb3653f4a682"
          }
        },
        "e6b293130ac046a5ab24eb624edd5536": {
          "model_module": "@jupyter-widgets/controls",
          "model_module_version": "1.5.0",
          "model_name": "HBoxModel",
          "state": {
            "_dom_classes": [],
            "_model_module": "@jupyter-widgets/controls",
            "_model_module_version": "1.5.0",
            "_model_name": "HBoxModel",
            "_view_count": null,
            "_view_module": "@jupyter-widgets/controls",
            "_view_module_version": "1.5.0",
            "_view_name": "HBoxView",
            "box_style": "",
            "children": [
              "IPY_MODEL_a494182df58e4ccf9bbfe4a5f3b13160",
              "IPY_MODEL_a69ef00f1fba4af8bf33c4d4a8d3f2e1",
              "IPY_MODEL_c475cdbf47164ba8a5854c02655e1e3b"
            ],
            "layout": "IPY_MODEL_b4862c5124ae4de8be3697bec508f231"
          }
        },
        "e6ce002e1b4b412eb70430e85779f4b3": {
          "model_module": "@jupyter-widgets/controls",
          "model_module_version": "1.5.0",
          "model_name": "HTMLModel",
          "state": {
            "_dom_classes": [],
            "_model_module": "@jupyter-widgets/controls",
            "_model_module_version": "1.5.0",
            "_model_name": "HTMLModel",
            "_view_count": null,
            "_view_module": "@jupyter-widgets/controls",
            "_view_module_version": "1.5.0",
            "_view_name": "HTMLView",
            "description": "",
            "description_tooltip": null,
            "layout": "IPY_MODEL_557bfa10f15740a4b8f73ff013799dbb",
            "placeholder": "​",
            "style": "IPY_MODEL_2bcb7d90ce594492b1599dab4517cdc5",
            "value": " 1456/1456 [00:58&lt;00:00, 24.97 examples/s]"
          }
        },
        "eb4188de25d2470aa46fe6a6f384b530": {
          "model_module": "@jupyter-widgets/controls",
          "model_module_version": "1.5.0",
          "model_name": "ProgressStyleModel",
          "state": {
            "_model_module": "@jupyter-widgets/controls",
            "_model_module_version": "1.5.0",
            "_model_name": "ProgressStyleModel",
            "_view_count": null,
            "_view_module": "@jupyter-widgets/base",
            "_view_module_version": "1.2.0",
            "_view_name": "StyleView",
            "bar_color": null,
            "description_width": ""
          }
        },
        "ec986b3cc8854a5ba9e05daa6c7afd7c": {
          "model_module": "@jupyter-widgets/base",
          "model_module_version": "1.2.0",
          "model_name": "LayoutModel",
          "state": {
            "_model_module": "@jupyter-widgets/base",
            "_model_module_version": "1.2.0",
            "_model_name": "LayoutModel",
            "_view_count": null,
            "_view_module": "@jupyter-widgets/base",
            "_view_module_version": "1.2.0",
            "_view_name": "LayoutView",
            "align_content": null,
            "align_items": null,
            "align_self": null,
            "border": null,
            "bottom": null,
            "display": null,
            "flex": null,
            "flex_flow": null,
            "grid_area": null,
            "grid_auto_columns": null,
            "grid_auto_flow": null,
            "grid_auto_rows": null,
            "grid_column": null,
            "grid_gap": null,
            "grid_row": null,
            "grid_template_areas": null,
            "grid_template_columns": null,
            "grid_template_rows": null,
            "height": null,
            "justify_content": null,
            "justify_items": null,
            "left": null,
            "margin": null,
            "max_height": null,
            "max_width": null,
            "min_height": null,
            "min_width": null,
            "object_fit": null,
            "object_position": null,
            "order": null,
            "overflow": null,
            "overflow_x": null,
            "overflow_y": null,
            "padding": null,
            "right": null,
            "top": null,
            "visibility": null,
            "width": null
          }
        },
        "eddffe01a8a140dcb818eb7954e98541": {
          "model_module": "@jupyter-widgets/base",
          "model_module_version": "1.2.0",
          "model_name": "LayoutModel",
          "state": {
            "_model_module": "@jupyter-widgets/base",
            "_model_module_version": "1.2.0",
            "_model_name": "LayoutModel",
            "_view_count": null,
            "_view_module": "@jupyter-widgets/base",
            "_view_module_version": "1.2.0",
            "_view_name": "LayoutView",
            "align_content": null,
            "align_items": null,
            "align_self": null,
            "border": null,
            "bottom": null,
            "display": null,
            "flex": null,
            "flex_flow": null,
            "grid_area": null,
            "grid_auto_columns": null,
            "grid_auto_flow": null,
            "grid_auto_rows": null,
            "grid_column": null,
            "grid_gap": null,
            "grid_row": null,
            "grid_template_areas": null,
            "grid_template_columns": null,
            "grid_template_rows": null,
            "height": null,
            "justify_content": null,
            "justify_items": null,
            "left": null,
            "margin": null,
            "max_height": null,
            "max_width": null,
            "min_height": null,
            "min_width": null,
            "object_fit": null,
            "object_position": null,
            "order": null,
            "overflow": null,
            "overflow_x": null,
            "overflow_y": null,
            "padding": null,
            "right": null,
            "top": null,
            "visibility": null,
            "width": null
          }
        },
        "efdbdf39e4eb47f0a592be940dc41a5b": {
          "model_module": "@jupyter-widgets/base",
          "model_module_version": "1.2.0",
          "model_name": "LayoutModel",
          "state": {
            "_model_module": "@jupyter-widgets/base",
            "_model_module_version": "1.2.0",
            "_model_name": "LayoutModel",
            "_view_count": null,
            "_view_module": "@jupyter-widgets/base",
            "_view_module_version": "1.2.0",
            "_view_name": "LayoutView",
            "align_content": null,
            "align_items": null,
            "align_self": null,
            "border": null,
            "bottom": null,
            "display": null,
            "flex": null,
            "flex_flow": null,
            "grid_area": null,
            "grid_auto_columns": null,
            "grid_auto_flow": null,
            "grid_auto_rows": null,
            "grid_column": null,
            "grid_gap": null,
            "grid_row": null,
            "grid_template_areas": null,
            "grid_template_columns": null,
            "grid_template_rows": null,
            "height": null,
            "justify_content": null,
            "justify_items": null,
            "left": null,
            "margin": null,
            "max_height": null,
            "max_width": null,
            "min_height": null,
            "min_width": null,
            "object_fit": null,
            "object_position": null,
            "order": null,
            "overflow": null,
            "overflow_x": null,
            "overflow_y": null,
            "padding": null,
            "right": null,
            "top": null,
            "visibility": null,
            "width": null
          }
        },
        "f0428216d075450eb4e17a7722d170ff": {
          "model_module": "@jupyter-widgets/controls",
          "model_module_version": "1.5.0",
          "model_name": "HBoxModel",
          "state": {
            "_dom_classes": [],
            "_model_module": "@jupyter-widgets/controls",
            "_model_module_version": "1.5.0",
            "_model_name": "HBoxModel",
            "_view_count": null,
            "_view_module": "@jupyter-widgets/controls",
            "_view_module_version": "1.5.0",
            "_view_name": "HBoxView",
            "box_style": "",
            "children": [
              "IPY_MODEL_781cd85ae4ce4efebb86566e1fbb4949",
              "IPY_MODEL_bd1b1d46643941ce8de348af87b20120",
              "IPY_MODEL_146af938eadc41fd9250b03f07790958"
            ],
            "layout": "IPY_MODEL_e0f22ecb2d90442ea22673ec9bc02903"
          }
        },
        "f1fc01c7b6f14d02bf2e768c44d61633": {
          "model_module": "@jupyter-widgets/controls",
          "model_module_version": "1.5.0",
          "model_name": "DescriptionStyleModel",
          "state": {
            "_model_module": "@jupyter-widgets/controls",
            "_model_module_version": "1.5.0",
            "_model_name": "DescriptionStyleModel",
            "_view_count": null,
            "_view_module": "@jupyter-widgets/base",
            "_view_module_version": "1.2.0",
            "_view_name": "StyleView",
            "description_width": ""
          }
        },
        "f25f3d7123684570aa00000ae48ea631": {
          "model_module": "@jupyter-widgets/controls",
          "model_module_version": "1.5.0",
          "model_name": "FloatProgressModel",
          "state": {
            "_dom_classes": [],
            "_model_module": "@jupyter-widgets/controls",
            "_model_module_version": "1.5.0",
            "_model_name": "FloatProgressModel",
            "_view_count": null,
            "_view_module": "@jupyter-widgets/controls",
            "_view_module_version": "1.5.0",
            "_view_name": "ProgressView",
            "bar_style": "success",
            "description": "",
            "description_tooltip": null,
            "layout": "IPY_MODEL_1f061953a32f4060b68dda68bbc4a472",
            "max": 1457,
            "min": 0,
            "orientation": "horizontal",
            "style": "IPY_MODEL_b7cc8331e7084657ac34110aef290325",
            "value": 1457
          }
        },
        "f558b515cdd043d3aa2da2722d213102": {
          "model_module": "@jupyter-widgets/base",
          "model_module_version": "1.2.0",
          "model_name": "LayoutModel",
          "state": {
            "_model_module": "@jupyter-widgets/base",
            "_model_module_version": "1.2.0",
            "_model_name": "LayoutModel",
            "_view_count": null,
            "_view_module": "@jupyter-widgets/base",
            "_view_module_version": "1.2.0",
            "_view_name": "LayoutView",
            "align_content": null,
            "align_items": null,
            "align_self": null,
            "border": null,
            "bottom": null,
            "display": null,
            "flex": null,
            "flex_flow": null,
            "grid_area": null,
            "grid_auto_columns": null,
            "grid_auto_flow": null,
            "grid_auto_rows": null,
            "grid_column": null,
            "grid_gap": null,
            "grid_row": null,
            "grid_template_areas": null,
            "grid_template_columns": null,
            "grid_template_rows": null,
            "height": null,
            "justify_content": null,
            "justify_items": null,
            "left": null,
            "margin": null,
            "max_height": null,
            "max_width": null,
            "min_height": null,
            "min_width": null,
            "object_fit": null,
            "object_position": null,
            "order": null,
            "overflow": null,
            "overflow_x": null,
            "overflow_y": null,
            "padding": null,
            "right": null,
            "top": null,
            "visibility": null,
            "width": null
          }
        },
        "f5a715171e0c4340accb2869be72586c": {
          "model_module": "@jupyter-widgets/controls",
          "model_module_version": "1.5.0",
          "model_name": "HBoxModel",
          "state": {
            "_dom_classes": [],
            "_model_module": "@jupyter-widgets/controls",
            "_model_module_version": "1.5.0",
            "_model_name": "HBoxModel",
            "_view_count": null,
            "_view_module": "@jupyter-widgets/controls",
            "_view_module_version": "1.5.0",
            "_view_name": "HBoxView",
            "box_style": "",
            "children": [
              "IPY_MODEL_abc94daa65e94138b3cd1f913f0cb88d",
              "IPY_MODEL_56dfdabf27f84574a0c553ac23807515",
              "IPY_MODEL_bdbf90abf8af4d11bd0515b21c1b57b1"
            ],
            "layout": "IPY_MODEL_90f69ac11cdd44788dd988cae6ed638e"
          }
        },
        "f5cb41683fe74045a55bbf8e8b6a5b34": {
          "model_module": "@jupyter-widgets/controls",
          "model_module_version": "1.5.0",
          "model_name": "HTMLModel",
          "state": {
            "_dom_classes": [],
            "_model_module": "@jupyter-widgets/controls",
            "_model_module_version": "1.5.0",
            "_model_name": "HTMLModel",
            "_view_count": null,
            "_view_module": "@jupyter-widgets/controls",
            "_view_module_version": "1.5.0",
            "_view_name": "HTMLView",
            "description": "",
            "description_tooltip": null,
            "layout": "IPY_MODEL_5529ebeb2c7f4ef3b27bb109a7de9906",
            "placeholder": "​",
            "style": "IPY_MODEL_8c9c52b290e6459a9bb1dc92b358d411",
            "value": "Map: 100%"
          }
        },
        "f64f0e764ca643eab97e3eec915213ba": {
          "model_module": "@jupyter-widgets/controls",
          "model_module_version": "1.5.0",
          "model_name": "DescriptionStyleModel",
          "state": {
            "_model_module": "@jupyter-widgets/controls",
            "_model_module_version": "1.5.0",
            "_model_name": "DescriptionStyleModel",
            "_view_count": null,
            "_view_module": "@jupyter-widgets/base",
            "_view_module_version": "1.2.0",
            "_view_name": "StyleView",
            "description_width": ""
          }
        },
        "f771108edda946c7a8693546161ded3b": {
          "model_module": "@jupyter-widgets/base",
          "model_module_version": "1.2.0",
          "model_name": "LayoutModel",
          "state": {
            "_model_module": "@jupyter-widgets/base",
            "_model_module_version": "1.2.0",
            "_model_name": "LayoutModel",
            "_view_count": null,
            "_view_module": "@jupyter-widgets/base",
            "_view_module_version": "1.2.0",
            "_view_name": "LayoutView",
            "align_content": null,
            "align_items": null,
            "align_self": null,
            "border": null,
            "bottom": null,
            "display": null,
            "flex": null,
            "flex_flow": null,
            "grid_area": null,
            "grid_auto_columns": null,
            "grid_auto_flow": null,
            "grid_auto_rows": null,
            "grid_column": null,
            "grid_gap": null,
            "grid_row": null,
            "grid_template_areas": null,
            "grid_template_columns": null,
            "grid_template_rows": null,
            "height": null,
            "justify_content": null,
            "justify_items": null,
            "left": null,
            "margin": null,
            "max_height": null,
            "max_width": null,
            "min_height": null,
            "min_width": null,
            "object_fit": null,
            "object_position": null,
            "order": null,
            "overflow": null,
            "overflow_x": null,
            "overflow_y": null,
            "padding": null,
            "right": null,
            "top": null,
            "visibility": null,
            "width": null
          }
        },
        "f7ee880efffd4228b8cd83abb7cb1848": {
          "model_module": "@jupyter-widgets/base",
          "model_module_version": "1.2.0",
          "model_name": "LayoutModel",
          "state": {
            "_model_module": "@jupyter-widgets/base",
            "_model_module_version": "1.2.0",
            "_model_name": "LayoutModel",
            "_view_count": null,
            "_view_module": "@jupyter-widgets/base",
            "_view_module_version": "1.2.0",
            "_view_name": "LayoutView",
            "align_content": null,
            "align_items": null,
            "align_self": null,
            "border": null,
            "bottom": null,
            "display": null,
            "flex": null,
            "flex_flow": null,
            "grid_area": null,
            "grid_auto_columns": null,
            "grid_auto_flow": null,
            "grid_auto_rows": null,
            "grid_column": null,
            "grid_gap": null,
            "grid_row": null,
            "grid_template_areas": null,
            "grid_template_columns": null,
            "grid_template_rows": null,
            "height": null,
            "justify_content": null,
            "justify_items": null,
            "left": null,
            "margin": null,
            "max_height": null,
            "max_width": null,
            "min_height": null,
            "min_width": null,
            "object_fit": null,
            "object_position": null,
            "order": null,
            "overflow": null,
            "overflow_x": null,
            "overflow_y": null,
            "padding": null,
            "right": null,
            "top": null,
            "visibility": null,
            "width": null
          }
        },
        "f89312fb4ca941a8a3c66e550b244ee5": {
          "model_module": "@jupyter-widgets/controls",
          "model_module_version": "1.5.0",
          "model_name": "HBoxModel",
          "state": {
            "_dom_classes": [],
            "_model_module": "@jupyter-widgets/controls",
            "_model_module_version": "1.5.0",
            "_model_name": "HBoxModel",
            "_view_count": null,
            "_view_module": "@jupyter-widgets/controls",
            "_view_module_version": "1.5.0",
            "_view_name": "HBoxView",
            "box_style": "",
            "children": [
              "IPY_MODEL_6d280d06eb4e42f69f754ea4a3e04bbe",
              "IPY_MODEL_dc033d2f7fb6458fa98b4a74f4c724d5",
              "IPY_MODEL_91de328672094db497e5009d04de52dc"
            ],
            "layout": "IPY_MODEL_9f349550d8cd446ba58b0de604c907d9"
          }
        },
        "f95582cc8de04019b633837d63bb1133": {
          "model_module": "@jupyter-widgets/controls",
          "model_module_version": "1.5.0",
          "model_name": "HTMLModel",
          "state": {
            "_dom_classes": [],
            "_model_module": "@jupyter-widgets/controls",
            "_model_module_version": "1.5.0",
            "_model_name": "HTMLModel",
            "_view_count": null,
            "_view_module": "@jupyter-widgets/controls",
            "_view_module_version": "1.5.0",
            "_view_name": "HTMLView",
            "description": "",
            "description_tooltip": null,
            "layout": "IPY_MODEL_a432fe390e1b446ca3460ba71bf3524e",
            "placeholder": "​",
            "style": "IPY_MODEL_473e31d4483d4efc90e62af11a973721",
            "value": "Map: 100%"
          }
        },
        "f958e64758084858a4724e5a46ea7ab0": {
          "model_module": "@jupyter-widgets/controls",
          "model_module_version": "1.5.0",
          "model_name": "DescriptionStyleModel",
          "state": {
            "_model_module": "@jupyter-widgets/controls",
            "_model_module_version": "1.5.0",
            "_model_name": "DescriptionStyleModel",
            "_view_count": null,
            "_view_module": "@jupyter-widgets/base",
            "_view_module_version": "1.2.0",
            "_view_name": "StyleView",
            "description_width": ""
          }
        },
        "fb4930e6a1794367a5fb8dc3ccf7f754": {
          "model_module": "@jupyter-widgets/base",
          "model_module_version": "1.2.0",
          "model_name": "LayoutModel",
          "state": {
            "_model_module": "@jupyter-widgets/base",
            "_model_module_version": "1.2.0",
            "_model_name": "LayoutModel",
            "_view_count": null,
            "_view_module": "@jupyter-widgets/base",
            "_view_module_version": "1.2.0",
            "_view_name": "LayoutView",
            "align_content": null,
            "align_items": null,
            "align_self": null,
            "border": null,
            "bottom": null,
            "display": null,
            "flex": null,
            "flex_flow": null,
            "grid_area": null,
            "grid_auto_columns": null,
            "grid_auto_flow": null,
            "grid_auto_rows": null,
            "grid_column": null,
            "grid_gap": null,
            "grid_row": null,
            "grid_template_areas": null,
            "grid_template_columns": null,
            "grid_template_rows": null,
            "height": null,
            "justify_content": null,
            "justify_items": null,
            "left": null,
            "margin": null,
            "max_height": null,
            "max_width": null,
            "min_height": null,
            "min_width": null,
            "object_fit": null,
            "object_position": null,
            "order": null,
            "overflow": null,
            "overflow_x": null,
            "overflow_y": null,
            "padding": null,
            "right": null,
            "top": null,
            "visibility": null,
            "width": null
          }
        },
        "fcbc20df80914db997003703b500c018": {
          "model_module": "@jupyter-widgets/controls",
          "model_module_version": "1.5.0",
          "model_name": "ProgressStyleModel",
          "state": {
            "_model_module": "@jupyter-widgets/controls",
            "_model_module_version": "1.5.0",
            "_model_name": "ProgressStyleModel",
            "_view_count": null,
            "_view_module": "@jupyter-widgets/base",
            "_view_module_version": "1.2.0",
            "_view_name": "StyleView",
            "bar_color": null,
            "description_width": ""
          }
        },
        "fd237a3e145447c59dc8d832cee938ba": {
          "model_module": "@jupyter-widgets/base",
          "model_module_version": "1.2.0",
          "model_name": "LayoutModel",
          "state": {
            "_model_module": "@jupyter-widgets/base",
            "_model_module_version": "1.2.0",
            "_model_name": "LayoutModel",
            "_view_count": null,
            "_view_module": "@jupyter-widgets/base",
            "_view_module_version": "1.2.0",
            "_view_name": "LayoutView",
            "align_content": null,
            "align_items": null,
            "align_self": null,
            "border": null,
            "bottom": null,
            "display": null,
            "flex": null,
            "flex_flow": null,
            "grid_area": null,
            "grid_auto_columns": null,
            "grid_auto_flow": null,
            "grid_auto_rows": null,
            "grid_column": null,
            "grid_gap": null,
            "grid_row": null,
            "grid_template_areas": null,
            "grid_template_columns": null,
            "grid_template_rows": null,
            "height": null,
            "justify_content": null,
            "justify_items": null,
            "left": null,
            "margin": null,
            "max_height": null,
            "max_width": null,
            "min_height": null,
            "min_width": null,
            "object_fit": null,
            "object_position": null,
            "order": null,
            "overflow": null,
            "overflow_x": null,
            "overflow_y": null,
            "padding": null,
            "right": null,
            "top": null,
            "visibility": null,
            "width": null
          }
        },
        "fdc4137d9fc54a3cb8a45d05856fc7dd": {
          "model_module": "@jupyter-widgets/base",
          "model_module_version": "1.2.0",
          "model_name": "LayoutModel",
          "state": {
            "_model_module": "@jupyter-widgets/base",
            "_model_module_version": "1.2.0",
            "_model_name": "LayoutModel",
            "_view_count": null,
            "_view_module": "@jupyter-widgets/base",
            "_view_module_version": "1.2.0",
            "_view_name": "LayoutView",
            "align_content": null,
            "align_items": null,
            "align_self": null,
            "border": null,
            "bottom": null,
            "display": null,
            "flex": null,
            "flex_flow": null,
            "grid_area": null,
            "grid_auto_columns": null,
            "grid_auto_flow": null,
            "grid_auto_rows": null,
            "grid_column": null,
            "grid_gap": null,
            "grid_row": null,
            "grid_template_areas": null,
            "grid_template_columns": null,
            "grid_template_rows": null,
            "height": null,
            "justify_content": null,
            "justify_items": null,
            "left": null,
            "margin": null,
            "max_height": null,
            "max_width": null,
            "min_height": null,
            "min_width": null,
            "object_fit": null,
            "object_position": null,
            "order": null,
            "overflow": null,
            "overflow_x": null,
            "overflow_y": null,
            "padding": null,
            "right": null,
            "top": null,
            "visibility": null,
            "width": null
          }
        },
        "fea80031ff4c4b9cb441357e2d218b52": {
          "model_module": "@jupyter-widgets/controls",
          "model_module_version": "1.5.0",
          "model_name": "HTMLModel",
          "state": {
            "_dom_classes": [],
            "_model_module": "@jupyter-widgets/controls",
            "_model_module_version": "1.5.0",
            "_model_name": "HTMLModel",
            "_view_count": null,
            "_view_module": "@jupyter-widgets/controls",
            "_view_module_version": "1.5.0",
            "_view_name": "HTMLView",
            "description": "",
            "description_tooltip": null,
            "layout": "IPY_MODEL_97ec71523aaf4c9190d038766e94f5f6",
            "placeholder": "​",
            "style": "IPY_MODEL_85f0cb390e8b4bc7a4983077f1395372",
            "value": "model.safetensors: 100%"
          }
        },
        "ff90c31d9a7b4416ba56c8129c0825d1": {
          "model_module": "@jupyter-widgets/base",
          "model_module_version": "1.2.0",
          "model_name": "LayoutModel",
          "state": {
            "_model_module": "@jupyter-widgets/base",
            "_model_module_version": "1.2.0",
            "_model_name": "LayoutModel",
            "_view_count": null,
            "_view_module": "@jupyter-widgets/base",
            "_view_module_version": "1.2.0",
            "_view_name": "LayoutView",
            "align_content": null,
            "align_items": null,
            "align_self": null,
            "border": null,
            "bottom": null,
            "display": null,
            "flex": null,
            "flex_flow": null,
            "grid_area": null,
            "grid_auto_columns": null,
            "grid_auto_flow": null,
            "grid_auto_rows": null,
            "grid_column": null,
            "grid_gap": null,
            "grid_row": null,
            "grid_template_areas": null,
            "grid_template_columns": null,
            "grid_template_rows": null,
            "height": null,
            "justify_content": null,
            "justify_items": null,
            "left": null,
            "margin": null,
            "max_height": null,
            "max_width": null,
            "min_height": null,
            "min_width": null,
            "object_fit": null,
            "object_position": null,
            "order": null,
            "overflow": null,
            "overflow_x": null,
            "overflow_y": null,
            "padding": null,
            "right": null,
            "top": null,
            "visibility": null,
            "width": null
          }
        },
        "ffd96ffbee8d4425a044f1ace1109896": {
          "model_module": "@jupyter-widgets/controls",
          "model_module_version": "1.5.0",
          "model_name": "FloatProgressModel",
          "state": {
            "_dom_classes": [],
            "_model_module": "@jupyter-widgets/controls",
            "_model_module_version": "1.5.0",
            "_model_name": "FloatProgressModel",
            "_view_count": null,
            "_view_module": "@jupyter-widgets/controls",
            "_view_module_version": "1.5.0",
            "_view_name": "ProgressView",
            "bar_style": "success",
            "description": "",
            "description_tooltip": null,
            "layout": "IPY_MODEL_79a34d605c1743e4a1f702345d227eb6",
            "max": 1456,
            "min": 0,
            "orientation": "horizontal",
            "style": "IPY_MODEL_09266553baf140fabd3e5069f15ccf72",
            "value": 1456
          }
        }
      }
    }
  },
  "nbformat": 4,
  "nbformat_minor": 0
}
